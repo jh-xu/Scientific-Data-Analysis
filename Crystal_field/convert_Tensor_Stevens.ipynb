{
 "cells": [
  {
   "cell_type": "code",
   "execution_count": 2,
   "metadata": {},
   "outputs": [
    {
     "name": "stdout",
     "output_type": "stream",
     "text": [
      "[1089, 467181, 42513471]\n"
     ]
    }
   ],
   "source": [
    "# For Nd\n",
    "Bqk = [49.2,408.9,121.6,148.,-98.,139.]\n",
    "frac = [3**2*11**2, 3**3*11**3*13,3**3*7*11**3*13**2]\n",
    "thetak = [-7/frac[0], -7/frac[1],-7/frac[1]]\n",
    "print frac"
   ]
  },
  {
   "cell_type": "code",
   "execution_count": null,
   "metadata": {
    "collapsed": true,
    "jupyter": {
     "outputs_hidden": true
    }
   },
   "outputs": [],
   "source": []
  }
 ],
 "metadata": {
  "anaconda-cloud": {},
  "kernelspec": {
   "display_name": "Python 3",
   "language": "python",
   "name": "python3"
  },
  "language_info": {
   "codemirror_mode": {
    "name": "ipython",
    "version": 3
   },
   "file_extension": ".py",
   "mimetype": "text/x-python",
   "name": "python",
   "nbconvert_exporter": "python",
   "pygments_lexer": "ipython3",
   "version": "3.8.5"
  }
 },
 "nbformat": 4,
 "nbformat_minor": 4
}

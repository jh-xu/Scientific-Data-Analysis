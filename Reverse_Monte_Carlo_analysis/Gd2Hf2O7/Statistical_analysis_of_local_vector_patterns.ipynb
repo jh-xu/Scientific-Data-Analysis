{
 "cells": [
  {
   "cell_type": "code",
   "execution_count": 1,
   "metadata": {},
   "outputs": [
    {
     "data": {
      "text/html": [
       "<div id=\"glowscript\" class=\"glowscript\"></div>"
      ],
      "text/plain": [
       "<IPython.core.display.HTML object>"
      ]
     },
     "metadata": {},
     "output_type": "display_data"
    },
    {
     "data": {
      "application/javascript": [
       "if (typeof Jupyter !== \"undefined\") { window.__context = { glowscript_container: $(\"#glowscript\").removeAttr(\"id\")};}else{ element.textContent = ' ';}"
      ],
      "text/plain": [
       "<IPython.core.display.Javascript object>"
      ]
     },
     "metadata": {},
     "output_type": "display_data"
    }
   ],
   "source": [
    "import os\n",
    "import fnmatch\n",
    "import matplotlib.pyplot as plt # after importting matplotlib, mayavi can not set api to 2: first run mayavi!!!!\n",
    "import matplotlib as mpl\n",
    "from latexify import latexify\n",
    "#latexify()\n",
    "#mpl.style.use('classic')\n",
    "\n",
    "from vpython import*\n",
    "import numpy as np\n",
    "from numpy import linalg as LA\n",
    "from scipy import stats\n",
    "#from mayavi import mlab\n",
    "\n",
    "%matplotlib inline"
   ]
  },
  {
   "cell_type": "code",
   "execution_count": 2,
   "metadata": {},
   "outputs": [],
   "source": [
    "def my_vector(a_list):\n",
    "    return vector(a_list[0],a_list[1],a_list[2])"
   ]
  },
  {
   "cell_type": "code",
   "execution_count": 3,
   "metadata": {},
   "outputs": [
    {
     "data": {
      "text/plain": [
       "9.0792027688745"
      ]
     },
     "execution_count": 3,
     "metadata": {},
     "output_type": "execute_result"
    }
   ],
   "source": [
    "(2*np.pi*0.85**2)*2"
   ]
  },
  {
   "cell_type": "code",
   "execution_count": 4,
   "metadata": {},
   "outputs": [
    {
     "name": "stdout",
     "output_type": "stream",
     "text": [
      "79.60700082602717\n"
     ]
    }
   ],
   "source": [
    "l = 0.3\n",
    "v = 3956.03397606 # 1AA neutron\n",
    "t = l/v\n",
    "B = 1 # G\n",
    "f = 2.916*1000*B # Hz\n",
    "angle = f*t * 2*np.pi /np.pi*180\n",
    "\n",
    "print(angle)\n",
    "\n",
    "# 2.916*10**3 # s−1T−1\n"
   ]
  },
  {
   "cell_type": "code",
   "execution_count": 25,
   "metadata": {
    "jupyter": {
     "outputs_hidden": false
    }
   },
   "outputs": [
    {
     "name": "stdout",
     "output_type": "stream",
     "text": [
      "[[0.5  0.5  0.5 ]\n",
      " [0.5  0.   0.  ]\n",
      " [0.   0.   0.5 ]\n",
      " [0.   0.5  0.  ]\n",
      " [0.5  0.75 0.75]\n",
      " [0.5  0.25 0.25]\n",
      " [0.   0.25 0.75]\n",
      " [0.   0.75 0.25]\n",
      " [0.75 0.5  0.75]\n",
      " [0.75 0.   0.25]\n",
      " [0.25 0.   0.75]\n",
      " [0.25 0.5  0.25]\n",
      " [0.75 0.25 0.  ]\n",
      " [0.75 0.75 0.5 ]\n",
      " [0.25 0.75 0.  ]\n",
      " [0.25 0.25 0.5 ]]\n",
      "[0.   4.   0.   0.25 0.25]\n"
     ]
    }
   ],
   "source": [
    "############ Load the atom positions and spin directions.(only read limited some atoms in order in the filed)\n",
    "###############################################################\n",
    "\n",
    "###Ｒｅａｄ　ｏｎｅ　ｆｉｌｅ\n",
    "fpath1= r'D:\\2_Neutron_scattering\\0_SpinVert\\gdhfo_d7/35mK/35mk_spins_01.txt'\n",
    "\n",
    "nbatom=16 #no of atoms to read in the file\n",
    "atpos=np.zeros([16,3]) #store atom positons in a unit cell\n",
    "allpos=np.zeros([nbatom,3])#store atom positons in a super cell\n",
    "spins =np.zeros([nbatom,3])#store spins in a super cell\n",
    "\n",
    "#read data\n",
    "with open(fpath1, 'r') as f:\n",
    "    i=0\n",
    "    for line in f:\n",
    "        line=line.rstrip('\\n').split()# without giving delimenter, it will treat conseutive space as one\n",
    "        if line[0]==\"SITE\":\n",
    "            atpos[i,:]=line[1:]#automatically convert string to np.array\n",
    "            i=i+1\n",
    "with open(fpath1, 'r') as f:\n",
    "    i=0        \n",
    "    for line in f:        \n",
    "        line=line.rstrip('\\n').split()# without giving delimenter, it will treat conseutive space as one\n",
    "        if line[0]==\"SPIN\":\n",
    "            allpos[i,:]=np.array(line[2:5],dtype='f8')+atpos[int(line[1])-1,:]\n",
    "            spins[i,:]=line[5:8]\n",
    "            i=i+1\n",
    "            if i==nbatom:\n",
    "                break\n",
    "\n",
    "#allpos = np.vstack([allpos,allpos+[1,0,0]])\n",
    "\n",
    "##### find the nearest neighers\n",
    "bonds = np.zeros([5,1000])#store the 30 bonds in the unitCell: atom1,atom2,pos[a2]-pos[a1]\n",
    "idx = 0\n",
    "for i in np.arange(0,len(allpos)-1,1):\n",
    "    for ii in np.arange(i+1,len(allpos),1):\n",
    "        distance = LA.norm(allpos[i]-allpos[ii])\n",
    "        if distance==np.sqrt(2)/4 and ~np.in1d(ii,bonds[0,np.where(bonds[1,:]==i)])[0]:\n",
    "            bonds[:,idx]=np.append(np.array([i, ii]),allpos[ii]-allpos[i])\n",
    "            idx +=1                \n",
    "#print(bonds[:2,:])                \n",
    "#print(bonds[2:,:])\n",
    "print(allpos)\n",
    "print(bonds[:,0])"
   ]
  },
  {
   "cell_type": "code",
   "execution_count": 7,
   "metadata": {
    "jupyter": {
     "outputs_hidden": false
    },
    "scrolled": true
   },
   "outputs": [
    {
     "name": "stdout",
     "output_type": "stream",
     "text": [
      "[ 0.  0.  0.  0.  0.  0.  1.  1.  1.  2.  2.  2.  3.  3.  3.  4.  4.  5.\n",
      "  5.  5.  5.  6.  6.  7.  7.  8.  9. 10. 11. 11.  0.  0.  0.  0.  0.  0.\n",
      "  0.  0.  0.  0.  0.  0.  0.  0.  0.  0.  0.  0.  0.  0.  0.  0.  0.  0.\n",
      "  0.  0.  0.  0.  0.  0.  0.  0.  0.  0.  0.  0.  0.  0.  0.  0.  0.  0.\n",
      "  0.  0.  0.  0.  0.  0.  0.  0.  0.  0.  0.  0.  0.  0.  0.  0.  0.  0.\n",
      "  0.  0.  0.  0.  0.  0.  0.  0.  0.  0.  0.  0.  0.  0.  0.  0.  0.  0.\n",
      "  0.  0.  0.  0.  0.  0.  0.  0.  0.  0.  0.  0.  0.  0.  0.  0.  0.  0.\n",
      "  0.  0.  0.  0.  0.  0.  0.  0.  0.  0.  0.  0.  0.  0.  0.  0.  0.  0.\n",
      "  0.  0.  0.  0.  0.  0.  0.  0.  0.  0.  0.  0.  0.  0.  0.  0.  0.  0.\n",
      "  0.  0.  0.  0.  0.  0.  0.  0.  0.  0.  0.  0.  0.  0.  0.  0.  0.  0.\n",
      "  0.  0.  0.  0.  0.  0.  0.  0.  0.  0.  0.  0.  0.  0.  0.  0.  0.  0.\n",
      "  0.  0.  0.  0.  0.  0.  0.  0.  0.  0.  0.  0.  0.  0.  0.  0.  0.  0.\n",
      "  0.  0.  0.  0.  0.  0.  0.  0.  0.  0.  0.  0.  0.  0.  0.  0.  0.  0.\n",
      "  0.  0.  0.  0.  0.  0.  0.  0.  0.  0.  0.  0.  0.  0.  0.  0.  0.  0.\n",
      "  0.  0.  0.  0.  0.  0.  0.  0.  0.  0.  0.  0.  0.  0.  0.  0.  0.  0.\n",
      "  0.  0.  0.  0.  0.  0.  0.  0.  0.  0.  0.  0.  0.  0.  0.  0.  0.  0.\n",
      "  0.  0.  0.  0.  0.  0.  0.  0.  0.  0.  0.  0.  0.  0.  0.  0.  0.  0.\n",
      "  0.  0.  0.  0.  0.  0.  0.  0.  0.  0.  0.  0.  0.  0.  0.  0.  0.  0.\n",
      "  0.  0.  0.  0.  0.  0.  0.  0.  0.  0.  0.  0.  0.  0.  0.  0.  0.  0.\n",
      "  0.  0.  0.  0.  0.  0.  0.  0.  0.  0.  0.  0.  0.  0.  0.  0.  0.  0.\n",
      "  0.  0.  0.  0.  0.  0.  0.  0.  0.  0.  0.  0.  0.  0.  0.  0.  0.  0.\n",
      "  0.  0.  0.  0.  0.  0.  0.  0.  0.  0.  0.  0.  0.  0.  0.  0.  0.  0.\n",
      "  0.  0.  0.  0.  0.  0.  0.  0.  0.  0.  0.  0.  0.  0.  0.  0.  0.  0.\n",
      "  0.  0.  0.  0.  0.  0.  0.  0.  0.  0.  0.  0.  0.  0.  0.  0.  0.  0.\n",
      "  0.  0.  0.  0.  0.  0.  0.  0.  0.  0.  0.  0.  0.  0.  0.  0.  0.  0.\n",
      "  0.  0.  0.  0.  0.  0.  0.  0.  0.  0.  0.  0.  0.  0.  0.  0.  0.  0.\n",
      "  0.  0.  0.  0.  0.  0.  0.  0.  0.  0.  0.  0.  0.  0.  0.  0.  0.  0.\n",
      "  0.  0.  0.  0.  0.  0.  0.  0.  0.  0.  0.  0.  0.  0.  0.  0.  0.  0.\n",
      "  0.  0.  0.  0.  0.  0.  0.  0.  0.  0.  0.  0.  0.  0.  0.  0.  0.  0.\n",
      "  0.  0.  0.  0.  0.  0.  0.  0.  0.  0.  0.  0.  0.  0.  0.  0.  0.  0.\n",
      "  0.  0.  0.  0.  0.  0.  0.  0.  0.  0.  0.  0.  0.  0.  0.  0.  0.  0.\n",
      "  0.  0.  0.  0.  0.  0.  0.  0.  0.  0.  0.  0.  0.  0.  0.  0.  0.  0.\n",
      "  0.  0.  0.  0.  0.  0.  0.  0.  0.  0.  0.  0.  0.  0.  0.  0.  0.  0.\n",
      "  0.  0.  0.  0.  0.  0.  0.  0.  0.  0.  0.  0.  0.  0.  0.  0.  0.  0.\n",
      "  0.  0.  0.  0.  0.  0.  0.  0.  0.  0.  0.  0.  0.  0.  0.  0.  0.  0.\n",
      "  0.  0.  0.  0.  0.  0.  0.  0.  0.  0.  0.  0.  0.  0.  0.  0.  0.  0.\n",
      "  0.  0.  0.  0.  0.  0.  0.  0.  0.  0.  0.  0.  0.  0.  0.  0.  0.  0.\n",
      "  0.  0.  0.  0.  0.  0.  0.  0.  0.  0.  0.  0.  0.  0.  0.  0.  0.  0.\n",
      "  0.  0.  0.  0.  0.  0.  0.  0.  0.  0.  0.  0.  0.  0.  0.  0.  0.  0.\n",
      "  0.  0.  0.  0.  0.  0.  0.  0.  0.  0.  0.  0.  0.  0.  0.  0.  0.  0.\n",
      "  0.  0.  0.  0.  0.  0.  0.  0.  0.  0.  0.  0.  0.  0.  0.  0.  0.  0.\n",
      "  0.  0.  0.  0.  0.  0.  0.  0.  0.  0.  0.  0.  0.  0.  0.  0.  0.  0.\n",
      "  0.  0.  0.  0.  0.  0.  0.  0.  0.  0.  0.  0.  0.  0.  0.  0.  0.  0.\n",
      "  0.  0.  0.  0.  0.  0.  0.  0.  0.  0.  0.  0.  0.  0.  0.  0.  0.  0.\n",
      "  0.  0.  0.  0.  0.  0.  0.  0.  0.  0.  0.  0.  0.  0.  0.  0.  0.  0.\n",
      "  0.  0.  0.  0.  0.  0.  0.  0.  0.  0.  0.  0.  0.  0.  0.  0.  0.  0.\n",
      "  0.  0.  0.  0.  0.  0.  0.  0.  0.  0.  0.  0.  0.  0.  0.  0.  0.  0.\n",
      "  0.  0.  0.  0.  0.  0.  0.  0.  0.  0.  0.  0.  0.  0.  0.  0.  0.  0.\n",
      "  0.  0.  0.  0.  0.  0.  0.  0.  0.  0.  0.  0.  0.  0.  0.  0.  0.  0.\n",
      "  0.  0.  0.  0.  0.  0.  0.  0.  0.  0.  0.  0.  0.  0.  0.  0.  0.  0.\n",
      "  0.  0.  0.  0.  0.  0.  0.  0.  0.  0.  0.  0.  0.  0.  0.  0.  0.  0.\n",
      "  0.  0.  0.  0.  0.  0.  0.  0.  0.  0.  0.  0.  0.  0.  0.  0.  0.  0.\n",
      "  0.  0.  0.  0.  0.  0.  0.  0.  0.  0.  0.  0.  0.  0.  0.  0.  0.  0.\n",
      "  0.  0.  0.  0.  0.  0.  0.  0.  0.  0.  0.  0.  0.  0.  0.  0.  0.  0.\n",
      "  0.  0.  0.  0.  0.  0.  0.  0.  0.  0.  0.  0.  0.  0.  0.  0.  0.  0.\n",
      "  0.  0.  0.  0.  0.  0.  0.  0.  0.  0.]\n"
     ]
    }
   ],
   "source": [
    "print(bonds[0,:])"
   ]
  },
  {
   "cell_type": "code",
   "execution_count": 26,
   "metadata": {
    "jupyter": {
     "outputs_hidden": false
    }
   },
   "outputs": [
    {
     "name": "stdout",
     "output_type": "stream",
     "text": [
      "[[0.625 0.625 0.625]\n",
      " [0.625 0.125 0.125]\n",
      " [0.125 0.125 0.625]\n",
      " [0.125 0.625 0.125]\n",
      " [0.375 0.375 0.375]\n",
      " [0.625 0.625 0.625]]\n",
      "[ 0  4  8 13  1  5  9 12  2  6 10 15  3  7 11 14  0  5 11 15]\n",
      "[[ 0  4  8 13]\n",
      " [ 1  5  9 12]\n",
      " [ 2  6 10 15]\n",
      " [ 3  7 11 14]\n",
      " [ 0  5 11 15]]\n"
     ]
    }
   ],
   "source": [
    "# Diamond lattic\n",
    "# Tetrahedra within a unit cell\n",
    "tetra = np.array([[0,4,8,13],\n",
    "                  [1,5,9,12],\n",
    "                  [2,6,10,15],\n",
    "                  [3,7,11,14],\n",
    "                  [0,5,11,15]]) \n",
    "# Local [111] axes for [0,1,2,3],[4,5,6,7,8],...\n",
    "aniso = np.array([[1,1,1],[1,1,1],[1,1,1],[1,1,1],\n",
    "                  [1,-1,-1],[1,-1,-1],[1,-1,-1],[1,-1,-1],\n",
    "                  [-1,1,-1],[-1,1,-1],[-1,1,-1],[-1,1,-1],\n",
    "                  [-1,-1,1],[-1,-1,1],[-1,-1,1],[-1,-1,1]])/np.sqrt(3.)\n",
    "\n",
    "#print(tetra, allpos)\n",
    "#print(allpos[tetra[0,:]])\n",
    "o8b = allpos[tetra,:].sum(axis=1)/4.\n",
    "theOther3o = o8b[0,:] #- np.array([[1,-1,-1], [-1,1,-1], [-1,-1,1]])/4.\n",
    "o8b = np.vstack([o8b,theOther3o])\n",
    "print(o8b)\n",
    "\n",
    "print(tetra.flatten())\n",
    "print(tetra)"
   ]
  },
  {
   "cell_type": "code",
   "execution_count": 27,
   "metadata": {
    "jupyter": {
     "outputs_hidden": false
    }
   },
   "outputs": [
    {
     "data": {
      "text/html": [
       "<div id=\"glowscript\" class=\"glowscript\"></div>"
      ],
      "text/plain": [
       "<IPython.core.display.HTML object>"
      ]
     },
     "metadata": {},
     "output_type": "display_data"
    },
    {
     "data": {
      "application/javascript": [
       "if (typeof Jupyter !== \"undefined\") { window.__context = { glowscript_container: $(\"#glowscript\").removeAttr(\"id\")};}else{ element.textContent = ' ';}"
      ],
      "text/plain": [
       "<IPython.core.display.Javascript object>"
      ]
     },
     "metadata": {},
     "output_type": "display_data"
    }
   ],
   "source": [
    "############### Plot the magnetic structure #################\n",
    "# #exit() \n",
    "#scene1.delete()\n",
    "scene1 = canvas(title='MagStr', width=500, height=500,x=500,y=500, \n",
    "                center=vector(0.5,0.5,0.5), background=color.white,exit=False)\n",
    "\n",
    "spinl = 0.3; atomr = 0.5; cylr = 0.005\n",
    "#allpos = np.subtract(allpos,np.array([0.5,0.5,0.5])) # center the unit cell\n",
    "\n",
    "#for i in range(len(allpos)):\n",
    "for i in tetra.flatten():\n",
    "    #ii = i+16\n",
    "    pointer = arrow(pos=my_vector(allpos[i]-spinl*spins[i]/2), axis=my_vector(spinl*spins[i]),color=color.black) # spins\n",
    "    #pointer = arrow(pos=my_vector(allpos[i]-spinl*aniso[i]/2), axis=my_vector(spinl*aniso[i])) # easy axis\n",
    "    pointer = sphere(pos=my_vector(allpos[i]), color=color.red, radius=atomr*0.1) # atoms\n",
    "    pointer = label(pos=my_vector(allpos[i]+(0,0,0.1)), text=str(i%16))    \n",
    "\n",
    "for i in range(bonds.shape[1]):\n",
    "    pointer = cylinder(pos=my_vector(allpos[int(bonds[0,i])]), axis=my_vector(bonds[2:,i]), radius=cylr)\n",
    "\n",
    "#o8b_c = np.subtract(o8b,np.array([0.5,0.5,0.5]))    \n",
    "# for i in range(len(o8b)):\n",
    "#     pointer = sphere(pos=my_vector(o8b[i]), color=color.blue, radius=atomr*0.1)\n",
    "    \n",
    "#scene1.lights = []\n",
    "#scene1.ambient= 2"
   ]
  },
  {
   "cell_type": "code",
   "execution_count": 10,
   "metadata": {},
   "outputs": [
    {
     "name": "stdout",
     "output_type": "stream",
     "text": [
      "[[ 0  0]\n",
      " [ 0  4]\n",
      " [ 0  8]\n",
      " [ 0 13]\n",
      " [ 1  1]\n",
      " [ 1  5]\n",
      " [ 1  9]\n",
      " [ 1 12]\n",
      " [ 2  2]\n",
      " [ 2  6]\n",
      " [ 2 10]\n",
      " [ 2 15]\n",
      " [ 3  3]\n",
      " [ 3  7]\n",
      " [ 3 11]\n",
      " [ 3 14]\n",
      " [ 4  0]\n",
      " [ 4  5]\n",
      " [ 4 11]\n",
      " [ 4 15]\n",
      " [ 5  0]\n",
      " [ 5  4]\n",
      " [ 5  8]\n",
      " [ 5 13]\n",
      " [ 0  0]\n",
      " [ 0  0]\n",
      " [ 0  0]\n",
      " [ 0  0]\n",
      " [ 0  0]\n",
      " [ 0  0]\n",
      " [ 0  0]\n",
      " [ 0  0]]\n"
     ]
    }
   ],
   "source": [
    "############## Find the neigbors of oxygen ions on the first unit cell\n",
    "orBondsIdx = np.zeros([32,2],dtype='int32') #store the 32 R-O(8b) bonds in the unitCell: idx(O8b),idx(R),\n",
    "orBonds = np.zeros([32,8])#store the 32 R-O(8b) bonds in the unitCell: dL, pos[a2]-pos[a1]\n",
    "idx = 0\n",
    "for i in np.arange(0,len(o8b),1):\n",
    "    for ii in np.arange(0,len(allpos),1):\n",
    "        distance = LA.norm(o8b[i]-allpos[ii])\n",
    "        if distance==np.sqrt(3/64.):\n",
    "            ridx = np.remainder(ii,16)\n",
    "            orBondsIdx[idx,:] = [i*1., ridx]\n",
    "            orBonds[idx,:]=np.hstack( [ [i,ridx], np.trunc(allpos[ii]), allpos[ii]-o8b[i] ] )\n",
    "            idx +=  1\n",
    "\n",
    "print(orBondsIdx)\n"
   ]
  },
  {
   "cell_type": "code",
   "execution_count": 27,
   "metadata": {},
   "outputs": [
    {
     "ename": "FileNotFoundError",
     "evalue": "D:/5_Neutron_Scattering/3_D20_ILL_Dec2014/mag_str_atom.txt not found.",
     "output_type": "error",
     "traceback": [
      "\u001b[1;31m---------------------------------------------------------------------------\u001b[0m",
      "\u001b[1;31mFileNotFoundError\u001b[0m                         Traceback (most recent call last)",
      "Cell \u001b[1;32mIn[27], line 4\u001b[0m\n\u001b[0;32m      1\u001b[0m \u001b[38;5;66;03m############ Plot to see if the file is correct： All in all out magnetic strucutre\u001b[39;00m\n\u001b[0;32m      2\u001b[0m \u001b[38;5;66;03m###read the file constaining spins and atom positions\u001b[39;00m\n\u001b[0;32m      3\u001b[0m fpath\u001b[38;5;241m=\u001b[39m\u001b[38;5;124m'\u001b[39m\u001b[38;5;124mD:/5_Neutron_Scattering/3_D20_ILL_Dec2014/mag_str_atom.txt\u001b[39m\u001b[38;5;124m'\u001b[39m\n\u001b[1;32m----> 4\u001b[0m data \u001b[38;5;241m=\u001b[39m \u001b[43mnp\u001b[49m\u001b[38;5;241;43m.\u001b[39;49m\u001b[43mgenfromtxt\u001b[49m\u001b[43m(\u001b[49m\u001b[43mfpath\u001b[49m\u001b[43m,\u001b[49m\u001b[43m \u001b[49m\u001b[43mdtype\u001b[49m\u001b[38;5;241;43m=\u001b[39;49m\u001b[38;5;28;43;01mNone\u001b[39;49;00m\u001b[43m)\u001b[49m\n\u001b[0;32m      5\u001b[0m \u001b[38;5;66;03m#print(data)\u001b[39;00m\n\u001b[0;32m      6\u001b[0m allpos \u001b[38;5;241m=\u001b[39m np\u001b[38;5;241m.\u001b[39mzeros([\u001b[38;5;241m16\u001b[39m,\u001b[38;5;241m3\u001b[39m])\n",
      "File \u001b[1;32m~\\anaconda3\\lib\\site-packages\\numpy\\lib\\npyio.py:1977\u001b[0m, in \u001b[0;36mgenfromtxt\u001b[1;34m(fname, dtype, comments, delimiter, skip_header, skip_footer, converters, missing_values, filling_values, usecols, names, excludelist, deletechars, replace_space, autostrip, case_sensitive, defaultfmt, unpack, usemask, loose, invalid_raise, max_rows, encoding, ndmin, like)\u001b[0m\n\u001b[0;32m   1975\u001b[0m     fname \u001b[38;5;241m=\u001b[39m os_fspath(fname)\n\u001b[0;32m   1976\u001b[0m \u001b[38;5;28;01mif\u001b[39;00m \u001b[38;5;28misinstance\u001b[39m(fname, \u001b[38;5;28mstr\u001b[39m):\n\u001b[1;32m-> 1977\u001b[0m     fid \u001b[38;5;241m=\u001b[39m \u001b[43mnp\u001b[49m\u001b[38;5;241;43m.\u001b[39;49m\u001b[43mlib\u001b[49m\u001b[38;5;241;43m.\u001b[39;49m\u001b[43m_datasource\u001b[49m\u001b[38;5;241;43m.\u001b[39;49m\u001b[43mopen\u001b[49m\u001b[43m(\u001b[49m\u001b[43mfname\u001b[49m\u001b[43m,\u001b[49m\u001b[43m \u001b[49m\u001b[38;5;124;43m'\u001b[39;49m\u001b[38;5;124;43mrt\u001b[39;49m\u001b[38;5;124;43m'\u001b[39;49m\u001b[43m,\u001b[49m\u001b[43m \u001b[49m\u001b[43mencoding\u001b[49m\u001b[38;5;241;43m=\u001b[39;49m\u001b[43mencoding\u001b[49m\u001b[43m)\u001b[49m\n\u001b[0;32m   1978\u001b[0m     fid_ctx \u001b[38;5;241m=\u001b[39m contextlib\u001b[38;5;241m.\u001b[39mclosing(fid)\n\u001b[0;32m   1979\u001b[0m \u001b[38;5;28;01melse\u001b[39;00m:\n",
      "File \u001b[1;32m~\\anaconda3\\lib\\site-packages\\numpy\\lib\\_datasource.py:193\u001b[0m, in \u001b[0;36mopen\u001b[1;34m(path, mode, destpath, encoding, newline)\u001b[0m\n\u001b[0;32m    156\u001b[0m \u001b[38;5;250m\u001b[39m\u001b[38;5;124;03m\"\"\"\u001b[39;00m\n\u001b[0;32m    157\u001b[0m \u001b[38;5;124;03mOpen `path` with `mode` and return the file object.\u001b[39;00m\n\u001b[0;32m    158\u001b[0m \n\u001b[1;32m   (...)\u001b[0m\n\u001b[0;32m    189\u001b[0m \n\u001b[0;32m    190\u001b[0m \u001b[38;5;124;03m\"\"\"\u001b[39;00m\n\u001b[0;32m    192\u001b[0m ds \u001b[38;5;241m=\u001b[39m DataSource(destpath)\n\u001b[1;32m--> 193\u001b[0m \u001b[38;5;28;01mreturn\u001b[39;00m \u001b[43mds\u001b[49m\u001b[38;5;241;43m.\u001b[39;49m\u001b[43mopen\u001b[49m\u001b[43m(\u001b[49m\u001b[43mpath\u001b[49m\u001b[43m,\u001b[49m\u001b[43m \u001b[49m\u001b[43mmode\u001b[49m\u001b[43m,\u001b[49m\u001b[43m \u001b[49m\u001b[43mencoding\u001b[49m\u001b[38;5;241;43m=\u001b[39;49m\u001b[43mencoding\u001b[49m\u001b[43m,\u001b[49m\u001b[43m \u001b[49m\u001b[43mnewline\u001b[49m\u001b[38;5;241;43m=\u001b[39;49m\u001b[43mnewline\u001b[49m\u001b[43m)\u001b[49m\n",
      "File \u001b[1;32m~\\anaconda3\\lib\\site-packages\\numpy\\lib\\_datasource.py:533\u001b[0m, in \u001b[0;36mDataSource.open\u001b[1;34m(self, path, mode, encoding, newline)\u001b[0m\n\u001b[0;32m    530\u001b[0m     \u001b[38;5;28;01mreturn\u001b[39;00m _file_openers[ext](found, mode\u001b[38;5;241m=\u001b[39mmode,\n\u001b[0;32m    531\u001b[0m                               encoding\u001b[38;5;241m=\u001b[39mencoding, newline\u001b[38;5;241m=\u001b[39mnewline)\n\u001b[0;32m    532\u001b[0m \u001b[38;5;28;01melse\u001b[39;00m:\n\u001b[1;32m--> 533\u001b[0m     \u001b[38;5;28;01mraise\u001b[39;00m \u001b[38;5;167;01mFileNotFoundError\u001b[39;00m(\u001b[38;5;124mf\u001b[39m\u001b[38;5;124m\"\u001b[39m\u001b[38;5;132;01m{\u001b[39;00mpath\u001b[38;5;132;01m}\u001b[39;00m\u001b[38;5;124m not found.\u001b[39m\u001b[38;5;124m\"\u001b[39m)\n",
      "\u001b[1;31mFileNotFoundError\u001b[0m: D:/5_Neutron_Scattering/3_D20_ILL_Dec2014/mag_str_atom.txt not found."
     ]
    }
   ],
   "source": [
    "############ Plot to see if the file is correct： All in all out magnetic strucutre\n",
    "###read the file constaining spins and atom positions\n",
    "fpath='D:/5_Neutron_Scattering/3_D20_ILL_Dec2014/mag_str_atom.txt'\n",
    "data = np.genfromtxt(fpath, dtype=None)\n",
    "#print(data)\n",
    "allpos = np.zeros([16,3])\n",
    "spins = np.zeros([16,3])\n",
    "for i in np.arange(data.shape[1]):\n",
    "    allpos[i,:] = data[3:,i].T\n",
    "    spins[i,:] = data[0:3,i].T/2.5980762\n",
    "#print(allpos,spins)\n",
    "\n",
    "bonds = np.zeros([5,1000])#store the 30 bonds in the unitCell: atom1,atom2,pos[a2]-pos[a1]\n",
    "idx = 0\n",
    "for i in np.arange(0,len(allpos)-1,1):\n",
    "    for ii in np.arange(i+1,len(allpos),1):\n",
    "        distance = LA.norm(allpos[i]-allpos[ii])\n",
    "        if distance==np.sqrt(2)/4 and ~np.in1d(ii,bonds[0,np.where(bonds[1,:]==i)])[0]:\n",
    "            bonds[:,idx]=np.append(np.array([i, ii]),allpos[ii]-allpos[i])\n",
    "            idx +=1\n",
    "# No file found~~~~"
   ]
  },
  {
   "cell_type": "markdown",
   "metadata": {},
   "source": [
    "## Load all the spin configurations"
   ]
  },
  {
   "cell_type": "code",
   "execution_count": 19,
   "metadata": {
    "jupyter": {
     "outputs_hidden": false
    }
   },
   "outputs": [
    {
     "name": "stdout",
     "output_type": "stream",
     "text": [
      "35mk_spins_01.txt\n",
      "35mk_spins_02.txt\n",
      "35mk_spins_03.txt\n",
      "35mk_spins_04.txt\n",
      "35mk_spins_05.txt\n",
      "35mk_spins_06.txt\n",
      "35mk_spins_07.txt\n",
      "35mk_spins_08.txt\n",
      "35mk_spins_09.txt\n",
      "35mk_spins_10.txt\n",
      "35mk_spins_11.txt\n",
      "35mk_spins_12.txt\n",
      "35mk_spins_13.txt\n",
      "35mk_spins_14.txt\n",
      "35mk_spins_15.txt\n",
      "35mk_spins_16.txt\n",
      "35mk_spins_17.txt\n",
      "35mk_spins_18.txt\n",
      "35mk_spins_19.txt\n",
      "35mk_spins_20.txt\n",
      "35mk_spins_21.txt\n",
      "35mk_spins_22.txt\n",
      "35mk_spins_23.txt\n",
      "35mk_spins_24.txt\n",
      "35mk_spins_25.txt\n",
      "35mk_spins_26.txt\n",
      "35mk_spins_27.txt\n",
      "35mk_spins_28.txt\n",
      "35mk_spins_29.txt\n",
      "35mk_spins_30.txt\n",
      "35mk_spins_31.txt\n",
      "35mk_spins_32.txt\n",
      "35mk_spins_33.txt\n",
      "35mk_spins_34.txt\n",
      "35mk_spins_35.txt\n",
      "35mk_spins_36.txt\n",
      "35mk_spins_37.txt\n",
      "35mk_spins_38.txt\n",
      "35mk_spins_39.txt\n",
      "35mk_spins_40.txt\n",
      "35mk_spins_41.txt\n",
      "35mk_spins_42.txt\n",
      "35mk_spins_43.txt\n",
      "35mk_spins_44.txt\n",
      "35mk_spins_45.txt\n",
      "35mk_spins_46.txt\n",
      "35mk_spins_47.txt\n",
      "35mk_spins_48.txt\n",
      "35mk_spins_49.txt\n",
      "35mk_spins_50.txt\n",
      "(50, 6, 6, 6, 16, 3) (50, 6, 6, 6, 16, 3)\n"
     ]
    }
   ],
   "source": [
    "################ This code allows choosing the cells to view #######\n",
    "##### First load data: poss[ibox,cell_idx 1:3, idx_atom 1:16, xyz 1:3]\n",
    "##############################################\n",
    "import numpy as np\n",
    "import fnmatch\n",
    "import os\n",
    "\n",
    "######load spin configuration files\n",
    "##Input: no. of atom per cell and supercell and no of files\n",
    "natcell,spdim,subbox,ibox=16,[6,6,6],[3,3,3],50\n",
    "#for GdZrO:16 atom in a cell, 6*6*6 supercell, size of sc to view, nb of files\n",
    "\n",
    "atpos=np.zeros([natcell,3])#store the atom positions in a cell\n",
    "poss=np.zeros(np.hstack([ibox,spdim,natcell,3]))#store the atom positions in a supercell \n",
    "                        #because all the sc is of the same size we only need one varabale\n",
    "spins=np.empty(np.hstack([ibox,spdim,natcell,3]))#store the spins in a supercell for 5 runs\n",
    "\n",
    "#print pos.shape, spins.shape, pos[[0,0,0,0,15],:],pos[np.ravel([0,[0,0,0],15]),:],\n",
    "#filepath=r'D:\\2_Neutron_scattering\\0_SpinVert\\gdhfo_d7/666sc'\n",
    "#filepath=r'D:/2_Neutron_scattering/0_SpinVert/gdhfo_d7/35mK'\n",
    "#filepath=r'D:\\2_Neutron_scattering\\0_SpinVert\\gdhfo_d7\\35mK_with_flat_bkg'\n",
    "#filename='35mk_spins_*.txt'\n",
    "\n",
    "filepath=r'D:/2_Neutron_scattering/0_SpinVert/gdhfo_d7/35mK'\n",
    "filename='35mK_spins_*.txt'\n",
    "\n",
    "\n",
    "# test\n",
    "#filepath = r'D:\\2_Neutron_scattering\\0_SpinVert\\gdzro_ill\\gd_ill_60mk-20k_with_paramag/' #fit with no disorder\n",
    "#filename = '10k_0p994_s3_wl2p41_p3500i_spins_*.txt'\n",
    "\n",
    "ii=0 #index for different files\n",
    "jj=0\n",
    "for file in os.listdir(filepath):\n",
    "    if fnmatch.fnmatch(file, filename):      \n",
    "        print(file)\n",
    "        if ii==0:#get the atom positions in the 1st file\n",
    "            with open(os.path.join(filepath,file), 'r') as f:\n",
    "                i=0\n",
    "                for line in f:#get the atom positions in the cell\n",
    "                    line=line.rstrip('\\n').split()# without giving delimenter, it will treat conseutive space as one                    \n",
    "                    if line[0]==\"SITE\":\n",
    "                        atpos[i,:]=line[1:]#automatically convert string to np.array\n",
    "                        i=i+1\n",
    "            with open(os.path.join(filepath,file), 'r') as f:     \n",
    "                for line in f:#get the atom positions in the supercell        \n",
    "                    line=line.rstrip('\\n').split()# without giving delimenter, it will treat conseutive space as one\n",
    "                    if line[0]==\"SPIN\":\n",
    "                        idxsp=np.array(line[1:5],dtype='int32')# 1st:atom index, then superCell idx:[i,j,k]\n",
    "                        poss[ii,idxsp[1],idxsp[2],idxsp[3],idxsp[0]-1,:]=idxsp[1:4]+atpos[idxsp[0]-1,:]\n",
    "                        spins[ii,idxsp[1],idxsp[2],idxsp[3],idxsp[0]-1,:]=line[5:8]     \n",
    "            ii=ii+1       \n",
    "        else:\n",
    "            with open(os.path.join(filepath,file), 'r') as f:\n",
    "                for line in f:\n",
    "                    line=line.rstrip('\\n').split()# without giving delimenter, it will treat conseutive space as one\n",
    "                    if line[0]==\"SPIN\":\n",
    "                        idxsp=np.array(line[1:5],dtype='int32')# 1st:atom index, then superCell idx:[i,j,k]\n",
    "                        poss[ii,idxsp[1],idxsp[2],idxsp[3],idxsp[0]-1,:]=idxsp[1:4]+atpos[idxsp[0]-1,:]\n",
    "                        spins[ii,idxsp[1],idxsp[2],idxsp[3],idxsp[0]-1,:]=line[5:8]   \n",
    "            ii=ii+1\n",
    "            \n",
    "print(poss.shape, spins.shape)"
   ]
  },
  {
   "cell_type": "code",
   "execution_count": 21,
   "metadata": {
    "jupyter": {
     "outputs_hidden": false
    }
   },
   "outputs": [
    {
     "name": "stdout",
     "output_type": "stream",
     "text": [
      "[[ 4.79030683e-01  7.37024918e-01 -4.76784936e-01]\n",
      " [-4.28400509e-01  8.05808311e-01  4.08834894e-01]\n",
      " [ 9.49781554e-01 -2.65407897e-01 -1.65751765e-01]\n",
      " [ 6.08036216e-01  7.72619471e-01 -1.82622874e-01]\n",
      " [-7.29569132e-01 -5.35675300e-01 -4.25183320e-01]\n",
      " [-8.65516461e-01 -4.90975657e-01  9.91168978e-02]\n",
      " [-9.24269435e-01  3.81692061e-01 -6.09773366e-03]\n",
      " [-5.83188495e-01  7.58726315e-01 -2.90216399e-01]\n",
      " [-3.33815556e-01 -6.73964668e-01 -6.59043853e-01]\n",
      " [ 4.25859219e-01  8.99551801e-01 -9.72135954e-02]\n",
      " [-6.49576139e-01 -6.95627869e-01 -3.06843133e-01]\n",
      " [-4.81456394e-01 -8.27604236e-01  2.88567098e-01]\n",
      " [ 8.47541118e-01 -1.67519748e-01 -5.03598241e-01]\n",
      " [ 4.68183381e-02  7.17004692e-01  6.95494295e-01]\n",
      " [ 3.83034370e-01 -1.56846805e-01  9.10320686e-01]\n",
      " [ 9.05409636e-01 -7.77632182e-04  4.24538321e-01]]\n",
      "[[0.5  0.5  0.5 ]\n",
      " [0.5  0.   0.  ]\n",
      " [0.   0.   0.5 ]\n",
      " [0.   0.5  0.  ]\n",
      " [0.5  0.75 0.75]\n",
      " [0.5  0.25 0.25]\n",
      " [0.   0.25 0.75]\n",
      " [0.   0.75 0.25]\n",
      " [0.75 0.5  0.75]\n",
      " [0.75 0.   0.25]\n",
      " [0.25 0.   0.75]\n",
      " [0.25 0.5  0.25]\n",
      " [0.75 0.25 0.  ]\n",
      " [0.75 0.75 0.5 ]\n",
      " [0.25 0.75 0.  ]\n",
      " [0.25 0.25 0.5 ]]\n"
     ]
    }
   ],
   "source": [
    "print(spins[0,0,0,1,:,:])\n",
    "print(poss[0,0,0,0,:,:])\n",
    "positions = poss\n",
    "L = 0.3; R = 0.5;"
   ]
  },
  {
   "cell_type": "code",
   "execution_count": 23,
   "metadata": {},
   "outputs": [
    {
     "data": {
      "text/html": [
       "<div id=\"glowscript\" class=\"glowscript\"></div>"
      ],
      "text/plain": [
       "<IPython.core.display.HTML object>"
      ]
     },
     "metadata": {},
     "output_type": "display_data"
    },
    {
     "data": {
      "application/javascript": [
       "if (typeof Jupyter !== \"undefined\") { window.__context = { glowscript_container: $(\"#glowscript\").removeAttr(\"id\")};}else{ element.textContent = ' ';}"
      ],
      "text/plain": [
       "<IPython.core.display.Javascript object>"
      ]
     },
     "metadata": {},
     "output_type": "display_data"
    }
   ],
   "source": [
    "scene1 = canvas(title='MagStr', width=500, height=500,x=500,y=500, \n",
    "                center=vector(0.5,0.5,0.5), background=color.white,exit=False)\n",
    "\n",
    "L = 0.3 # spin vector length\n",
    "R = 0.05 # atrom ball radius\n",
    "\n",
    "for i in range(6):\n",
    "    for j in range(6):\n",
    "        for k in range(6):\n",
    "            positions_uc = np.squeeze(positions[0,i,j,k,:,:])\n",
    "            spins_uc     = np.squeeze(spins[0,i,j,k,:,:])\n",
    "            for w in range(16):\n",
    "                pointer = arrow(pos=my_vector(positions_uc[i]-L*spins_uc[i]/2), axis=my_vector(L*spins_uc[i]),color=color.black) # plot the spin vectors\n",
    "                pointer = sphere(pos=my_vector(positions_uc[i]), color=color.red, radius=R) # polot the atoms\n",
    "                "
   ]
  },
  {
   "cell_type": "markdown",
   "metadata": {},
   "source": [
    "## Plot statiscs: angle with 111, summation over Tetra, AFM bond"
   ]
  },
  {
   "cell_type": "code",
   "execution_count": 22,
   "metadata": {
    "jupyter": {
     "outputs_hidden": false
    }
   },
   "outputs": [
    {
     "name": "stdout",
     "output_type": "stream",
     "text": [
      "(172800,)\n"
     ]
    },
    {
     "data": {
      "image/png": "[encoded data removed]",
      "text/plain": [
       "<Figure size 340.39x210.373 with 1 Axes>"
      ]
     },
     "metadata": {},
     "output_type": "display_data"
    },
    {
     "data": {
      "image/png": "[encoded data removed]",
      "text/plain": [
       "<Figure size 340.39x210.373 with 1 Axes>"
      ]
     },
     "metadata": {},
     "output_type": "display_data"
    }
   ],
   "source": [
    "# Ａｎｇｌｅｓ　ｂｅｔｗｅｅｎ　ｔｈｅ　ｓｐｉｎｓ　ａｎｄ　ｔｈｅ　ｌｏｃａｌ　１１１\n",
    "# anisotropy axis for atom 0,1,2,3... 14,15\n",
    "aniso = np.array([[1,1,1],[1,1,1],[1,1,1],[1,1,1],\n",
    "                  [1,-1,-1],[1,-1,-1],[1,-1,-1],[1,-1,-1],\n",
    "                  [-1,1,-1],[-1,1,-1],[-1,1,-1],[-1,1,-1],\n",
    "                  [-1,-1,1],[-1,-1,1],[-1,-1,1],[-1,-1,1]])/np.sqrt(3.)\n",
    "# innerp = np.multiply(spins[0,0,0,0,:,:],aniso)#.sum(axis=1)\n",
    "innerp = np.multiply(spins[:,:,:,:,:,:],aniso).reshape([-1,3]).sum(axis=1)\n",
    "angle = np.arccos(innerp)*180./3.1415\n",
    "print(angle.shape)\n",
    "\n",
    "sz_35mk = innerp\n",
    "#sz_1k   = innerp0\n",
    "\n",
    "latexify()\n",
    "\n",
    "fig = plt.figure()\n",
    "# the histogram of the data\n",
    "# print(angle)\n",
    "# n, bins, patches = plt.hist(angle, bins=50, density=True, facecolor='red', alpha=0.75)\n",
    "n, bins, patches = plt.hist(innerp, bins=30, density=True, facecolor='red', alpha=0.75)\n",
    "# plt.text(5,0.018,'(a)',size=14, ha='left', va='center',\n",
    "#         backgroundcolor='white',bbox=dict(facecolor='white', alpha=0, edgecolor='white', boxstyle='round'))\n",
    "# plt.text(25,0.018,'Angles between the spins \\nand the local [111] directions',size=14, ha='left', va='center',\n",
    "#         backgroundcolor='white',bbox=dict(facecolor='white', alpha=0, edgecolor='white', boxstyle='round'))\n",
    "# When you plot a normalized histogram, it is not the height that should sum up to one, \n",
    "# but the area underneath the curve should sum up to one\n",
    "# force the height summation to be one:\n",
    "# for item in patches:\n",
    "#     item.set_height(item.get_height()/sum(n))\n",
    "\n",
    "# add a 'best fit' line\n",
    "#mu, sigma = 89, 25\n",
    "#y = mlab.normpdf(bins, mu, sigma)\n",
    "#l = plt.plot(bins, y, 'r--', linewidth=1)\n",
    "\n",
    "plt.xlabel('Angle(deg.)',size=14)\n",
    "plt.ylabel('Probablity density',size=14)\n",
    "#plt.minorticks_on()\n",
    "plt.xticks(color='k', size=14)\n",
    "plt.yticks(color='k', size=14)\n",
    "#plt.title(r'$\\mathrm{Histogram\\ of\\ IQ:}\\ \\mu=100,\\ \\sigma=15$')\n",
    "# plt.axis([0, 180, 0, 0.02])\n",
    "#plt.grid(True)\n",
    "#plt.savefig(os.path.join(filepath,'gd_angle_spin111.pdf'),bbox_inches=\"tight\",verbose=True)\n",
    "plt.show()\n",
    "\n",
    "fig = plt.figure()\n",
    "# n, bins, patches = plt.hist(innerp, bins=50, density=True, facecolor='red', alpha=0.75)\n",
    "plt.scatter((bins[:30]+bins[1:31])/2,n, c='#E25C25')\n",
    "plt.xlabel(r'$\\bf{\\hat{S}}\\cdot\\bf{\\hat{z}}$')\n",
    "plt.ylabel('Probablity density')\n",
    "#plt.minorticks_on()\n",
    "plt.axis([-1,1, 0, 1])\n",
    "plt.savefig(os.path.join(filepath,'s-dot-z_35mk.pdf'), bbox_inches=\"tight\", pad_inches=0.01)\n",
    "plt.show()\n",
    "\n"
   ]
  },
  {
   "cell_type": "code",
   "execution_count": 7,
   "metadata": {},
   "outputs": [
    {
     "data": {
      "image/png": "[encoded data removed]",
      "text/plain": [
       "<Figure size 640x480 with 1 Axes>"
      ]
     },
     "metadata": {},
     "output_type": "display_data"
    }
   ],
   "source": [
    "dat = np.genfromtxt(os.path.join(fpath,'pc_scf.txt'))\n",
    "plt.figure()\n",
    "plt.errorbar(dat[:,0],dat[:,1],dat[:,2])\n",
    "plt.show()"
   ]
  },
  {
   "cell_type": "code",
   "execution_count": null,
   "metadata": {
    "jupyter": {
     "outputs_hidden": false
    },
    "scrolled": false
   },
   "outputs": [],
   "source": [
    "# Ｓｕｍ　ｔｈｅ　ｓｐｉｎｓ　ｏｎｅ　ｅｖｅｒｙ　ｔｅｔｒａｈｅｄｒａ \n",
    "# vetex of the tetrahedra (the tetraheda between the unit cell are ignored)\n",
    "tetra = np.array([[0,4,8,13],[1,5,9,12],[2,6,10,15],[3,7,11,14],[0,5,15,11]],dtype='int')\n",
    "\n",
    "# n = 0 # which file to see\n",
    "# sumTetra = np.vstack((spins[n,:,:,:,tetra[0,:],:].sum(axis=0).reshape((-1,3)),\n",
    "#                       spins[n,:,:,:,tetra[1,:],:].sum(axis=0).reshape((-1,3)),\n",
    "#                       spins[n,:,:,:,tetra[2,:],:].sum(axis=0).reshape((-1,3)),\n",
    "#                       spins[n,:,:,:,tetra[3,:],:].sum(axis=0).reshape((-1,3))) )\n",
    "\n",
    "# Or see all together\n",
    "sumTetra = np.vstack((spins[:,:,:,:,tetra[0,:],:].sum(axis=4).reshape((-1,3)),\n",
    "                      spins[:,:,:,:,tetra[1,:],:].sum(axis=4).reshape((-1,3)),\n",
    "                      spins[:,:,:,:,tetra[2,:],:].sum(axis=4).reshape((-1,3)),\n",
    "                      spins[:,:,:,:,tetra[3,:],:].sum(axis=4).reshape((-1,3))) )\n",
    "print(sumTetra.shape)\n",
    "print(sumTetra)\n",
    "\n",
    "\n",
    "# Plot the histogram of the three components of the summation on every tetrahedra\n",
    "fig,axs =plt.subplots(1,3,figsize=[10,3])\n",
    "alpha = 0.75;\n",
    "axs[0].hist(sumTetra[:,0], bins=20, density=True,  facecolor='red', alpha=alpha)\n",
    "axs[1].hist(sumTetra[:,1], bins=20, density=True, facecolor='black', alpha=alpha)\n",
    "axs[2].hist(sumTetra[:,2], bins=20, density=True, facecolor='blue', alpha=alpha)\n",
    "\n",
    "axs[0].set_xlabel(r'$\\sum_\\boxtimes S^x$',fontsize=14)\n",
    "axs[1].set_xlabel(r'$\\sum_\\boxtimes S^y$',fontsize=14)\n",
    "axs[2].set_xlabel(r'$\\sum_\\boxtimes S^z$',fontsize=14)\n",
    "axs[0].set_ylabel('Counts',fontsize=14)\n",
    "# the spin length is normalized to be one!!!!!\n",
    "\n",
    "#plt.axis([0, 180, 0, 0.015])\n",
    "#plt.grid(True)\n",
    "plt.savefig(os.path.join(filepath,'gd_sumStetra_xyz.pdf'),bbox_inches=\"tight\",verbose=True)\n",
    "plt.show()\n",
    "\n",
    "# Plot the histogram of the three components of the summation on every tetrahedra\n",
    "fig=plt.figure(figsize=(4,3))\n",
    "axs = plt.gca()\n",
    "alpha = 0.75;\n",
    "axs.hist(LA.norm(sumTetra,axis=1), bins=20, density=True, facecolor='red', alpha=alpha)\n",
    "#plt.text(0.02,0.8,'(b)',size=14, ha='left', va='center',\n",
    "#        backgroundcolor='white',bbox=dict(facecolor='white', alpha=0, edgecolor='white', boxstyle='round'),\n",
    "#        transform=axs.transAxes)\n",
    "# plt.text(0.9,0.8,'Total moment\\n on a tetrahedron',size=14, ha='right', va='center',\n",
    "#        backgroundcolor='white',bbox=dict(facecolor='white', alpha=0, edgecolor='white', boxstyle='round'),\n",
    "#         transform=axs.transAxes)\n",
    "axs.set_xlabel(r'$\\left|\\sum_\\boxtimes\\bf{S}\\right|$',fontsize=14)\n",
    "axs.set_ylabel('Counts',fontsize=14)\n",
    "# the spin length is normalized to be one!!!!!\n",
    "\n",
    "#plt.axis([0, 180, 0, 0.015])\n",
    "#plt.grid(True)\n",
    "plt.savefig(os.path.join(filepath,'gd_sumStetra.pdf'),bbox_inches=\"tight\",verbose=True)\n",
    "plt.show()"
   ]
  },
  {
   "cell_type": "code",
   "execution_count": null,
   "metadata": {},
   "outputs": [],
   "source": [
    "print(spins[0,0,0,0,tetra[0,:],:])\n",
    "print(spins[:,:,:,:,tetra[0,:],:].shape)\n",
    "print(spins[0,0,0,0,tetra[0,:],:].sum(axis=0))\n",
    "print(LA.norm(spins[0,0,0,0,tetra[0,:],:].sum(axis=0)))"
   ]
  },
  {
   "cell_type": "code",
   "execution_count": null,
   "metadata": {
    "jupyter": {
     "outputs_hidden": false
    }
   },
   "outputs": [],
   "source": [
    "# Ｐｌｏｔ　ｔｈｅ　ｓｕｍｍａｔｉｏｎ ｉｎ　３Ｄ\n",
    "#################### Method 1: Plot scatter\n",
    "#%gui qt\n",
    "from scipy import stats\n",
    "from mayavi import mlab\n",
    "\n",
    "x, y, z = sumTetra[:,0], sumTetra[:,1], sumTetra[:,2]\n",
    "kde = stats.gaussian_kde(sumTetra.T) # this fun only accept 3 by x array\n",
    "density = kde(sumTetra.T)\n",
    "\n",
    "# Plot scatter with mayavi\n",
    "figure = mlab.figure('DensityPlot')\n",
    "pts = mlab.points3d(x, y, z, density, colormap='Reds', scale_mode='none', scale_factor=0.07)\n",
    "mlab.axes()\n",
    "mlab.show()"
   ]
  },
  {
   "cell_type": "code",
   "execution_count": null,
   "metadata": {},
   "outputs": [],
   "source": [
    "x, y, z = sumTetra[:,0], sumTetra[:,1], sumTetra[:,2]"
   ]
  },
  {
   "cell_type": "code",
   "execution_count": null,
   "metadata": {
    "jupyter": {
     "outputs_hidden": false
    }
   },
   "outputs": [],
   "source": [
    "#################### Method 2: Plot iso_surface\n",
    "# Evaluate kde on a grid\n",
    "xmin, ymin, zmin = x.min(), y.min(), z.min()\n",
    "xmax, ymax, zmax = x.max(), y.max(), z.max()\n",
    "print(xmin, ymin, zmin)\n",
    "xi, yi, zi = np.mgrid[xmin:xmax:30j, ymin:ymax:30j, zmin:zmax:30j]\n",
    "coords = np.vstack([item.ravel() for item in [xi, yi, zi]]) # make gridpts to be 3 by X array\n",
    "density = kde(coords).reshape(xi.shape) # clc the PDF and then reshape to a grid\n"
   ]
  },
  {
   "cell_type": "code",
   "execution_count": null,
   "metadata": {
    "jupyter": {
     "outputs_hidden": false
    }
   },
   "outputs": [],
   "source": [
    "figure = mlab.figure('DensityPlot')\n",
    "grid = mlab.pipeline.scalar_field(xi, yi, zi, density)\n",
    "vmin = density.min()\n",
    "vmax = density.max()\n",
    "print(vmin, vmax)\n",
    "#mlab.pipeline.volume(grid)#, vmin=min, vmax=min + .5*(max-min))\n",
    "mlab.points3d(0., 0., 0., scale_mode='none', scale_factor=0.07)\n",
    "isos = mlab.pipeline.iso_surface(grid,opacity=0.5,transparent=True,\n",
    "                              vmin=vmin,vmax=vmax,contours=[0.1,0.2,0.3,0.4,0.5,0.6,0.7,0.8,0.9,1.1,1.3,\n",
    "                                                            1.5,1.7,1.8,2.1,2.3,2.5,2.7,2.9,3.2,3.5,3.8,4.1,4.4])\n",
    "mlab.axes()\n",
    "mlab.outline()\n",
    "cb = mlab.colorbar(orientation='horizontal',nb_labels=5, label_fmt='%1.4f')\n",
    "cb.scalar_bar_representation.position = [0.1, 0.85] # position\n",
    "cb.scalar_bar_representation.position2 = [0.8, 0.08] # lenght and width    \n",
    "mlab.show()"
   ]
  },
  {
   "cell_type": "code",
   "execution_count": null,
   "metadata": {
    "jupyter": {
     "outputs_hidden": false
    }
   },
   "outputs": [],
   "source": [
    "# ｔｈｅ　ｓｉｘ　ａｎｇｌｅｓ　ｂｅｔｗｅｅｎ　ｔｈｅ　ｓｐｉｎｓ　ｏｆ　ａ　ｔｅｔｒａｈｅｄｒａ\n",
    "tetra = np.array([[0,4,8,13],[1,5,9,12],[2,6,10,15],[3,7,11,14],[0,5,15,11]],dtype='int')\n",
    "\n",
    "# print spins[0, 0, 0, 0,tetra[0,:],:].dot(spins[0, 0, 0, 0,tetra[0,:],:].T)\n",
    "# print np.swapaxes(spins[:,:,:,:,tetra[0,:],:],4,5).shape\n",
    "\n",
    "ibonds = np.zeros([1,6])\n",
    "for i in np.arange(0,5):# the five different types of tetrahedra\n",
    "    itetra = spins[:,:,:,:,tetra[i,:],:]\n",
    "    itetraT = np.swapaxes(itetra,4,5)    \n",
    "    #4by3 spin matrix on a tetrahedra dot 3by4 spin matrix on the same tetrahedar,  get a 4by4 matrix\n",
    "    dotp = np.matmul(itetra,itetraT)\n",
    "    #dotp = itetra.dot(itetraT) # this one will cal throughout all the tetrahedra\n",
    "    rows = (np.reshape(dotp, [-1,16])[:,[1,2,3,6,7,11]])# take the six off-diagnal elements\n",
    "    rows.sort(axis=1)\n",
    "    ibonds = np.vstack((ibonds,rows))\n",
    "    print(ibonds.shape)\n",
    "    \n",
    "ibonds = np.arccos(ibonds)*180/3.1415  # convert to angle  "
   ]
  },
  {
   "cell_type": "code",
   "execution_count": null,
   "metadata": {
    "jupyter": {
     "outputs_hidden": false
    }
   },
   "outputs": [],
   "source": [
    "import matplotlib.mlab as mlab\n",
    "import matplotlib.pyplot as plt\n",
    "\n",
    "fig,ax =plt.subplots(1,1,figsize=[5,4])\n",
    "# the histogram of the data\n",
    "alpha = 0.75;\n",
    "\n",
    "ax.hist(ibonds[:,0], 20, normed=1, facecolor='orange', alpha=alpha)\n",
    "ax.hist(ibonds[:,1], 20, normed=1, facecolor='purple', alpha=alpha)\n",
    "ax.hist(ibonds[:,2], 20, normed=1, facecolor='blue', alpha=alpha)\n",
    "ax.hist(ibonds[:,3], 20, normed=1, facecolor='green', alpha=alpha)\n",
    "ax.hist(ibonds[:,4], 20, normed=1, facecolor='black', alpha=alpha)\n",
    "ax.hist(ibonds[:,5], 20, normed=1, facecolor='red', alpha=alpha)\n",
    "\n",
    "plt.xlabel('Angle (deg.)',fontsize=14)\n",
    "\n",
    "#x = np.linspace(1,5401,num=5400,endpoint=False)\n",
    "#ax[1].scatter(x,ibonds[1:,0])\n",
    "# ax[1].scatter(x,ibonds[1:,1])\n",
    "# ax[1].scatter(x,ibonds[1:,2])\n",
    "# ax[1].scatter(x,ibonds[1:,3])\n",
    "# ax[1].scatter(x,ibonds[1:,4])\n",
    "# ax[1].scatter(x,ibonds[1:,5])\n",
    "\n",
    "#plt.xlabel('Cos(angle)',fontsize=14)\n",
    "plt.ylabel('Counts',fontsize=14)\n",
    "#plt.axis([0, 180, 0, 0.015])\n",
    "#plt.grid(True)\n",
    "#plt.title('Two colinear AMF bonds on the tetrahedra')\n",
    "plt.xticks(color='k', size=14)\n",
    "plt.yticks(color='k', size=14)\n",
    "\n",
    "plt.text(8,0.0275,'(c)',size=14, ha='left', va='center',\n",
    "        backgroundcolor='white',bbox=dict(facecolor='white', alpha=0, edgecolor='white', boxstyle='round'))\n",
    "plt.text(7,0.022,'Angles between\\nthe spins on\\na tetrahedron',size=14, ha='left', va='center',\n",
    "        backgroundcolor='white',bbox=dict(facecolor='white', alpha=0, edgecolor='white', boxstyle='round'))\n",
    "\n",
    "#plt.savefig(os.path.join(filepath,'gd_angle_ss.pdf'),bbox_inches=\"tight\",verbose=True)\n",
    "plt.show()"
   ]
  },
  {
   "cell_type": "code",
   "execution_count": null,
   "metadata": {
    "jupyter": {
     "outputs_hidden": false
    }
   },
   "outputs": [],
   "source": [
    "# ｔｈｅ ｒｅｌａｔｉｖｅ　ｐｏｓｉｔｉｏｎ　ｏｆ　ｔｈｅ　ｔｗｏ　ａｎｔｉｆｅｒｒｏｍａｇｎｅｔｉｃ　ｂｏｎｄｓ　ｏｎ　ａ　ｔｅｔｒａｈｅｄｒａ\n",
    "''' spin orientations on a tetrhedra is a 4by3 matrix, multiplying with its transpose, \n",
    "we got the spin innter product on the tetrahedra, a 4 by 4 matrix,\n",
    "   00 01 02 03     0  1  2  3\n",
    "   10 11 12 13     4  5  6  7 \n",
    "   20 21 22 23     8  9  10 11\n",
    "   30 31 32 33     12 13 14 15\n",
    "   the bonds with no common index is opposit with each other on the tetra, that is 01-23,02-13,03-12,\n",
    "   and after reshape to be 1 by 16, the index [1,2,3,6,7,11] gives the inner products of the spins on the six bonds, \n",
    "   now the opposite bonds are 1-11, 2-7, 3-6\n",
    "'''\n",
    "\n",
    "# The index of the spins on the five tetrahedra\n",
    "tetra = np.array([[0,4,8,13],[1,5,9,12],[2,6,10,15],[3,7,11,14],[0,5,15,11]],dtype='int')\n",
    "\n",
    "# Cal. the inner product of the spin orientations on every tetrahedra:\n",
    "# 'spins' has shape [5,6,6,6,4,3], we will get ibonds with dim. [5,6,6,6,4,4] whose last two axis is the product matrix\n",
    "ibonds = np.zeros([1,6])\n",
    "for i in np.arange(0,5):# the five tetrahedra\n",
    "    itetra = spins[:,:,:,:,tetra[i,:],:]\n",
    "    itetraT = np.swapaxes(itetra,4,5)    \n",
    "    #4by3 spin matrix on a tetrahedra dot 3by4 spin matrix on the same tetrahedar,  get a 4by4 matrix\n",
    "    dotp = np.matmul(itetra,itetraT)\n",
    "    rows = (np.reshape(dotp, [-1,16])[:,[1,2,3,6,7,11]])# take the six off-diagnal elements\n",
    "    ibonds = np.vstack((ibonds,rows))# stacking for the five tetrahedra\n",
    "    print ibonds.shape\n",
    "\n",
    "bondInM = np.array([1,2,3,6,7,11]) # matrix element index for the six bonds\n",
    "idx_antibonds = np.argpartition(ibonds[1:,:],1, axis=1)[:,:2]# the indexes of the two smallest inner product in the row\n",
    "\n",
    "print 'the antiferromagnetic coupled spins are on bonds (the opposite bonds are 1-11, 2-7, 3-6 within the idx of Matrix)'\n",
    "print '\\n', bondInM[idx_antibonds]\n",
    "\n",
    "# Calculate the percentage\n",
    "sortedIdx =np.sort(bondInM[idx_antibonds],axis=1) # sorting for matching later\n",
    "logicValue = ((sortedIdx== [1, 11])|(sortedIdx== [2, 7]))|(sortedIdx== [3,6])\n",
    "intValue = np.array(logicValue.astype('int'))\n",
    "\n",
    "nbTot = intValue.shape[0] # total nb of pairs of bonds with AFM spins\n",
    "nbOfyes = np.count_nonzero(intValue[:,0]*intValue[:,1])# how may pairs of bond are on opposite positions\n",
    "nbOfno = nbTot - nbOfyes\n",
    "print 'How much are the the antiferromagnetically coupled spins on oppositting bonds'\n",
    "print nbOfyes, nbOfno, np.float(nbOfyes)/nbTot"
   ]
  },
  {
   "cell_type": "code",
   "execution_count": null,
   "metadata": {
    "jupyter": {
     "outputs_hidden": false
    }
   },
   "outputs": [],
   "source": [
    "# ｔｈｅ　ａｎｇｌｅ　ｂｅｔｗｅｅｎ　ｔｈｅ　ｂｏｎｄ　ａｎｄ　ａｎｔｉｆｅｒｒｏｍａｇｎｅｔｉｃａｌｌｙ　ｃｏｕｐｌｉｎｇ　ｓｐｉｎｓ　\n",
    "# The index of the spins on the five tetrahedra\n",
    "tetra = np.array([[0,4,8,13],[1,5,9,12],[2,6,10,15],[3,7,11,14],[0,5,15,11]],dtype='int')\n",
    "\n",
    "# The corresponding r and spin id of the matrix elements of the inner product of the spin orientations on a tetrahedra\n",
    "bondr = np.zeros([16,3])# store the r of the 16 bonds on a tetrahedra including self bonds, reversed bonds\n",
    "spinId = np.zeros([16,2])# store the spin indexes of the 16 bonds on the tetrahedra\n",
    "\n",
    "bondOnM = np.array([1,2,3,6,7,11])# 4spins dot 4spins matrix element indexes for the six bonds without self bonds and the reversed\n",
    "\n",
    "# Cal. the inner product of the spin orientations on every tetrahedra:\n",
    "coss=np.zeros([5*6*6*6*2*5,2]) # two spins per bond, two bonds per tetra.\n",
    "idxCos = 0\n",
    "for i in np.arange(0,5):# the five types of tetrahedra\n",
    "    itetra = spins[:,:,:,:,tetra[i,:],:]\n",
    "    itetraT = np.swapaxes(itetra,4,5)    \n",
    "    #4by3 spin matrix on a tetrahedra dot 3by4 spin matrix on the same tetrahedar,  get a 4by4 matrix\n",
    "    # 'spins' has shape [5,6,6,6,4,3], we will get dotp with dim. [5,6,6,6,4,4] whose last two axis is the product matrix\n",
    "    dotp = np.matmul(itetra,itetraT)\n",
    "    rows = (np.squeeze(np.reshape(dotp, [5,6,6,6,1,16]))[:,:,:,:,[1,2,3,6,7,11]])# take the six off-diagnal elements\n",
    "\n",
    "    idx_antibondsR = np.argpartition(rows,1, axis=-1)[:,:,:,:,:2]#indexes of the two smallest inner product in the row\n",
    "    idx_antibondsM = bondOnM[idx_antibondsR]# the coresponding bond idx in the matrix\n",
    "    \n",
    "    # Get the corresponding r and spin ID for the two bonds \n",
    "    idx = 0\n",
    "    for ii in tetra[i,:]:# generate the r and spinId list coresponding to the 16 bonds on a tetrahedra\n",
    "        for jj in tetra[i,:]:\n",
    "            bondr[idx,:] = atpos[ii,:]-atpos[jj,:]\n",
    "            spinId[idx,:]= [ii,jj]\n",
    "            idx+=1\n",
    "    bondrs = bondr[idx_antibondsM,:]\n",
    "    spinIds = spinId[idx_antibondsM,:]  \n",
    "    print idx_antibondsR.shape, idx_antibondsM.shape,bondrs.shape,spinIds.shape\n",
    "    # Calcualte the Cos values of the angle betweens AFM spins and their bonds:\n",
    "    # coss is a n by 2 array: every row is for the spins on a bonds, every two rows is for the bonds on a tetrahedra \n",
    "    for i0 in np.arange(0,5):\n",
    "        for i1 in  np.arange(0,6):\n",
    "            for i2 in  np.arange(0,6):\n",
    "                for i3 in  np.arange(0,6):\n",
    "                    for i4 in  np.arange(0,2):# loop bonds on a tetrahedra\n",
    "                        spinsIdOnAbond = spinIds[i0,i1,i2,i3,i4,:].astype(int) # which two spins on this bond\n",
    "                        bond_normed = bondrs[i0,i1,i2,i3,i4,:]/LA.norm(bondrs[i0,i1,i2,i3,i4,:])\n",
    "                        coss[idxCos,:] = spins[i0,i1,i2,i3,spinsIdOnAbond,:].dot(bond_normed.T)\n",
    "                        idxCos+=1\n",
    "    print idxCos                    \n",
    "\n",
    "print coss"
   ]
  },
  {
   "cell_type": "code",
   "execution_count": null,
   "metadata": {
    "jupyter": {
     "outputs_hidden": false
    }
   },
   "outputs": [],
   "source": [
    "fig,ax =plt.subplots(1,1,figsize=(5,4))\n",
    "# the histogram of the data\n",
    "alpha = 0.75;\n",
    "n, bins, patches = ax.hist(np.arccos(coss.ravel())*180/3.1415, 50, normed=1, facecolor='red', alpha=alpha)\n",
    "plt.xticks(color='k', size=14)\n",
    "plt.yticks(color='k', size=14)\n",
    "\n",
    "plt.xlabel('Angle (deg.)',fontsize=14)\n",
    "plt.ylabel('Counts',fontsize=14)\n",
    "\n",
    "#plt.axis([0, 180, 0, 0.015])\n",
    "#plt.grid(True)\n",
    "#plt.title('Most of the AFM coupled spins are perpendicular to bond')\n",
    "\n",
    "plt.text(10,0.023,'(d)',size=14, ha='left', va='center',\n",
    "        backgroundcolor='white',bbox=dict(facecolor='white', alpha=0, edgecolor='white', boxstyle='round'))\n",
    "plt.text(170,0.022,'Angles between spins\\n and the bonds',size=14, ha='right', va='center',\n",
    "        backgroundcolor='white',bbox=dict(facecolor='white', alpha=0, edgecolor='white', boxstyle='round'))\n",
    "\n",
    "plt.savefig(os.path.join(filepath,'gd_angle_spinbond.pdf'),bbox_inches=\"tight\",verbose=True)\n",
    "plt.show()\n",
    "print coss.ravel().max(),coss.ravel().min()"
   ]
  },
  {
   "cell_type": "code",
   "execution_count": null,
   "metadata": {
    "jupyter": {
     "outputs_hidden": false
    }
   },
   "outputs": [],
   "source": [
    "# Ｄｉｓｔｉｇｕｉｓｈ　ｗｈｉｃｈ　ｔｙｐｅ　ｏｒｄｅｒ　ｇａｍｍａ5　ｏｒ　ｇａｍｍａ７\n",
    "# the two pair of AFM spins, (s1,s2) and (s3,s4) and their positions (r1,r2) and (r3,r4)\n",
    "# (s1+s3).dot(r1-r3), (s2+s4).dot(r2-r4), if it is 90deg, gamma5 or 45 deg, gamma7\n",
    "# The index of the spins on the five tetrahedra\n",
    "tetra = np.array([[0,4,8,13],[1,5,9,12],[2,6,10,15],[3,7,11,14],[0,5,15,11]],dtype='int')\n",
    "\n",
    "# The corresponding r and spin id of the matrix elements of the inner product of the spin orientations on a tetrahedra\n",
    "bondr = np.zeros([16,3])# The r of the 16 bonds on a tetrahedra including self bonds, reversed bonds\n",
    "spinId = np.zeros([16,2])# The spin indexes of the 16 bonds on the tetrahedra\n",
    "\n",
    "bondOnM = np.array([1,2,3,6,7,11])# 4spins dot 4spins matrix element indexes for the six bonds without self bonds and the reversed\n",
    "\n",
    "# Cal. the inner product of the spin orientations on every tetrahedra:\n",
    "\n",
    "ssDr=np.zeros([5*6*6*6*5,2]) # two spins per bond, two bonds per tetra.\n",
    "idxCos = 0\n",
    "for i in np.arange(0,5):# the four tetrahedra with the same orientation!!!!!!!\n",
    "    itetra = spins[:,:,:,:,tetra[i,:],:]\n",
    "    itetraT = np.swapaxes(itetra,4,5)    \n",
    "    #4by3 spin matrix on a tetrahedra dot 3by4 spin matrix on the same tetrahedar,  get a 4by4 matrix\n",
    "    # 'spins' has shape [5,6,6,6,4,3], we will get dotp with dim. [5,6,6,6,4,4] whose last two axis is the product matrix\n",
    "    dotp = np.matmul(itetra,itetraT)\n",
    "    rows = (np.squeeze(np.reshape(dotp, [5,6,6,6,1,16]))[:,:,:,:,[1,2,3,6,7,11]])# take the six off-diagnal elements\n",
    "\n",
    "    idx_antibondsR = np.argpartition(rows,1, axis=-1)[:,:,:,:,:2]#indexes of the two smallest inner product in the row\n",
    "    idx_antibondsM = bondOnM[idx_antibondsR]# the coresponding bond idx in the matrix\n",
    "    \n",
    "    # Get the corresponding r and spin ID for the two bonds \n",
    "    idx = 0\n",
    "    for ii in tetra[i,:]:\n",
    "        for jj in tetra[i,:]:\n",
    "            bondr[idx,:] = atpos[ii,:]-atpos[jj,:]\n",
    "            spinId[idx,:]= [ii,jj]\n",
    "            idx+=1\n",
    "    spinIds = spinId[idx_antibondsM,:]  \n",
    "    print idx_antibondsR.shape, idx_antibondsM.shape,bondrs.shape,spinIds.shape\n",
    "    \n",
    "    for i0 in np.arange(0,5):\n",
    "        for i1 in  np.arange(0,6):\n",
    "            for i2 in  np.arange(0,6):\n",
    "                for i3 in  np.arange(0,6):\n",
    "                    spinsIdOnAbond0 = spinIds[i0,i1,i2,i3,0,0].astype(int)\n",
    "                    spinsIdOnAbond1 = spinIds[i0,i1,i2,i3,1,0].astype(int)\n",
    "                    tempS = spins[i0,i1,i2,i3,spinsIdOnAbond0,:]+spins[i0,i1,i2,i3,spinsIdOnAbond1,:]\n",
    "                    tempS = tempS/np.linalg.norm(tempS)\n",
    "                    tempR = atpos[spinsIdOnAbond0,:] - atpos[spinsIdOnAbond1,:]\n",
    "                    tempR = tempR/LA.norm(tempR)\n",
    "                    ssDr[idxCos,0] = tempS.dot(tempR)\n",
    "                    \n",
    "                    spinsIdOnAbond0 = spinIds[i0,i1,i2,i3,0,1].astype(int)\n",
    "                    spinsIdOnAbond1 = spinIds[i0,i1,i2,i3,1,1].astype(int)\n",
    "                    tempS = spins[i0,i1,i2,i3,spinsIdOnAbond0,:]+spins[i0,i1,i2,i3,spinsIdOnAbond1,:]\n",
    "                    tempS = tempS/LA.norm(tempS)\n",
    "                    tempR = atpos[spinsIdOnAbond0,:] - atpos[spinsIdOnAbond1,:]\n",
    "                    tempR = tempR/LA.norm(tempR)\n",
    "                    ssDr[idxCos,1] = tempS.dot(tempR)\n",
    "                    idxCos+=1\n",
    "    print idxCos                    \n",
    "\n",
    "print ssDr"
   ]
  },
  {
   "cell_type": "code",
   "execution_count": null,
   "metadata": {
    "jupyter": {
     "outputs_hidden": false
    }
   },
   "outputs": [],
   "source": [
    "fig,ax =plt.subplots(1,1)\n",
    "# the histogram of the data\n",
    "alpha = 0.75;\n",
    "ssDr = np.abs(ssDr.ravel())\n",
    "ssDr = ssDr[~np.isnan(ssDr)]\n",
    "n, bins, patches = ax.hist(ssDr, 50, normed=1, facecolor='red', alpha=alpha)\n",
    "\n",
    "plt.xlabel('Cos(angle)',fontsize=14)\n",
    "plt.ylabel('Counts',fontsize=14)\n",
    "\n",
    "#plt.axis([0, 180, 0, 0.015])\n",
    "plt.grid(True)\n",
    "plt.title('Most of the AFM coupled spins are perpendicular to bond')\n",
    "plt.show()\n"
   ]
  },
  {
   "cell_type": "markdown",
   "metadata": {},
   "source": [
    "## Plot spins and orientation statistics"
   ]
  },
  {
   "cell_type": "code",
   "execution_count": null,
   "metadata": {
    "jupyter": {
     "outputs_hidden": false
    }
   },
   "outputs": [],
   "source": [
    "####Second Copy the needed data and clc bonds #################\n",
    "boxnb = 1 # which file to view\n",
    "viewbox = np.array([[0,0,0],[2,2,2]]) # the cells to view: the cubic diagnal \n",
    "viewbox = np.array([[2,2,2],[4,4,4]]) \n",
    "atot = np.prod(viewbox[1,:] - viewbox[0,:])*16 # the total nb of atoms to in the view box\n",
    "allpos=np.zeros([atot,3])#store atom positons in a super cell\n",
    "spin =np.zeros([atot,3])#store spins in a super cell\n",
    "\n",
    "i = 0\n",
    "for i1 in np.arange(viewbox[0,0],viewbox[1,0],1):\n",
    "    for i2 in np.arange(viewbox[0,1],viewbox[1,1],1):\n",
    "        for i3 in np.arange(viewbox[0,2],viewbox[1,2],1):\n",
    "            for i4 in np.arange(0,16,1):\n",
    "                allpos[i,:]= poss[boxnb,i1,i2,i3,i4,:]\n",
    "                spin[i,:]=spins[boxnb,i1,i2,i3,i4,:]\n",
    "                i=i+1\n",
    "\n",
    "allpos = np.subtract(allpos,np.array([0.5,0.5,0.5])+(viewbox[1,:] - viewbox[0,:])/2) # shift the atoms to close to zero\n",
    "bonds = np.zeros([5,2000])#store the 30 bonds in the unitCell: atom1,atom2,pos[a2]-pos[a1]\n",
    "idx = 0\n",
    "for i in np.arange(0,len(allpos)-1,1):\n",
    "    for ii in np.arange(i+1,len(allpos),1):\n",
    "        distance = LA.norm(allpos[i]-allpos[ii])\n",
    "        if distance==np.sqrt(2)/4 and ~np.in1d(ii,bonds[0,np.where(bonds[1,:]==i)])[0]:\n",
    "            bonds[:,idx]=np.append(np.array([i, ii]),allpos[ii]-allpos[i])\n",
    "            idx +=1 "
   ]
  },
  {
   "cell_type": "code",
   "execution_count": null,
   "metadata": {
    "jupyter": {
     "outputs_hidden": false
    }
   },
   "outputs": [],
   "source": [
    "###Third Plot the magnetic structure #################\n",
    "scene1 = canvas(title='MagStr', width=500, height=500,x=500,y=500, center=vector(0,0,0),\n",
    "                 background=color.black,exit=False)\n",
    "\n",
    "spinl = 0.2; atomr = 0.5; cylr = 0.005\n",
    "allpos = np.subtract(allpos,np.array([0.5,0.5,0.5]))\n",
    "# for i in range(len(allpos)):\n",
    "#     #ii = i+16\n",
    "#     pointer = arrow(pos=allpos[i]-spinl*spin[i]/2, axis=spinl*spin[i])\n",
    "#     pointer = sphere(pos=allpos[i], color=color.red, radius=atomr*0.1)\n",
    "    \n",
    "for i in range(bonds.shape[1]):\n",
    "    pointer = cylinder(pos=allpos[bonds[0,i]], axis=bonds[2:,i], radius=cylr,materials=materials.wood)\n",
    "    \n",
    "scene1.lights = []\n",
    "scene1.ambient=2"
   ]
  },
  {
   "cell_type": "code",
   "execution_count": null,
   "metadata": {
    "jupyter": {
     "outputs_hidden": false
    }
   },
   "outputs": [],
   "source": [
    "#### plot the statiscs of spin orientatons #######\n",
    "\n",
    "# prepare data: include the whole superlattice\n",
    "boxnb = np.array([0,1,2,3,4]) # which file to view: all the 5 files\n",
    "viewbox = np.array([[0,0,0],[6,6,6]]) # the cells to view (specify the cubic diagnal): while supercell\n",
    "atot = np.prod(viewbox[1,:] - viewbox[0,:])*16*len(boxnb) # the total nb of atoms to in the view box\n",
    "\n",
    "# Copy the data needed\n",
    "#allpos=np.zeros([atot,3])#store atom positons in a super cell\n",
    "spin =np.zeros([atot,3])#store spins in a super cell\n",
    "i = 0\n",
    "for i0 in boxnb:\n",
    "    for i1 in np.arange(viewbox[0,0],viewbox[1,0],1):\n",
    "        for i2 in np.arange(viewbox[0,1],viewbox[1,1],1):\n",
    "            for i3 in np.arange(viewbox[0,2],viewbox[1,2],1):\n",
    "                for i4 in np.arange(0,16,1):\n",
    "                    #allpos[i,:]= poss[boxnb,i1,i2,i3,i4,:]\n",
    "                    spin[i,:]=spins[i0,i1,i2,i3,i4,:]\n",
    "                    i=i+1"
   ]
  },
  {
   "cell_type": "code",
   "execution_count": null,
   "metadata": {
    "jupyter": {
     "outputs_hidden": false
    }
   },
   "outputs": [],
   "source": [
    "################### Plot the spin orientation density distribution ###################\n",
    "# The key piont is that using scipy.stats to get a density function\n",
    "\n",
    "#################### Method 1: Plot scatter\n",
    "#%gui qt\n",
    "from scipy import stats\n",
    "from mayavi import mlab\n",
    "import matplotlib.pyplot as plt\n",
    "\n",
    "x, y, z = spin[:,0], spin[:,1], spin[:,2]\n",
    "#x, y, z = np.hsplit(spin,3) # not working: hsplit give 3400*1 matrix not 3400 col array\n",
    "kde = stats.gaussian_kde(spin.T) # this fun only accept 3 by x array\n",
    "density = kde(spin.T)\n",
    "\n",
    "# Plot scatter with mayavi\n",
    "figure = mlab.figure('DensityPlot')\n",
    "pts = mlab.points3d(x, y, z, density, colormap='Reds', scale_mode='none', scale_factor=0.07)\n",
    "mlab.axes()\n",
    "mlab.show()"
   ]
  },
  {
   "cell_type": "code",
   "execution_count": null,
   "metadata": {
    "jupyter": {
     "outputs_hidden": false
    }
   },
   "outputs": [],
   "source": [
    "### Not good Method 2: use vollum or iso_surface and plot on a 3D grid\n",
    "from scipy import stats\n",
    "from mayavi import mlab\n",
    "import numpy as np\n",
    "#Next, to evaluate the gaussian kde on a grid:\n",
    "x, y, z = spin[:,0], spin[:,1], spin[:,2]\n",
    "\n",
    "xyz = np.vstack([x,y,z])\n",
    "kde = stats.gaussian_kde(xyz)\n",
    "\n",
    "# Evaluate kde on a grid\n",
    "xmin, ymin, zmin = x.min(), y.min(), z.min()\n",
    "xmax, ymax, zmax = x.max(), y.max(), z.max()\n",
    "xi, yi, zi = np.mgrid[xmin:xmax:30j, ymin:ymax:30j, zmin:zmax:30j]\n",
    "coords = np.vstack([item.ravel() for item in [xi, yi, zi]]) # make gridpts to be 3 by X array\n",
    "density = kde(coords).reshape(xi.shape) # clc the PDF and then reshape to a grid\n",
    "#print(xi.shape,yi.shape,coords.shape,density.shape)\n",
    "\n",
    "# Plot scatter with mayavi\n",
    "figure = mlab.figure('DensityPlot')\n",
    "\n",
    "grid = mlab.pipeline.scalar_field(xi, yi, zi, density)\n",
    "min = density.min()\n",
    "max = density.max()\n",
    "#mlab.pipeline.volum(grid, vmin=min, vmax=min + .5*(max-min))\n",
    "mlab.points3d([0],[0],[0], scale_factor=2)\n",
    "mlab.pipeline.iso_surface(grid,opacity=0.5,transparent=True,\n",
    "                          contours=[0.1,0,0.2,0.3,0.4,0.5,0.6])\n",
    "mlab.axes()\n",
    "mlab.show()"
   ]
  },
  {
   "cell_type": "code",
   "execution_count": null,
   "metadata": {
    "collapsed": true,
    "jupyter": {
     "outputs_hidden": true
    }
   },
   "outputs": [],
   "source": [
    "### Method3: use mesh (Ref. mayavi example ploting spherical harmanics)\n",
    "from mayavi import mlab\n",
    "from scipy import stats\n",
    "from mayavi.modules.orientation_axes import OrientationAxes\n",
    "import numpy as np\n",
    "\n",
    "# Creat the density fun.\n",
    "kde = stats.gaussian_kde(spin.T) # this fun only accept 3*xxx array\n",
    "\n",
    "# Create a sphere\n",
    "r = 1; pi = np.pi; cos = np.cos; sin = np.sin\n",
    "phi, theta = np.mgrid[0:pi:101j, 0:2 * pi:101j]\n",
    "x = r * sin(phi) * cos(theta)\n",
    "y = r * sin(phi) * sin(theta)\n",
    "z = r * cos(phi)\n",
    "#print(x.shape, z.shape)\n",
    "\n",
    "# Process the coordination and clc the density\n",
    "coords = np.vstack([item.ravel() for item in [x, y, z]]) \n",
    "density = kde(coords).reshape(x.shape)\n",
    "# Plot\n",
    "mlab.figure(1, bgcolor=(1, 1, 1), fgcolor=(0, 0, 0), size=(400, 300))\n",
    "mlab.clf()\n",
    "# Plot the density distribution on a spherical surface\n",
    "m = mlab.mesh(x, y, z, scalars=density, colormap='RdBu')\n",
    "m.module_manager.scalar_lut_manager.reverse_lut = True\n",
    "mlab.colorbar(orientation='vertical',nb_labels=5, label_fmt='%.2f')\n",
    "m.module_manager.scalar_lut_manager.data_range =np.array([ 0.1 ,  0.3])\n",
    "m.module_manager.scalar_lut_manager.scalar_bar.width = 0.05\n",
    "mlab.outline()\n",
    "# Plot the reprenzation of the density distribution to the coordination \n",
    "density /= density.max()\n",
    "m = mlab.mesh(density*x, density*y, density*z+2,scalars=density, colormap='RdBu')\n",
    "m.module_manager.scalar_lut_manager.reverse_lut = True\n",
    "mlab.outline()\n",
    "#mlab.axes(xlabel=r\"X\",ylabel=\"Y\",zlabel=\"Z\",nb_labels=0)\n",
    "\n",
    "# add module orientationAxes\n",
    "e = mlab.get_engine() # get the engine\n",
    "oa = OrientationAxes()\n",
    "oa.axes.normalized_label_position = np.array([ 1. ,  1. ,  1.5]) # why not working\n",
    "oa.axes.total_length = np.array([ 1.5 ,  1.5 ,  1.5])\n",
    "e.add_module(oa)\n",
    "\n",
    "# add the local 111 directions\n",
    "import itertools\n",
    "permu=list(itertools.product([-1,1], repeat=3));#print(permu,type(permu))\n",
    "loc=np.array(permu)\n",
    "for i in loc:\n",
    "    temp = np.vstack([[0,0,0],i])\n",
    "    #print(temp)\n",
    "    x, y, z = temp[:,0],temp[:,1],temp[:,2]\n",
    "    mlab.plot3d(x,y,z,color=(0,0,0), tube_radius=0.05)\n",
    "\n",
    "#mlab.view(90, 70, 6.2, (-1.3, -2.9, 0.25))\n",
    "#mlab.savefig('D:/9_Program files/SpinVert/gdzro_ill/fullprof/spins_stas.png')  \n",
    "mlab.show()"
   ]
  },
  {
   "cell_type": "code",
   "execution_count": null,
   "metadata": {
    "jupyter": {
     "outputs_hidden": false
    }
   },
   "outputs": [],
   "source": [
    "##### Method2 use matplotlib\n",
    "from scipy import stats\n",
    "import matplotlib.pyplot as plt\n",
    "from mpl_toolkits.mplot3d import Axes3D \n",
    "\n",
    "x, y, z = spin[:,0].T, spin[:,1].T, spin[:,2].T\n",
    "\n",
    "xyz = np.vstack([x,y,z])\n",
    "#print(spin.shape,xyz.shape)\n",
    "density = stats.gaussian_kde(xyz)(xyz) \n",
    "# sort (not necessary)\n",
    "idx = density.argsort()\n",
    "x, y, z, density = x[idx], y[idx], z[idx], density[idx]\n",
    "\n",
    "fig = plt.figure()\n",
    "ax = fig.add_subplot(111, projection='3d')\n",
    "ax.scatter(x, y, z, c=density)\n",
    "ax.axis(\"equal\")\n",
    "plt.show()"
   ]
  },
  {
   "cell_type": "code",
   "execution_count": null,
   "metadata": {
    "jupyter": {
     "outputs_hidden": false
    }
   },
   "outputs": [],
   "source": [
    "### Not good: just plot point without color to see the density\n",
    "\n",
    "from mpl_toolkits.mplot3d import Axes3D\n",
    "from matplotlib import cm, colors\n",
    "from matplotlib.ticker import LinearLocator, FormatStrFormatter\n",
    "import matplotlib.pyplot as plt\n",
    "\n",
    "# Create a sphere\n",
    "r = 0.9; pi = np.pi; cos = np.cos; sin = np.sin\n",
    "phi, theta = np.mgrid[0.0:pi:100j, 0.0:2.0*pi:100j]\n",
    "x = r*sin(phi)*cos(theta)\n",
    "y = r*sin(phi)*sin(theta)\n",
    "z = r*cos(phi)\n",
    "# spin end point\n",
    "xx, yy, zz = np.hsplit(spin, 3) \n",
    "\n",
    "#Set colours and render\n",
    "fig = plt.figure()\n",
    "ax = fig.add_subplot(111, projection='3d')\n",
    "\n",
    "ax.plot_surface(x, y, z,  rstride=1, cstride=1, color='c', alpha=0.6, linewidth=0)\n",
    "ax.scatter(xx,yy,zz,color=\"r\",s=20)\n",
    "\n",
    "ax.set_xlim([-1,1])\n",
    "ax.set_ylim([-1,1])\n",
    "ax.set_zlim([-1,1])\n",
    "ax.set_aspect(\"equal\")\n",
    "plt.tight_layout()\n",
    "plt.show()\n",
    "                \n",
    "# fig = plt.figure()\n",
    "# ax = fig.gca(projection='3d')\n",
    "\n",
    "# surf = ax.plot_surface(spin[:,0],spin[:,1],spin[:,2], rstride=1, cstride=1, cmap=cm.coolwarm,\n",
    "#                        linewidth=0, antialiased=False)                \n",
    "# ax.zaxis.set_major_locator(LinearLocator(10))\n",
    "# ax.zaxis.set_major_formatter(FormatStrFormatter('%.02f'))\n",
    "\n",
    "# fig.colorbar(surf, shrink=0.5, aspect=5)\n",
    "\n",
    "# plt.show()\n",
    "############\n",
    "# #binning the pattern clc. by me#######\n",
    "# H, edges= np.histogramdd(spins,bins=10,normed=False)\n",
    "# #print edges, H\n",
    "# #Hmasked = np.ma.masked_where(H==0,H) # Mask pixels with a value of zero\n",
    " \n",
    "# # Plot 2D histogram using pcolor\n",
    "# fig = plt.figure()\n",
    "# plt.pcolormesh(xedges,yedges,H.T)\n",
    "# plt.xlabel('x')\n",
    "# plt.ylabel('y')\n",
    "# cbar = plt.colorbar()\n",
    "# cbar.ax.set_ylabel('Intensity')"
   ]
  },
  {
   "cell_type": "code",
   "execution_count": null,
   "metadata": {
    "jupyter": {
     "outputs_hidden": false
    }
   },
   "outputs": [],
   "source": [
    "######## A example 3D\n",
    "import matplotlib.pyplot as plt\n",
    "from mpl_toolkits.mplot3d import Axes3D\n",
    "import numpy as np\n",
    "from matplotlib import cm\n",
    "\n",
    "# create a 21 x 21 vertex mesh\n",
    "xx, yy = np.meshgrid(np.linspace(0,1,21), np.linspace(0,1,21))\n",
    "\n",
    "# create vertices for a rotated mesh (3D rotation matrix)\n",
    "X =  xx \n",
    "Y =  yy\n",
    "Z =  10*np.ones(X.shape)\n",
    "\n",
    "# create some dummy data (20 x 20) for the image\n",
    "data = np.cos(xx) * np.cos(xx) + np.sin(yy) * np.sin(yy)\n",
    "#print(X,Y,data)\n",
    "\n",
    "# create the figure\n",
    "fig = plt.figure()\n",
    "\n",
    "# show the reference image\n",
    "ax1 = fig.add_subplot(121)\n",
    "ax1.imshow(data, cmap=plt.cm.BrBG, interpolation='nearest', origin='lower', extent=[0,1,0,1])\n",
    "\n",
    "# show the 3D rotated projection\n",
    "ax2 = fig.add_subplot(122, projection='3d')\n",
    "print(X.shape,Y.shape,data.shape)\n",
    "#cset = ax2.contourf(X, Y, data, 100, zdir='z', offset=0.5, cmap=cm.BrBG)\n",
    "cset = ax2.contourf(x, y, z, 5,  offset=0.5, cmap=cm.BrBG)\n",
    "ax2.set_zlim((0.,1.))\n",
    "\n",
    "plt.colorbar(cset)\n",
    "plt.show()"
   ]
  },
  {
   "cell_type": "code",
   "execution_count": null,
   "metadata": {
    "jupyter": {
     "outputs_hidden": false
    }
   },
   "outputs": [],
   "source": [
    "############ Example: plot a sphere\n",
    "from mpl_toolkits.mplot3d import Axes3D\n",
    "import matplotlib.pyplot as plt\n",
    "import numpy as np\n",
    "\n",
    "fig = plt.figure()\n",
    "ax = fig.add_subplot(111, projection='3d')\n",
    "\n",
    "u = np.linspace(0, 2 * np.pi, 100)\n",
    "v = np.linspace(0, np.pi, 100)\n",
    "\n",
    "x = 10 * np.outer(np.cos(u), np.sin(v))\n",
    "y = 10 * np.outer(np.sin(u), np.sin(v))\n",
    "z = 10 * np.outer(np.ones(np.size(u)), np.cos(v))\n",
    "#print(x.shape,y.shape,z.shape)\n",
    "ax.plot_surface(x, y, z, rstride=4, cstride=4, color='b')\n",
    "\n",
    "plt.show()"
   ]
  },
  {
   "cell_type": "code",
   "execution_count": null,
   "metadata": {
    "jupyter": {
     "outputs_hidden": false
    }
   },
   "outputs": [],
   "source": [
    "###### Below are some test for Vpython\n",
    "scene.material = materials.wood # default material for all objects\n",
    "box(pos=(-2,0,0), color=color.red)\n",
    "box(pos=(2,0,0), color=color.green, material=materials.wood)\n",
    "cylinder(pos=(0,-0.5,0), radius=1, axis=(0,1,0), color=color.orange)\n",
    "s = sphere(pos=(-2,0.8,0), radius=0.3, color=color.cyan,\n",
    "           material=materials.emissive)\n",
    "local_light(pos=s.pos, color=s.color)\n",
    "\n",
    "lframe = frame()\n",
    "for obj in scene.lights:\n",
    "    if isinstance(obj, distant_light):\n",
    "        obj.frame = lframe # put distant lights in a frame\n",
    "old = vector(scene.forward) # keep a copy of the old forward\n",
    "while 1:\n",
    "    rate(50)\n",
    "    if scene.forward != old:\n",
    "        new = scene.forward\n",
    "        axis = cross(old,new)\n",
    "        angle = new.diff_angle(old)\n",
    "        lframe.rotate(axis=axis, angle=angle)\n",
    "        old = vector(new)\n",
    "\n",
    "scene.ambient # see ambient lighting (note it is colored light)\n",
    "scene.ambient = 1.4 # Set ambient to an intensity of white"
   ]
  },
  {
   "cell_type": "code",
   "execution_count": null,
   "metadata": {
    "collapsed": true,
    "jupyter": {
     "outputs_hidden": true
    }
   },
   "outputs": [],
   "source": []
  },
  {
   "cell_type": "code",
   "execution_count": null,
   "metadata": {
    "jupyter": {
     "outputs_hidden": false
    },
    "scrolled": true
   },
   "outputs": [],
   "source": [
    "scene2 = canvas(title='Bounce', width=500, height=500,x=500,y=500, center=(0,0,0),\n",
    "                 background=(0.1,0.1,0.1),exit=False)\n",
    "\n",
    "print(\"\"\"\n",
    "Right button drag to rotate \"camera\" to view scene.\n",
    "  On a one-button mouse, right is Command + mouse.\n",
    "Middle button to drag up or down to zoom in or out.\n",
    "  On a two-button mouse, middle is left + right.\n",
    "  On a one-button mouse, middle is Option + mouse.\n",
    "\"\"\")\n",
    "\n",
    "side = 4.0\n",
    "thk = 0.3\n",
    "s2 = 2*side - thk\n",
    "s3 = 2*side + thk\n",
    "wallR = box (pos=( side, 0, 0), length=thk, height=s2,  width=s3,  color = color.red)\n",
    "wallL = box (pos=(-side, 0, 0), length=thk, height=s2,  width=s3,  color = color.red)\n",
    "wallB = box (pos=(0, -side, 0), length=s3,  height=thk, width=s3,  color = color.blue)\n",
    "wallT = box (pos=(0,  side, 0), length=s3,  height=thk, width=s3,  color = color.blue)\n",
    "wallBK = box(pos=(0, 0, -side), length=s2,  height=s2,  width=thk, color = (0.7,0.7,0.7))\n",
    "\n",
    "ball = sphere (color = color.green, radius = 0.4)\n",
    "ball.mass = 1.0\n",
    "ball.p = vector (-0.15, -0.23, +0.27)\n",
    "\n",
    "side = side - thk*0.5 - ball.radius\n",
    "\n",
    "dt = 0.5\n",
    "t=0.0\n",
    "while True:\n",
    "    rate(100)\n",
    "    t = t + dt\n",
    "    ball.pos = ball.pos + (ball.p/ball.mass)*dt\n",
    "    if not (side > ball.x > -side):\n",
    "        ball.p.x = -ball.p.x\n",
    "    if not (side > ball.y > -side):\n",
    "        ball.p.y = -ball.p.y\n",
    "    if not (side > ball.z > -side):\n",
    "        ball.p.z = -ball.p.z"
   ]
  },
  {
   "cell_type": "code",
   "execution_count": null,
   "metadata": {
    "jupyter": {
     "outputs_hidden": false
    },
    "scrolled": true
   },
   "outputs": [],
   "source": [
    "from ivisual import *\n",
    "sphere()"
   ]
  },
  {
   "cell_type": "code",
   "execution_count": null,
   "metadata": {
    "jupyter": {
     "outputs_hidden": false
    }
   },
   "outputs": [],
   "source": [
    "bond = []\n",
    "print(len(bond))\n",
    "a1 = np.array([0.1,0.2,0.3])\n",
    "a2 = np.array([0.5,0.5,0.4])\n",
    "a3 = np.append(np.array([1, 2]),a2-a1).T\n",
    "a4 = np.vstack((a1,a2))\n",
    "print(a4)\n",
    "print(a4[:,1])\n",
    "print(a4[0,np.where(a4[1,:]==0.5)])\n",
    "a5 = np.in1d(0.1,a4[0,np.where(a4[1,:]==0.5)])\n",
    "print(a5[0])\n",
    "\n",
    "bond.append(a3)\n",
    "print(a3,a4.shape[1],bond)"
   ]
  },
  {
   "cell_type": "code",
   "execution_count": null,
   "metadata": {
    "jupyter": {
     "outputs_hidden": true
    }
   },
   "outputs": [],
   "source": []
  },
  {
   "cell_type": "code",
   "execution_count": null,
   "metadata": {},
   "outputs": [],
   "source": []
  },
  {
   "cell_type": "code",
   "execution_count": null,
   "metadata": {},
   "outputs": [],
   "source": []
  }
 ],
 "metadata": {
  "anaconda-cloud": {},
  "kernelspec": {
   "display_name": "Python 3 (ipykernel)",
   "language": "python",
   "name": "python3"
  },
  "language_info": {
   "codemirror_mode": {
    "name": "ipython",
    "version": 3
   },
   "file_extension": ".py",
   "mimetype": "text/x-python",
   "name": "python",
   "nbconvert_exporter": "python",
   "pygments_lexer": "ipython3",
   "version": "3.9.7"
  },
  "toc-autonumbering": false
 },
 "nbformat": 4,
 "nbformat_minor": 4
}

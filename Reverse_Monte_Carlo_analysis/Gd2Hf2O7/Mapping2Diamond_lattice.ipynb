{
 "cells": [
  {
   "cell_type": "code",
   "execution_count": 1,
   "metadata": {
    "jupyter": {
     "outputs_hidden": false
    }
   },
   "outputs": [
    {
     "data": {
      "text/html": [
       "<div id=\"glowscript\" class=\"glowscript\"></div>"
      ],
      "text/plain": [
       "<IPython.core.display.HTML object>"
      ]
     },
     "metadata": {},
     "output_type": "display_data"
    },
    {
     "data": {
      "application/javascript": [
       "if (typeof Jupyter !== \"undefined\") { window.__context = { glowscript_container: $(\"#glowscript\").removeAttr(\"id\")};}else{ element.textContent = ' ';}"
      ],
      "text/plain": [
       "<IPython.core.display.Javascript object>"
      ]
     },
     "metadata": {},
     "output_type": "display_data"
    }
   ],
   "source": [
    "import os\n",
    "import fnmatch\n",
    "import itertools\n",
    "import numpy as np\n",
    "from numpy import linalg as LA\n",
    "from vpython import *\n",
    "\n",
    "import matplotlib.pyplot as plt # after importting matplotlib, mayavi can not set api to 2: first run mayavi!!!!\n",
    "import matplotlib as mpl\n",
    "from latexify import latexify\n",
    "#latexify()\n",
    "#mpl.style.use('classic')\n",
    "%matplotlib notebook"
   ]
  },
  {
   "cell_type": "code",
   "execution_count": 2,
   "metadata": {},
   "outputs": [],
   "source": [
    "def my_vector(a_list):\n",
    "    return vector(a_list[0],a_list[1],a_list[2])"
   ]
  },
  {
   "cell_type": "markdown",
   "metadata": {},
   "source": [
    "# Define functions"
   ]
  },
  {
   "cell_type": "code",
   "execution_count": 6,
   "metadata": {},
   "outputs": [],
   "source": [
    "# Functions loading one spins file\n",
    "def load_atpos_bonds(file, nAtomCell=16):\n",
    "    atpos=np.zeros([nAtomCell,3]) #store the atom positions in a unit cell\n",
    "    bonds = np.zeros([6,1000])#store the 30 bonds in the unitCell: atom1,atom2,pos[a2]-pos[a1]\n",
    "    \n",
    "    # Read the atom positions in a unit cell\n",
    "    with open(file, 'r') as f:\n",
    "        i=0\n",
    "        for line in f:\n",
    "            line=line.rstrip('\\n').split()# without giving delimenter, it will treat conseutive space as one\n",
    "            if line[0]==\"SITE\":\n",
    "                atpos[i,:]=line[1:]#automatically convert string to np.array\n",
    "                i=i+1\n",
    "            if i>= nAtomCell:\n",
    "                break\n",
    "                \n",
    "    ##### find the nearest Gd-Gd neighbers within a unit cell  \n",
    "    idx = 0\n",
    "    for i in np.arange(0,len(atpos)-1,1):\n",
    "        for ii in np.arange(i+1,len(atpos),1):\n",
    "            dist = LA.norm(atpos[i]-atpos[ii])\n",
    "            bonds[:,idx] = np.append(np.append(np.array([i, ii]),atpos[ii]-atpos[i]),dist)\n",
    "            idx +=1\n",
    "    bonds = bonds[:5, bonds[5,:]==np.min(bonds[5, np.nonzero(bonds[5,:]) ])]\n",
    "    \n",
    "    return atpos, bonds\n",
    "    \n",
    "def load_spins(file, nAtomCell=16, SC=[6,6,6], calPolF=True, physType='iceIsing'):\n",
    "    spins=np.zeros(np.hstack([SC,nAtomCell,3]))#store the spins in a supercell\n",
    "    if calPolF:\n",
    "        polF = np.zeros(np.hstack([SC,nAtomCell,9]))\n",
    "        # Local [111] axes for the 16 atoms\n",
    "        aniso = np.array([[1,1,1],[1,1,1],[1,1,1],[1,1,1],\n",
    "                          [1,-1,-1],[1,-1,-1],[1,-1,-1],[1,-1,-1],\n",
    "                          [-1,1,-1],[-1,1,-1],[-1,1,-1],[-1,1,-1],\n",
    "                          [-1,-1,1],[-1,-1,1],[-1,-1,1],[-1,-1,1]])/np.sqrt(3.)\n",
    "        \n",
    "    # Read all the spin orientations with doing Sx*local11,Sy*local11,Sz*local11\n",
    "    with open(file, 'r') as f:\n",
    "        for line in f:\n",
    "            line=line.rstrip('\\n').split()# without giving delimenter, it will treat conseutive space as one\n",
    "            if line[0]==\"SPIN\":\n",
    "                idxUC=np.array(line[1:5],dtype='int32')# atom index 1-16, SuperCell idx [i,j,k]\n",
    "                Sxyz = np.array(line[5:8],dtype='float') # spin orientatoins\n",
    "                #print(idxUC)\n",
    "                spins[idxUC[1],idxUC[2],idxUC[3],idxUC[0]-1,:] = Sxyz\n",
    "                if calPolF:                   \n",
    "                    if physType == 'Heisenberg':\n",
    "                        # For Heisenberg: Sx*local,Sy*local,Sz*local\n",
    "                        polF[idxUC[1],idxUC[2],idxUC[3],idxUC[0]-1,:]= \\\n",
    "                                          np.hstack([Sxyz[0]*aniso[idxUC[0]-1,:],\n",
    "                                                     Sxyz[1]*aniso[idxUC[0]-1,:],\n",
    "                                                     Sxyz[2]*aniso[idxUC[0]-1,:]])\n",
    "                    elif physType == 'iceIsing':\n",
    "                        # For Spin ice: only the for 3 elements is needed Si*localZ_i=+/-1 * localZ_i,  \n",
    "                        # the rest is not used!\n",
    "                        polF[idxUC[1],idxUC[2],idxUC[3],idxUC[0]-1,:]= \\\n",
    "                             np.hstack([(Sxyz   @aniso[idxUC[0]-1,:])*aniso[idxUC[0]-1,:],\n",
    "                                         Sxyz[1]*aniso[idxUC[0]-1,:],\n",
    "                                         Sxyz[2]*aniso[idxUC[0]-1,:]])\n",
    "                    else: \n",
    "                        print('which type of spins: iceIsing or Heisenberg')\n",
    "    if calPolF:\n",
    "        return spins, polF\n",
    "    else:\n",
    "        return spins\n",
    "    \n",
    "def batch_load_spins(fpath, fname_pattern, nSC=1, nAtomCell=16, SC=[6,6,6], calPolF=True, physType='iceIsing'):\n",
    "    \"\"\"\n",
    "    Return:\n",
    "        atpos: [nAtomCell, 3]\n",
    "        bonds: [6, nb_of_nnBonds] (col: idxAtom1, idxAtom2, posAtom2-posAtom1) within unit cell\n",
    "        spins: [nSC, SC[0], SC[1], SC[2], nAtomCell, 3]\n",
    "        polF:  [nSC, SC[0], SC[1], SC[2], nAtomCell, 9]\n",
    "    \"\"\"\n",
    "    spins = np.empty(np.hstack([nSC, SC, nAtomCell,3]))\n",
    "    if calPolF:\n",
    "        polF  = np.empty(np.hstack([nSC, SC, nAtomCell,9]))\n",
    "    idx = 0\n",
    "    #print(os.listdir(fpath))\n",
    "    for file in os.listdir(fpath):\n",
    "        if fnmatch.fnmatch(file, fname_pattern):   \n",
    "            print(file)\n",
    "            if idx==0:\n",
    "                atpos, bonds = load_atpos_bonds(os.path.join(fpath,file), nAtomCell)\n",
    "            if calPolF:\n",
    "                spins[idx], polF[idx] = \\\n",
    "                    load_spins(os.path.join(fpath,file), nAtomCell, SC, calPolF=True, physType=physType)\n",
    "                idx += 1\n",
    "            else:\n",
    "                spins[idx] = \\\n",
    "                    load_spins(os.path.join(fpath,file), nAtomCell, SC, calPolF=False, physType=physType)\n",
    "                idx += 1\n",
    "    if calPolF:\n",
    "        return atpos, bonds, spins, polF\n",
    "    else:\n",
    "        return atpos, bonds, spins\n",
    "    \n",
    "# Functions plot randomly a UC with spins and bonds    \n",
    "def plot_rand_UC(atpos, spins, bonds, o8b=None, polF_av_nd=None, SC=[6,6,6], wch_cell=None, spinl0 = 0.2,spinl1=0.2, atomr = 0.5, cylr = 0.005):\n",
    "    \"\"\"\n",
    "    atpos: nAtomCell by 3\n",
    "    spins: [SC[0], SC[1], SC[2], nAtomCell, 3]\n",
    "    bonds: [6, nb_of_nnBonds] (col: idxAtom1, idxAtom2, posAtom2-posAtom1) within unit cell\n",
    "    SC   : dimension of the super cell\n",
    "    \"\"\"\n",
    "    scene = canvas(title='MagStr', width=1000, height=1000,x=500,y=500,center=my_vector((0.5,0.5,0.5)),\n",
    "                     background=color.black,exit=False)\n",
    "    scene.autocenter = True # why not working\n",
    "    scene.autoscale = True \n",
    "    if wch_cell is None:\n",
    "        wch_cell = np.random.randint(0,SC[0],3)\n",
    "    print('Unit Cell:', wch_cell)\n",
    "    # Plot the Gd atoms, easy axes and the bonds\n",
    "    for i in range(len(atpos)):\n",
    "        spin = spins[wch_cell[0],wch_cell[1],wch_cell[2],i,:]\n",
    "        arrow(pos=my_vector(atpos[i]-spinl0*spin/2), axis=my_vector(spinl0*spin),shaftwidth=0.01) # spin\n",
    "        sphere(pos=my_vector(atpos[i]), color=color.orange, radius=atomr*0.05) # atoms\n",
    "        label(pos=my_vector(atpos[i]+(0,0,0.1)), text=str(i%16))    \n",
    "\n",
    "    for i in range(bonds.shape[1]):\n",
    "        cylinder(pos=my_vector(atpos[int(bonds[0,i])]), axis=my_vector(bonds[2:,i]), radius=cylr)\n",
    "    \n",
    "    if o8b is not None:\n",
    "        if polF_av_nd is not None:\n",
    "            # Plot the O atoms #and the surrouding Gd (slightly shfited along local 111, to compare with the Gd)\n",
    "            hsv = my_vector((0.6667+i*0.333/8,1,0.5))\n",
    "            for i in range(len(o8b)-3):\n",
    "                pol = polF_av_nd[wch_cell[0],wch_cell[1],wch_cell[2],i, 0:3]*2# 0:3 for Px\n",
    "                sphere(pos=my_vector(o8b[i]), color=color.hsv_to_rgb(hsv),radius=atomr*0.1) # color: blue-red\n",
    "                arrow(pos=my_vector(o8b[i]-spinl1*pol/2), axis=my_vector(spinl1*pol),shaftwidth=0.01,color=color.white) # polarization\n",
    "                around = orBonds[orBonds[:,0]==i]\n",
    "                \n",
    "# Save\n",
    "def save_diamondPolF(file, polF_av, SC=[6,6,6]):\n",
    "    \"\"\"\n",
    "    polF_av: 8*6**3 by 7\n",
    "    only saved Px\n",
    "    \"\"\"\n",
    "    o8b = np.array([ [ 0.625,  0.625,  0.625],\n",
    "                 [ 0.625,  0.125,  0.125],\n",
    "                 [ 0.125,  0.125,  0.625],\n",
    "                 [ 0.125,  0.625,  0.125],\n",
    "                 [ 0.375,  0.375,  0.375],\n",
    "                 [ 0.375,  0.875,  0.875],\n",
    "                 [ 0.875,  0.375,  0.875],\n",
    "                 [ 0.875,  0.875,  0.375]])\n",
    "    \n",
    "    # Save super lattice\n",
    "    f = open(file, 'w+') # append\n",
    "    f.write('TITLE spin \\n')\n",
    "    f.write('CELL 10.440 10.440 10.440 90.00 90.00 90.00\\n')\n",
    "\n",
    "    names  = np.repeat('SITE',8)\n",
    "    outputs = map(lambda x: \"%s  %f %f %f \" % (x[0],x[1][0],x[1][1],x[1][2]),\n",
    "                  zip(names,o8b)) \n",
    "    data = '\\n'.join(outputs)+'\\n' # Concat all strings in list, separated by line break\n",
    "    f.write(data)\n",
    "\n",
    "    f.write('BOX 6 6 6\\nFORM_FACTOR_J0 0 0 0\\nPROPOSED_MOVES 0\\nACCEPTED_MOVES 0\\nWEIGHT 3\\nCHI_SQUARED 14\\nR_FACTOR 3.4\\nSCALE 72\\nFLAT_BACKGROUND 0.0\\nLINEAR_BACKGROUND 0\\n')\n",
    "\n",
    "    names  = np.repeat('SPIN',8*np.prod(SC)).astype('str')\n",
    "    outputs = map(lambda x: \"%s %i %i %i %i %f %f %f \" % (x[0],x[1][0],x[1][1],x[1][2],x[1][3],x[1][4],x[1][5],x[1][6]),\n",
    "                  zip(names, polF_av)) \n",
    "    data = '\\n'.join(outputs) # Concat all strings in list, separated by line break\n",
    "    f.write(data)\n",
    "    f.close()\n",
    "    print('Saved ' + file)\n",
    "    \n",
    "# Create diamond or o8b superlattice\n",
    "def diamond_pTensor(polF, orBonds=None, SC=[6,6,6], save=False, fpath=r'\\D:', fname_pattern='diamond_'):\n",
    "    \"\"\"\n",
    "    polF: nd array with dim: [nSC, SC[0], SC[1], SC[2], nAtomCell, 9]   \n",
    "    orBonds: O-R bonds in a unit cell, 32 by 8, (row: idx_O, idx_R, dLx, dLy, dLz, drx, dry, drz)\n",
    "    Return:\n",
    "        polF_av: averaged on tetrahedra\n",
    "        polF_av_nd: polF_av with super cell as indices\n",
    "    \"\"\"\n",
    "    if orBonds is None: \n",
    "        orBonds =np.array([[ 0,  0,  0,  0,  0, -0.125, -0.125, -0.125],\n",
    "                           [ 0,  4,  0,  0,  0, -0.125,  0.125,  0.125],\n",
    "                           [ 0,  8,  0,  0,  0,  0.125, -0.125,  0.125],\n",
    "                           [ 0, 13,  0,  0,  0,  0.125,  0.125, -0.125],\n",
    "                           [ 1,  1,  0,  0,  0, -0.125, -0.125, -0.125],\n",
    "                           [ 1,  5,  0,  0,  0, -0.125,  0.125,  0.125],\n",
    "                           [ 1,  9,  0,  0,  0,  0.125, -0.125,  0.125],\n",
    "                           [ 1, 12,  0,  0,  0,  0.125,  0.125, -0.125],\n",
    "                           [ 2,  2,  0,  0,  0, -0.125, -0.125, -0.125],\n",
    "                           [ 2,  6,  0,  0,  0, -0.125,  0.125,  0.125],\n",
    "                           [ 2, 10,  0,  0,  0,  0.125, -0.125,  0.125],\n",
    "                           [ 2, 15,  0,  0,  0,  0.125,  0.125, -0.125],\n",
    "                           [ 3,  3,  0,  0,  0, -0.125, -0.125, -0.125],\n",
    "                           [ 3,  7,  0,  0,  0, -0.125,  0.125,  0.125],\n",
    "                           [ 3, 11,  0,  0,  0,  0.125, -0.125,  0.125],\n",
    "                           [ 3, 14,  0,  0,  0,  0.125,  0.125, -0.125],\n",
    "                           [ 4,  0,  0,  0,  0,  0.125,  0.125,  0.125],\n",
    "                           [ 4,  5,  0,  0,  0,  0.125, -0.125, -0.125],\n",
    "                           [ 4, 11,  0,  0,  0, -0.125,  0.125, -0.125],\n",
    "                           [ 4, 15,  0,  0,  0, -0.125, -0.125,  0.125],\n",
    "                           [ 5,  4,  0,  0,  0,  0.125, -0.125, -0.125],\n",
    "                           [ 5, 14,  0,  0,  1, -0.125, -0.125,  0.125],\n",
    "                           [ 5, 10,  0,  1,  0, -0.125,  0.125, -0.125],\n",
    "                           [ 5,  1,  0,  1,  1,  0.125,  0.125,  0.125],\n",
    "                           [ 6,  8,  0,  0,  0, -0.125,  0.125, -0.125],\n",
    "                           [ 6, 12,  0,  0,  1, -0.125, -0.125,  0.125],\n",
    "                           [ 6,  6,  1,  0,  0,  0.125, -0.125, -0.125],\n",
    "                           [ 6,  3,  1,  0,  1,  0.125,  0.125,  0.125],\n",
    "                           [ 7, 13,  0,  0,  0, -0.125, -0.125,  0.125],\n",
    "                           [ 7,  9,  0,  1,  0, -0.125,  0.125, -0.125],\n",
    "                           [ 7,  7,  1,  0,  0,  0.125, -0.125, -0.125],\n",
    "                           [ 7,  2,  1,  1,  0,  0.125,  0.125,  0.125]])\n",
    "    if polF.ndim == 5:\n",
    "        nSC = 1\n",
    "    elif polF.ndim == 6:\n",
    "        nSC = polF.shape[0]\n",
    "        print(nSC)\n",
    "    else:\n",
    "        print('wrong input')\n",
    "        return\n",
    "    \n",
    "    polF_av = np.zeros([nSC, 8*np.prod(SC), 13]) #13: atIdx 0-8, cell index Lx,Ly,Lz, Px(xyz), Py, Pz\n",
    "    polF_av_nd = np.zeros(np.hstack([nSC, SC, 8, 9])) # 8 O8b in a unit cell\n",
    "\n",
    "    for iSC in range(nSC):\n",
    "        idx = 0\n",
    "        for i in range(SC[0]):\n",
    "            for j in range(SC[1]):\n",
    "                for k in range(SC[2]):\n",
    "                    for l in np.arange(0,8):\n",
    "                        tetra = np.array(orBonds[orBonds[:,0]==l,1:5],dtype='int32')\n",
    "                        #print(tetra)\n",
    "                        idxCell = np.array([i,j,k] + tetra[:,1:4])\n",
    "                        idxCell = np.where(idxCell==6,0,idxCell)\n",
    "                        #print(idxCell)\n",
    "                        # 0:3 for Px, 3:6 for Py, 6 :9 for Pz\n",
    "                        try: #polF is possibly without the nSC axis\n",
    "                            sumTetra = polF[idxCell[:,0],idxCell[:,1],idxCell[:,2],tetra[:,0],0:9].mean(axis=0)\n",
    "                            polF_av[iSC, idx, :] = np.hstack((np.array([l+1,i,j,k]),sumTetra))\n",
    "                            polF_av_nd[iSC,i,j,k,l,:] = sumTetra\n",
    "                            idx +=1\n",
    "                        except:\n",
    "                            sumTetra = polF[iSC,idxCell[:,0],idxCell[:,1],idxCell[:,2],tetra[:,0],0:9].mean(axis=0)\n",
    "                            polF_av[iSC, idx, :] = np.hstack((np.array([l+1,i,j,k]),sumTetra))\n",
    "                            polF_av_nd[iSC, i,j,k,l,:] = sumTetra\n",
    "                            idx +=1\n",
    "        if save:\n",
    "            file = os.path.join(fpath, fname_pattern+\"{:02d}\".format(iSC+1)+'.txt')\n",
    "            save_diamondPolF(file, np.squeeze(polF_av[iSC]))\n",
    "    return polF_av, polF_av_nd\n",
    "\n",
    "\n",
    "\n",
    "# Find the neigbors of oxygen ions on the first unit cell\n",
    "# create a 333 supercell and search neighbor for the O ions in the centeral cell\n",
    "atpos = np.array([\n",
    "    [0.5,  0.5,  0.5 ],\n",
    "    [0.5,  0.,   0.  ],\n",
    "    [0.,   0.,   0.5 ],\n",
    "    [0.,   0.5,  0.  ],\n",
    "    [0.5,  0.75, 0.75],\n",
    "    [0.5,  0.25, 0.25],\n",
    "    [0.,   0.25, 0.75],\n",
    "    [0.,   0.75, 0.25],\n",
    "    [0.75, 0.5,  0.75],\n",
    "    [0.75, 0.,   0.25],\n",
    "    [0.25, 0.,   0.75],\n",
    "    [0.25, 0.5,  0.25],\n",
    "    [0.75, 0.25, 0.  ],\n",
    "    [0.75, 0.75, 0.5 ],\n",
    "    [0.25, 0.75, 0.  ],\n",
    "    [0.25, 0.25, 0.5 ]])\n",
    "\n",
    "aniso = np.array([[1,1,1],[1,1,1],[1,1,1],[1,1,1],\n",
    "                  [1,-1,-1],[1,-1,-1],[1,-1,-1],[1,-1,-1],\n",
    "                  [-1,1,-1],[-1,1,-1],[-1,1,-1],[-1,1,-1],\n",
    "                  [-1,-1,1],[-1,-1,1],[-1,-1,1],[-1,-1,1]])/np.sqrt(3.)\n",
    "\n",
    "# Diamond lattic: center of the tetrahedra (5) + and three from O+0.25[111] (first 4: type A, last 4: type B)\n",
    "o8b = np.array([ [ 0.625,  0.625,  0.625],\n",
    "                 [ 0.625,  0.125,  0.125],\n",
    "                 [ 0.125,  0.125,  0.625],\n",
    "                 [ 0.125,  0.625,  0.125],\n",
    "                 [ 0.375,  0.375,  0.375],\n",
    "                 [ 0.375,  0.875,  0.875],\n",
    "                 [ 0.875,  0.375,  0.875],\n",
    "                 [ 0.875,  0.875,  0.375]])\n",
    "\n",
    "permu=np.array(list(itertools.product([0,1,-1], repeat=3) ) )\n",
    "allpos = np.vstack([atpos+item for item in permu])\n",
    "\n",
    "orBondsIdx = np.zeros([32,2],dtype=int) #store the 32 R-O(8b) bonds in the unitCell: idx(O8b),idx(R),\n",
    "orBonds = np.zeros([32,8])#store the 32 R-O(8b) bonds in the unitCell: idx(O8b),idx(R), dL, pos[a2]-pos[a1]\n",
    "idx = 0\n",
    "for i in np.arange(0,len(o8b),1):\n",
    "    for ii in np.arange(0,len(allpos),1):\n",
    "        distance = LA.norm(o8b[i]-allpos[ii])\n",
    "        if distance==np.sqrt(3/64.):\n",
    "            ridx = np.remainder(ii,16)\n",
    "            orBondsIdx[idx,:] = [i*1., ridx]\n",
    "            orBonds[idx,:]=np.hstack( [ [i,ridx], np.trunc(allpos[ii]), allpos[ii]-o8b[i] ] )\n",
    "            idx +=  1\n",
    "\n",
    "#print(orBondsIdx)\n",
    "#print(orBonds)\n",
    "#print(repr(orBonds)) # print array with commas"
   ]
  },
  {
   "cell_type": "code",
   "execution_count": 8,
   "metadata": {},
   "outputs": [
    {
     "name": "stdout",
     "output_type": "stream",
     "text": [
      "[[0.5  0.5  0.5 ]\n",
      " [0.5  0.   0.  ]\n",
      " [0.   0.   0.5 ]\n",
      " [0.   0.5  0.  ]\n",
      " [0.5  0.75 0.75]\n",
      " [0.5  0.25 0.25]\n",
      " [0.   0.25 0.75]\n",
      " [0.   0.75 0.25]\n",
      " [0.75 0.5  0.75]\n",
      " [0.75 0.   0.25]\n",
      " [0.25 0.   0.75]\n",
      " [0.25 0.5  0.25]\n",
      " [0.75 0.25 0.  ]\n",
      " [0.75 0.75 0.5 ]\n",
      " [0.25 0.75 0.  ]\n",
      " [0.25 0.25 0.5 ]]\n",
      "[[ 0.    4.    0.    0.25  0.25]\n",
      " [ 0.    5.    0.   -0.25 -0.25]\n",
      " [ 0.    8.    0.25  0.    0.25]\n",
      " [ 0.   11.   -0.25  0.   -0.25]\n",
      " [ 0.   13.    0.25  0.25  0.  ]\n",
      " [ 0.   15.   -0.25 -0.25  0.  ]\n",
      " [ 1.    5.    0.    0.25  0.25]\n",
      " [ 1.    9.    0.25  0.    0.25]\n",
      " [ 1.   12.    0.25  0.25  0.  ]\n",
      " [ 2.    6.    0.    0.25  0.25]\n",
      " [ 2.   10.    0.25  0.    0.25]\n",
      " [ 2.   15.    0.25  0.25  0.  ]\n",
      " [ 3.    7.    0.    0.25  0.25]\n",
      " [ 3.   11.    0.25  0.    0.25]\n",
      " [ 3.   14.    0.25  0.25  0.  ]\n",
      " [ 4.    8.    0.25 -0.25  0.  ]\n",
      " [ 4.   13.    0.25  0.   -0.25]\n",
      " [ 5.    9.    0.25 -0.25  0.  ]\n",
      " [ 5.   11.   -0.25  0.25  0.  ]\n",
      " [ 5.   12.    0.25  0.   -0.25]\n",
      " [ 5.   15.   -0.25  0.    0.25]\n",
      " [ 6.   10.    0.25 -0.25  0.  ]\n",
      " [ 6.   15.    0.25  0.   -0.25]\n",
      " [ 7.   11.    0.25 -0.25  0.  ]\n",
      " [ 7.   14.    0.25  0.   -0.25]\n",
      " [ 8.   13.    0.    0.25 -0.25]\n",
      " [ 9.   12.    0.    0.25 -0.25]\n",
      " [10.   15.    0.    0.25 -0.25]\n",
      " [11.   14.    0.    0.25 -0.25]\n",
      " [11.   15.    0.   -0.25  0.25]]\n",
      "(6, 6, 6, 16, 3)\n",
      "(6, 6, 6, 16, 9)\n"
     ]
    },
    {
     "data": {
      "text/html": [
       "<div id=\"glowscript\" class=\"glowscript\"></div>"
      ],
      "text/plain": [
       "<IPython.core.display.HTML object>"
      ]
     },
     "metadata": {},
     "output_type": "display_data"
    },
    {
     "data": {
      "application/javascript": [
       "if (typeof Jupyter !== \"undefined\") { window.__context = { glowscript_container: $(\"#glowscript\").removeAttr(\"id\")};}else{ element.textContent = ' ';}"
      ],
      "text/plain": [
       "<IPython.core.display.Javascript object>"
      ]
     },
     "metadata": {},
     "output_type": "display_data"
    },
    {
     "name": "stdout",
     "output_type": "stream",
     "text": [
      "Unit Cell: [0, 0, 0]\n"
     ]
    }
   ],
   "source": [
    "# Load one spins file\n",
    "fpath = r'D:\\2_Neutron_scattering\\0_SpinVert\\0_spinvert_program\\spinvert_with_modifed\\examples\\spinice/'\n",
    "fname = 'spinice_spins_01.txt'\n",
    "\n",
    "fpath1 = r'D:/2_Neutron_scattering\\0_SpinVert\\gdhfo_d7/35mK\\pc_correlations/'\n",
    "fname1 = r'pc_spins_01.txt'\n",
    "\n",
    "file = os.path.join(fpath1,fname1)\n",
    "#file = r'D:\\2_Neutron_scattering\\0_SpinVert\\gdzro_ill\\gd_ill_60mk-20k_with_paramag\\diamond_correlations\\diamond_Px_spinice_spins_01.txt'\n",
    "\n",
    "# atpos, bonds, spins = \\\n",
    "#                 load_spins(file, nAtomCell=16, SC=[6,6,6], calPolF=False, physType='iceIsing')\n",
    "\n",
    "atpos, bonds = load_atpos_bonds(file, nAtomCell=16)\n",
    "spins, polF = load_spins(file, nAtomCell=16, SC=[6,6,6], calPolF=True, physType='Heisenberg')\n",
    "\n",
    "print(atpos)\n",
    "print(bonds.T)\n",
    "print(spins.shape)\n",
    "print(polF.shape)\n",
    "\n",
    "plot_rand_UC(atpos, spins, bonds, SC=[6,6,6], wch_cell=[0,0,0], spinl0=0.2,spinl1=0.1)"
   ]
  },
  {
   "cell_type": "code",
   "execution_count": 5,
   "metadata": {},
   "outputs": [
    {
     "name": "stdout",
     "output_type": "stream",
     "text": [
      "spinice_spins_01.txt\n",
      "spinice_spins_02.txt\n",
      "spinice_spins_03.txt\n",
      "spinice_spins_04.txt\n",
      "spinice_spins_05.txt\n",
      "spinice_spins_06.txt\n",
      "spinice_spins_07.txt\n",
      "spinice_spins_08.txt\n",
      "spinice_spins_09.txt\n",
      "spinice_spins_10.txt\n",
      "spinice_spins_11.txt\n",
      "spinice_spins_12.txt\n"
     ]
    }
   ],
   "source": [
    "# Batch loading\n",
    "fpath = r'D:\\2_Neutron_scattering\\0_SpinVert\\0_spinvert_program\\spinvert_with_modifed\\examples\\spinice/'\n",
    "fname = 'spinice_spins_*.txt'\n",
    "\n",
    "atpos, bonds, spins, polF = \\\n",
    "    batch_load_spins(fpath, fname, nSC=12, nAtomCell=16, SC=[6,6,6], calPolF=True, physType='iceIsing')"
   ]
  },
  {
   "cell_type": "code",
   "execution_count": 6,
   "metadata": {},
   "outputs": [
    {
     "name": "stdout",
     "output_type": "stream",
     "text": [
      "diamond_part_spins_01.txt\n",
      "diamond_part_spins_02.txt\n",
      "diamond_part_spins_03.txt\n",
      "diamond_part_spins_04.txt\n",
      "diamond_part_spins_05.txt\n",
      "[[0.625 0.625 0.625]\n",
      " [0.625 0.125 0.125]\n",
      " [0.125 0.125 0.625]\n",
      " [0.125 0.625 0.125]\n",
      " [0.375 0.375 0.375]\n",
      " [0.375 0.875 0.875]\n",
      " [0.875 0.375 0.875]\n",
      " [0.875 0.875 0.375]\n",
      " [0.    0.    0.   ]\n",
      " [0.    0.    0.   ]\n",
      " [0.    0.    0.   ]\n",
      " [0.    0.    0.   ]\n",
      " [0.    0.    0.   ]\n",
      " [0.    0.    0.   ]\n",
      " [0.    0.    0.   ]\n",
      " [0.    0.    0.   ]] [[ 0.    0.    0.    0.    1.    2.    3.  ]\n",
      " [ 4.    5.    6.    7.    4.    4.    4.  ]\n",
      " [-0.25 -0.25  0.25  0.25 -0.25  0.25  0.25]\n",
      " [-0.25  0.25 -0.25  0.25  0.25  0.25 -0.25]\n",
      " [-0.25  0.25  0.25 -0.25  0.25 -0.25  0.25]]\n",
      "(40, 6, 6, 6, 16, 3)\n"
     ]
    }
   ],
   "source": [
    "# GZO\n",
    "fpath = r'D:\\2_Neutron_scattering\\0_SpinVert\\gdzro_ill\\gd_ill_60mk-20k_with_paramag'\n",
    "fname = '10k_0p994_s3_wl2p41_p3500i_spins_*.txt'\n",
    "fname = 'diamond_part_spins_*.txt'\n",
    "atpos, bonds, spins = \\\n",
    "    batch_load_spins(fpath, fname, nSC=40, nAtomCell=16, SC=[6,6,6], calPolF=False)\n",
    "\n",
    "print(atpos, bonds)\n",
    "print(spins.shape)\n",
    "#print(polF.shape)"
   ]
  },
  {
   "cell_type": "code",
   "execution_count": 7,
   "metadata": {
    "scrolled": true
   },
   "outputs": [
    {
     "name": "stdout",
     "output_type": "stream",
     "text": [
      "35mk_spins_01.txt\n",
      "35mk_spins_02.txt\n",
      "35mk_spins_03.txt\n",
      "35mk_spins_04.txt\n",
      "35mk_spins_05.txt\n",
      "35mk_spins_06.txt\n",
      "35mk_spins_07.txt\n",
      "35mk_spins_08.txt\n",
      "35mk_spins_09.txt\n",
      "35mk_spins_10.txt\n",
      "35mk_spins_11.txt\n",
      "35mk_spins_12.txt\n",
      "35mk_spins_13.txt\n",
      "35mk_spins_14.txt\n",
      "35mk_spins_15.txt\n",
      "35mk_spins_16.txt\n",
      "35mk_spins_17.txt\n",
      "35mk_spins_18.txt\n",
      "35mk_spins_19.txt\n",
      "35mk_spins_20.txt\n",
      "35mk_spins_21.txt\n",
      "35mk_spins_22.txt\n",
      "35mk_spins_23.txt\n",
      "35mk_spins_24.txt\n",
      "35mk_spins_25.txt\n",
      "35mk_spins_26.txt\n",
      "35mk_spins_27.txt\n",
      "35mk_spins_28.txt\n",
      "35mk_spins_29.txt\n",
      "35mk_spins_30.txt\n",
      "35mk_spins_31.txt\n",
      "35mk_spins_32.txt\n",
      "35mk_spins_33.txt\n",
      "35mk_spins_34.txt\n",
      "35mk_spins_35.txt\n",
      "35mk_spins_36.txt\n",
      "35mk_spins_37.txt\n",
      "35mk_spins_38.txt\n",
      "35mk_spins_39.txt\n",
      "35mk_spins_40.txt\n",
      "diamond_part_hard_spins_01.txt\n",
      "diamond_part_hard_spins_02.txt\n",
      "diamond_part_hard_spins_03.txt\n",
      "diamond_part_hard_spins_04.txt\n",
      "diamond_part_hard_spins_05.txt\n",
      "diamond_part_hard_spins_06.txt\n",
      "diamond_part_hard_spins_07.txt\n",
      "diamond_part_hard_spins_08.txt\n",
      "diamond_part_hard_spins_09.txt\n",
      "diamond_part_hard_spins_10.txt\n",
      "diamond_part_hard_spins_11.txt\n",
      "diamond_part_hard_spins_12.txt\n",
      "diamond_part_hard_spins_13.txt\n",
      "diamond_part_hard_spins_14.txt\n",
      "diamond_part_hard_spins_15.txt\n",
      "diamond_part_hard_spins_16.txt\n",
      "diamond_part_hard_spins_17.txt\n",
      "diamond_part_hard_spins_18.txt\n",
      "diamond_part_hard_spins_19.txt\n",
      "diamond_part_hard_spins_20.txt\n",
      "diamond_part_hard_spins_21.txt\n",
      "diamond_part_hard_spins_22.txt\n",
      "diamond_part_hard_spins_23.txt\n",
      "diamond_part_hard_spins_24.txt\n",
      "diamond_part_hard_spins_25.txt\n",
      "diamond_part_hard_spins_26.txt\n",
      "diamond_part_hard_spins_27.txt\n",
      "diamond_part_hard_spins_28.txt\n",
      "diamond_part_hard_spins_29.txt\n",
      "diamond_part_hard_spins_30.txt\n",
      "diamond_part_hard_spins_31.txt\n",
      "diamond_part_hard_spins_32.txt\n",
      "diamond_part_hard_spins_33.txt\n",
      "diamond_part_hard_spins_34.txt\n",
      "diamond_part_hard_spins_35.txt\n",
      "diamond_part_hard_spins_36.txt\n",
      "diamond_part_hard_spins_37.txt\n",
      "diamond_part_hard_spins_38.txt\n",
      "diamond_part_hard_spins_39.txt\n",
      "diamond_part_hard_spins_40.txt\n",
      "[[0.5  0.5  0.5 ]\n",
      " [0.5  0.   0.  ]\n",
      " [0.   0.   0.5 ]\n",
      " [0.   0.5  0.  ]\n",
      " [0.5  0.75 0.75]\n",
      " [0.5  0.25 0.25]\n",
      " [0.   0.25 0.75]\n",
      " [0.   0.75 0.25]\n",
      " [0.75 0.5  0.75]\n",
      " [0.75 0.   0.25]\n",
      " [0.25 0.   0.75]\n",
      " [0.25 0.5  0.25]\n",
      " [0.75 0.25 0.  ]\n",
      " [0.75 0.75 0.5 ]\n",
      " [0.25 0.75 0.  ]\n",
      " [0.25 0.25 0.5 ]] [[ 0.    0.    0.    0.    0.    0.    1.    1.    1.    2.    2.    2.\n",
      "   3.    3.    3.    4.    4.    5.    5.    5.    5.    6.    6.    7.\n",
      "   7.    8.    9.   10.   11.   11.  ]\n",
      " [ 4.    5.    8.   11.   13.   15.    5.    9.   12.    6.   10.   15.\n",
      "   7.   11.   14.    8.   13.    9.   11.   12.   15.   10.   15.   11.\n",
      "  14.   13.   12.   15.   14.   15.  ]\n",
      " [ 0.    0.    0.25 -0.25  0.25 -0.25  0.    0.25  0.25  0.    0.25  0.25\n",
      "   0.    0.25  0.25  0.25  0.25  0.25 -0.25  0.25 -0.25  0.25  0.25  0.25\n",
      "   0.25  0.    0.    0.    0.    0.  ]\n",
      " [ 0.25 -0.25  0.    0.    0.25 -0.25  0.25  0.    0.25  0.25  0.    0.25\n",
      "   0.25  0.    0.25 -0.25  0.   -0.25  0.25  0.    0.   -0.25  0.   -0.25\n",
      "   0.    0.25  0.25  0.25  0.25 -0.25]\n",
      " [ 0.25 -0.25  0.25 -0.25  0.    0.    0.25  0.25  0.    0.25  0.25  0.\n",
      "   0.25  0.25  0.    0.   -0.25  0.    0.   -0.25  0.25  0.   -0.25  0.\n",
      "  -0.25 -0.25 -0.25 -0.25 -0.25  0.25]]\n",
      "(40, 6, 6, 6, 16, 3)\n"
     ]
    }
   ],
   "source": [
    "# GHO: domain correlatoins\n",
    "fpath=r'D:\\2_neutron_scattering\\0_SpinVert\\gdhfo_d7\\35mK/'\n",
    "\n",
    "fname='35mk_spins_*.txt'\n",
    "atpos, bonds, spins = \\\n",
    "    batch_load_spins(fpath, fname, nSC=40, nAtomCell=16, SC=[6,6,6], calPolF=False)\n",
    "fname='diamond_part_hard_spins_*.txt'\n",
    "_, _, spins_diamond = \\\n",
    "    batch_load_spins(fpath, fname, nSC=40, nAtomCell=8, SC=[5,5,5], calPolF=False)\n",
    "print(atpos, bonds)\n",
    "print(spins.shape)\n",
    "#print(polF.shape)"
   ]
  },
  {
   "cell_type": "code",
   "execution_count": 8,
   "metadata": {},
   "outputs": [
    {
     "name": "stdout",
     "output_type": "stream",
     "text": [
      "[[ 0.02196706  0.70427026  0.70959203]\n",
      " [-0.63147754  0.49546376  0.59644931]\n",
      " [ 0.71406973 -0.36717491 -0.59605956]\n",
      " [-0.50399464  0.14987903  0.85060313]\n",
      " [-0.63757824  0.74489972  0.19651565]\n",
      " [ 0.73026162  0.13628125  0.66943662]\n",
      " [-0.88702426 -0.41339282  0.20565589]\n",
      " [ 0.49717382  0.10016878 -0.86184941]\n",
      " [ 0.15580368 -0.04771603 -0.98663488]\n",
      " [ 0.42529216 -0.54280383 -0.72421722]\n",
      " [ 0.20179856  0.96515156  0.16661274]\n",
      " [ 0.59113422 -0.55233714 -0.58777889]\n",
      " [-0.29261238 -0.84770139 -0.44247073]\n",
      " [ 0.14114706 -0.67578572 -0.72345778]\n",
      " [-0.43933334  0.10381065 -0.89230576]\n",
      " [-0.95988577  0.28008095  0.0131898 ]]\n",
      "[[-0.57735027 -0.57735027 -0.57735027]\n",
      " [-0.57735027 -0.57735027 -0.57735027]\n",
      " [ 0.57735027  0.57735027  0.57735027]\n",
      " [ 0.57735027  0.57735027  0.57735027]\n",
      " [-0.57735027  0.57735027  0.57735027]\n",
      " [ 0.57735027 -0.57735027 -0.57735027]\n",
      " [-0.57735027  0.57735027  0.57735027]\n",
      " [-0.57735027  0.57735027  0.57735027]\n",
      " [-0.57735027  0.57735027 -0.57735027]\n",
      " [-0.57735027  0.57735027 -0.57735027]\n",
      " [-0.57735027  0.57735027 -0.57735027]\n",
      " [-0.57735027  0.57735027 -0.57735027]\n",
      " [ 0.57735027  0.57735027 -0.57735027]\n",
      " [-0.57735027 -0.57735027  0.57735027]\n",
      " [ 0.57735027  0.57735027 -0.57735027]\n",
      " [ 0.57735027  0.57735027 -0.57735027]]\n",
      "False\n"
     ]
    }
   ],
   "source": [
    "print(spins[0,0,0,0,0:16,:])\n",
    "print(polF[0,0,0,0,0:16,0:3])\n",
    "print(np.allclose(spins[11,0,0,0,0:16,:],polF[11,0,0,0,0:16,0:3]))"
   ]
  },
  {
   "cell_type": "code",
   "execution_count": 123,
   "metadata": {},
   "outputs": [
    {
     "name": "stdout",
     "output_type": "stream",
     "text": [
      "12\n"
     ]
    }
   ],
   "source": [
    "# Calculate polarization field\n",
    "polF_av, polF_av_nd = diamond_pTensor(polF, SC=[6,6,6], save=False, fpath=fpath, fname_pattern='diamond_spins_')"
   ]
  },
  {
   "cell_type": "code",
   "execution_count": 11,
   "metadata": {},
   "outputs": [
    {
     "data": {
      "text/html": [
       "<div id=\"glowscript\" class=\"glowscript\"></div>"
      ],
      "text/plain": [
       "<IPython.core.display.HTML object>"
      ]
     },
     "metadata": {},
     "output_type": "display_data"
    },
    {
     "data": {
      "application/javascript": [
       "if (typeof Jupyter !== \"undefined\") { window.__context = { glowscript_container: $(\"#glowscript\").removeAttr(\"id\")};}else{ element.textContent = ' ';}"
      ],
      "text/plain": [
       "<IPython.core.display.Javascript object>"
      ]
     },
     "metadata": {},
     "output_type": "display_data"
    },
    {
     "name": "stdout",
     "output_type": "stream",
     "text": [
      "Unit Cell: [0, 0, 0]\n"
     ]
    },
    {
     "name": "stderr",
     "output_type": "stream",
     "text": [
      "C:\\Users\\jxu\\AppData\\Local\\Temp/ipykernel_13704/1730085231.py:122: DeprecationWarning: `np.int` is a deprecated alias for the builtin `int`. To silence this warning, use `int` by itself. Doing this will not modify any behavior and is safe. When replacing `np.int`, you may wish to use e.g. `np.int64` or `np.int32` to specify the precision. If you wish to review your current use, check the release note link for additional information.\n",
      "Deprecated in NumPy 1.20; for more details and guidance: https://numpy.org/devdocs/release/1.20.0-notes.html#deprecations\n",
      "  cylinder(pos=my_vector(atpos[np.int(bonds[0,i])]), axis=my_vector(bonds[2:,i]), radius=cylr)\n"
     ]
    }
   ],
   "source": [
    "# Polt a randomly a unit cell with spins\n",
    "#plot_rand_UC(atpos, spins[0], bonds, o8b=o8b, polF_av_nd=polF_av_nd[0], SC=[6,6,6], wch_cell=None, spinl=0.25)\n",
    "plot_rand_UC(atpos, spins[0], bonds, o8b=o8b, polF_av_nd=spins_diamond[0], SC=[6,6,6], wch_cell=[0,0,0], spinl0=0.2,spinl1=0.1)\n",
    "#plot_rand_UC(atpos, spins[4], bonds, o8b=None, polF_av_nd=None, SC=[5,5,5], wch_cell=None, spinl=0.25)"
   ]
  },
  {
   "cell_type": "code",
   "execution_count": 87,
   "metadata": {},
   "outputs": [
    {
     "data": {
      "image/png": "[encoded data removed]",
      "text/plain": [
       "<Figure size 360x288 with 1 Axes>"
      ]
     },
     "metadata": {
      "needs_background": "light"
     },
     "output_type": "display_data"
    }
   ],
   "source": [
    "path = r'D:\\2_Neutron_scattering\\0_SpinVert\\gdzro_ill\\gd_ill_60mk-20k_with_paramag\\diamond_correlations\\a0_scf.txt'\n",
    "path = r'D:\\2_Neutron_scattering\\0_SpinVert\\gdzro_ill\\gd_ill_60mk-20k_with_paramag\\diamond_correlations\\diamond_Px_spinice_scf.txt'\n",
    "path = r'D:\\2_Neutron_scattering\\0_SpinVert\\0_spinvert_program\\spinvert_with_modifed\\examples\\spinice\\spinice_diamond_scf1.txt'\n",
    "path = r'D:\\2_Neutron_scattering\\0_SpinVert\\gdzro_ill\\gd_ill_60mk-20k_with_paramag\\diamond_part_scf.txt'\n",
    "\n",
    "scf = np.genfromtxt(path, dtype=None, skip_header=0,delimiter=None)\n",
    "fig, ax = plt.subplots(figsize=(5,4))\n",
    "ax.bar(scf[:,0],scf[:,1]*scf[:,0]**3, width=1, color='r')\n",
    "#ax.bar(scf[:,0],scf[:,1], width=1, color='r')\n",
    "plt.axhline(0, color='black', lw=2)\n",
    "plt.xticks(color='k', size=14)\n",
    "plt.yticks(color='k', size=14)    \n",
    "plt.ylabel(r'$<{\\bf S}(0)\\cdot{\\bf S}(r)>$',size=14)\n",
    "plt.xlabel(r\"$\\rm Q\\ (\\AA)$\",size=14)\n",
    "plt.show()"
   ]
  },
  {
   "cell_type": "code",
   "execution_count": 65,
   "metadata": {},
   "outputs": [
    {
     "name": "stdout",
     "output_type": "stream",
     "text": [
      "[[ 4.52070000e+00  3.15780686e-01  5.45791933e-03]\n",
      " [ 7.38220000e+00 -2.65052891e-03  3.14357137e-03]\n",
      " [ 8.65640000e+00 -7.79196695e-02  3.26071573e-03]\n",
      " [ 1.04400000e+01 -7.86052184e-02  4.69569622e-03]\n",
      " [ 1.13767000e+01  2.81690011e-02  3.29876330e-03]\n",
      " [ 1.27863000e+01  1.20552309e-02  2.22976421e-03]\n",
      " [ 1.35620000e+01  1.78188984e-03  2.90694203e-03]\n",
      " [ 1.47644000e+01  6.16903815e-03  3.37945409e-03]\n",
      " [ 1.54410000e+01 -1.41835307e-03  2.40100687e-03]\n",
      " [ 1.65071000e+01 -1.09966577e-03  2.34089120e-03]\n",
      " [ 1.71149000e+01  4.86880792e-03  3.41880486e-03]\n",
      " [ 1.80826000e+01  1.99626460e-02  4.17247371e-03]\n",
      " [ 1.86391000e+01  3.20252487e-03  2.43911505e-03]\n",
      " [ 1.95315000e+01 -6.07095606e-03  1.67678858e-03]\n",
      " [ 2.00478000e+01 -4.38029318e-03  1.93242387e-03]\n",
      " [ 2.08800000e+01  2.29799063e-02  4.59164864e-03]\n",
      " [ 2.13638000e+01 -1.50139878e-03  3.36674867e-03]\n",
      " [ 2.21466000e+01  1.85278148e-03  1.86931229e-03]\n",
      " [ 2.26033000e+01  3.37987649e-03  2.19008123e-03]\n",
      " [ 2.33445000e+01 -6.47561427e-04  2.38092827e-03]\n",
      " [ 2.37782000e+01  1.85446589e-03  2.01212432e-03]\n",
      " [ 2.44840000e+01  6.06929384e-03  2.47365987e-03]\n",
      " [ 2.48978000e+01 -2.63883556e-03  2.46280171e-03]\n",
      " [ 2.55727000e+01  3.47921919e-03  2.34428078e-03]\n",
      " [ 2.59692000e+01  4.71423270e-03  1.99212158e-03]]\n"
     ]
    },
    {
     "data": {
      "application/vnd.jupyter.widget-view+json": {
       "model_id": "0b6c94dcffb4445b9a20ff5ac9a7ad98",
       "version_major": 2,
       "version_minor": 0
      },
      "text/plain": [
       "interactive(children=(FloatSlider(value=3.7, description='r1', max=10.0, min=1.0), FloatSlider(value=3.0, desc…"
      ]
     },
     "metadata": {},
     "output_type": "display_data"
    }
   ],
   "source": [
    "data = np.genfromtxt(path, dtype=None, skip_header=0,delimiter=None)\n",
    "print(data)\n",
    "mask1 = data[:,1] >=0\n",
    "mask2 = data[:,1] < 0\n",
    "\n",
    "from ipywidgets import interact,FloatSlider\n",
    "x=np.linspace(0.4,35,100)\n",
    "\n",
    "amplitude_slider1 = FloatSlider(min=1, max=10, step=0.1, value=3.7)\n",
    "amplitude_slider2 = FloatSlider(min=1, max=10, step=1, value=3)\n",
    "@interact(r1=amplitude_slider1, r2=amplitude_slider2)\n",
    "def pltc(r1,r2):\n",
    "    fig, ax = plt.subplots(figsize=(5, 4))#,subplot_kw={'axisbg':'#EEEEEE','axisbelow':True})\n",
    "    #ax.plot(data[:,0],np.absolute(data[:,1]),color='black',linewidth=1)\n",
    "    ax.bar(data[mask1,0],np.absolute(data[mask1,1]), width=1, label='Positive')\n",
    "    ax.bar(data[mask2,0],np.absolute(data[mask2,1]), width=1, label='Negative')\n",
    "    ax.plot(x,np.exp(-x/r1),label=r'$\\exp\\left(-\\frac{r}{%1.2f}\\right)$' % r1,c='g')\n",
    "    #ax.plot(x,r2/x**3,label=r'${:2.1f}/r^3$'.format(r2),c='black')\n",
    "    ax.set_ylim(0,0.4)\n",
    "\n",
    "    plt.minorticks_on()\n",
    "    plt.xticks(color='k', size=14)\n",
    "    plt.yticks(color='k', size=14)\n",
    "    \n",
    "    plt.ylabel(r'$|<{\\bf S}(0)\\cdot{\\bf S}(r)>|$',size=14)\n",
    "    plt.xlabel(r\"$r\\ \\rm(\\AA)$\",size=14)\n",
    "    \n",
    "    handles, labels = ax.get_legend_handles_labels()\n",
    "#    ax.legend([handles[2],handles[3],handles[0],handles[1]], \n",
    "#              [labels[2],labels[3],labels[0],labels[1]],frameon=False,framealpha=1,fontsize=14)\n",
    "    ax.legend([handles[1],handles[2],handles[0]], \n",
    "              [labels[1],labels[2],labels[0]],frameon=False,framealpha=1,fontsize=14)\n",
    "    \n",
    "    plt.draw()\n",
    "    plt.show()\n",
    "    #fig.savefig(fname.replace('txt','pdf'), bbox_inches=\"tight\",verbose=True)  "
   ]
  },
  {
   "cell_type": "code",
   "execution_count": null,
   "metadata": {},
   "outputs": [],
   "source": [
    "fig, axs = plt.subplots(figsize=(5, 4))#,subplot_kw={'axisbg':'#EEEEEE','axisbelow':True})\n",
    "ax.bar(data[mask1,0],np.absolute(data[mask1,1]), width=1, color='b', label='Positive')\n",
    "ax.bar(data[mask2,0],np.absolute(data[mask2,1]), width=1, color='r', label='Negative')\n",
    "ax.set_ylim(0,0.04)\n",
    "\n",
    "plt.minorticks_on()\n",
    "plt.xticks(color='k', size=14)\n",
    "plt.yticks(color='k', size=14)\n",
    "\n",
    "plt.ylabel(r'$|<{\\bf S}(0)\\cdot{\\bf S}(r)>|$',size=14)\n",
    "plt.xlabel(r\"$r\\ \\rm(\\AA)$\",size=14)\n"
   ]
  },
  {
   "cell_type": "markdown",
   "metadata": {},
   "source": [
    "# Old codes without defining functions"
   ]
  },
  {
   "cell_type": "code",
   "execution_count": 51,
   "metadata": {
    "jupyter": {
     "outputs_hidden": false
    }
   },
   "outputs": [
    {
     "name": "stdout",
     "output_type": "stream",
     "text": [
      "spinice_spins_01.txt\n",
      "spinice_spins_01.txt\n",
      "['-0.57735026918962573', '-0.57735026918962573', '-0.57735026918962573'] [-0.5774 -0.5774 -0.5774 -0.3333 -0.3333 -0.3333 -0.3333 -0.3333 -0.3333]\n",
      "[[0.5  0.5  0.5 ]\n",
      " [0.5  0.   0.  ]\n",
      " [0.   0.   0.5 ]\n",
      " [0.   0.5  0.  ]\n",
      " [0.5  0.75 0.75]\n",
      " [0.5  0.25 0.25]\n",
      " [0.   0.25 0.75]\n",
      " [0.   0.75 0.25]\n",
      " [0.75 0.5  0.75]\n",
      " [0.75 0.   0.25]\n",
      " [0.25 0.   0.75]\n",
      " [0.25 0.5  0.25]\n",
      " [0.75 0.25 0.  ]\n",
      " [0.75 0.75 0.5 ]\n",
      " [0.25 0.75 0.  ]\n",
      " [0.25 0.25 0.5 ]] (1, 6, 6, 6, 16, 9) [-0.5774 -0.5774 -0.5774 -0.3333 -0.3333 -0.3333 -0.3333 -0.3333 -0.3333]\n"
     ]
    }
   ],
   "source": [
    "################ This code allows choosing the cells to view #######\n",
    "##### First load data: poss[ibox,cell_idx 1:3, idx_atom 1:16, xyz 1:3]\n",
    "##############################################\n",
    "\n",
    "######load spin configuration files\n",
    "##Input: no. of atom per cell and supercell and no of files\n",
    "natcell,spdim,subbox,ibox=16,[6,6,6],[3,3,3],1\n",
    "#for GdZrO:16 atom in a cell, 6*6*6 supercell, size of sc to view, nb of files\n",
    "\n",
    "atpos=np.zeros([natcell,3])#store the atom positions in a cell\n",
    "spins=np.zeros(np.hstack([ibox,spdim,natcell,9]))#store the spins in a supercell for 5 runs\n",
    "spins_raw = np.zeros(np.hstack([ibox,spdim,natcell,3]))\n",
    "filepath = r'D:\\2_Neutron_scattering\\0_SpinVert\\gdzro_ill\\gd_ill_60mk-20k_with_paramag/'\n",
    "filename = '10k_0p994_s3_wl2p41_p3500i_spins*.txt'\n",
    "filepath = r'D:\\2_Neutron_scattering\\0_SpinVert\\0_spinvert_program\\spinvert_with_modifed\\examples\\spinice/'\n",
    "filename = 'spinice_spins_01.txt'\n",
    "\n",
    "# Read the 16 atom positions in a unit cell\n",
    "ii=0\n",
    "for file in os.listdir(filepath):\n",
    "    if fnmatch.fnmatch(file, filename):   \n",
    "        print(file)\n",
    "        if ii==0:\n",
    "            with open(os.path.join(filepath,file), 'r') as f:\n",
    "                i=0\n",
    "                for line in f:\n",
    "                    line=line.rstrip('\\n').split()# without giving delimenter, it will treat conseutive space as one\n",
    "                    if line[0]==\"SITE\":\n",
    "                        atpos[i,:]=line[1:]#automatically convert string to np.array\n",
    "                        i=i+1\n",
    "\n",
    "# Local [111] axes for the 16 atoms\n",
    "aniso = np.array([[1,1,1],[1,1,1],[1,1,1],[1,1,1],\n",
    "                  [1,-1,-1],[1,-1,-1],[1,-1,-1],[1,-1,-1],\n",
    "                  [-1,1,-1],[-1,1,-1],[-1,1,-1],[-1,1,-1],\n",
    "                  [-1,-1,1],[-1,-1,1],[-1,-1,1],[-1,-1,1]])/np.sqrt(3.)\n",
    "\n",
    "# Read all the spin orientations with doing Sx*local11,Sy*local11,Sz*local11\n",
    "ii=0 #index for different files\n",
    "jj=0 # print the first line\n",
    "for file in os.listdir(filepath):\n",
    "    if fnmatch.fnmatch(file, filename):   \n",
    "        print(file)\n",
    "        with open(os.path.join(filepath,file), 'r') as f:\n",
    "            for line in f:\n",
    "                line=line.rstrip('\\n').split()# without giving delimenter, it will treat conseutive space as one\n",
    "                if line[0]==\"SPIN\":\n",
    "                    idxsp=np.array(line[1:5],dtype='int32')# atom index 1-16, superCell idx [i,j,k]\n",
    "                    sxyz = np.array(line[5:8],dtype='float') # spin orientatoins\n",
    "                    # For Heisenberg: Sx*local,Sy*local,Sz*local\n",
    "                    #spins[ii,idxsp[1],idxsp[2],idxsp[3],idxsp[0]-1,:]=np.hstack(\n",
    "                        #[sxyz[0]*aniso[idxsp[0]-1,:],sxyz[1]*aniso[idxsp[0]-1,:],sxyz[2]*aniso[idxsp[0]-1,:]])\n",
    "                    #print np.dot(sxyz, aniso[idxsp[0]-1,:])\n",
    "                    # For Spin ice: only the for 3 elements is needed Si*localZ_i=+/-1 * localZ_i,  \n",
    "                    # the rest is not used!\n",
    "                    spins[ii,idxsp[1],idxsp[2],idxsp[3],idxsp[0]-1,:]=np.hstack(\n",
    "                        [(sxyz@aniso[idxsp[0]-1,:])*aniso[idxsp[0]-1,:],\n",
    "                         sxyz[1]*aniso[idxsp[0]-1,:],\n",
    "                         sxyz[2]*aniso[idxsp[0]-1,:]])\n",
    "                    spins_raw[ii,idxsp[1],idxsp[2],idxsp[3],idxsp[0]-1,:] = sxyz\n",
    "                    if jj<1:\n",
    "                        print(line[5:8], spins[ii,idxsp[1],idxsp[2],idxsp[3],idxsp[0]-1,:])\n",
    "                        jj += 1\n",
    "        ii=ii+1\n",
    "\n",
    "        \n",
    "##### find the nearest Gd-Gd neighers\n",
    "bonds = np.zeros([5,1000])#store the 30 bonds in the unitCell: atom1,atom2,pos[a2]-pos[a1]\n",
    "idx = 0\n",
    "for i in np.arange(0,len(atpos)-1,1):\n",
    "    for ii in np.arange(i+1,len(atpos),1):\n",
    "        distance = LA.norm(atpos[i]-atpos[ii])\n",
    "        if distance==np.sqrt(2)/4 and ~np.in1d(ii,bonds[0,np.where(bonds[1,:]==i)])[0]:\n",
    "            bonds[:,idx]=np.append(np.array([i, ii]),atpos[ii]-atpos[i])\n",
    "            idx +=1\n",
    "            \n",
    "print(atpos, spins.shape, spins[0,0,0,0,0,:])"
   ]
  },
  {
   "cell_type": "code",
   "execution_count": 52,
   "metadata": {
    "jupyter": {
     "outputs_hidden": false
    }
   },
   "outputs": [
    {
     "name": "stdout",
     "output_type": "stream",
     "text": [
      "[[0.5  0.5  0.5 ]\n",
      " [0.5  0.75 0.75]\n",
      " [0.75 0.5  0.75]\n",
      " [0.75 0.75 0.5 ]]\n",
      "[[0.625 0.625 0.625]\n",
      " [0.625 0.125 0.125]\n",
      " [0.125 0.125 0.625]\n",
      " [0.125 0.625 0.125]\n",
      " [0.375 0.375 0.375]] (5, 3)\n",
      "[[ 0  4  8 13]\n",
      " [ 1  5  9 12]\n",
      " [ 2  6 10 15]\n",
      " [ 3  7 11 14]\n",
      " [ 0  5 11 15]]\n",
      "[[0.625 0.625 0.625]\n",
      " [0.625 0.125 0.125]\n",
      " [0.125 0.125 0.625]\n",
      " [0.125 0.625 0.125]\n",
      " [0.375 0.375 0.375]\n",
      " [0.375 0.875 0.875]\n",
      " [0.875 0.375 0.875]\n",
      " [0.875 0.875 0.375]]\n"
     ]
    }
   ],
   "source": [
    "# Diamond lattic: center of the tetrahedra (5) + and three from O+0.25[111] \n",
    "# tetrahedra within a unit cell\n",
    "tetra = np.array([[0,4,8,13],\n",
    "                  [1,5,9,12],\n",
    "                  [2,6,10,15],\n",
    "                  [3,7,11,14],\n",
    "                  [0,5,11,15]]) \n",
    "\n",
    "print(atpos[tetra[0,:]])\n",
    "diamond = np.vstack(atpos[tetra,:].sum(axis=1)/4.)#.flatten()\n",
    "print(diamond, diamond.shape)\n",
    "\n",
    "print(tetra)\n",
    "\n",
    "o8b = atpos[tetra,:].sum(axis=1)/4.\n",
    "theOther3o = o8b[0,:] - np.array([[1,-1,-1], [-1,1,-1], [-1,-1,1]])/4.\n",
    "o8b = np.vstack([o8b,theOther3o])\n",
    "print(o8b)\n",
    "\n",
    "o8b = np.array([ [ 0.625,  0.625,  0.625],\n",
    "                 [ 0.625,  0.125,  0.125],\n",
    "                 [ 0.125,  0.125,  0.625],\n",
    "                 [ 0.125,  0.625,  0.125],\n",
    "                 [ 0.375,  0.375,  0.375],\n",
    "                 [ 0.375,  0.875,  0.875],\n",
    "                 [ 0.875,  0.375,  0.875],\n",
    "                 [ 0.875,  0.875,  0.375]])"
   ]
  },
  {
   "cell_type": "code",
   "execution_count": 53,
   "metadata": {
    "jupyter": {
     "outputs_hidden": false
    }
   },
   "outputs": [
    {
     "name": "stdout",
     "output_type": "stream",
     "text": [
      "[[ 0.     0.     0.     0.     0.    -0.125 -0.125 -0.125]\n",
      " [ 0.     4.     0.     0.     0.    -0.125  0.125  0.125]\n",
      " [ 0.     8.     0.     0.     0.     0.125 -0.125  0.125]\n",
      " [ 0.    13.     0.     0.     0.     0.125  0.125 -0.125]\n",
      " [ 1.     1.     0.     0.     0.    -0.125 -0.125 -0.125]\n",
      " [ 1.     5.     0.     0.     0.    -0.125  0.125  0.125]\n",
      " [ 1.     9.     0.     0.     0.     0.125 -0.125  0.125]\n",
      " [ 1.    12.     0.     0.     0.     0.125  0.125 -0.125]\n",
      " [ 2.     2.     0.     0.     0.    -0.125 -0.125 -0.125]\n",
      " [ 2.     6.     0.     0.     0.    -0.125  0.125  0.125]\n",
      " [ 2.    10.     0.     0.     0.     0.125 -0.125  0.125]\n",
      " [ 2.    15.     0.     0.     0.     0.125  0.125 -0.125]\n",
      " [ 3.     3.     0.     0.     0.    -0.125 -0.125 -0.125]\n",
      " [ 3.     7.     0.     0.     0.    -0.125  0.125  0.125]\n",
      " [ 3.    11.     0.     0.     0.     0.125 -0.125  0.125]\n",
      " [ 3.    14.     0.     0.     0.     0.125  0.125 -0.125]\n",
      " [ 4.     0.     0.     0.     0.     0.125  0.125  0.125]\n",
      " [ 4.     5.     0.     0.     0.     0.125 -0.125 -0.125]\n",
      " [ 4.    11.     0.     0.     0.    -0.125  0.125 -0.125]\n",
      " [ 4.    15.     0.     0.     0.    -0.125 -0.125  0.125]\n",
      " [ 5.     4.     0.     0.     0.     0.125 -0.125 -0.125]\n",
      " [ 5.    14.     0.     0.     1.    -0.125 -0.125  0.125]\n",
      " [ 5.    10.     0.     1.     0.    -0.125  0.125 -0.125]\n",
      " [ 5.     1.     0.     1.     1.     0.125  0.125  0.125]\n",
      " [ 6.     8.     0.     0.     0.    -0.125  0.125 -0.125]\n",
      " [ 6.    12.     0.     0.     1.    -0.125 -0.125  0.125]\n",
      " [ 6.     6.     1.     0.     0.     0.125 -0.125 -0.125]\n",
      " [ 6.     3.     1.     0.     1.     0.125  0.125  0.125]\n",
      " [ 7.    13.     0.     0.     0.    -0.125 -0.125  0.125]\n",
      " [ 7.     9.     0.     1.     0.    -0.125  0.125 -0.125]\n",
      " [ 7.     7.     1.     0.     0.     0.125 -0.125 -0.125]\n",
      " [ 7.     2.     1.     1.     0.     0.125  0.125  0.125]]\n"
     ]
    }
   ],
   "source": [
    "# Find the neigbors of oxygen ions on the first unit cell\n",
    "# create a 333 supercell and search neighbor for the O ions in the centeral cell\n",
    "permu=np.array(list(itertools.product([0,1,-1], repeat=3) ) )\n",
    "allpos = np.vstack([atpos+item for item in permu])\n",
    "\n",
    "orBondsIdx = np.zeros([32,2],dtype=int) #store the 32 R-O(8b) bonds in the unitCell: idx(O8b),idx(R),\n",
    "orBonds = np.zeros([32,8])#store the 32 R-O(8b) bonds in the unitCell: idx(O8b),idx(R), dL, pos[a2]-pos[a1]\n",
    "idx = 0\n",
    "for i in np.arange(0,len(o8b),1):\n",
    "    for ii in np.arange(0,len(allpos),1):\n",
    "        distance = LA.norm(o8b[i]-allpos[ii])\n",
    "        if distance==np.sqrt(3/64.):\n",
    "            ridx = np.remainder(ii,16)\n",
    "            orBondsIdx[idx,:] = [i*1., ridx]\n",
    "            orBonds[idx,:]=np.hstack( [ [i,ridx], np.trunc(allpos[ii]), allpos[ii]-o8b[i] ] )\n",
    "            idx +=  1\n",
    "\n",
    "#print orBondsIdx\n",
    "print(orBonds)"
   ]
  },
  {
   "cell_type": "code",
   "execution_count": 54,
   "metadata": {},
   "outputs": [],
   "source": [
    "############### Chekc the found O neighbors and  aniso axes #################\n",
    "# local [111] axes for the 16 atoms\n",
    "aniso0 = np.array([[1,1,1],[1,1,1],[1,1,1],[1,1,1],\n",
    "                  [1,-1,-1],[1,-1,-1],[1,-1,-1],[1,-1,-1],\n",
    "                  [-1,1,-1],[-1,1,-1],[-1,1,-1],[-1,1,-1],\n",
    "                  [-1,-1,1],[-1,-1,1],[-1,-1,1],[-1,-1,1]])/2."
   ]
  },
  {
   "cell_type": "markdown",
   "metadata": {},
   "source": [
    "## Plot the first unit cell"
   ]
  },
  {
   "cell_type": "code",
   "execution_count": 61,
   "metadata": {
    "jupyter": {
     "outputs_hidden": false
    }
   },
   "outputs": [
    {
     "data": {
      "text/html": [
       "<div id=\"glowscript\" class=\"glowscript\"></div>"
      ],
      "text/plain": [
       "<IPython.core.display.HTML object>"
      ]
     },
     "metadata": {},
     "output_type": "display_data"
    },
    {
     "data": {
      "application/javascript": [
       "if (typeof Jupyter !== \"undefined\") { window.__context = { glowscript_container: $(\"#glowscript\").removeAttr(\"id\")};}else{ element.textContent = ' ';}"
      ],
      "text/plain": [
       "<IPython.core.display.Javascript object>"
      ]
     },
     "metadata": {},
     "output_type": "display_data"
    },
    {
     "name": "stdout",
     "output_type": "stream",
     "text": [
      "[[-1.1547  0.      0.    ]\n",
      " [ 0.      0.     -1.1547]\n",
      " [ 0.      1.1547  0.    ]\n",
      " [ 0.      1.1547  0.    ]\n",
      " [ 0.      0.     -1.1547]\n",
      " [ 0.      1.1547  0.    ]\n",
      " [ 0.      0.     -1.1547]\n",
      " [ 0.     -1.1547  0.    ]]\n"
     ]
    }
   ],
   "source": [
    "scene1.delete()\n",
    "scene1 = canvas(title='MagStr', width=500, height=500,x=500,y=500,center=my_vector((0.5,0.5,0.5)),\n",
    "                 background=color.white,exit=False)\n",
    "\n",
    "scene1.autocenter = True # why not working\n",
    "scene1.autoscale = True \n",
    "spinl = 0.2; atomr = 0.5; cylr = 0.005\n",
    "\n",
    "# Plot the Gd atoms, easy axes and the bonds\n",
    "spins_raw_part = spins_raw[0,0,0,0,0:16,:]\n",
    "for i in tetra.flatten():\n",
    "    #ii = i+16\n",
    "    #arrow(pos=my_vector(atpos[i]-spinl*aniso0[i]/2), axis=my_vector(spinl*aniso0[i]),shaftwidth=0.01) # easy axis\n",
    "    arrow(pos=my_vector(atpos[i]-spinl*spins_raw_part[i]/2), axis=my_vector(spinl*spins_raw_part[i]),shaftwidth=0.01) # easy axis\n",
    "    sphere(pos=my_vector(atpos[i]), color=color.yellow, radius=atomr*0.05) # atoms\n",
    "    label(pos=my_vector(atpos[i]+(0,0,0.1)), text=str(i%16))    \n",
    "\n",
    "for i in range(bonds.shape[1]):\n",
    "    cylinder(pos=my_vector(atpos[np.int(bonds[0,i])]), axis=my_vector(bonds[2:,i]), radius=cylr)\n",
    "\n",
    "# Plot the O atoms and the surrouding Gd (slightly shfited along local 111, to compare with the Gd)\n",
    "pol = sc6[0:8,4:7]*2 # you first should run cells below to have sc6\n",
    "#print(pol)\n",
    "hsv = my_vector((0.6667+i*0.333/8,1,0.5))\n",
    "for i in range(len(o8b)):\n",
    "    sphere(pos=my_vector(o8b[i]), color=color.hsv_to_rgb(hsv),radius=atomr*0.1) # color: blue-red\n",
    "    arrow(pos=my_vector(o8b[i]-spinl*pol[i]/2), axis=my_vector(spinl*pol[i]),shaftwidth=0.01,color=color.black) # polarization\n",
    "    around = orBonds[orBonds[:,0]==i]\n",
    "#     for ii in range(len(around)):\n",
    "#         sphere(pos=my_vector(o8b[i]+around[ii,5:]*0.8), color=color.hsv_to_rgb(hsv),\n",
    "#                          radius=atomr*0.02)\n",
    "        \n",
    "#scene1.lights = []\n",
    "#scene1.ambient= 2\n"
   ]
  },
  {
   "cell_type": "markdown",
   "metadata": {},
   "source": [
    "## Randomly plot unit cell"
   ]
  },
  {
   "cell_type": "code",
   "execution_count": 62,
   "metadata": {},
   "outputs": [
    {
     "data": {
      "text/html": [
       "<div id=\"glowscript\" class=\"glowscript\"></div>"
      ],
      "text/plain": [
       "<IPython.core.display.HTML object>"
      ]
     },
     "metadata": {},
     "output_type": "display_data"
    },
    {
     "data": {
      "application/javascript": [
       "if (typeof Jupyter !== \"undefined\") { window.__context = { glowscript_container: $(\"#glowscript\").removeAttr(\"id\")};}else{ element.textContent = ' ';}"
      ],
      "text/plain": [
       "<IPython.core.display.Javascript object>"
      ]
     },
     "metadata": {},
     "output_type": "display_data"
    },
    {
     "name": "stdout",
     "output_type": "stream",
     "text": [
      "[4 4 3]\n"
     ]
    }
   ],
   "source": [
    "#scene1.delete()\n",
    "scene1 = canvas(title='MagStr', width=500, height=500,x=500,y=500,center=my_vector((0.5,0.5,0.5)),\n",
    "                 background=color.white,exit=False)\n",
    "\n",
    "scene1.autocenter = True # why not working\n",
    "scene1.autoscale = True \n",
    "spinl = 0.2; atomr = 0.5; cylr = 0.005\n",
    "\n",
    "wch_sc = 0 # np.random.randint(0,5,1)\n",
    "wch_cell = np.random.randint(0,6,3)\n",
    "print(wch_cell)\n",
    "# Plot the Gd atoms, easy axes and the bonds\n",
    "for i in tetra.flatten():\n",
    "    spin = spins_raw[wch_sc,wch_cell[0],wch_cell[1],wch_cell[2],i,:]\n",
    "    arrow(pos=my_vector(atpos[i]-spinl*spin/2), axis=my_vector(spinl*spin),shaftwidth=0.01) # spin\n",
    "    sphere(pos=my_vector(atpos[i]), color=color.yellow, radius=atomr*0.05) # atoms\n",
    "    label(pos=my_vector(atpos[i]+(0,0,0.1)), text=str(i%16))    \n",
    "\n",
    "for i in range(bonds.shape[1]):\n",
    "    cylinder(pos=my_vector(atpos[np.int(bonds[0,i])]), axis=my_vector(bonds[2:,i]), radius=cylr)\n",
    "\n",
    "# Plot the O atoms and the surrouding Gd (slightly shfited along local 111, to compare with the Gd)\n",
    "hsv = my_vector((0.6667+i*0.333/8,1,0.5))\n",
    "for i in range(len(o8b)-3):\n",
    "    pol = sc6_nd[wch_cell[0],wch_cell[1],wch_cell[2],i, :]*2 # you should run the codes below first\n",
    "    sphere(pos=my_vector(o8b[i]), color=color.hsv_to_rgb(hsv),radius=atomr*0.1) # color: blue-red\n",
    "    arrow(pos=my_vector(o8b[i]-spinl*pol/2), axis=my_vector(spinl*pol),shaftwidth=0.01,color=color.black) # polarization\n",
    "    around = orBonds[orBonds[:,0]==i]\n",
    "#     for ii in range(len(around)):\n",
    "#         sphere(pos=my_vector(o8b[i]+around[ii,5:]*0.8), color=color.hsv_to_rgb(hsv),\n",
    "#                          radius=atomr*0.02)\n",
    "        \n",
    "#scene1.lights = []\n",
    "#scene1.ambient= 2\n"
   ]
  }
 ],
 "metadata": {
  "anaconda-cloud": {},
  "kernelspec": {
   "display_name": "Python 3 (ipykernel)",
   "language": "python",
   "name": "python3"
  },
  "language_info": {
   "codemirror_mode": {
    "name": "ipython",
    "version": 3
   },
   "file_extension": ".py",
   "mimetype": "text/x-python",
   "name": "python",
   "nbconvert_exporter": "python",
   "pygments_lexer": "ipython3",
   "version": "3.9.7"
  }
 },
 "nbformat": 4,
 "nbformat_minor": 4
}

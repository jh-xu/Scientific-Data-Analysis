{
 "cells": [
  {
   "cell_type": "markdown",
   "metadata": {},
   "source": [
    "# Mcstas for pol_Bender"
   ]
  },
  {
   "cell_type": "markdown",
   "metadata": {},
   "source": [
    "* Problems:\n",
    "> 1. The difference between MeanPolLambda_monitor and PolLambda_monitor?\n",
    "> 2. Could not see 3D view of the instrument (black black window)\n",
    "> 3. How to get the real flux? Now too low\n",
    "> 4. Parallel computing?\n",
    "> 5. How to print out the calculated parameters e.g. Bender length while running for checking\n",
    "> 6. The monitors used are right?\n",
    "\n",
    "* Bender vs pol_Bender\n",
    "> 1. Cylindrical (but with _h_ and _w_) - Rectangular\n",
    "> 2. No Rotation - Need Rotation after it"
   ]
  },
  {
   "cell_type": "code",
   "execution_count": 1,
   "metadata": {},
   "outputs": [],
   "source": [
    "# mcrun Pol_Bender.instr -N11 BENDERRADIUS=5,15 BENDERLENGTH=0.154\n",
    "from matplotlib.pyplot import cm\n",
    "import numpy as np\n",
    "import matplotlib.pyplot as plt\n",
    "%matplotlib ipympl\n",
    "plt.style.use('seaborn')"
   ]
  },
  {
   "cell_type": "code",
   "execution_count": 21,
   "metadata": {},
   "outputs": [],
   "source": [
    "plt.close('all')"
   ]
  },
  {
   "cell_type": "code",
   "execution_count": 22,
   "metadata": {},
   "outputs": [
    {
     "name": "stdout",
     "output_type": "stream",
     "text": [
      "461.53846153846155\n",
      "3.1250000000000004\n"
     ]
    },
    {
     "data": {
      "text/plain": [
       "1e-05"
      ]
     },
     "execution_count": 22,
     "metadata": {},
     "output_type": "execute_result"
    }
   ],
   "source": [
    "print(60/0.13)\n",
    "print(0.05**2/8/0.00010)\n",
    "0.00013\n",
    "0.00001"
   ]
  },
  {
   "cell_type": "code",
   "execution_count": 2,
   "metadata": {},
   "outputs": [
    {
     "name": "stdout",
     "output_type": "stream",
     "text": [
      "[1.  1.2 1.4 1.6 1.8 2. ] \n",
      " [0.006228  0.0074736 0.0087192 0.0099648 0.0112104 0.012456 ] \n",
      " [6710936.2434401  4660372.39127785 3423947.06297964 2621459.47009379\n",
      " 2071276.61834571 1677734.06086003] \n",
      " [83591.42184829 69659.51820691 59708.15846306 52244.63865518\n",
      " 46439.67880461 41795.71092414]\n"
     ]
    }
   ],
   "source": [
    "Lc = np.linspace(1,2, num=6, endpoint=True) # critical lambda\n",
    "Ac = Lc*(1.73*3.6)*1e-3 # critical angle in rad\n",
    "Rs = 2*(0.06/461)/Ac**2*1e6 # radius in meter\n",
    "Ls = Ac*(2*Rs) # length in m\n",
    "print(Lc, '\\n', Ac,'\\n', Rs,'\\n', Ls)"
   ]
  },
  {
   "cell_type": "code",
   "execution_count": 3,
   "metadata": {},
   "outputs": [],
   "source": [
    "from matplotlib import rcParams\n",
    "rcParams['axes.titley'] = 1.1"
   ]
  },
  {
   "cell_type": "code",
   "execution_count": 26,
   "metadata": {},
   "outputs": [
    {
     "name": "stdout",
     "output_type": "stream",
     "text": [
      "The component named \"lamM_piece_out\" had no data file and will not be loaded.\n",
      "number of elements in data list = 17\n"
     ]
    },
    {
     "data": {
      "application/vnd.jupyter.widget-view+json": {
       "model_id": "079280297ed64782a5620117bb2169c4",
       "version_major": 2,
       "version_minor": 0
      },
      "text/plain": [
       "Canvas(toolbar=Toolbar(toolitems=[('Home', 'Reset original view', 'home', 'home'), ('Back', 'Back to previous …"
      ]
     },
     "metadata": {},
     "output_type": "display_data"
    },
    {
     "name": "stdout",
     "output_type": "stream",
     "text": [
      "Plotting data with name psdStart\n",
      "Plotting data with name psdSlit\n",
      "Plotting data with name lamBeforeBender\n",
      "Plotting data with name div_monitor_beforeBender\n",
      "Plotting data with name div_monitor_afterBender\n",
      "Plotting data with name Hdiv_after_bender\n",
      "Plotting data with name Hdiv_after_benderU\n",
      "Plotting data with name Hdiv_after_benderD\n",
      "Plotting data with name lamBender_beforeCol\n",
      "Plotting data with name lamBender_afterCol\n",
      "Plotting data with name div_monitor_afterCol\n",
      "Plotting data with name PSD_allSU_afterCol\n",
      "Plotting data with name PSD_allSD_afterCol\n",
      "Plotting data with name Hdiv_after_col\n",
      "Plotting data with name Hdiv_after_colU\n",
      "Plotting data with name Hdiv_after_colD\n",
      "Plotting data with name meanpollambdaMonitorY_afterCol\n"
     ]
    },
    {
     "data": {
      "text/plain": [
       "<__main__.make_sub_plot at 0x1250a83aca0>"
      ]
     },
     "execution_count": 26,
     "metadata": {},
     "output_type": "execute_result"
    }
   ],
   "source": [
    "data = load_results(r'D:\\5_Instrument\\Mira_Bender_ref_tran\\0_Pol_Bender_calc_R_col_div_simpler_20201203_154408')\n",
    "#data = load_results(r'D:\\5_Instrument\\Mira_Bender_ref_tran\\0_Pol_Bender_calc_R_col_div_simple_20201201_171251')\n",
    "make_sub_plot(data)"
   ]
  },
  {
   "cell_type": "markdown",
   "metadata": {},
   "source": [
    "# with Div_monitor"
   ]
  },
  {
   "cell_type": "code",
   "execution_count": 13,
   "metadata": {},
   "outputs": [
    {
     "name": "stdout",
     "output_type": "stream",
     "text": [
      "number of elements in data list = 10\n"
     ]
    },
    {
     "data": {
      "application/vnd.jupyter.widget-view+json": {
       "model_id": "ccad3bfd703c435ebb798528c9b4422b",
       "version_major": 2,
       "version_minor": 0
      },
      "text/plain": [
       "Canvas(toolbar=Toolbar(toolitems=[('Home', 'Reset original view', 'home', 'home'), ('Back', 'Back to previous …"
      ]
     },
     "metadata": {},
     "output_type": "display_data"
    },
    {
     "name": "stdout",
     "output_type": "stream",
     "text": [
      "Plotting data with name psdStart\n",
      "Plotting data with name psdSlit\n",
      "Plotting data with name lamBeforeBender\n",
      "Plotting data with name div_monitor_beforeBender\n",
      "Plotting data with name div_monitor_afterBender\n",
      "Plotting data with name lamAfterBender\n",
      "Plotting data with name meanpollambdaMonitorY_beforeCol\n",
      "Plotting data with name div_monitor_beforeCol\n",
      "Plotting data with name div_monitor_afterCol\n",
      "Plotting data with name lamBender_afterCol\n"
     ]
    },
    {
     "data": {
      "text/plain": [
       "<__main__.make_sub_plot at 0x15c967b13d0>"
      ]
     },
     "execution_count": 13,
     "metadata": {},
     "output_type": "execute_result"
    }
   ],
   "source": [
    "data = load_results(r'D:\\5_Instrument\\Mira_Bender\\Pol_Bender_calc_R_col_div_20201116_173617/1')\n",
    "data = load_results(r'D:\\5_Instrument\\Mira_Bender\\Pol_Bender_calc_R_col_div_m=10_a=0/1')\n",
    "make_sub_plot(data)"
   ]
  },
  {
   "cell_type": "code",
   "execution_count": 14,
   "metadata": {},
   "outputs": [
    {
     "name": "stdout",
     "output_type": "stream",
     "text": [
      "[1.00309706 0.7523228  0.60185824 0.50154853 0.42989874 0.3761614\n",
      " 0.33436569 0.30092912 0.27357193 0.25077427 0.23148394]\n"
     ]
    }
   ],
   "source": [
    "Ls = np.linspace(0.03,0.13, num=11, endpoint=True)\n",
    "Rs = (Ls**2/8/(0.06/461))\n",
    "Ac = Ls/(2*Rs)\n",
    "Lc = Ac/(1.73*10)*1e3\n",
    "print(Lc)"
   ]
  },
  {
   "cell_type": "code",
   "execution_count": 18,
   "metadata": {},
   "outputs": [
    {
     "name": "stdout",
     "output_type": "stream",
     "text": [
      "number of elements in data list = 1\n",
      "Plotting data with name meanpollambdaMonitorY_beforeCol\n"
     ]
    },
    {
     "data": {
      "application/vnd.jupyter.widget-view+json": {
       "model_id": "4cd2258079d94763bb201075cb029483",
       "version_major": 2,
       "version_minor": 0
      },
      "text/plain": [
       "Canvas(toolbar=Toolbar(toolitems=[('Home', 'Reset original view', 'home', 'home'), ('Back', 'Back to previous …"
      ]
     },
     "metadata": {},
     "output_type": "display_data"
    },
    {
     "name": "stdout",
     "output_type": "stream",
     "text": [
      "number of elements in data list = 1\n",
      "Plotting data with name lamAfterBender\n"
     ]
    },
    {
     "data": {
      "application/vnd.jupyter.widget-view+json": {
       "model_id": "7e1e3f7da4254878ad5113c860f580c4",
       "version_major": 2,
       "version_minor": 0
      },
      "text/plain": [
       "Canvas(toolbar=Toolbar(toolitems=[('Home', 'Reset original view', 'home', 'home'), ('Back', 'Back to previous …"
      ]
     },
     "metadata": {},
     "output_type": "display_data"
    },
    {
     "data": {
      "application/vnd.jupyter.widget-view+json": {
       "model_id": "7b5e6fd10d774a4980b7ab3882f77605",
       "version_major": 2,
       "version_minor": 0
      },
      "text/plain": [
       "Canvas(toolbar=Toolbar(toolitems=[('Home', 'Reset original view', 'home', 'home'), ('Back', 'Back to previous …"
      ]
     },
     "metadata": {},
     "output_type": "display_data"
    },
    {
     "data": {
      "application/vnd.jupyter.widget-view+json": {
       "model_id": "3dfe884b49cc4ad4aa96715bcc6aa8ec",
       "version_major": 2,
       "version_minor": 0
      },
      "text/plain": [
       "Canvas(toolbar=Toolbar(toolitems=[('Home', 'Reset original view', 'home', 'home'), ('Back', 'Back to previous …"
      ]
     },
     "metadata": {},
     "output_type": "display_data"
    },
    {
     "data": {
      "text/plain": [
       "(0.5, 7.0)"
      ]
     },
     "execution_count": 18,
     "metadata": {},
     "output_type": "execute_result"
    }
   ],
   "source": [
    "plt.close(\"all\")\n",
    "\n",
    "# *axs, color = load_plot_scan(r'D:\\5_Instrument\\Mira_Bender\\Pol_Bender_calc_R_col_div_20201116_173617/', \n",
    "#                start_end_nb = [0.03,0.13,11], scanL=True, idx_pol=6, idx_I_before=2, idx_I_after=5,idx_div_col=[7,8],col_div=100)\n",
    "*axs, color = load_plot_scan(r'D:\\5_Instrument\\Mira_Bender\\Pol_Bender_calc_R_col_div_m=10_a=0/', \n",
    "               start_end_nb = [0.03,0.13,11], scanL=True, idx_pol=6, idx_I_before=2, idx_I_after=5,idx_div_col=[7,8],col_div=100)\n",
    "\n",
    "for i in range(11):\n",
    "    axs[1].axvline(Lc[i], color=color[i], ls='--')\n",
    "    \n",
    "axs[1].text(0.4,0.62, r'Vertical lines: critical $\\lambda_c=\\frac{\\gamma_c}{1.73 m\\,\\mathsf{(mrad/\\AA)}}$'+'\\ncritical angle: '+r'$\\gamma_c=\\frac{L}{2R}$'+'\\n'+ r'$m=10,\\,\\alpha=0$', transform=axs[1].transAxes,size=14)\n",
    "axs[1].set_xlim([0.5,7])"
   ]
  },
  {
   "cell_type": "code",
   "execution_count": 16,
   "metadata": {},
   "outputs": [],
   "source": [
    "def load_plot_scan(path, start_end_nb = [0.03,0.13,11], scanL=True, \n",
    "                   idx_pol=6, idx_I_before=2, idx_I_after=5, \n",
    "                   idx_div=4,idx_div_col=[7,8],col_div=80):\n",
    "    Scan=[]\n",
    "    param = np.linspace(start_end_nb[0], start_end_nb[1], start_end_nb[2], endpoint=True) # Bender radius\n",
    "    color = cm.get_cmap('jet')((param-param[0])/(param[-1]-param[0]))\n",
    "    \n",
    "    for i in range(start_end_nb[2]):\n",
    "        Scan.append(load_results(path+str(i)+'/'))\n",
    "\n",
    "    nS = 461\n",
    "\n",
    "    if scanL:\n",
    "        for i in range(len(param)):\n",
    "            if i==0:\n",
    "                fig0, ax0 = my_make_plot(Scan[i][idx_pol], c=color[i], label='L=%1.3f m,'%param[i]  +  r' R$_{calc}=$%1.1f' % (param[i]**2/8/(0.06/nS)) )\n",
    "            else:\n",
    "                ax0.errorbar(Scan[i][idx_pol].xaxis, Scan[i][idx_pol].Intensity, yerr=Scan[i][idx_pol].Error, c=color[i], \n",
    "                             label='L=%1.3f'%param[i]+' m,'  +  ' R$_{calc}=$%1.1f' % (param[i]**2/8/(0.06/nS)) )\n",
    "        plt.legend(title='nSlits=%d'%nS)\n",
    "        plt.ylim([0.995,1.001])\n",
    "\n",
    "        for i in range(len(param)):\n",
    "            if i==0:\n",
    "                fig1, ax1 = my_make_plot(Scan[i][idx_I_after]/Scan[i][idx_I_before],\n",
    "                                         c=color[i], label='L=%1.3f m,' % param[i]  +  r' R$_{calc}=$%1.1f' % (param[i]**2/8/(0.06/nS)) )\n",
    "            else:\n",
    "                ax1.errorbar(x =  Scan[i][idx_I_after].xaxis, \n",
    "                             y =  Scan[i][idx_I_after].Intensity/Scan[i][idx_I_before].Intensity, \n",
    "                             yerr=Scan[i][idx_I_after].Error    /Scan[i][idx_I_before].Intensity,\n",
    "                             c=color[i], \n",
    "                             label='L=%1.3f'%param[i]+' m,'  +  r' R$_{calc}=$%1.1f' % (param[i]**2/8/(0.06/nS)))\n",
    "        plt.legend(title='nSlits=%d'%nS)\n",
    "        \n",
    "        if idx_div !=None:        \n",
    "            fig2, ax2 = plt.subplots()        \n",
    "            xaxis = np.linspace(Scan[0][idx_div].metadata.limits[0], Scan[0][idx_div].metadata.limits[1], Scan[0][idx_div].metadata.dimension[0], endpoint=True)\n",
    "            for i in range(len(param)):\n",
    "                ax2.errorbar(x =  xaxis, \n",
    "                             y =  Scan[i][idx_div].Intensity.sum(axis=0), \n",
    "                             yerr=Scan[i][idx_div].Error.sum(axis=0),\n",
    "                             c=color[i], label='L=%1.3f'%param[i]+' m,'  +  r' R$_{calc}=$%1.1f' % (param[i]**2/8/(0.06/nS)) )\n",
    "            ax2.set_xlabel('X-divergence (deg)')\n",
    "            ax2.set_xlim([-0.5,2])\n",
    "            ax2.set_title('Divergence after bender')\n",
    "            ax2.legend(title='nSlits=%d'%nS)\n",
    "            \n",
    "        if idx_div_col !=None:\n",
    "            fig3, ax3 = plt.subplots()        \n",
    "            xaxis = np.linspace(Scan[0][idx_div_col[0]].metadata.limits[0], \n",
    "                                Scan[0][idx_div_col[0]].metadata.limits[1], \n",
    "                                Scan[0][idx_div_col[0]].metadata.dimension[0], endpoint=True)\n",
    "            for i in range(len(param)):\n",
    "                ax3.errorbar(x =  xaxis, \n",
    "                             y =  Scan[i][idx_div_col[0]].Intensity.sum(axis=0), \n",
    "                             yerr=Scan[i][idx_div_col[0]].Error.sum(axis=0),\n",
    "                             c=color[i], label='L=%1.3f'%param[i]+' m,'  +  r' R$_{calc}=$%1.1f' % (param[i]**2/8/(0.06/nS)) )\n",
    "                ax3.errorbar(x =  xaxis, \n",
    "                             y =  Scan[i][idx_div_col[1]].Intensity.sum(axis=0), \n",
    "                             yerr=Scan[i][idx_div_col[1]].Error.sum(axis=0),\n",
    "                             c=color[i], label='L=%1.3f'%param[i]+' m,'  +  r' R$_{calc}=$%1.1f' % (param[i]**2/8/(0.06/nS)), ls='--' )\n",
    "            ax3.set_xlabel('X-divergence (deg)')\n",
    "            ax3.set_xlim([-1,1])\n",
    "            ax3.set_title('Divergence before&after a collimator\\n(after bender and arm rotation)')   \n",
    "            ax3.text(0.6,0.8,'Collimator:%2.0f min\\nSolid lines: before col\\nDashed lines: after col'%col_div, transform=ax3.transAxes)\n",
    "            \n",
    "        \n",
    "    else:    \n",
    "        for i in range(len(param)):\n",
    "            if i==0:\n",
    "                figs, axs = my_make_plot(Scan[i][idx_pol], c=color[i], label='R=%1.1f m,'%param[i]  +  r' L$_{calc}=$%0.3f' % np.sqrt(8*param[i]*0.06/nS))\n",
    "            else:\n",
    "                axs.errorbar(Scan[i][idx_pol].xaxis, Scan[i][idx_pol].Intensity, yerr=Scan[i][idx_pol].Error, c=color[i], \n",
    "                             label='R=%1.1f'%param[i]+' m,'  +  r' L$_{calc}=$%0.3f' % np.sqrt(8*param[i]*0.06/nS) )\n",
    "        plt.legend(title='nSlits=%d'%nS)\n",
    "        plt.ylim([0.98,1.02])\n",
    "\n",
    "        for i in range(len(param)):\n",
    "            if i==0:\n",
    "                figs, axs = my_make_plot(Scan[i][idx_I_after]/Scan[i][idx_I_before], c=color[i], label='R=%1.1f m,'%param[i]  +  r' L$_{calc}=$%0.3f' % np.sqrt(8*param[i]*0.06/nS))\n",
    "            else:\n",
    "                axs.errorbar(x =  Scan[i][idx_I_after].xaxis, \n",
    "                             y =  Scan[i][idx_I_after].Intensity/Scan[i][idx_I_before].Intensity, \n",
    "                             yerr=Scan[i][idx_I_after].Error    /Scan[i][idx_I_before].Intensity,\n",
    "                             c=color[i], label='R=%1.1f'%param[i]+' m,'  +  r' L$_{calc}=$%0.3f' % np.sqrt(8*param[i]*0.06/nS) )\n",
    "    plt.show()\n",
    "    return ax0, ax1, ax2, ax3, color"
   ]
  },
  {
   "cell_type": "code",
   "execution_count": 172,
   "metadata": {},
   "outputs": [
    {
     "data": {
      "text/plain": [
       "(array([ 2., -6.,  2.,  2.]),\n",
       " array([[ 0.8660254 ,  0.5       ,  0.41381232, -0.15075567],\n",
       "        [ 0.28867513, -0.5       ,  0.85519107, -0.05025189],\n",
       "        [ 0.28867513, -0.5       , -0.22068937, -0.74656251],\n",
       "        [ 0.28867513, -0.5       , -0.22068937,  0.64605873]]))"
      ]
     },
     "execution_count": 172,
     "metadata": {},
     "output_type": "execute_result"
    }
   ],
   "source": [
    "test=[[0.0, 2.0, 2.0, 2.0],\n",
    " [2.0, 0.0, -2.0, -2.0],\n",
    " [2.0, -2.0, 0.0, -2.0],\n",
    " [2.0, -2.0, -2.0, 0.0]]\n",
    "from numpy import linalg as LA\n",
    "vals, vecs = LA.eig(test)\n",
    "vecs[[3]].vecs[[4]]"
   ]
  },
  {
   "cell_type": "markdown",
   "metadata": {},
   "source": [
    "# Scan L (calc Bender radius from bender length and n slites)\n",
    "> $L=\\sqrt{8R\\frac{W}{N_{Slits}}}$"
   ]
  },
  {
   "cell_type": "markdown",
   "metadata": {},
   "source": [
    "## Scan: L= 0.05:0.01:0.15, nSlits=461\n",
    "**mcstas cmd:** \n",
    "mcrun Pol_Bender_calc_R.instr -N11 BENDERLENGTH=0.05,0.15"
   ]
  },
  {
   "cell_type": "code",
   "execution_count": 20,
   "metadata": {},
   "outputs": [
    {
     "name": "stdout",
     "output_type": "stream",
     "text": [
      "number of elements in data list = 1\n",
      "Plotting data with name meanpollambdaMonitorY_beforeCol\n"
     ]
    },
    {
     "data": {
      "application/vnd.jupyter.widget-view+json": {
       "model_id": "0278b7a00ed2407a827d3abb2394e647",
       "version_major": 2,
       "version_minor": 0
      },
      "text/plain": [
       "Canvas(toolbar=Toolbar(toolitems=[('Home', 'Reset original view', 'home', 'home'), ('Back', 'Back to previous …"
      ]
     },
     "metadata": {},
     "output_type": "display_data"
    },
    {
     "name": "stdout",
     "output_type": "stream",
     "text": [
      "number of elements in data list = 1\n",
      "Plotting data with name meanpollambdaMonitorY_afterCol\n"
     ]
    },
    {
     "data": {
      "application/vnd.jupyter.widget-view+json": {
       "model_id": "c13437f645b34ab7898ab05569af06cc",
       "version_major": 2,
       "version_minor": 0
      },
      "text/plain": [
       "Canvas(toolbar=Toolbar(toolitems=[('Home', 'Reset original view', 'home', 'home'), ('Back', 'Back to previous …"
      ]
     },
     "metadata": {},
     "output_type": "display_data"
    },
    {
     "data": {
      "application/vnd.jupyter.widget-view+json": {
       "model_id": "2dbb0295b02e4b679d2e27dd3d4aa895",
       "version_major": 2,
       "version_minor": 0
      },
      "text/plain": [
       "Canvas(toolbar=Toolbar(toolitems=[('Home', 'Reset original view', 'home', 'home'), ('Back', 'Back to previous …"
      ]
     },
     "metadata": {},
     "output_type": "display_data"
    }
   ],
   "source": [
    "Scan = []\n",
    "for i in range(11):\n",
    "    #Scan.append(load_results(r'D:\\5_Instrument\\Mira_Bender\\Pol_Bender_calc_R_20201026_164310/'+str(i)+'/'))\n",
    "    #Scan.append(load_results(r'D:\\5_Instrument\\Mira_Bender\\Pol_Bender_Scan_L5-15cm_Calc_Rd1p21/'+str(i)+'/')) # 10% longer than optimal, equivalent to R_opt / 1.21\n",
    "    Scan.append(load_results(r'D:\\5_Instrument\\Mira_Bender\\Pol_Bender_Scan_L5-15cm_Calc_R_with_col40/'+str(i)+'/')) # with colimator\n",
    "    \n",
    "param = np.linspace(0.05,0.15,11,endpoint=True) # Bender radius\n",
    "color = cm.get_cmap('jet')((param-param[0])/(param[-1]-param[0]))\n",
    "\n",
    "nS = 461\n",
    "param0 = (param**2/8.0/(0.06/nS))\n",
    "labels = ['L=%1.3f m, '%x  +  'R$_{calc}=$%1.3f' % y for x, y in zip(param, param0)]\n",
    "\n",
    "for i in range(len(param)):\n",
    "    if i==0:\n",
    "        figs, axs = my_make_plot(Scan[i][3], c=color[i], label=labels[i])\n",
    "    else:\n",
    "        axs.errorbar(Scan[i][3].xaxis, Scan[i][3].Intensity, yerr=Scan[i][3].Error, c=color[i], \n",
    "                     label=labels[i])\n",
    "plt.legend(title='nS=%d' % nS)\n",
    "plt.show()\n",
    "\n",
    "for i in range(len(param)):\n",
    "    if i==0:\n",
    "        figs, axs = my_make_plot(Scan[i][4],c=color[i], label=labels[i])\n",
    "    else:\n",
    "        axs.errorbar(Scan[i][3].xaxis, Scan[i][4].Intensity, yerr=Scan[i][4].Error,c=color[i], \n",
    "                     label=labels[i])\n",
    "plt.legend(title='nS=%d' % nS)\n",
    "plt.show()\n",
    "\n",
    "# Flipping ratio: (1+P)/(1-P)\n",
    "fig, ax = plt.subplots()\n",
    "for i in range(len(param)):\n",
    "    ax.plot(Scan[i][3].xaxis, (1+Scan[i][3].Intensity) / (1-Scan[i][3].Intensity), c=color[i], label=labels[i])\n",
    "ax.legend(title='nS=%d'%nS)\n",
    "plt.title('Flipping ratio: '+r'$\\frac{1+P}{1-P}$')\n",
    "plt.show()"
   ]
  },
  {
   "cell_type": "code",
   "execution_count": 19,
   "metadata": {},
   "outputs": [
    {
     "name": "stdout",
     "output_type": "stream",
     "text": [
      "number of elements in data list = 8\n"
     ]
    },
    {
     "data": {
      "application/vnd.jupyter.widget-view+json": {
       "model_id": "0289bb95670f42bca71f3f5f5b6a23bc",
       "version_major": 2,
       "version_minor": 0
      },
      "text/plain": [
       "Canvas(toolbar=Toolbar(toolitems=[('Home', 'Reset original view', 'home', 'home'), ('Back', 'Back to previous …"
      ]
     },
     "metadata": {},
     "output_type": "display_data"
    },
    {
     "name": "stdout",
     "output_type": "stream",
     "text": [
      "Plotting data with name psdStart\n",
      "Plotting data with name lamSlit\n",
      "Plotting data with name psdSlit\n",
      "Plotting data with name meanpollambdaMonitorY_beforeCol\n",
      "Plotting data with name meanpollambdaMonitorY_afterCol\n",
      "Plotting data with name lamBender\n",
      "Plotting data with name psdBender\n",
      "Plotting data with name pollambdaMonitorY\n"
     ]
    },
    {
     "data": {
      "text/plain": [
       "<__main__.make_sub_plot at 0x2fa3319bfa0>"
      ]
     },
     "execution_count": 19,
     "metadata": {},
     "output_type": "execute_result"
    }
   ],
   "source": [
    "make_sub_plot(Scan[10])"
   ]
  },
  {
   "cell_type": "markdown",
   "metadata": {},
   "source": [
    "# Scan R (calc Bender length from bender radius and n slites)\n",
    "> $L=\\sqrt{8R\\frac{W}{N_{Slits}}}$"
   ]
  },
  {
   "cell_type": "markdown",
   "metadata": {},
   "source": [
    "## Scan: R=2.5 : 0.1 : 3.5, nSlits=461\n",
    "**mcstas cmd:** \n",
    "*mcrun Pol_Bender_calc_L.instr -N11 BENDERRADIUS=2.5,3.5*"
   ]
  },
  {
   "cell_type": "code",
   "execution_count": 56,
   "metadata": {},
   "outputs": [
    {
     "name": "stdout",
     "output_type": "stream",
     "text": [
      "number of elements in data list = 1\n",
      "Plotting data with name meanpollambdaMonitorY\n"
     ]
    },
    {
     "data": {
      "application/vnd.jupyter.widget-view+json": {
       "model_id": "9842762904754765aa27d8360f343f35",
       "version_major": 2,
       "version_minor": 0
      },
      "text/plain": [
       "Canvas(toolbar=Toolbar(toolitems=[('Home', 'Reset original view', 'home', 'home'), ('Back', 'Back to previous …"
      ]
     },
     "metadata": {},
     "output_type": "display_data"
    },
    {
     "name": "stdout",
     "output_type": "stream",
     "text": [
      "number of elements in data list = 1\n",
      "Plotting data with name lamBender\n"
     ]
    },
    {
     "data": {
      "application/vnd.jupyter.widget-view+json": {
       "model_id": "74136a1fd9594c8caa7965d3005e14df",
       "version_major": 2,
       "version_minor": 0
      },
      "text/plain": [
       "Canvas(toolbar=Toolbar(toolitems=[('Home', 'Reset original view', 'home', 'home'), ('Back', 'Back to previous …"
      ]
     },
     "metadata": {},
     "output_type": "display_data"
    },
    {
     "data": {
      "application/vnd.jupyter.widget-view+json": {
       "model_id": "2bd36ffb27834bca8b92b342481e299a",
       "version_major": 2,
       "version_minor": 0
      },
      "text/plain": [
       "Canvas(toolbar=Toolbar(toolitems=[('Home', 'Reset original view', 'home', 'home'), ('Back', 'Back to previous …"
      ]
     },
     "metadata": {},
     "output_type": "display_data"
    }
   ],
   "source": [
    "Scan = []\n",
    "for i in range(11):\n",
    "    Scan.append(load_results(r'D:\\5_Instrument\\Mira_Bender\\Pol_Bender_calc_L_20201026_151625/'+str(i)+'/'))\n",
    "    \n",
    "param = np.linspace(2.5,3.5,11,endpoint=True) # Bender radius\n",
    "color = cm.get_cmap('jet')((param-param[0])/(param[-1]-param[0]))\n",
    "\n",
    "nS = 461\n",
    "\n",
    "for i in range(len(param)):\n",
    "    if i==0:\n",
    "        figs, axs = my_make_plot(Scan[i][3], c=color[i], label='R=%1.1f m,'%param[i]  +  ' L$_{calc}=$%0.3f' % np.sqrt(8*param[i]*0.06/nS))\n",
    "    else:\n",
    "        axs.errorbar(Scan[i][3].xaxis, Scan[i][3].Intensity, yerr=Scan[i][3].Error, c=color[i], \n",
    "                     label='R=%1.1f'%param[i]+' m,'  +  ' L$_{calc}=$%0.3f' % np.sqrt(8*param[i]*0.06/nS) )\n",
    "plt.legend(title='nS=%d'%nS)\n",
    "plt.show()\n",
    "\n",
    "for i in range(len(param)):\n",
    "    if i==0:\n",
    "        figs, axs = my_make_plot(Scan[i][4],c=color[i], label='R=%1.1f m,'%param[i]  +  ' L$_{calc}=$%0.3f' % np.sqrt(8*param[i]*0.06/nS))\n",
    "    else:\n",
    "        axs.errorbar(Scan[i][3].xaxis, Scan[i][4].Intensity, yerr=Scan[i][4].Error,c=color[i], \n",
    "                     label='R=%1.1f'%param[i]+' m,'  +  ' L$_{calc}=$%0.3f' % np.sqrt(8*param[i]*0.06/nS) )\n",
    "plt.legend(title='nS=%d'%nS)\n",
    "plt.show()\n",
    "\n",
    "# Flipping ratio: (1+P)/(1-P)\n",
    "fig, ax = plt.subplots()\n",
    "for i in range(len(param)):\n",
    "    ax.plot(Scan[i][3].xaxis, (1+Scan[i][3].Intensity) / (1-Scan[i][3].Intensity), c=color[i], label='R=%1.1f'%param[i]+' m,'  +  ' L$_{calc}=$%0.3f' % np.sqrt(8*param[i]*0.06/50) )\n",
    "ax.legend(title='nS=%d'%nS)\n",
    "plt.title('Flipping ratio: '+r'$\\frac{1+P}{1-P}$')\n",
    "plt.show()"
   ]
  },
  {
   "cell_type": "markdown",
   "metadata": {},
   "source": [
    "## Scan R:5-15 m, nSlits=50"
   ]
  },
  {
   "cell_type": "code",
   "execution_count": 16,
   "metadata": {},
   "outputs": [
    {
     "name": "stdout",
     "output_type": "stream",
     "text": [
      "[0.21908902 0.24       0.25922963 0.27712813 0.29393877 0.30983867\n",
      " 0.32496154 0.33941125 0.35327043 0.36660606 0.37947332]\n"
     ]
    }
   ],
   "source": [
    "# L=sqrt(8Rd) = sqrt(8R*w/n)\n",
    "Rs = np.linspace(5,15,11,endpoint=True)\n",
    "Ls = np.sqrt(8*Rs*0.06/50)\n",
    "print(Ls)"
   ]
  },
  {
   "cell_type": "code",
   "execution_count": 55,
   "metadata": {},
   "outputs": [
    {
     "name": "stdout",
     "output_type": "stream",
     "text": [
      "number of elements in data list = 1\n",
      "Plotting data with name meanpollambdaMonitorY\n"
     ]
    },
    {
     "data": {
      "application/vnd.jupyter.widget-view+json": {
       "model_id": "c54142c4b8c540edabb6149d12fdd1c2",
       "version_major": 2,
       "version_minor": 0
      },
      "text/plain": [
       "Canvas(toolbar=Toolbar(toolitems=[('Home', 'Reset original view', 'home', 'home'), ('Back', 'Back to previous …"
      ]
     },
     "metadata": {},
     "output_type": "display_data"
    },
    {
     "name": "stdout",
     "output_type": "stream",
     "text": [
      "number of elements in data list = 1\n",
      "Plotting data with name lamBender\n"
     ]
    },
    {
     "data": {
      "application/vnd.jupyter.widget-view+json": {
       "model_id": "c6c9b744d70748e3a149a25ac2209fbb",
       "version_major": 2,
       "version_minor": 0
      },
      "text/plain": [
       "Canvas(toolbar=Toolbar(toolitems=[('Home', 'Reset original view', 'home', 'home'), ('Back', 'Back to previous …"
      ]
     },
     "metadata": {},
     "output_type": "display_data"
    },
    {
     "data": {
      "application/vnd.jupyter.widget-view+json": {
       "model_id": "53e71fca127e40f78defbe4239fbace0",
       "version_major": 2,
       "version_minor": 0
      },
      "text/plain": [
       "Canvas(toolbar=Toolbar(toolitems=[('Home', 'Reset original view', 'home', 'home'), ('Back', 'Back to previous …"
      ]
     },
     "metadata": {},
     "output_type": "display_data"
    }
   ],
   "source": [
    "Scan = []\n",
    "for i in range(11):\n",
    "    Scan.append(load_results(r'D:\\5_Instrument\\Mira_Bender\\Pol_Bender_calc_L_20201025_220049/'+str(i)+'/'))\n",
    "    \n",
    "param = np.linspace(5,15,11,endpoint=True) # Bender radius    \n",
    "color = cm.get_cmap('jet')((param-param[0])/(param[-1]-param[0]))\n",
    "\n",
    "nS = 50\n",
    "\n",
    "for i in range(len(param)):\n",
    "    if i==0:\n",
    "        figs, axs = my_make_plot(Scan[i][3], c=color[i], label='R=%1.1f m,'%param[i]  +  ' L$_{calc}=$%0.3f' % np.sqrt(8*param[i]*0.06/nS))\n",
    "    else:\n",
    "        axs.errorbar(Scan[i][3].xaxis, Scan[i][3].Intensity, yerr=Scan[i][3].Error, c=color[i], \n",
    "                     label='R=%1.1f'%param[i]+' m,'  +  ' L$_{calc}=$%0.3f' % np.sqrt(8*param[i]*0.06/nS) )\n",
    "plt.legend(title='nS=%d'%nS)\n",
    "plt.show()\n",
    "\n",
    "for i in range(len(param)):\n",
    "    if i==0:\n",
    "        figs, axs = my_make_plot(Scan[i][4],c=color[i], label='R=%1.1f m,'%param[i]  +  ' L$_{calc}=$%0.3f' % np.sqrt(8*param[i]*0.06/nS))\n",
    "    else:\n",
    "        axs.errorbar(Scan[i][3].xaxis, Scan[i][4].Intensity, yerr=Scan[i][4].Error,c=color[i], \n",
    "                     label='R=%1.1f'%param[i]+' m,'  +  ' L$_{calc}=$%0.3f' % np.sqrt(8*param[i]*0.06/nS) )\n",
    "plt.legend(title='nS=%d'%nS)\n",
    "plt.show()\n",
    "\n",
    "# Flipping ratio: (1+P)/(1-P)\n",
    "fig, ax = plt.subplots()\n",
    "for i in range(len(param)):\n",
    "    ax.plot(Scan[i][3].xaxis, (1+Scan[i][3].Intensity) / (1-Scan[i][3].Intensity), c=color[i], label='R=%1.1f'%param[i]+' m,'  +  ' L$_{calc}=$%0.3f' % np.sqrt(8*param[i]*0.06/50) )\n",
    "ax.legend(title='nS=%d'%nS)\n",
    "plt.title('Flipping ratio: '+r'$\\frac{1+P}{1-P}$')\n",
    "plt.show()"
   ]
  },
  {
   "cell_type": "markdown",
   "metadata": {},
   "source": [
    "# Scan Bender length: fix R=10m, W=0.06m and nSlits=50"
   ]
  },
  {
   "cell_type": "code",
   "execution_count": 84,
   "metadata": {},
   "outputs": [
    {
     "name": "stdout",
     "output_type": "stream",
     "text": [
      "The component named \"pol_monitorY\" had no data file and will not be loaded.\n",
      "The component named \"pol_monitorY\" had no data file and will not be loaded.\n",
      "The component named \"pol_monitorY\" had no data file and will not be loaded.\n",
      "The component named \"pol_monitorY\" had no data file and will not be loaded.\n",
      "The component named \"pol_monitorY\" had no data file and will not be loaded.\n",
      "The component named \"pol_monitorY\" had no data file and will not be loaded.\n",
      "The component named \"pol_monitorY\" had no data file and will not be loaded.\n",
      "The component named \"pol_monitorY\" had no data file and will not be loaded.\n",
      "The component named \"pol_monitorY\" had no data file and will not be loaded.\n",
      "The component named \"pol_monitorY\" had no data file and will not be loaded.\n",
      "The component named \"pol_monitorY\" had no data file and will not be loaded.\n",
      "The component named \"pol_monitorY\" had no data file and will not be loaded.\n",
      "The component named \"pol_monitorY\" had no data file and will not be loaded.\n",
      "The component named \"pol_monitorY\" had no data file and will not be loaded.\n",
      "The component named \"pol_monitorY\" had no data file and will not be loaded.\n",
      "The component named \"pol_monitorY\" had no data file and will not be loaded.\n",
      "The component named \"pol_monitorY\" had no data file and will not be loaded.\n",
      "The component named \"pol_monitorY\" had no data file and will not be loaded.\n",
      "The component named \"pol_monitorY\" had no data file and will not be loaded.\n"
     ]
    }
   ],
   "source": [
    "Scan = []\n",
    "for i in range(5):\n",
    "    Scan.append(load_results(r'D:\\5_Instrument\\Mira_Bender\\Pol_Bender_20201022_230552/'+str(i)+'/'))\n",
    "for i in range(9):\n",
    "    Scan.append(load_results(r'D:\\5_Instrument\\Mira_Bender\\Pol_Bender_20201022_232514/'+str(i)+'/'))\n",
    "for i in range(5):\n",
    "    Scan.append(load_results(r'D:\\5_Instrument\\Mira_Bender\\Pol_Bender_20201022_224435/'+str(i)+'/'))"
   ]
  },
  {
   "cell_type": "code",
   "execution_count": 85,
   "metadata": {},
   "outputs": [
    {
     "name": "stdout",
     "output_type": "stream",
     "text": [
      "number of elements in data list = 1\n",
      "Plotting data with name meanpollambdaMonitorY\n"
     ]
    },
    {
     "data": {
      "application/vnd.jupyter.widget-view+json": {
       "model_id": "a5eda3e66dc5407780d86164dee5529f",
       "version_major": 2,
       "version_minor": 0
      },
      "text/plain": [
       "Canvas(toolbar=Toolbar(toolitems=[('Home', 'Reset original view', 'home', 'home'), ('Back', 'Back to previous …"
      ]
     },
     "metadata": {},
     "output_type": "display_data"
    },
    {
     "name": "stdout",
     "output_type": "stream",
     "text": [
      "number of elements in data list = 1\n",
      "Plotting data with name lamBender\n"
     ]
    },
    {
     "data": {
      "application/vnd.jupyter.widget-view+json": {
       "model_id": "e1d366703e64428a99b0d523118f162a",
       "version_major": 2,
       "version_minor": 0
      },
      "text/plain": [
       "Canvas(toolbar=Toolbar(toolitems=[('Home', 'Reset original view', 'home', 'home'), ('Back', 'Back to previous …"
      ]
     },
     "metadata": {},
     "output_type": "display_data"
    },
    {
     "name": "stdout",
     "output_type": "stream",
     "text": [
      "number of elements in data list = 7\n"
     ]
    },
    {
     "data": {
      "application/vnd.jupyter.widget-view+json": {
       "model_id": "46747ed6cff2418f87270dda3df847ab",
       "version_major": 2,
       "version_minor": 0
      },
      "text/plain": [
       "Canvas(toolbar=Toolbar(toolitems=[('Home', 'Reset original view', 'home', 'home'), ('Back', 'Back to previous …"
      ]
     },
     "metadata": {},
     "output_type": "display_data"
    },
    {
     "name": "stdout",
     "output_type": "stream",
     "text": [
      "Plotting data with name psdStart\n",
      "Plotting data with name lamSlit\n",
      "Plotting data with name psdSlit\n",
      "Plotting data with name meanpollambdaMonitorY\n",
      "Plotting data with name lamBender\n",
      "Plotting data with name psdBender\n",
      "Plotting data with name pollambdaMonitorY\n"
     ]
    },
    {
     "data": {
      "text/plain": [
       "<__main__.make_sub_plot at 0x1a001707040>"
      ]
     },
     "execution_count": 85,
     "metadata": {},
     "output_type": "execute_result"
    }
   ],
   "source": [
    "BenderL = np.hstack([np.linspace(0.06,0.14,5,endpoint=True),\n",
    "                     np.linspace(0.142,0.158,9,endpoint=True),\n",
    "                     np.linspace(0.16,0.24,5,endpoint=True)])\n",
    "\n",
    "color = cm.jet(BenderL/0.24)\n",
    "for i in range(19):\n",
    "    if i==0:\n",
    "        figs, axs = my_make_plot(Scan[i][3], c=color[i],label='0.06cm')\n",
    "    else:\n",
    "        axs.errorbar(Scan[i][3].xaxis, Scan[i][3].Intensity, yerr=Scan[i][3].Error, c=color[i], label='%0.3f'%BenderL[i]+'cm')\n",
    "\n",
    "plt.legend(title='R=10m,nS=50,\\nL are')\n",
    "plt.show()\n",
    "\n",
    "for i in range(19):\n",
    "    if i==0:\n",
    "        figs, axs = my_make_plot(Scan[i][4],c=color[i],label='0.06cm')\n",
    "    else:\n",
    "        axs.errorbar(Scan[i][3].xaxis, Scan[i][4].Intensity, yerr=Scan[i][4].Error,c=color[i], label='%0.3f'%BenderL[i]+'cm')\n",
    "plt.legend(title='R=10m,nS=50,\\nL are')\n",
    "plt.show()\n",
    "make_sub_plot(Scan[10])"
   ]
  },
  {
   "cell_type": "markdown",
   "metadata": {},
   "source": [
    "# Scan Bender R at fixed Bender length=0.154 (save P max I)"
   ]
  },
  {
   "cell_type": "code",
   "execution_count": 21,
   "metadata": {},
   "outputs": [],
   "source": [
    "Scan = []\n",
    "for i in range(11):\n",
    "    Scan.append(load_results(r'D:\\5_Instrument\\Mira_Bender\\Pol_Bender_20201024_214626/'+str(i)+'/'))"
   ]
  },
  {
   "cell_type": "code",
   "execution_count": 23,
   "metadata": {},
   "outputs": [
    {
     "name": "stdout",
     "output_type": "stream",
     "text": [
      "number of elements in data list = 1\n",
      "Plotting data with name meanpollambdaMonitorY\n"
     ]
    },
    {
     "data": {
      "application/vnd.jupyter.widget-view+json": {
       "model_id": "551e64b454444d76a072d5c6f3eca1be",
       "version_major": 2,
       "version_minor": 0
      },
      "text/plain": [
       "Canvas(toolbar=Toolbar(toolitems=[('Home', 'Reset original view', 'home', 'home'), ('Back', 'Back to previous …"
      ]
     },
     "metadata": {},
     "output_type": "display_data"
    },
    {
     "name": "stdout",
     "output_type": "stream",
     "text": [
      "number of elements in data list = 1\n",
      "Plotting data with name lamBender\n"
     ]
    },
    {
     "data": {
      "application/vnd.jupyter.widget-view+json": {
       "model_id": "f04a649371ef4cd8b8b1bd26be14446f",
       "version_major": 2,
       "version_minor": 0
      },
      "text/plain": [
       "Canvas(toolbar=Toolbar(toolitems=[('Home', 'Reset original view', 'home', 'home'), ('Back', 'Back to previous …"
      ]
     },
     "metadata": {},
     "output_type": "display_data"
    },
    {
     "name": "stdout",
     "output_type": "stream",
     "text": [
      "number of elements in data list = 7\n"
     ]
    },
    {
     "data": {
      "application/vnd.jupyter.widget-view+json": {
       "model_id": "a6ea516639484f2396e1386bb2f7abe0",
       "version_major": 2,
       "version_minor": 0
      },
      "text/plain": [
       "Canvas(toolbar=Toolbar(toolitems=[('Home', 'Reset original view', 'home', 'home'), ('Back', 'Back to previous …"
      ]
     },
     "metadata": {},
     "output_type": "display_data"
    },
    {
     "name": "stdout",
     "output_type": "stream",
     "text": [
      "Plotting data with name psdStart\n",
      "Plotting data with name lamSlit\n",
      "Plotting data with name psdSlit\n",
      "Plotting data with name meanpollambdaMonitorY\n",
      "Plotting data with name lamBender\n",
      "Plotting data with name psdBender\n",
      "Plotting data with name pollambdaMonitorY\n"
     ]
    },
    {
     "data": {
      "text/plain": [
       "<__main__.make_sub_plot at 0x1527850b160>"
      ]
     },
     "execution_count": 23,
     "metadata": {},
     "output_type": "execute_result"
    }
   ],
   "source": [
    "BenderR = np.linspace(5,15,11,endpoint=True)\n",
    "color = cm.jet(BenderR/15)\n",
    "for i in range(11):\n",
    "    if i==0:\n",
    "        figs, axs = my_make_plot(Scan[i][3], c=color[i], label='5m')\n",
    "    else:\n",
    "        axs.errorbar(Scan[i][3].xaxis, Scan[i][3].Intensity, yerr=Scan[i][3].Error,c=color[i], label='%0.3f'%BenderR[i]+'m')\n",
    "plt.legend(title='L=0.154m,nS=50,\\nR are')\n",
    "plt.show()\n",
    "\n",
    "for i in range(11):\n",
    "    if i==0:\n",
    "        figs, axs = my_make_plot(Scan[i][4], c=color[i],label='5m')\n",
    "    else:\n",
    "        axs.errorbar(Scan[i][3].xaxis, Scan[i][4].Intensity, yerr=Scan[i][4].Error,c=color[i], label='%0.3f'%BenderR[i]+'m')\n",
    "plt.legend(title='L=0.154m,nS=50,\\nR are')\n",
    "plt.show()\n",
    "make_sub_plot(Scan[10])"
   ]
  },
  {
   "cell_type": "markdown",
   "metadata": {},
   "source": [
    "# Compare pol_Bender and Bender"
   ]
  },
  {
   "cell_type": "markdown",
   "metadata": {},
   "source": [
    "1. pol_Bender with\n",
    "\n",
    "rLeftUpPar     ={0.99, 0.0217, 2.6, 3.6, 0.0001},\n",
    "\n",
    "rLeftDownPar={0.99, 0.0130, 0.0, 1.0, 0.0001})\n",
    "\n",
    "2. Two runs with Bender with parameters for spin up and spin down separately"
   ]
  },
  {
   "cell_type": "markdown",
   "metadata": {},
   "source": [
    "Mcstas code\n",
    "\n",
    "/* Spin  positive Y */\n",
    "COMPONENT bender = Bender(w=0.06, h=0.12, r=BENDERRADIUS, k=NSLITS, d=WSPACER, l=BENDERLENGTH, \n",
    "    R0a=0.99, Qca=0.0217, alphaa=2.6, ma=3.6, Wa=0.0001, \n",
    "    R0i =0.99, Qci =0.0217, alphai= 2.6, mi=3.6, Wi=0.0001, \n",
    "    R0s =0.99, Qcs =0.0217, alphas=2.6, ms=3.6, Ws=0.0001)\n",
    "    AT (0, 0, BENDER_Z) RELATIVE Origin\n",
    "\n",
    "/* Spin: minus Y */\n",
    "COMPONENT bender = Bender(w=0.06, h=0.12, r=BENDERRADIUS, k=NSLITS, d=WSPACER,l=BENDERLENGTH, \n",
    "    R0a=0.99, Qca=0.013, alphaa=0, ma=1.0, Wa=0.0001, \n",
    "    R0i =0.99, Qci =0.013, alphai= 0, mi=1.0, Wi=0.0001, \n",
    "    R0s =0.99, Qcs =0.013, alphas=0, ms=1.0, Ws=0.0001)\n",
    "    AT (0, 0, BENDER_Z) RELATIVE Origin\n"
   ]
  },
  {
   "cell_type": "markdown",
   "metadata": {},
   "source": [
    "## 3rd compare: L=0.06, R=3m, nSlits=461"
   ]
  },
  {
   "cell_type": "code",
   "execution_count": 26,
   "metadata": {},
   "outputs": [
    {
     "name": "stdout",
     "output_type": "stream",
     "text": [
      "number of elements in data list = 10\n"
     ]
    },
    {
     "data": {
      "application/vnd.jupyter.widget-view+json": {
       "model_id": "bded66b25d39490d8949f9b106e97717",
       "version_major": 2,
       "version_minor": 0
      },
      "text/plain": [
       "Canvas(toolbar=Toolbar(toolitems=[('Home', 'Reset original view', 'home', 'home'), ('Back', 'Back to previous …"
      ]
     },
     "metadata": {},
     "output_type": "display_data"
    },
    {
     "name": "stdout",
     "output_type": "stream",
     "text": [
      "Plotting data with name psdStart\n",
      "Plotting data with name psdSlit\n",
      "Plotting data with name lamBeforeBender\n",
      "Plotting data with name div_monitor_beforeBender\n",
      "Plotting data with name div_monitor_afterBender\n",
      "Plotting data with name lamAfterBender\n",
      "Plotting data with name meanpollambdaMonitorY_beforeCol\n",
      "Plotting data with name div_monitor_beforeCol\n",
      "Plotting data with name div_monitor_afterCol\n",
      "Plotting data with name lamBender_afterCol\n",
      "number of elements in data list = 10\n"
     ]
    },
    {
     "data": {
      "application/vnd.jupyter.widget-view+json": {
       "model_id": "515da3e1b2a84a669e588d5cef3674cf",
       "version_major": 2,
       "version_minor": 0
      },
      "text/plain": [
       "Canvas(toolbar=Toolbar(toolitems=[('Home', 'Reset original view', 'home', 'home'), ('Back', 'Back to previous …"
      ]
     },
     "metadata": {},
     "output_type": "display_data"
    },
    {
     "name": "stdout",
     "output_type": "stream",
     "text": [
      "Plotting data with name psdStart\n",
      "Plotting data with name psdSlit\n",
      "Plotting data with name lamBeforeBender\n",
      "Plotting data with name div_monitor_beforeBender\n",
      "Plotting data with name div_monitor_afterBender\n",
      "Plotting data with name lamAfterBender\n",
      "Plotting data with name meanpollambdaMonitorY_beforeCol\n",
      "Plotting data with name div_monitor_beforeCol\n",
      "Plotting data with name div_monitor_afterCol\n",
      "Plotting data with name lamBender_afterCol\n",
      "number of elements in data list = 10\n"
     ]
    },
    {
     "data": {
      "application/vnd.jupyter.widget-view+json": {
       "model_id": "a140a71e36044ab9b0f39276da75747a",
       "version_major": 2,
       "version_minor": 0
      },
      "text/plain": [
       "Canvas(toolbar=Toolbar(toolitems=[('Home', 'Reset original view', 'home', 'home'), ('Back', 'Back to previous …"
      ]
     },
     "metadata": {},
     "output_type": "display_data"
    },
    {
     "name": "stdout",
     "output_type": "stream",
     "text": [
      "Plotting data with name psdStart\n",
      "Plotting data with name psdSlit\n",
      "Plotting data with name lamBeforeBender\n",
      "Plotting data with name div_monitor_beforeBender\n",
      "Plotting data with name div_monitor_afterBender\n",
      "Plotting data with name lamAfterBender\n",
      "Plotting data with name meanpollambdaMonitorY_beforeCol\n",
      "Plotting data with name div_monitor_beforeCol\n",
      "Plotting data with name div_monitor_afterCol\n",
      "Plotting data with name lamBender_afterCol\n"
     ]
    },
    {
     "data": {
      "text/plain": [
       "<__main__.make_sub_plot at 0x15ca3449280>"
      ]
     },
     "execution_count": 26,
     "metadata": {},
     "output_type": "execute_result"
    }
   ],
   "source": [
    "# Old Pol_Bender and Bender\n",
    "# data0 = load_results(r'D:\\5_Instrument\\Mira_Bender\\Pol_Bender_20201026_161923/')\n",
    "\n",
    "# data1 = load_results(r'D:\\5_Instrument\\Mira_Bender\\Bender_20201026_161524/') # Spin up,   100,000,000\n",
    "# data2 = load_results(r'D:\\5_Instrument\\Mira_Bender\\Bender_20201026_161720/') # Spin down, 100,000,000\n",
    "\n",
    "# New with 0.5-9A, Bender_calc_R_col_div\n",
    "data0 = load_results(r'D:\\5_Instrument\\Mira_Bender\\Pol_Bender_calc_R_col_div_20201116_173617/0')\n",
    "data1 = load_results(r'D:\\5_Instrument\\Mira_Bender\\Bender_calc_R_col_div_spin_up/0') # Spin up,   100,000,000\n",
    "data2 = load_results(r'D:\\5_Instrument\\Mira_Bender\\Bender_calc_R_col_div_spin_down/0') # Spin down, 100,000,000\n",
    "\n",
    "make_sub_plot(data0)\n",
    "make_sub_plot(data1)\n",
    "make_sub_plot(data2)"
   ]
  },
  {
   "cell_type": "markdown",
   "metadata": {},
   "source": [
    "- **Compare:**\n",
    "\n",
    "pol_Bender: polarization, intensiy \n",
    "\n",
    "**VS** \n",
    "\n",
    "Bender with params for $\\uparrow$ and $\\downarrow$: $\\frac{I(\\uparrow)-I(\\downarrow)}{I(\\uparrow)+I(\\downarrow)}$, ($I(\\uparrow)+I(\\downarrow)$)/2"
   ]
  },
  {
   "cell_type": "code",
   "execution_count": 88,
   "metadata": {},
   "outputs": [
    {
     "name": "stdout",
     "output_type": "stream",
     "text": [
      "number of elements in data list = 1\n",
      "Plotting data with name meanpollambdaMonitorY\n"
     ]
    },
    {
     "name": "stderr",
     "output_type": "stream",
     "text": [
      "<ipython-input-4-7556d292b77d>:58: RuntimeWarning: More than 20 figures have been opened. Figures created through the pyplot interface (`matplotlib.pyplot.figure`) are retained until explicitly closed and may consume too much memory. (To control this warning, see the rcParam `figure.max_open_warning`).\n",
      "  fig, (ax0) = plt.subplots()\n"
     ]
    },
    {
     "data": {
      "application/vnd.jupyter.widget-view+json": {
       "model_id": "a038a2d8de4c41819f6d6776c3ccdabe",
       "version_major": 2,
       "version_minor": 0
      },
      "text/plain": [
       "Canvas(toolbar=Toolbar(toolitems=[('Home', 'Reset original view', 'home', 'home'), ('Back', 'Back to previous …"
      ]
     },
     "metadata": {},
     "output_type": "display_data"
    },
    {
     "name": "stdout",
     "output_type": "stream",
     "text": [
      "number of elements in data list = 1\n",
      "Plotting data with name lamBender\n"
     ]
    },
    {
     "data": {
      "application/vnd.jupyter.widget-view+json": {
       "model_id": "623ea5516d0346a9ba8ce070b6ada80f",
       "version_major": 2,
       "version_minor": 0
      },
      "text/plain": [
       "Canvas(toolbar=Toolbar(toolitems=[('Home', 'Reset original view', 'home', 'home'), ('Back', 'Back to previous …"
      ]
     },
     "metadata": {},
     "output_type": "display_data"
    }
   ],
   "source": [
    "# Old Pol_Bender and Bender\n",
    "# overplot\n",
    "# Polarization\n",
    "figs, axs = my_make_plot(data0[3], label='pol_Bender')\n",
    "\n",
    "axs.plot(data1[3].xaxis, (data1[3].Intensity-data2[3].Intensity) / (data1[3].Intensity+data2[3].Intensity), label='Bender_2runs '+r'$\\frac{I(\\uparrow)-I(\\downarrow)}{I(\\uparrow)+I(\\downarrow)}$')\n",
    "\n",
    "plt.legend()\n",
    "plt.show()\n",
    "\n",
    "# Intensity\n",
    "figs, axs = my_make_plot(data0[4],label='pol_Bender')\n",
    "axs.plot(data1[3].xaxis, (data1[3].Intensity+data2[3].Intensity)/2, label='Bender_2runs '+r'($I(\\uparrow)+I(\\downarrow)$)/2')\n",
    "plt.legend()\n",
    "plt.show()"
   ]
  },
  {
   "cell_type": "code",
   "execution_count": 32,
   "metadata": {},
   "outputs": [
    {
     "name": "stdout",
     "output_type": "stream",
     "text": [
      "number of elements in data list = 1\n",
      "Plotting data with name meanpollambdaMonitorY_beforeCol\n"
     ]
    },
    {
     "data": {
      "application/vnd.jupyter.widget-view+json": {
       "model_id": "b92298e3a56347c88d6bde5c591c5ca6",
       "version_major": 2,
       "version_minor": 0
      },
      "text/plain": [
       "Canvas(toolbar=Toolbar(toolitems=[('Home', 'Reset original view', 'home', 'home'), ('Back', 'Back to previous …"
      ]
     },
     "metadata": {},
     "output_type": "display_data"
    },
    {
     "name": "stdout",
     "output_type": "stream",
     "text": [
      "number of elements in data list = 1\n",
      "Plotting data with name lamAfterBender\n"
     ]
    },
    {
     "data": {
      "application/vnd.jupyter.widget-view+json": {
       "model_id": "cb7975ea95d04998866474127149a602",
       "version_major": 2,
       "version_minor": 0
      },
      "text/plain": [
       "Canvas(toolbar=Toolbar(toolitems=[('Home', 'Reset original view', 'home', 'home'), ('Back', 'Back to previous …"
      ]
     },
     "metadata": {},
     "output_type": "display_data"
    },
    {
     "data": {
      "application/vnd.jupyter.widget-view+json": {
       "model_id": "ecee0d22d0d4485ca42f80e9b5fa97bc",
       "version_major": 2,
       "version_minor": 0
      },
      "text/plain": [
       "Canvas(toolbar=Toolbar(toolitems=[('Home', 'Reset original view', 'home', 'home'), ('Back', 'Back to previous …"
      ]
     },
     "metadata": {},
     "output_type": "display_data"
    }
   ],
   "source": [
    "# New with 0.5-9A, Bender_calc_R_col_div\n",
    "# overplot\n",
    "# Polarization\n",
    "figs, axs = my_make_plot(data0[6], label='pol_Bender')\n",
    "\n",
    "axs.plot(data1[5].xaxis, (data1[5].Intensity-data2[5].Intensity) / (data1[5].Intensity+data2[5].Intensity), label='Bender_2runs '+r'$\\frac{I(\\uparrow)-I(\\downarrow)}{I(\\uparrow)+I(\\downarrow)}$')\n",
    "\n",
    "plt.legend()\n",
    "plt.show()\n",
    "\n",
    "# Intensity\n",
    "figs, axs = my_make_plot(data0[5],label='pol_Bender')\n",
    "axs.plot(data1[5].xaxis, (data1[5].Intensity+data2[5].Intensity)/2, label='Bender_2runs '+r'($I(\\uparrow)+I(\\downarrow)$)/2')\n",
    "plt.legend()\n",
    "plt.show()\n",
    "\n",
    "# Divergenct       \n",
    "fig, axs = plt.subplots()        \n",
    "xaxis = np.linspace(data0[7].metadata.limits[0], data0[7].metadata.limits[1], data0[7].metadata.dimension[0], endpoint=True)\n",
    "axs.errorbar(x = xaxis, y = data0[7].Intensity.sum(axis=0), yerr=data0[7].Error.sum(axis=0),label='Pol_Bender')\n",
    "axs.errorbar(x = xaxis, y = data1[7].Intensity.sum(axis=0)/2, yerr=data1[7].Error.sum(axis=0)/2,label='Bender' )\n",
    "axs.set_xlabel('X-divergence (deg)')\n",
    "axs.set_xlim([-0.5,2])\n",
    "axs.set_title('Divergence after bender')\n",
    "axs.text(0.5,0.5,\"Two benders are bended to different direction\",transform=axs.transAxes)\n",
    "axs.legend()\n",
    "plt.show()"
   ]
  },
  {
   "cell_type": "markdown",
   "metadata": {},
   "source": [
    "## 2nd comapre:  L=0.2, R=10m, nSlits = 461"
   ]
  },
  {
   "cell_type": "code",
   "execution_count": 79,
   "metadata": {},
   "outputs": [
    {
     "name": "stdout",
     "output_type": "stream",
     "text": [
      "number of elements in data list = 7\n"
     ]
    },
    {
     "data": {
      "application/vnd.jupyter.widget-view+json": {
       "model_id": "d862673d636e4b22833a3723c9cab37f",
       "version_major": 2,
       "version_minor": 0
      },
      "text/plain": [
       "Canvas(toolbar=Toolbar(toolitems=[('Home', 'Reset original view', 'home', 'home'), ('Back', 'Back to previous …"
      ]
     },
     "metadata": {},
     "output_type": "display_data"
    },
    {
     "name": "stdout",
     "output_type": "stream",
     "text": [
      "Plotting data with name psdStart\n",
      "Plotting data with name lamSlit\n",
      "Plotting data with name psdSlit\n",
      "Plotting data with name meanpollambdaMonitorY\n",
      "Plotting data with name lamBender\n",
      "Plotting data with name psdBender\n",
      "Plotting data with name pollambdaMonitorY\n",
      "number of elements in data list = 5\n"
     ]
    },
    {
     "data": {
      "application/vnd.jupyter.widget-view+json": {
       "model_id": "6845c534b95241fe80b664eb33f6e62a",
       "version_major": 2,
       "version_minor": 0
      },
      "text/plain": [
       "Canvas(toolbar=Toolbar(toolitems=[('Home', 'Reset original view', 'home', 'home'), ('Back', 'Back to previous …"
      ]
     },
     "metadata": {},
     "output_type": "display_data"
    },
    {
     "name": "stdout",
     "output_type": "stream",
     "text": [
      "Plotting data with name psdStart\n",
      "Plotting data with name lamSlit\n",
      "Plotting data with name psdSlit\n",
      "Plotting data with name lamBender\n",
      "Plotting data with name psdBender\n",
      "number of elements in data list = 5\n"
     ]
    },
    {
     "data": {
      "application/vnd.jupyter.widget-view+json": {
       "model_id": "bbfb6afdfa0748a3931d8c3c4015a99c",
       "version_major": 2,
       "version_minor": 0
      },
      "text/plain": [
       "Canvas(toolbar=Toolbar(toolitems=[('Home', 'Reset original view', 'home', 'home'), ('Back', 'Back to previous …"
      ]
     },
     "metadata": {},
     "output_type": "display_data"
    },
    {
     "name": "stdout",
     "output_type": "stream",
     "text": [
      "Plotting data with name psdStart\n",
      "Plotting data with name lamSlit\n",
      "Plotting data with name psdSlit\n",
      "Plotting data with name lamBender\n",
      "Plotting data with name psdBender\n"
     ]
    },
    {
     "data": {
      "text/plain": [
       "<__main__.make_sub_plot at 0x1a0784f0910>"
      ]
     },
     "execution_count": 79,
     "metadata": {},
     "output_type": "execute_result"
    }
   ],
   "source": [
    "data0 = load_results(r'D:\\5_Instrument\\Mira_Bender\\Pol_Bender_20201026_160719/')\n",
    "\n",
    "data1 = load_results(r'D:\\5_Instrument\\Mira_Bender\\Bender_20201026_160432/') # Spin up,   100,000,000\n",
    "data2 = load_results(r'D:\\5_Instrument\\Mira_Bender\\Bender_20201026_160241/') # Spin down, 100,000,000\n",
    "\n",
    "make_sub_plot(data0)\n",
    "make_sub_plot(data1)\n",
    "make_sub_plot(data2)"
   ]
  },
  {
   "cell_type": "code",
   "execution_count": 50,
   "metadata": {},
   "outputs": [
    {
     "name": "stdout",
     "output_type": "stream",
     "text": [
      "number of elements in data list = 1\n",
      "Plotting data with name meanpollambdaMonitorY\n"
     ]
    },
    {
     "data": {
      "application/vnd.jupyter.widget-view+json": {
       "model_id": "19036fbfcfb3430085a123de63008f38",
       "version_major": 2,
       "version_minor": 0
      },
      "text/plain": [
       "Canvas(toolbar=Toolbar(toolitems=[('Home', 'Reset original view', 'home', 'home'), ('Back', 'Back to previous …"
      ]
     },
     "metadata": {},
     "output_type": "display_data"
    },
    {
     "name": "stdout",
     "output_type": "stream",
     "text": [
      "number of elements in data list = 1\n",
      "Plotting data with name lamBender\n"
     ]
    },
    {
     "data": {
      "application/vnd.jupyter.widget-view+json": {
       "model_id": "8bea832f88ad4fb9ad941dd38ee2b76f",
       "version_major": 2,
       "version_minor": 0
      },
      "text/plain": [
       "Canvas(toolbar=Toolbar(toolitems=[('Home', 'Reset original view', 'home', 'home'), ('Back', 'Back to previous …"
      ]
     },
     "metadata": {},
     "output_type": "display_data"
    }
   ],
   "source": [
    "# overplot\n",
    "figs, axs = my_make_plot(data0[3], label='pol_Bender')\n",
    "\n",
    "axs.plot(data1[3].xaxis, (data1[3].Intensity-data2[3].Intensity) / (data1[3].Intensity+data2[3].Intensity), label='Bender_2runs')\n",
    "\n",
    "plt.legend()\n",
    "plt.show()\n",
    "\n",
    "figs, axs = my_make_plot(data0[4],label='pol_Bender')\n",
    "axs.plot(data1[3].xaxis, (data1[3].Intensity+data2[3].Intensity)/2, label='Bender_2runs')\n",
    "plt.legend()\n",
    "plt.show()"
   ]
  },
  {
   "cell_type": "markdown",
   "metadata": {},
   "source": [
    "## Fist compare: L=0.2, R=10m, nSlits = 50"
   ]
  },
  {
   "cell_type": "code",
   "execution_count": null,
   "metadata": {},
   "outputs": [],
   "source": [
    "np.sin(0.2/10)*1.6*100"
   ]
  },
  {
   "cell_type": "code",
   "execution_count": 25,
   "metadata": {},
   "outputs": [
    {
     "name": "stdout",
     "output_type": "stream",
     "text": [
      "The component named \"pol_monitorY\" had no data file and will not be loaded.\n",
      "number of elements in data list = 7\n"
     ]
    },
    {
     "data": {
      "application/vnd.jupyter.widget-view+json": {
       "model_id": "83605aaced9b47ba927f296c12676df6",
       "version_major": 2,
       "version_minor": 0
      },
      "text/plain": [
       "Canvas(toolbar=Toolbar(toolitems=[('Home', 'Reset original view', 'home', 'home'), ('Back', 'Back to previous …"
      ]
     },
     "metadata": {},
     "output_type": "display_data"
    },
    {
     "name": "stdout",
     "output_type": "stream",
     "text": [
      "Plotting data with name psdStart\n",
      "Plotting data with name lamSlit\n",
      "Plotting data with name psdSlit\n",
      "Plotting data with name meanpollambdaMonitorY\n",
      "Plotting data with name lamBender\n",
      "Plotting data with name psdBender\n",
      "Plotting data with name pollambdaMonitorY\n",
      "number of elements in data list = 5\n"
     ]
    },
    {
     "data": {
      "application/vnd.jupyter.widget-view+json": {
       "model_id": "c1cc7ee1aa8649108e38b668a390fc48",
       "version_major": 2,
       "version_minor": 0
      },
      "text/plain": [
       "Canvas(toolbar=Toolbar(toolitems=[('Home', 'Reset original view', 'home', 'home'), ('Back', 'Back to previous …"
      ]
     },
     "metadata": {},
     "output_type": "display_data"
    },
    {
     "name": "stdout",
     "output_type": "stream",
     "text": [
      "Plotting data with name psdStart\n",
      "Plotting data with name lamSlit\n",
      "Plotting data with name psdSlit\n",
      "Plotting data with name lamBender\n",
      "Plotting data with name psdBender\n",
      "number of elements in data list = 5\n"
     ]
    },
    {
     "data": {
      "application/vnd.jupyter.widget-view+json": {
       "model_id": "0ef8372499954c3fbbf65538ba6dec78",
       "version_major": 2,
       "version_minor": 0
      },
      "text/plain": [
       "Canvas(toolbar=Toolbar(toolitems=[('Home', 'Reset original view', 'home', 'home'), ('Back', 'Back to previous …"
      ]
     },
     "metadata": {},
     "output_type": "display_data"
    },
    {
     "name": "stdout",
     "output_type": "stream",
     "text": [
      "Plotting data with name psdStart\n",
      "Plotting data with name lamSlit\n",
      "Plotting data with name psdSlit\n",
      "Plotting data with name lamBender\n",
      "Plotting data with name psdBender\n"
     ]
    },
    {
     "data": {
      "text/plain": [
       "<__main__.make_sub_plot at 0x152785de130>"
      ]
     },
     "execution_count": 25,
     "metadata": {},
     "output_type": "execute_result"
    }
   ],
   "source": [
    "data0 = load_results(r'D:\\5_Instrument\\Mira_Bender\\Pol_Bender_20201022_161159/')\n",
    "\n",
    "data1 = load_results(r'D:\\5_Instrument\\Mira_Bender\\Bender_20201022_171659/') # Spin up,   100,000,000\n",
    "data2 = load_results(r'D:\\5_Instrument\\Mira_Bender\\Bender_20201022_172004/') # Spin down, 100,000,000\n",
    "\n",
    "make_sub_plot(data0)\n",
    "make_sub_plot(data1)\n",
    "make_sub_plot(data2)"
   ]
  },
  {
   "cell_type": "code",
   "execution_count": 30,
   "metadata": {},
   "outputs": [
    {
     "name": "stdout",
     "output_type": "stream",
     "text": [
      "number of elements in data list = 1\n",
      "Plotting data with name meanpollambdaMonitorY\n"
     ]
    },
    {
     "data": {
      "application/vnd.jupyter.widget-view+json": {
       "model_id": "13d00a226aa54738972d8192b0c98325",
       "version_major": 2,
       "version_minor": 0
      },
      "text/plain": [
       "Canvas(toolbar=Toolbar(toolitems=[('Home', 'Reset original view', 'home', 'home'), ('Back', 'Back to previous …"
      ]
     },
     "metadata": {},
     "output_type": "display_data"
    },
    {
     "name": "stdout",
     "output_type": "stream",
     "text": [
      "number of elements in data list = 1\n",
      "Plotting data with name lamBender\n"
     ]
    },
    {
     "data": {
      "application/vnd.jupyter.widget-view+json": {
       "model_id": "aef85c6949b74df783a557ba344bf3cf",
       "version_major": 2,
       "version_minor": 0
      },
      "text/plain": [
       "Canvas(toolbar=Toolbar(toolitems=[('Home', 'Reset original view', 'home', 'home'), ('Back', 'Back to previous …"
      ]
     },
     "metadata": {},
     "output_type": "display_data"
    }
   ],
   "source": [
    "figs, axs = my_make_plot(data0[3], label='pol_Bender')\n",
    "\n",
    "axs.plot(data1[3].xaxis, (data1[3].Intensity-data2[3].Intensity) / (data1[3].Intensity+data2[3].Intensity), label='Bender_2runs')\n",
    "\n",
    "plt.legend()\n",
    "plt.show()\n",
    "\n",
    "figs, axs = my_make_plot(data0[4],label='pol_Bender')\n",
    "axs.plot(data1[3].xaxis, (data1[3].Intensity+data2[3].Intensity)/2, label='Bender_2runs')\n",
    "plt.legend()\n",
    "plt.show()"
   ]
  },
  {
   "cell_type": "code",
   "execution_count": 98,
   "metadata": {},
   "outputs": [
    {
     "name": "stdout",
     "output_type": "stream",
     "text": [
      "{'metadata': <__main__.McStasMetaData object at 0x0000018043995D00>, 'name': 'psdStart', 'Intensity': array([[6.55964520e-09, 6.40040416e-09, 6.30449764e-09, ...,\n",
      "        6.35697480e-09, 6.29002117e-09, 6.37326079e-09],\n",
      "       [6.41307107e-09, 6.44021444e-09, 6.53974010e-09, ...,\n",
      "        6.17420953e-09, 6.42754754e-09, 6.27735427e-09],\n",
      "       [6.42030931e-09, 6.41849976e-09, 6.39678509e-09, ...,\n",
      "        6.52164454e-09, 6.37326083e-09, 6.49992983e-09],\n",
      "       ...,\n",
      "       [6.46554824e-09, 6.40945198e-09, 6.35878439e-09, ...,\n",
      "        6.25925873e-09, 6.48907250e-09, 6.50535850e-09],\n",
      "       [6.38049904e-09, 6.35154613e-09, 6.26106828e-09, ...,\n",
      "        6.40402330e-09, 6.29364030e-09, 6.33164099e-09],\n",
      "       [6.49992981e-09, 6.52526362e-09, 6.36240348e-09, ...,\n",
      "        6.51259673e-09, 6.12173234e-09, 6.36783212e-09]]), 'Error': array([[1.08949777e-10, 1.07619227e-10, 1.06809877e-10, ...,\n",
      "        1.07253486e-10, 1.06687177e-10, 1.07390784e-10],\n",
      "       [1.07725668e-10, 1.07953402e-10, 1.08784348e-10, ...,\n",
      "        1.05700454e-10, 1.07847186e-10, 1.06579699e-10],\n",
      "       [1.07786444e-10, 1.07771254e-10, 1.07588797e-10, ...,\n",
      "        1.08633740e-10, 1.07390785e-10, 1.08452734e-10],\n",
      "       ...,\n",
      "       [1.08165522e-10, 1.07695268e-10, 1.07268750e-10, ...,\n",
      "        1.06425971e-10, 1.08362118e-10, 1.08498014e-10],\n",
      "       [1.07451750e-10, 1.07207680e-10, 1.06441354e-10, ...,\n",
      "        1.07649650e-10, 1.06717865e-10, 1.07039559e-10],\n",
      "       [1.08452734e-10, 1.08663878e-10, 1.07299272e-10, ...,\n",
      "        1.08558357e-10, 1.05250299e-10, 1.07345038e-10]]), 'Ncount': array([[3625., 3537., 3484., ..., 3513., 3476., 3522.],\n",
      "       [3544., 3559., 3614., ..., 3412., 3552., 3469.],\n",
      "       [3548., 3547., 3535., ..., 3604., 3522., 3592.],\n",
      "       ...,\n",
      "       [3573., 3542., 3514., ..., 3459., 3586., 3595.],\n",
      "       [3526., 3510., 3460., ..., 3539., 3478., 3499.],\n",
      "       [3592., 3606., 3516., ..., 3599., 3383., 3519.]]), 'plot_options': <__main__.McStasPlotOptions object at 0x00000180465F0C10>}\n",
      "{'info': {'Date': 'Thu Oct 22 09:57:04 2020 (1603353424)\\n', 'type': 'array_2d(40, 40)\\n', 'Source': 'Test_Pol_Bender (Pol_Bender.instr)\\n', 'component': 'psdStart\\n', 'position': '0 0 0.1\\n', 'title': 'PSD monitor\\n', 'Ncount': '10000000\\n', 'filename': 'psdSource.dat\\n', 'statistics': 'X0=-0.00218327; dX=5.77091; Y0=-0.00359121; dY=5.77016;\\n', 'signal': 'Min=5.99868e-009; Max=6.76413e-009; Mean=6.40179e-009;\\n', 'values': '1.02429e-005 4.30524e-009 5.66042e+006\\n', 'xvar': 'X\\n', 'yvar': 'Y\\n', 'xlabel': 'X position [cm]\\n', 'ylabel': 'Y position [cm]\\n', 'zvar': 'I\\n', 'zlabel': 'Signal per bin\\n', 'xylimits': '-10 10 -10 10\\n', 'variables': 'I I_err N\\n'}, 'dimension': [40, 40], 'component_name': 'psdStart', 'filename': 'psdSource.dat', 'limits': [-10.0, 10.0, -10.0, 10.0], 'xlabel': 'X position [cm]', 'ylabel': 'Y position [cm]', 'title': 'PSD monitor'}\n",
      "{'log': False, 'orders_of_mag': 300, 'colormap': 'jet', 'show_colorbar': True, 'cut_max': 1, 'cut_min': 0, 'x_limit_multiplier': 1, 'y_limit_multiplier': 1, 'custom_ylim_top': False, 'custom_ylim_bottom': False, 'custom_xlim_left': False, 'custom_xlim_right': False}\n"
     ]
    }
   ],
   "source": [
    "print(data[0].__dict__)\n",
    "print(data[0].metadata.__dict__)\n",
    "print(data[0].plot_options.__dict__)"
   ]
  },
  {
   "cell_type": "code",
   "execution_count": 61,
   "metadata": {},
   "outputs": [
    {
     "name": "stdout",
     "output_type": "stream",
     "text": [
      "{'Date': 'Thu Oct 22 09:57:04 2020 (1603353424)\\n', 'type': 'array_1d(30)\\n', 'Source': 'Test_Pol_Bender (Pol_Bender.instr)\\n', 'component': 'meanpollambdaMonitorY\\n', 'position': '0.0324179 0 2.12068\\n', 'title': 'Pol-wavelength monitor\\n', 'Ncount': '10000000\\n', 'filename': 'meanpollambdaMonY.dat\\n', 'statistics': 'X0=4.993; dX=0.288641;\\n', 'signal': 'Min=0.764013; Max=0.835681; Mean=0.798912;\\n', 'values': '23.9674 0.0238912 252336\\n', 'xvar': 'Wavelength\\n', 'yvar': '(I,I_err)\\n', 'xlabel': 'Wavelength [AA]\\n', 'ylabel': 'Mean Polarisation\\n', 'xlimits': '4.5 5.5\\n', 'variables': 'Wavelength I I_err N\\n'}\n"
     ]
    },
    {
     "data": {
      "text/plain": [
       "array([4.51666667, 4.55      , 4.58333333, 4.61666667, 4.65      ,\n",
       "       4.68333333, 4.71666667, 4.75      , 4.78333333, 4.81666667,\n",
       "       4.85      , 4.88333333, 4.91666667, 4.95      , 4.98333333,\n",
       "       5.01666667, 5.05      , 5.08333333, 5.11666667, 5.15      ,\n",
       "       5.18333333, 5.21666667, 5.25      , 5.28333333, 5.31666667,\n",
       "       5.35      , 5.38333333, 5.41666667, 5.45      , 5.48333333])"
      ]
     },
     "execution_count": 61,
     "metadata": {},
     "output_type": "execute_result"
    }
   ],
   "source": [
    "print(data[6].metadata.info)\n",
    "data[6].xaxis"
   ]
  },
  {
   "cell_type": "code",
   "execution_count": 31,
   "metadata": {},
   "outputs": [],
   "source": [
    "plt.close('all')"
   ]
  },
  {
   "cell_type": "code",
   "execution_count": 150,
   "metadata": {},
   "outputs": [
    {
     "name": "stdout",
     "output_type": "stream",
     "text": [
      "number of elements in data list = 7\n",
      "Plotting data with name psdStart\n"
     ]
    },
    {
     "data": {
      "application/vnd.jupyter.widget-view+json": {
       "model_id": "0099307c750b4fd0b080d1560053121e",
       "version_major": 2,
       "version_minor": 0
      },
      "text/plain": [
       "Canvas(toolbar=Toolbar(toolitems=[('Home', 'Reset original view', 'home', 'home'), ('Back', 'Back to previous …"
      ]
     },
     "metadata": {},
     "output_type": "display_data"
    },
    {
     "name": "stdout",
     "output_type": "stream",
     "text": [
      "Plotting data with name lamSlit\n"
     ]
    },
    {
     "data": {
      "application/vnd.jupyter.widget-view+json": {
       "model_id": "7f9f531f14814003a59101aa1b70a2ba",
       "version_major": 2,
       "version_minor": 0
      },
      "text/plain": [
       "Canvas(toolbar=Toolbar(toolitems=[('Home', 'Reset original view', 'home', 'home'), ('Back', 'Back to previous …"
      ]
     },
     "metadata": {},
     "output_type": "display_data"
    },
    {
     "name": "stdout",
     "output_type": "stream",
     "text": [
      "Plotting data with name psdSlit\n"
     ]
    },
    {
     "data": {
      "application/vnd.jupyter.widget-view+json": {
       "model_id": "e737f68d647b43cd80c6007166b023b7",
       "version_major": 2,
       "version_minor": 0
      },
      "text/plain": [
       "Canvas(toolbar=Toolbar(toolitems=[('Home', 'Reset original view', 'home', 'home'), ('Back', 'Back to previous …"
      ]
     },
     "metadata": {},
     "output_type": "display_data"
    },
    {
     "name": "stdout",
     "output_type": "stream",
     "text": [
      "Plotting data with name lamBender\n"
     ]
    },
    {
     "data": {
      "application/vnd.jupyter.widget-view+json": {
       "model_id": "f5393548bb214316bdf5b68a655bc037",
       "version_major": 2,
       "version_minor": 0
      },
      "text/plain": [
       "Canvas(toolbar=Toolbar(toolitems=[('Home', 'Reset original view', 'home', 'home'), ('Back', 'Back to previous …"
      ]
     },
     "metadata": {},
     "output_type": "display_data"
    },
    {
     "name": "stdout",
     "output_type": "stream",
     "text": [
      "Plotting data with name psdBender\n"
     ]
    },
    {
     "data": {
      "application/vnd.jupyter.widget-view+json": {
       "model_id": "6a1cc23b30c84d4aa2aab705fe7f3674",
       "version_major": 2,
       "version_minor": 0
      },
      "text/plain": [
       "Canvas(toolbar=Toolbar(toolitems=[('Home', 'Reset original view', 'home', 'home'), ('Back', 'Back to previous …"
      ]
     },
     "metadata": {},
     "output_type": "display_data"
    },
    {
     "name": "stdout",
     "output_type": "stream",
     "text": [
      "Plotting data with name pollambdaMonitorY\n"
     ]
    },
    {
     "data": {
      "application/vnd.jupyter.widget-view+json": {
       "model_id": "4dfe0ae8eeaf413bb894a01dae04c34b",
       "version_major": 2,
       "version_minor": 0
      },
      "text/plain": [
       "Canvas(toolbar=Toolbar(toolitems=[('Home', 'Reset original view', 'home', 'home'), ('Back', 'Back to previous …"
      ]
     },
     "metadata": {},
     "output_type": "display_data"
    },
    {
     "name": "stdout",
     "output_type": "stream",
     "text": [
      "Plotting data with name meanpollambdaMonitorY\n"
     ]
    },
    {
     "data": {
      "application/vnd.jupyter.widget-view+json": {
       "model_id": "867104b74bf3440a865687bfd4fa1e6d",
       "version_major": 2,
       "version_minor": 0
      },
      "text/plain": [
       "Canvas(toolbar=Toolbar(toolitems=[('Home', 'Reset original view', 'home', 'home'), ('Back', 'Back to previous …"
      ]
     },
     "metadata": {},
     "output_type": "display_data"
    }
   ],
   "source": [
    "figs, axs = my_make_plot(data0)"
   ]
  },
  {
   "cell_type": "markdown",
   "metadata": {},
   "source": [
    "# Define functions (from McstasScrpt)"
   ]
  },
  {
   "cell_type": "markdown",
   "metadata": {},
   "source": [
    "## Data class"
   ]
  },
  {
   "cell_type": "code",
   "execution_count": 1,
   "metadata": {},
   "outputs": [],
   "source": [
    "#https://github.com/PaNOSC-ViNYL/McStasScript/blob/a7aa6703a0a27b387cecdb74c495a45290be80a6/mcstasscript/data/data.py\n",
    "class McStasMetaData:\n",
    "    \"\"\"\n",
    "    Class for holding metadata for McStas dataset, is to be read from\n",
    "    mccode.sim file.\n",
    "    Attributes\n",
    "    ----------\n",
    "    info : dict\n",
    "        Contains read strings from mccode.sim in key, value\n",
    "    dimension : Int or List of Int\n",
    "        Int for 1d data set with lenght of data, Array for 2d with each\n",
    "        length\n",
    "    component_name : str\n",
    "        Name of component in McStas file\n",
    "    filename : str\n",
    "        Name of data file to read\n",
    "    limits : List\n",
    "        Limits for monitor, length=2 for 1d data and length=4 for 2d\n",
    "        data\n",
    "    title : str\n",
    "        Title of monitor when plotting\n",
    "    xlabel : str\n",
    "        Text for xlabel when plotting\n",
    "    ylabel : str\n",
    "        Text for ylabel when plotting\n",
    "    Methods\n",
    "    -------\n",
    "    add_info(key,value)\n",
    "        Adds a element to the info dictionary\n",
    "    extract_info()\n",
    "        Unpacks the information in info to class attributes\n",
    "    set_title(string)\n",
    "        Overwrites current title\n",
    "    set_xlabel(string)\n",
    "        Overwrites current xlabel\n",
    "    set_ylabel(string)\n",
    "        Overwrites current ylabel\n",
    "    \"\"\"\n",
    "\n",
    "    def __init__(self):\n",
    "        \"\"\"Creating a new instance, no parameters\"\"\"\n",
    "        self.info = {}\n",
    "\n",
    "    def add_info(self, key, value):\n",
    "        \"\"\"Adding information to info dict\"\"\"\n",
    "        self.info[key] = value\n",
    "\n",
    "    def extract_info(self):\n",
    "        \"\"\"Extracting information from info dict to class attributes\"\"\"\n",
    "\n",
    "        # Extract dimension\n",
    "        if \"type\" in self.info:\n",
    "            type_data = self.info[\"type\"]\n",
    "            if \"array_1d\" in type_data:\n",
    "                type_data = type_data.split(\"(\")[1]\n",
    "                type_data = type_data.split(\")\")[0]\n",
    "                self.dimension = int(type_data)\n",
    "            if \"array_2d\" in type_data:\n",
    "                self.dimension = []\n",
    "                type_string1 = type_data.split(\",\")[0]\n",
    "                type_string1 = type_string1.split(\"(\")[1]\n",
    "                self.dimension.append(int(type_string1))\n",
    "\n",
    "                type_string2 = type_data.split(\",\")[1]\n",
    "                type_string2 = type_string2.split(\")\")[0]\n",
    "                self.dimension.append(int(type_string2))\n",
    "        else:\n",
    "            raise NameError(\"No type in mccode data section!\")\n",
    "\n",
    "        # Extract component name\n",
    "        if \"component\" in self.info:\n",
    "            self.component_name = self.info[\"component\"].rstrip()\n",
    "\n",
    "        # Extract filename\n",
    "        if \"filename\" in self.info:\n",
    "            self.filename = self.info[\"filename\"].rstrip()\n",
    "        else:\n",
    "            # Monitors without output files does exist\n",
    "            #raise NameError(\n",
    "            #    \"No filename found in mccode data section!\")\n",
    "            print(\"The component named \\\"\" + self.component_name\n",
    "                  + \"\\\" had no data file and will not be loaded.\")\n",
    "            self.filename = \"\"\n",
    "\n",
    "        # Extract limits\n",
    "        self.limits = []\n",
    "        if \"xylimits\" in self.info:\n",
    "            # find the four numbers\n",
    "            temp_str = self.info[\"xylimits\"]\n",
    "            limits_string = temp_str.split()\n",
    "            for limit in limits_string:\n",
    "                self.limits.append(float(limit))\n",
    "\n",
    "        if \"xlimits\" in self.info:\n",
    "            # find the two numbers\n",
    "            temp_str = self.info[\"xlimits\"]\n",
    "            limits_string = temp_str.split()\n",
    "            for limit in limits_string:\n",
    "                self.limits.append(float(limit))\n",
    "\n",
    "        # Extract plotting labels and title\n",
    "        if \"xlabel\" in self.info:\n",
    "            self.xlabel = self.info[\"xlabel\"].rstrip()\n",
    "        if \"ylabel\" in self.info:\n",
    "            self.ylabel = self.info[\"ylabel\"].rstrip()\n",
    "        if \"title\" in self.info:\n",
    "            self.title = self.info[\"title\"].rstrip()\n",
    "\n",
    "    def set_title(self, string):\n",
    "        \"\"\"Sets title for plotting\"\"\"\n",
    "        self.title = string\n",
    "\n",
    "    def set_xlabel(self, string):\n",
    "        \"\"\"Sets xlabel for plotting\"\"\"\n",
    "        self.xlabel = string\n",
    "\n",
    "    def set_ylabel(self, string):\n",
    "        \"\"\"Sets ylabel for plotting\"\"\"\n",
    "        self.ylabel = string\n",
    "\n",
    "\n",
    "class McStasPlotOptions:\n",
    "    \"\"\"\n",
    "    Class that holds plotting options related to McStas data set\n",
    "    Attributes\n",
    "    ----------\n",
    "    log : bool\n",
    "        To plot on logarithmic or not, standard is linear\n",
    "    orders_of_mag : float\n",
    "        If plotting on log scale, restrict max range to orders_of_mag\n",
    "        below maximum value\n",
    "    colormap : string\n",
    "        Chosen colormap for 2d data, should be available in matplotlib\n",
    "    Methods\n",
    "    -------\n",
    "    set_options(keyword arguments)\n",
    "        Can set the class attributes using keyword options\n",
    "    \"\"\"\n",
    "\n",
    "    def __init__(self, *args, **kwargs):\n",
    "        \"\"\"Setting default values for plotting preferences\"\"\"\n",
    "        self.log = False\n",
    "        self.orders_of_mag = 300\n",
    "        self.colormap = \"viridis\"\n",
    "        self.show_colorbar = True\n",
    "        self.cut_max = 1\n",
    "        self.cut_min = 0\n",
    "        self.x_limit_multiplier = 1\n",
    "        self.y_limit_multiplier = 1\n",
    "        \n",
    "        self.custom_ylim_top = False\n",
    "        self.custom_ylim_bottom = False\n",
    "        self.custom_xlim_left = False\n",
    "        self.custom_xlim_right = False\n",
    "\n",
    "    def set_options(self, **kwargs):\n",
    "        \"\"\"Set custom values for plotting preferences\"\"\"\n",
    "        if \"log\" in kwargs:\n",
    "            log_input = kwargs[\"log\"]\n",
    "            if type(log_input) == int:\n",
    "                if log_input == 0:\n",
    "                    self.log = False\n",
    "                else:\n",
    "                    self.log = True\n",
    "            elif type(log_input) == bool:\n",
    "                self.log = log_input\n",
    "            else:\n",
    "                raise NameError(\n",
    "                    \"Log input must be either Int or Bool.\")\n",
    "\n",
    "        if \"orders_of_mag\" in kwargs:\n",
    "            self.orders_of_mag = kwargs[\"orders_of_mag\"]\n",
    "\n",
    "        if \"colormap\" in kwargs:\n",
    "            self.colormap = kwargs[\"colormap\"]\n",
    "            \n",
    "        if \"show_colorbar\" in kwargs:\n",
    "            self.show_colorbar = kwargs[\"show_colorbar\"]\n",
    "            \n",
    "        if \"cut_max\" in kwargs:\n",
    "            self.cut_max = kwargs[\"cut_max\"]\n",
    "            \n",
    "        if \"cut_min\" in kwargs:\n",
    "            self.cut_min = kwargs[\"cut_min\"]\n",
    "            \n",
    "        if \"x_axis_multiplier\" in kwargs:\n",
    "            self.x_limit_multiplier = kwargs[\"x_axis_multiplier\"]\n",
    "        \n",
    "        if \"y_axis_multiplier\" in kwargs:\n",
    "            self.y_limit_multiplier = kwargs[\"y_axis_multiplier\"]\n",
    "            \n",
    "        if \"top_lim\" in kwargs:\n",
    "            self.top_lim = kwargs[\"top_lim\"]\n",
    "            self.custom_ylim_top = True\n",
    "            \n",
    "        if \"bottom_lim\" in kwargs:\n",
    "            self.bottom_lim = kwargs[\"bottom_lim\"]\n",
    "            self.custom_ylim_bottom = True\n",
    "            \n",
    "        if \"left_lim\" in kwargs:\n",
    "            self.left_lim = kwargs[\"left_lim\"]\n",
    "            self.custom_xlim_left = True\n",
    "            \n",
    "        if \"right_lim\" in kwargs:\n",
    "            self.right_lim = kwargs[\"right_lim\"]\n",
    "            self.custom_xlim_right = True\n",
    "            \n",
    "\n",
    "\n",
    "class McStasData:\n",
    "    \"\"\"\n",
    "    Class for holding full McStas dataset with data, metadata and\n",
    "    plotting preferences\n",
    "    Attributes\n",
    "    ----------\n",
    "    metadata : McStasMetaData instance\n",
    "        Holds the metadata for the dataset\n",
    "    name : str\n",
    "        Name of component, extracted from metadata\n",
    "    Intensity : numpy array\n",
    "        Intensity data [n/s] in 1d or 2d numpy array, dimension in\n",
    "        metadata\n",
    "    Error : numpy array\n",
    "        Error data [n/s] in 1d or 2d numpy array, same dimensions as\n",
    "        Intensity\n",
    "    Ncount : numpy array\n",
    "        Number of rays in bin, 1d or 2d numpy array, same dimensions as\n",
    "        Intensity\n",
    "    plot_options : McStasPlotOptions instance\n",
    "        Holds the plotting preferences for the dataset\n",
    "    Methods\n",
    "    -------\n",
    "    set_xlabel : string\n",
    "        sets xlabel of data for plotting\n",
    "    set_ylabel : string\n",
    "        sets ylabel of data for plotting\n",
    "    set_title : string\n",
    "        sets title of data for plotting\n",
    "    set_optons : keyword arguments\n",
    "        sets plot options, keywords passed to McStasPlotOptions method\n",
    "    \"\"\"\n",
    "\n",
    "    def __init__(self, metadata, intensity, error, ncount, **kwargs):\n",
    "        \"\"\"\n",
    "        Initialize a new McStas dataset, 4 positional arguments, pass\n",
    "        xaxis as kwarg if 1d data\n",
    "        Parameters\n",
    "        ----------\n",
    "        metadata : McStasMetaData instance\n",
    "            Holds the metadata for the dataset\n",
    "        name : str\n",
    "            Name of component, extracted from metadata\n",
    "        intensity : numpy array\n",
    "            Intensity data [n/s] in 1d or 2d numpy array, dimension in\n",
    "            metadata\n",
    "        error : numpy array\n",
    "            Error data [n/s] in 1d or 2d numpy array, same dimensions\n",
    "            as Intensity\n",
    "        ncount : numpy array\n",
    "            Number of rays in bin, 1d or 2d numpy array, same\n",
    "            dimensions as Intensity\n",
    "        kwargs : keyword arguments\n",
    "            xaxis is required for 1d data\n",
    "        \"\"\"\n",
    "\n",
    "        # attatch meta data\n",
    "        self.metadata = metadata\n",
    "        # get name from metadata\n",
    "        self.name = self.metadata.component_name\n",
    "        # three basic arrays from positional arguments\n",
    "        self.Intensity = intensity\n",
    "        self.Error = error\n",
    "        self.Ncount = ncount\n",
    "\n",
    "        if type(self.metadata.dimension) == int:\n",
    "            if \"xaxis\" in kwargs:\n",
    "                self.xaxis = kwargs[\"xaxis\"]\n",
    "            else:\n",
    "                raise NameError(\n",
    "                    \"ERROR: Initialization of McStasData done with 1d \"\n",
    "                    + \"data, but without xaxis for \" + self.name + \"!\")\n",
    "\n",
    "        self.plot_options = McStasPlotOptions()\n",
    "\n",
    "    # Methods xlabel, ylabel and title as they might not be found\n",
    "    def set_xlabel(self, string):\n",
    "        self.metadata.set_xlabel(string)\n",
    "\n",
    "    def set_ylabel(self, string):\n",
    "        self.metadata.set_ylabel(string)\n",
    "\n",
    "    def set_title(self, string):\n",
    "        self.metadata.set_title(string, fontsize=10)\n",
    "\n",
    "    def set_plot_options(self, **kwargs):\n",
    "        self.plot_options.set_options(**kwargs)\n",
    "        \n",
    "    def __truediv__(self, other):# By Xu: for dividing\n",
    "        if isinstance(other, McStasData):\n",
    "            self.Intensity, self.Error = self.Intensity/other.Intensity, self.Error/other.Intensity\n",
    "        else:\n",
    "            self.Intensity, self.Error = self.Intensity / other, self.Error / other\n",
    "        return self\n",
    "    \n",
    "    def __str__(self):\n",
    "        \"\"\"\n",
    "        Returns string with quick summary of data\n",
    "        \"\"\"\n",
    "\n",
    "        string = \"McStasData: \"\n",
    "        string += self.name + \" \"\n",
    "        if type(self.metadata.dimension) == int:\n",
    "            string += \"type: 1D \"\n",
    "        elif len(self.metadata.dimension) == 2:\n",
    "            string += \"type: 2D \"\n",
    "        else:\n",
    "            string += \"type: other \"\n",
    "\n",
    "        if \"values\" in self.metadata.info:\n",
    "            values = self.metadata.info[\"values\"]\n",
    "            values = values.strip()\n",
    "            values = values.split(\" \")\n",
    "            if len(values) == 3:\n",
    "                string += \" I:\" + str(values[0])\n",
    "                string += \" E:\" + str(values[1])\n",
    "                string += \" N:\" + str(values[2])\n",
    "\n",
    "        return string\n",
    "\n",
    "    def __repr__(self):\n",
    "        return \"\\n\" + self.__str__()"
   ]
  },
  {
   "cell_type": "markdown",
   "metadata": {},
   "source": [
    "## Load_results"
   ]
  },
  {
   "cell_type": "code",
   "execution_count": 13,
   "metadata": {},
   "outputs": [],
   "source": [
    "# https://github.com/PaNOSC-ViNYL/McStasScript/blob/a7aa6703a0a27b387cecdb74c495a45290be80a6/mcstasscript/helper/managed_mcrun.py\n",
    "import os\n",
    "import numpy as np\n",
    "def load_results(data_folder_name):\n",
    "\n",
    "#     if len(args) == 0:\n",
    "#         data_folder_name = self.data_folder_name\n",
    "#     elif len(args) == 1:\n",
    "#         data_folder_name = args[0]\n",
    "#     else:\n",
    "#         raise InputError(\"load_results can be called with 0 or 1 arguments\")\n",
    "\n",
    "    if not os.path.isdir(data_folder_name):\n",
    "        raise NameError(\"Given data directory does not exist.\")\n",
    "\n",
    "    # Find all data files in generated folder\n",
    "    files_in_folder = os.listdir(data_folder_name)\n",
    "\n",
    "    # Raise an error if mccode.sim is not available\n",
    "    if \"mccode.sim\" not in files_in_folder:\n",
    "        raise NameError(\"No mccode.sim in data folder.\")\n",
    "\n",
    "    # Open mccode to read metadata for all datasets written to disk\n",
    "    f = open(os.path.join(data_folder_name, \"mccode.sim\"), \"r\")\n",
    "\n",
    "    # Loop that reads mccode.sim sections\n",
    "    metadata_list = []\n",
    "    in_data = False\n",
    "    for lines in f:\n",
    "        # Could read other details about run\n",
    "\n",
    "        if lines == \"end data\\n\":\n",
    "            # No more data for this metadata object\n",
    "            # Extract the information\n",
    "            current_object.extract_info()\n",
    "            # Add to metadata list\n",
    "            if current_object.filename != \"\":\n",
    "                metadata_list.append(current_object)\n",
    "            # Stop reading data\n",
    "            in_data = False\n",
    "\n",
    "        if in_data:\n",
    "            # This line contains info to be added to metadata\n",
    "            colon_index = lines.index(\":\")\n",
    "            key = lines[2:colon_index]\n",
    "            value = lines[colon_index+2:]\n",
    "            current_object.add_info(key, value)\n",
    "\n",
    "        if lines == \"begin data\\n\":\n",
    "            # Found data section, create new metadata object\n",
    "            current_object = McStasMetaData()\n",
    "            # Start recording data to metadata object\n",
    "            in_data = True\n",
    "\n",
    "    # Close mccode.sim\n",
    "    f.close()\n",
    "    for metadata in metadata_list: # Xu\n",
    "        metadata.title += ': \\n'+metadata.filename\n",
    "        \n",
    "    # Create a list for McStasData instances to return\n",
    "    results = []\n",
    "\n",
    "    # Load datasets described in metadata list individually\n",
    "    for metadata in metadata_list:\n",
    "        # Load data with numpy\n",
    "        data = np.loadtxt(os.path.join(data_folder_name,\n",
    "                          metadata.filename.rstrip()))\n",
    "\n",
    "        # Split data into intensity, error and ncount\n",
    "        if type(metadata.dimension) == int:\n",
    "            xaxis = data.T[0, :]\n",
    "            Intensity = data.T[1, :]\n",
    "            Error = data.T[2, :]\n",
    "            Ncount = data.T[3, :]\n",
    "\n",
    "        elif len(metadata.dimension) == 2:\n",
    "            xaxis = []  # Assume evenly binned in 2d\n",
    "            data_lines = metadata.dimension[1]\n",
    "\n",
    "            Intensity = data[0:data_lines, :]\n",
    "            Error = data[data_lines:2*data_lines, :]\n",
    "            Ncount = data[2*data_lines:3*data_lines, :]\n",
    "        else:\n",
    "            raise NameError(\n",
    "                \"Dimension not read correctly in data set \"\n",
    "                + \"connected to monitor named \"\n",
    "                + metadata.component_name)\n",
    "\n",
    "        # The data is saved as a McStasData object\n",
    "        result = McStasData(metadata, Intensity,\n",
    "                            Error, Ncount,\n",
    "                            xaxis=xaxis)\n",
    "\n",
    "        # Add this result to the results list\n",
    "        results.append(result)\n",
    "\n",
    "        # Close the current datafile\n",
    "        f.close()\n",
    "\n",
    "    # Return list of McStasData objects\n",
    "    return results"
   ]
  },
  {
   "cell_type": "markdown",
   "metadata": {},
   "source": [
    "## Plot"
   ]
  },
  {
   "cell_type": "code",
   "execution_count": 15,
   "metadata": {},
   "outputs": [],
   "source": [
    "# https://github.com/PaNOSC-ViNYL/McStasScript/blob/a7aa6703a0a27b387cecdb74c495a45290be80a6/mcstasscript/interface/plotter.py\n",
    "import math\n",
    "import numpy as np\n",
    "import matplotlib\n",
    "import matplotlib.pyplot as plt\n",
    "import matplotlib.animation as animation\n",
    "from matplotlib.colors import BoundaryNorm\n",
    "from matplotlib.ticker import MaxNLocator\n",
    "\n",
    "def my_make_plot(data_list, **kwargs):\n",
    "    \"\"\"\n",
    "    make_plot plots contents of McStasData objects\n",
    "    Plotting is controlled through options assosciated with the\n",
    "    McStasData objects.\n",
    "    If a list is given, the plots appear individually.\n",
    "    \"\"\"\n",
    "\n",
    "    #def __init__(self, data_list, **kwargs):\n",
    "    \"\"\"\n",
    "    plots McStasData, single object or list of McStasData\n",
    "    The options concerning plotting are stored with the data\n",
    "    Parameters\n",
    "    ----------\n",
    "    data_list : McStasData or list of McStasData\n",
    "        McStasData to be plotted\n",
    "    \"\"\"\n",
    "\n",
    "    # Relevant options:\n",
    "    #  select colormap\n",
    "    #  show / hide colorbar\n",
    "    #  custom title / label\n",
    "    #  color of 1d plot\n",
    "    #  overlay several 1d\n",
    "    #  log scale (orders of magnitude)\n",
    "    #  compare several 1d\n",
    "    #  compare 2D\n",
    "\n",
    "    if isinstance(data_list, McStasData):\n",
    "        # Only a single element, put it in a list for easier syntax later\n",
    "        data_list = [data_list]\n",
    "\n",
    "    number_of_plots = len(data_list)\n",
    "\n",
    "    if \"fontsize\" in kwargs:\n",
    "        plt.rcParams.update({'font.size': kwargs[\"fontsize\"]})\n",
    "    if 'label' in kwargs:\n",
    "        label = kwargs['label']\n",
    "        \n",
    "    print(\"number of elements in data list = \" + str(len(data_list)))\n",
    "\n",
    "    index = -1\n",
    "    figs, axs = [], []\n",
    "    for data in data_list:\n",
    "        index = index + 1\n",
    "\n",
    "        print(\"Plotting data with name \" + data.metadata.component_name)\n",
    "        if type(data.metadata.dimension) == int:\n",
    "            fig, (ax0) = plt.subplots()\n",
    "\n",
    "            x_axis_mult = data.plot_options.x_limit_multiplier\n",
    "            #print(data.__dict__)\n",
    "            x = data.xaxis*x_axis_mult\n",
    "            y = data.Intensity\n",
    "            y_err = data.Error\n",
    "            try:\n",
    "                #ax0.errorbar(x, y, yerr=y_err, c=kwargs['c'], label=kwargs['label'])\n",
    "                ax0.errorbar(x, y, yerr=y_err, **kwargs)\n",
    "            except:\n",
    "                ax0.errorbar(x, y, yerr=y_err)\n",
    "                \n",
    "            if data.plot_options.log:\n",
    "                ax0.set_yscale(\"log\", nonposy='clip')\n",
    "\n",
    "            ax0.set_xlim(data.metadata.limits[0]*x_axis_mult,\n",
    "                         data.metadata.limits[1]*x_axis_mult)\n",
    "\n",
    "            # Add a title\n",
    "            plt.title(data.metadata.title, fontsize=10)\n",
    "\n",
    "            # Add axis labels\n",
    "            plt.xlabel(data.metadata.xlabel)\n",
    "            plt.ylabel(data.metadata.ylabel)\n",
    "\n",
    "            if data.plot_options.custom_xlim_left:\n",
    "                ax0.set_xlim(left=data.plot_options.left_lim)\n",
    "\n",
    "            if data.plot_options.custom_xlim_right:\n",
    "                ax0.set_xlim(right=data.plot_options.right_lim)\n",
    "            figs.append(fig)\n",
    "            axs.append(ax0)\n",
    "            \n",
    "        elif len(data.metadata.dimension) == 2:\n",
    "            # Split the data into intensity, error and ncount\n",
    "            Intensity = data.Intensity\n",
    "            Error = data.Error\n",
    "            Ncount = data.Ncount\n",
    "\n",
    "            cut_max = data.plot_options.cut_max  # Default 1\n",
    "            cut_min = data.plot_options.cut_min  # Default 0\n",
    "\n",
    "            if data.plot_options.log:\n",
    "                to_plot = Intensity\n",
    "\n",
    "                max_data_value = to_plot.max()\n",
    "\n",
    "                min_value = np.min(Intensity[np.nonzero(Intensity)])\n",
    "                min_value = np.log10(min_value\n",
    "                                     + (max_data_value-min_value)*cut_min)\n",
    "\n",
    "                max_value = np.log10(max_data_value*cut_max)\n",
    "\n",
    "                if (max_value - min_value\n",
    "                        > data.plot_options.orders_of_mag):\n",
    "                    min_value = (max_value\n",
    "                                 - data.plot_options.orders_of_mag)\n",
    "                min_value = 10.0 ** min_value\n",
    "                max_value = 10.0 ** max_value\n",
    "            else:\n",
    "                to_plot = Intensity\n",
    "                min_value = to_plot.min() \n",
    "                max_value = to_plot.max()\n",
    "\n",
    "                # Cut top and bottom of data as specified in cut variables\n",
    "                min_value = min_value + (max_value-min_value)*cut_min\n",
    "                max_value = max_value*cut_max\n",
    "\n",
    "            # Check the size of the array to be plotted\n",
    "            # print(to_plot.shape)\n",
    "\n",
    "            # Set the axis (might be switched?)\n",
    "            x_axis_mult = data.plot_options.x_limit_multiplier\n",
    "            y_axis_mult = data.plot_options.y_limit_multiplier\n",
    "\n",
    "            X = np.linspace(data.metadata.limits[0]*x_axis_mult,\n",
    "                            data.metadata.limits[1]*x_axis_mult,\n",
    "                            data.metadata.dimension[0]+1)\n",
    "            Y = np.linspace(data.metadata.limits[2]*y_axis_mult,\n",
    "                            data.metadata.limits[3]*y_axis_mult,\n",
    "                            data.metadata.dimension[1]+1)\n",
    "\n",
    "            # Create a meshgrid for both x and y\n",
    "            x, y = np.meshgrid(X, Y)\n",
    "\n",
    "            # Generate information on necessary colorrange\n",
    "            levels = MaxNLocator(nbins=150).tick_values(min_value,\n",
    "                                                        max_value)\n",
    "\n",
    "            # Select colormap\n",
    "            cmap = plt.get_cmap('hot')\n",
    "            norm = BoundaryNorm(levels, ncolors=cmap.N, clip=True)\n",
    "\n",
    "            # Create the figure\n",
    "            fig, (ax0) = plt.subplots()\n",
    "\n",
    "            # Plot the data on the meshgrids\n",
    "            if data.plot_options.log:\n",
    "                color_norm = matplotlib.colors.LogNorm(vmin=min_value,\n",
    "                                                       vmax=max_value)\n",
    "                im = ax0.pcolormesh(x, y, to_plot,\n",
    "                                    cmap=cmap, norm=color_norm)\n",
    "            else:\n",
    "                im = ax0.pcolormesh(x, y, to_plot, cmap=cmap, norm=norm)\n",
    "\n",
    "            # Add the colorbar\n",
    "            cb = fig.colorbar(im, ax=ax0)\n",
    "            cb.formatter.set_powerlimits((0, 0)) # Xu: for shorter scientific notation\n",
    "            cb.ax.yaxis.set_offset_position('right') \n",
    "\n",
    "            # Add a title\n",
    "            ax0.set_title(data.metadata.title, fontsize=10)\n",
    "\n",
    "            # Add axis labels\n",
    "            plt.xlabel(data.metadata.xlabel)\n",
    "            plt.ylabel(data.metadata.ylabel)\n",
    "\n",
    "            if data.plot_options.custom_ylim_top:\n",
    "                ax0.set_ylim(top=data.plot_options.top_lim)\n",
    "\n",
    "            if data.plot_options.custom_ylim_bottom:\n",
    "                ax0.set_ylim(bottom=data.plot_options.bottom_lim)\n",
    "\n",
    "            if data.plot_options.custom_xlim_left:\n",
    "                ax0.set_xlim(left=data.plot_options.left_lim)\n",
    "\n",
    "            if data.plot_options.custom_xlim_right:\n",
    "                ax0.set_xlim(right=data.plot_options.right_lim)\n",
    "            figs.append(fig)\n",
    "            axs.append(ax0)\n",
    "        else:\n",
    "            print(\"Error, dimension not read correctly\")\n",
    "\n",
    "        plt.show()\n",
    "    if len(figs)==1:\n",
    "        return figs[0], axs[0]\n",
    "    else:\n",
    "        return figs, axs\n",
    "\n",
    "class make_plot:\n",
    "    \"\"\"\n",
    "    make_plot plots contents of McStasData objects\n",
    "    Plotting is controlled through options assosciated with the\n",
    "    McStasData objects.\n",
    "    If a list is given, the plots appear individually.\n",
    "    \"\"\"\n",
    "\n",
    "    def __init__(self, data_list, **kwargs):\n",
    "        \"\"\"\n",
    "        plots McStasData, single object or list of McStasData\n",
    "        The options concerning plotting are stored with the data\n",
    "        Parameters\n",
    "        ----------\n",
    "        data_list : McStasData or list of McStasData\n",
    "            McStasData to be plotted\n",
    "        \"\"\"\n",
    "\n",
    "        # Relevant options:\n",
    "        #  select colormap\n",
    "        #  show / hide colorbar\n",
    "        #  custom title / label\n",
    "        #  color of 1d plot\n",
    "        #  overlay several 1d\n",
    "        #  log scale (orders of magnitude)\n",
    "        #  compare several 1d\n",
    "        #  compare 2D\n",
    "\n",
    "        if isinstance(data_list, McStasData):\n",
    "            # Only a single element, put it in a list for easier syntax later\n",
    "            data_list = [data_list]\n",
    "\n",
    "        number_of_plots = len(data_list)\n",
    "\n",
    "        if \"fontsize\" in kwargs:\n",
    "            plt.rcParams.update({'font.size': kwargs[\"fontsize\"]})\n",
    "\n",
    "        print(\"number of elements in data list = \" + str(len(data_list)))\n",
    "\n",
    "        index = -1\n",
    "        for data in data_list:\n",
    "            index = index + 1\n",
    "\n",
    "            print(\"Plotting data with name \" + data.metadata.component_name)\n",
    "            if type(data.metadata.dimension) == int:\n",
    "                fig, (ax0) = plt.subplots()\n",
    "\n",
    "                x_axis_mult = data.plot_options.x_limit_multiplier\n",
    "                #print(data.__dict__)\n",
    "                x = data.xaxis*x_axis_mult\n",
    "                y = data.Intensity\n",
    "                y_err = data.Error\n",
    "\n",
    "                plt.errorbar(x, y, yerr=y_err)\n",
    "\n",
    "                if data.plot_options.log:\n",
    "                    ax0.set_yscale(\"log\", nonposy='clip')\n",
    "\n",
    "                ax0.set_xlim(data.metadata.limits[0]*x_axis_mult,\n",
    "                             data.metadata.limits[1]*x_axis_mult)\n",
    "\n",
    "                # Add a title\n",
    "                plt.title(data.metadata.title, fontsize=10)\n",
    "\n",
    "                # Add axis labels\n",
    "                plt.xlabel(data.metadata.xlabel)\n",
    "                plt.ylabel(data.metadata.ylabel)\n",
    "\n",
    "                if data.plot_options.custom_xlim_left:\n",
    "                    ax0.set_xlim(left=data.plot_options.left_lim)\n",
    "\n",
    "                if data.plot_options.custom_xlim_right:\n",
    "                    ax0.set_xlim(right=data.plot_options.right_lim)\n",
    "                plt.show()\n",
    "            elif len(data.metadata.dimension) == 2:\n",
    "                # Split the data into intensity, error and ncount\n",
    "                Intensity = data.Intensity\n",
    "                Error = data.Error\n",
    "                Ncount = data.Ncount\n",
    "\n",
    "                cut_max = data.plot_options.cut_max  # Default 1\n",
    "                cut_min = data.plot_options.cut_min  # Default 0\n",
    "\n",
    "                if data.plot_options.log:\n",
    "                    to_plot = Intensity\n",
    "\n",
    "                    max_data_value = to_plot.max()\n",
    "\n",
    "                    min_value = np.min(Intensity[np.nonzero(Intensity)])\n",
    "                    min_value = np.log10(min_value\n",
    "                                         + (max_data_value-min_value)*cut_min)\n",
    "\n",
    "                    max_value = np.log10(max_data_value*cut_max)\n",
    "\n",
    "                    if (max_value - min_value\n",
    "                            > data.plot_options.orders_of_mag):\n",
    "                        min_value = (max_value\n",
    "                                     - data.plot_options.orders_of_mag)\n",
    "                    min_value = 10.0 ** min_value\n",
    "                    max_value = 10.0 ** max_value\n",
    "                else:\n",
    "                    to_plot = Intensity\n",
    "                    min_value = to_plot.min() \n",
    "                    max_value = to_plot.max()\n",
    "\n",
    "                    # Cut top and bottom of data as specified in cut variables\n",
    "                    min_value = min_value + (max_value-min_value)*cut_min\n",
    "                    max_value = max_value*cut_max\n",
    "\n",
    "                # Check the size of the array to be plotted\n",
    "                # print(to_plot.shape)\n",
    "\n",
    "                # Set the axis (might be switched?)\n",
    "                x_axis_mult = data.plot_options.x_limit_multiplier\n",
    "                y_axis_mult = data.plot_options.y_limit_multiplier\n",
    "\n",
    "                X = np.linspace(data.metadata.limits[0]*x_axis_mult,\n",
    "                                data.metadata.limits[1]*x_axis_mult,\n",
    "                                data.metadata.dimension[0]+1)\n",
    "                Y = np.linspace(data.metadata.limits[2]*y_axis_mult,\n",
    "                                data.metadata.limits[3]*y_axis_mult,\n",
    "                                data.metadata.dimension[1]+1)\n",
    "\n",
    "                # Create a meshgrid for both x and y\n",
    "                x, y = np.meshgrid(X, Y)\n",
    "\n",
    "                # Generate information on necessary colorrange\n",
    "                levels = MaxNLocator(nbins=150).tick_values(min_value,\n",
    "                                                            max_value)\n",
    "\n",
    "                # Select colormap\n",
    "                cmap = plt.get_cmap('hot')\n",
    "                norm = BoundaryNorm(levels, ncolors=cmap.N, clip=True)\n",
    "\n",
    "                # Create the figure\n",
    "                fig, (ax0) = plt.subplots()\n",
    "\n",
    "                # Plot the data on the meshgrids\n",
    "                if data.plot_options.log:\n",
    "                    color_norm = matplotlib.colors.LogNorm(vmin=min_value,\n",
    "                                                           vmax=max_value)\n",
    "                    im = ax0.pcolormesh(x, y, to_plot,\n",
    "                                        cmap=cmap, norm=color_norm)\n",
    "                else:\n",
    "                    im = ax0.pcolormesh(x, y, to_plot, cmap=cmap, norm=norm)\n",
    "\n",
    "                # Add the colorbar\n",
    "                cb = fig.colorbar(im, ax=ax0)\n",
    "                cb.formatter.set_powerlimits((0, 0)) # Xu: for shorter scientific notation\n",
    "                cb.ax.yaxis.set_offset_position('right') \n",
    "\n",
    "                # Add a title\n",
    "                ax0.set_title(data.metadata.title, fontsize=10)\n",
    "                \n",
    "                # Add axis labels\n",
    "                plt.xlabel(data.metadata.xlabel)\n",
    "                plt.ylabel(data.metadata.ylabel)\n",
    "\n",
    "                if data.plot_options.custom_ylim_top:\n",
    "                    ax0.set_ylim(top=data.plot_options.top_lim)\n",
    "\n",
    "                if data.plot_options.custom_ylim_bottom:\n",
    "                    ax0.set_ylim(bottom=data.plot_options.bottom_lim)\n",
    "\n",
    "                if data.plot_options.custom_xlim_left:\n",
    "                    ax0.set_xlim(left=data.plot_options.left_lim)\n",
    "\n",
    "                if data.plot_options.custom_xlim_right:\n",
    "                    ax0.set_xlim(right=data.plot_options.right_lim)\n",
    "                plt.show()\n",
    "            else:\n",
    "                print(\"Error, dimension not read correctly\")\n",
    "                \n",
    "            plt.show()\n",
    "        \n",
    "\n",
    "\n",
    "class make_sub_plot:\n",
    "    \"\"\"\n",
    "    make_plot plots contents of McStasData objects\n",
    "    Plotting is controlled through options assosciated with the\n",
    "    McStasData objects.  If a list is given, the plots appear in one\n",
    "    subplot.\n",
    "    \"\"\"\n",
    "\n",
    "    def __init__(self, data_list, **kwargs):\n",
    "        \"\"\"\n",
    "        plots McStasData, single object or list of McStasData\n",
    "        The options concerning plotting are stored with the data\n",
    "        Parameters\n",
    "        ----------\n",
    "        data_list : McStasData or list of McStasData\n",
    "            McStasData to be plotted\n",
    "        \"\"\"\n",
    "        if not isinstance(data_list, McStasData):\n",
    "            print(\"number of elements in data list = \"\n",
    "                  + str(len(data_list)))\n",
    "        else:\n",
    "            # Make list from single element to simplify syntax\n",
    "            data_list = [data_list]\n",
    "\n",
    "        number_of_plots = len(data_list)\n",
    "\n",
    "        # Relevant options:\n",
    "        #  select colormap\n",
    "        #  show / hide colorbar\n",
    "        #  custom title / label\n",
    "        #  color of 1d plot\n",
    "        #  overlay several 1d\n",
    "        #  log scale (o$rders of magnitude)\n",
    "        #  compare several 1d\n",
    "        #  compare 2D\n",
    "\n",
    "        # Find reasonable grid size for the number of plots\n",
    "        dim2 = math.ceil(math.sqrt(number_of_plots))\n",
    "        dim1 = math.ceil(number_of_plots/dim2)\n",
    "\n",
    "        if \"fontsize\" in kwargs:\n",
    "            plt.rcParams.update({'font.size': kwargs[\"fontsize\"]})\n",
    "\n",
    "        fig, axs = plt.subplots(dim1, dim2, figsize=(13, 7),gridspec_kw={'hspace':1,'wspace':1}) # add by Xu: hspace:0.5\n",
    "        axs = np.array(axs)\n",
    "        ax = axs.reshape(-1)\n",
    "\n",
    "        index = -1\n",
    "        for data in data_list:\n",
    "            index = index + 1\n",
    "            ax0 = ax[index]\n",
    "\n",
    "            print(\"Plotting data with name \"\n",
    "                  + data.metadata.component_name)\n",
    "\n",
    "            if isinstance(data.metadata.dimension, int):\n",
    "                # fig = plt.figure(0)\n",
    "                # plt.subplot(dim1, dim2, n_plot)\n",
    "                x_axis_mult = data.plot_options.x_limit_multiplier\n",
    "\n",
    "                x = data.xaxis*x_axis_mult\n",
    "                y = data.Intensity\n",
    "                y_err = data.Error\n",
    "\n",
    "                ax0.errorbar(x, y, yerr=y_err)\n",
    "\n",
    "                if data.plot_options.log:\n",
    "                    ax0.set_yscale(\"log\", nonposy='clip')\n",
    "\n",
    "                ax0.set_xlim(data.metadata.limits[0]*x_axis_mult,\n",
    "                             data.metadata.limits[1]*x_axis_mult)\n",
    "\n",
    "                # Add a title\n",
    "                ax0.set_title(data.metadata.title, fontsize=10)\n",
    "\n",
    "                # Add axis labels\n",
    "                ax0.set_xlabel(data.metadata.xlabel)\n",
    "                ax0.set_ylabel(data.metadata.ylabel)\n",
    "\n",
    "                if data.plot_options.custom_xlim_left:\n",
    "                    ax0.set_xlim(left=data.plot_options.left_lim)\n",
    "\n",
    "                if data.plot_options.custom_xlim_right:\n",
    "                    ax0.set_xlim(right=data.plot_options.right_lim)\n",
    "\n",
    "            elif len(data.metadata.dimension) == 2:\n",
    "\n",
    "                # Split the data into intensity, error and ncount\n",
    "                Intensity = data.Intensity\n",
    "                Error = data.Error\n",
    "                Ncount = data.Ncount\n",
    "\n",
    "                cut_max = data.plot_options.cut_max  # Default 1\n",
    "                cut_min = data.plot_options.cut_min  # Default 0\n",
    "\n",
    "                if data.plot_options.log:\n",
    "                    to_plot = Intensity\n",
    "\n",
    "                    max_data_value = to_plot.max()\n",
    "\n",
    "                    min_value = np.min(Intensity[np.nonzero(Intensity)])\n",
    "                    min_value = np.log10(min_value\n",
    "                                         + (max_data_value-min_value)*cut_min)\n",
    "\n",
    "                    max_value = np.log10(max_data_value*cut_max)\n",
    "\n",
    "                    if (max_value - min_value\n",
    "                            > data.plot_options.orders_of_mag):\n",
    "                        min_value = (max_value\n",
    "                                     - data.plot_options.orders_of_mag)\n",
    "                    min_value = 10.0 ** min_value\n",
    "                    max_value = 10.0 ** max_value\n",
    "                else:\n",
    "                    to_plot = Intensity\n",
    "                    min_value = to_plot.min() \n",
    "                    max_value = to_plot.max()\n",
    "\n",
    "                    # Cut top and bottom of data as specified in cut variables\n",
    "                    min_value = min_value + (max_value-min_value)*cut_min\n",
    "                    max_value = max_value*cut_max\n",
    "\n",
    "                # Check the size of the array to be plotted\n",
    "                # print(to_plot.shape)\n",
    "\n",
    "                # Set the axis\n",
    "                x_axis_mult = data.plot_options.x_limit_multiplier\n",
    "                y_axis_mult = data.plot_options.y_limit_multiplier\n",
    "\n",
    "                X = np.linspace(data.metadata.limits[0]*x_axis_mult,\n",
    "                                data.metadata.limits[1]*x_axis_mult,\n",
    "                                data.metadata.dimension[0]+1)\n",
    "                Y = np.linspace(data.metadata.limits[2]*y_axis_mult,\n",
    "                                data.metadata.limits[3]*y_axis_mult,\n",
    "                                data.metadata.dimension[1]+1)\n",
    "\n",
    "                # Create a meshgrid for both x and y\n",
    "                x, y = np.meshgrid(X, Y)\n",
    "\n",
    "                # Generate information on necessary colorrange\n",
    "                levels = MaxNLocator(nbins=150).tick_values(min_value,\n",
    "                                                            max_value)\n",
    "\n",
    "                # Select colormap\n",
    "                cmap = plt.get_cmap(data.plot_options.colormap)\n",
    "\n",
    "                # Select the colorscale normalization\n",
    "                if data.plot_options.log:\n",
    "                    norm = matplotlib.colors.LogNorm(vmin=min_value,\n",
    "                                                     vmax=max_value)\n",
    "                else:\n",
    "                    norm = BoundaryNorm(levels, ncolors=cmap.N, clip=True)\n",
    "\n",
    "                # Create plot\n",
    "                im = ax0.pcolormesh(x, y, to_plot, cmap=cmap, norm=norm)\n",
    "\n",
    "                def fmt(x, pos):\n",
    "                    a, b = '{:.2e}'.format(x).split('e')\n",
    "                    b = int(b)\n",
    "                    if abs(float(a) - 1) < 0.01 :\n",
    "                        return r'$10^{{{}}}$'.format(b)\n",
    "                    else:\n",
    "                        return r'${} \\times 10^{{{}}}$'.format(a, b)\n",
    "\n",
    "                # Add the colorbar\n",
    "                if data.plot_options.colormap:\n",
    "                    #cb = fig.colorbar(im, ax=ax0, format=matplotlib.ticker.FuncFormatter(fmt))\n",
    "                    cb = fig.colorbar(im, ax=ax0)\n",
    "                    cb.formatter.set_powerlimits((0, 0)) # Xu: for shorter scientific notation\n",
    "                    cb.ax.yaxis.set_offset_position('right') \n",
    "\n",
    "                # Add a title\n",
    "                ax0.set_title(data.metadata.title, fontsize=10)\n",
    "\n",
    "                # Add axis labels\n",
    "                ax0.set_xlabel(data.metadata.xlabel)\n",
    "                ax0.set_ylabel(data.metadata.ylabel)\n",
    "\n",
    "                if data.plot_options.custom_ylim_top:\n",
    "                    ax0.set_ylim(top=data.plot_options.top_lim)\n",
    "\n",
    "                if data.plot_options.custom_ylim_bottom:\n",
    "                    ax0.set_ylim(bottom=data.plot_options.bottom_lim)\n",
    "\n",
    "                if data.plot_options.custom_xlim_left:\n",
    "                    ax0.set_xlim(left=data.plot_options.left_lim)\n",
    "\n",
    "                if data.plot_options.custom_xlim_right:\n",
    "                    ax0.set_xlim(right=data.plot_options.right_lim)\n",
    "\n",
    "            else:\n",
    "                print(\"Error, dimension not read correctly\")\n",
    "\n",
    "            plt.show()\n",
    "\n",
    "\n",
    "class make_animation:\n",
    "    \"\"\"\n",
    "    make_plot plots contents of McStasData objects\n",
    "    Plotting is controlled through options assosciated with the\n",
    "    McStasData objects.  If a list is given, the plots appear in one\n",
    "    subplot.\n",
    "    \"\"\"\n",
    "\n",
    "    def __init__(self, data_list, **kwargs):\n",
    "        \"\"\"\n",
    "        plots McStasData, single object or list of McStasData\n",
    "        The options concerning plotting are stored with the data\n",
    "        Parameters\n",
    "        ----------\n",
    "        data_list : McStasData or list of McStasData\n",
    "            McStasData to be plotted\n",
    "        \"\"\"\n",
    "        if not isinstance(data_list, McStasData):\n",
    "            print(\"number of elements in data list = \"\n",
    "                  + str(len(data_list)))\n",
    "        else:\n",
    "            # Make list from single element to simplify syntax\n",
    "            data_list = [data_list]\n",
    "\n",
    "        # Relevant options:\n",
    "        #  select colormap\n",
    "        #  show / hide colorbar\n",
    "        #  custom title / label\n",
    "        #  color of 1d plot\n",
    "        #  overlay several 1d\n",
    "        #  log scale (o$rders of magnitude)\n",
    "        #  compare several 1d\n",
    "        #  compare 2D\n",
    "\n",
    "        if \"fontsize\" in kwargs:\n",
    "            plt.rcParams.update({'font.size': kwargs[\"fontsize\"]})\n",
    "            \n",
    "        if \"fps\" in kwargs:\n",
    "            period_in_ms = 1000/kwargs[\"fps\"]\n",
    "        else:\n",
    "            period_in_ms = 200\n",
    "\n",
    "        fig = plt.figure()\n",
    "        ax = plt.axes()\n",
    "        #fig, ax = plt.subplot()\n",
    "        \n",
    "        # find limits for entire dataset\n",
    "        maximum_values = []\n",
    "        minimum_values = []\n",
    "        \n",
    "        is_1D = False\n",
    "        is_2D = False\n",
    "        \n",
    "        for data in data_list:\n",
    "            if isinstance(data.metadata.dimension, int):\n",
    "                is_1D = True\n",
    "                \n",
    "                y = data.Intensity[np.nonzero(data.Intensity)]\n",
    "                if len(y) > 0:\n",
    "                    maximum_values.append(y.max())\n",
    "                    minimum_values.append(y.min())\n",
    "            \n",
    "            elif len(data.metadata.dimension) == 2:\n",
    "                is_2D = True\n",
    "                \n",
    "                y = data.Intensity[np.nonzero(data.Intensity)]\n",
    "                if len(y) > 0:\n",
    "                    maximum_values.append(y.max())\n",
    "                    minimum_values.append(y.min())\n",
    "        \n",
    "        if len(maximum_values) > 0:\n",
    "            maximum_value = np.array(maximum_values).max()\n",
    "        else:\n",
    "            maximum_value = 0\n",
    "            \n",
    "        if len(minimum_values) > 0:\n",
    "            minimum_value = np.array(minimum_values).min()\n",
    "        else:\n",
    "            minimum_value = 0\n",
    "        \n",
    "        if is_1D and is_2D:\n",
    "            raise InputError(\n",
    "                \"Both 1D and 2D data in animation, only one allowed.\")\n",
    "\n",
    "        # initialize plots\n",
    "        \n",
    "        data = data_list[0]\n",
    "        if isinstance(data.metadata.dimension, int):\n",
    "            x_axis_mult = data.plot_options.x_limit_multiplier\n",
    "            \n",
    "            x = data.xaxis*x_axis_mult\n",
    "            y = data.Intensity\n",
    "            y_err = data.Error\n",
    "            \n",
    "            er = ax.errorbar(x, y, yerr=y_err)\n",
    "            \n",
    "            if data.plot_options.log:\n",
    "                    ax.set_yscale(\"log\", nonposy='clip')\n",
    "\n",
    "            ax.set_xlim(data.metadata.limits[0]*x_axis_mult,\n",
    "                             data.metadata.limits[1]*x_axis_mult)\n",
    "\n",
    "            # Add a title\n",
    "            ax.set_title(data.metadata.title, fontsize=10)\n",
    "\n",
    "            # Add axis labels\n",
    "            ax.set_xlabel(data.metadata.xlabel)\n",
    "            ax.set_ylabel(data.metadata.ylabel)\n",
    "\n",
    "            if data.plot_options.custom_xlim_left:\n",
    "                ax.set_xlim(left=data.plot_options.left_lim)\n",
    "\n",
    "            if data.plot_options.custom_xlim_right:\n",
    "                ax.set_xlim(right=data.plot_options.right_lim)\n",
    "                \n",
    "            ax.set_ylim(minimum_value, maximum_value)\n",
    "        \n",
    "        elif len(data.metadata.dimension) == 2:\n",
    "            # Split the data into intensity, error and ncount\n",
    "            Intensity = data.Intensity\n",
    "            Error = data.Error\n",
    "            Ncount = data.Ncount\n",
    "            \n",
    "            cut_max = data.plot_options.cut_max  # Default 1\n",
    "            cut_min = data.plot_options.cut_min  # Default 0\n",
    "\n",
    "            if data.plot_options.log:\n",
    "                \n",
    "                min_value = minimum_value\n",
    "                max_value = maximum_value\n",
    "                \n",
    "                min_value = np.log10(min_value\n",
    "                                     + (max_value-min_value)*cut_min)\n",
    "                \n",
    "                max_value = np.log10(max_value*cut_max)\n",
    "\n",
    "                if (max_value - min_value\n",
    "                        > data.plot_options.orders_of_mag):\n",
    "                    min_value = (max_value\n",
    "                                 - data.plot_options.orders_of_mag)\n",
    "                    \n",
    "                min_value = 10.0 ** min_value\n",
    "                max_value = 10.0 ** max_value\n",
    "            else:\n",
    "                \n",
    "                min_value = minimum_value \n",
    "                max_value = maximum_value\n",
    "\n",
    "            # Check the size of the array to be plotted\n",
    "            # print(to_plot.shape)\n",
    "\n",
    "            # Set the axis\n",
    "            x_axis_mult = data.plot_options.x_limit_multiplier\n",
    "            y_axis_mult = data.plot_options.y_limit_multiplier\n",
    "\n",
    "            X = np.linspace(data.metadata.limits[0]*x_axis_mult,\n",
    "                            data.metadata.limits[1]*x_axis_mult,\n",
    "                            data.metadata.dimension[0]+1)\n",
    "            Y = np.linspace(data.metadata.limits[2]*y_axis_mult,\n",
    "                            data.metadata.limits[3]*y_axis_mult,\n",
    "                            data.metadata.dimension[1]+1)\n",
    "\n",
    "            # Create a meshgrid for both x and y\n",
    "            x, y = np.meshgrid(X, Y)\n",
    "\n",
    "            # Generate information on necessary colorrange\n",
    "            levels = MaxNLocator(nbins=150).tick_values(min_value,\n",
    "                                                        max_value)\n",
    "\n",
    "            # Select colormap\n",
    "            cmap = plt.get_cmap(data.plot_options.colormap)\n",
    "\n",
    "            # Select the colorscale normalization\n",
    "            if data.plot_options.log:\n",
    "                norm = matplotlib.colors.LogNorm(vmin=min_value,\n",
    "                                                 vmax=max_value)\n",
    "            else:\n",
    "                norm = BoundaryNorm(levels, ncolors=cmap.N, clip=True)\n",
    "\n",
    "            # Create plot\n",
    "            im = ax.pcolormesh(x, y, Intensity,\n",
    "                               cmap=cmap, norm=norm)\n",
    "\n",
    "            def fmt(x, pos):\n",
    "                a, b = '{:.2e}'.format(x).split('e')\n",
    "                b = int(b)\n",
    "                if abs(float(a) - 1) < 0.01 :\n",
    "                    return r'$10^{{{}}}$'.format(b)\n",
    "                else:\n",
    "                    return r'${} \\times 10^{{{}}}$'.format(a, b)\n",
    "\n",
    "            # Add the colorbar\n",
    "            if data.plot_options.colormap:\n",
    "                #cb = fig.colorbar(im, ax=ax,format=matplotlib.ticker.FuncFormatter(fmt))\n",
    "                cb = fig.colorbar(im, ax=ax)\n",
    "                cb.formatter.set_powerlimits((0, 0)) # Xu: for shorter scientific notation\n",
    "                cb.ax.yaxis.set_offset_position('right') \n",
    "\n",
    "            # Add a title\n",
    "            ax.set_title(data.metadata.title, fontsize=10)\n",
    "\n",
    "            # Add axis labels\n",
    "            ax.set_xlabel(data.metadata.xlabel)\n",
    "            ax.set_ylabel(data.metadata.ylabel)\n",
    "\n",
    "            if data.plot_options.custom_ylim_top:\n",
    "                ax.set_ylim(top=data.plot_options.top_lim)\n",
    "\n",
    "            if data.plot_options.custom_ylim_bottom:\n",
    "                ax.set_ylim(bottom=data.plot_options.bottom_lim)\n",
    "\n",
    "            if data.plot_options.custom_xlim_left:\n",
    "                ax.set_xlim(left=data.plot_options.left_lim)\n",
    "\n",
    "            if data.plot_options.custom_xlim_right:\n",
    "                ax.set_xlim(right=data.plot_options.right_lim)\n",
    "\n",
    "        def init_1D():\n",
    "            # initialize function for animation\n",
    "            er.set_data([], [], []) # wont work\n",
    "            return er,\n",
    "        \n",
    "        def animate_1D(index):\n",
    "            data = data_list[index]\n",
    "            intensity = data.Intensity\n",
    "            error = data.Error\n",
    "            \n",
    "            er.set_data(x, intensity, error)\n",
    "            return er,\n",
    "\n",
    "        def init_2D():\n",
    "            # initialize function for animation\n",
    "            im.set_array([])\n",
    "            return im,\n",
    "            \n",
    "        def animate_2D(index):\n",
    "            data = data_list[index]\n",
    "            intensity = data.Intensity\n",
    "\n",
    "            im.set_array(intensity.ravel())\n",
    "            return im,\n",
    "        \n",
    "        anim = animation.FuncAnimation(fig, animate_2D, #init_func=init_2D,\n",
    "                                       frames=len(data_list),\n",
    "                                       interval=period_in_ms,\n",
    "                                       blit=False, repeat=True)\n",
    "\n",
    "        #plt.draw()\n",
    "        plt.show()\n",
    "\n",
    "        # The animation doesn't play unless it is saved. Bug.\n",
    "        if \"filename\" in kwargs:\n",
    "            filename = kwargs[\"filename\"]\n",
    "            if not filename.endswith(\".gif\"):\n",
    "                filename = filename + \".gif\"\n",
    "\n",
    "            # check if imagemagick available?\n",
    "            print(\"Saving animation with filename : \\\"\" + filename + \"\\\"\")\n",
    "            anim.save(filename, writer=\"imagemagick\")"
   ]
  },
  {
   "cell_type": "code",
   "execution_count": 14,
   "metadata": {},
   "outputs": [
    {
     "data": {
      "application/vnd.jupyter.widget-view+json": {
       "model_id": "5e27d8be3dbf439ca05bfdc0bf0e09a2",
       "version_major": 2,
       "version_minor": 0
      },
      "text/plain": [
       "Canvas(toolbar=Toolbar(toolitems=[('Home', 'Reset original view', 'home', 'home'), ('Back', 'Back to previous …"
      ]
     },
     "metadata": {},
     "output_type": "display_data"
    }
   ],
   "source": []
  },
  {
   "cell_type": "code",
   "execution_count": 12,
   "metadata": {},
   "outputs": [
    {
     "name": "stdout",
     "output_type": "stream",
     "text": [
      "Fri, 20 Nov 2020 09:25:03,  fun has evaluated   2 times, fit parameters are 0.1000, -0.1550, 1.3000\n"
     ]
    }
   ],
   "source": [
    "import time\n",
    "print(time.strftime(\"%a, %d %b %Y %H:%M:%S, \", time.gmtime()), 'fun has evaluated %3d times,' % 2, 'fit parameters are %1.4f, %1.4f, %1.4f' % (0.1, -0.155, 1.3))"
   ]
  },
  {
   "cell_type": "code",
   "execution_count": 52,
   "metadata": {},
   "outputs": [],
   "source": [
    "class Memoize:\n",
    "    def __init__(self, fn):\n",
    "        self.fn = fn\n",
    "        self.memo = {}\n",
    "    def __call__(self, *args):\n",
    "        print(args, str(args))\n",
    "        if args[1:3] not in self.memo:\n",
    "            print(\"is not in\")\n",
    "            self.memo[args[1:3]] = np.array(self.fn(*args))\n",
    "        else: print(args, 'is in')\n",
    "        return args[0]*self.memo[args[1:3]]\n",
    "@Memoize    \n",
    "def testfun(i1,i2,i3):\n",
    "    return i1,i2,i3"
   ]
  },
  {
   "cell_type": "code",
   "execution_count": 55,
   "metadata": {},
   "outputs": [
    {
     "name": "stdout",
     "output_type": "stream",
     "text": [
      "(2, 2, 3) (2, 2, 3)\n",
      "(2, 2, 3) is in\n"
     ]
    },
    {
     "data": {
      "text/plain": [
       "array([4, 4, 6])"
      ]
     },
     "execution_count": 55,
     "metadata": {},
     "output_type": "execute_result"
    }
   ],
   "source": [
    "testfun(2,2,3)"
   ]
  },
  {
   "cell_type": "code",
   "execution_count": null,
   "metadata": {},
   "outputs": [],
   "source": []
  }
 ],
 "metadata": {
  "kernelspec": {
   "display_name": "Python 3 (ipykernel)",
   "language": "python",
   "name": "python3"
  },
  "language_info": {
   "codemirror_mode": {
    "name": "ipython",
    "version": 3
   },
   "file_extension": ".py",
   "mimetype": "text/x-python",
   "name": "python",
   "nbconvert_exporter": "python",
   "pygments_lexer": "ipython3",
   "version": "3.9.7"
  },
  "toc-autonumbering": true
 },
 "nbformat": 4,
 "nbformat_minor": 4
}

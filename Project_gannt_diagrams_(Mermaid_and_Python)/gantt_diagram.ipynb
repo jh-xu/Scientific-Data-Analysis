{
 "cells": [
  {
   "cell_type": "markdown",
   "metadata": {},
   "source": [
    "### Import data"
   ]
  },
  {
   "cell_type": "code",
   "execution_count": 2,
   "metadata": {
    "ExecuteTime": {
     "end_time": "2021-06-24T20:55:15.569626Z",
     "start_time": "2021-06-24T20:55:12.646413Z"
    }
   },
   "outputs": [],
   "source": [
    "import pandas as pd\n",
    "import matplotlib.pyplot as plt\n",
    "import datetime as dt"
   ]
  },
  {
   "cell_type": "code",
   "execution_count": 2,
   "metadata": {
    "ExecuteTime": {
     "end_time": "2021-06-22T10:18:28.588265Z",
     "start_time": "2021-06-22T10:18:28.548254Z"
    }
   },
   "outputs": [
    {
     "data": {
      "text/html": [
       "<div>\n",
       "<style scoped>\n",
       "    .dataframe tbody tr th:only-of-type {\n",
       "        vertical-align: middle;\n",
       "    }\n",
       "\n",
       "    .dataframe tbody tr th {\n",
       "        vertical-align: top;\n",
       "    }\n",
       "\n",
       "    .dataframe thead th {\n",
       "        text-align: right;\n",
       "    }\n",
       "</style>\n",
       "<table border=\"1\" class=\"dataframe\">\n",
       "  <thead>\n",
       "    <tr style=\"text-align: right;\">\n",
       "      <th></th>\n",
       "      <th>Task</th>\n",
       "      <th>start</th>\n",
       "      <th>end</th>\n",
       "    </tr>\n",
       "  </thead>\n",
       "  <tbody>\n",
       "    <tr>\n",
       "      <th>0</th>\n",
       "      <td>Task A</td>\n",
       "      <td>14-Jun-2021</td>\n",
       "      <td>18-Jun-2021</td>\n",
       "    </tr>\n",
       "    <tr>\n",
       "      <th>1</th>\n",
       "      <td>Task B</td>\n",
       "      <td>16-Jun-2021</td>\n",
       "      <td>24-Jun-2021</td>\n",
       "    </tr>\n",
       "    <tr>\n",
       "      <th>2</th>\n",
       "      <td>Task C</td>\n",
       "      <td>18-Jun-2021</td>\n",
       "      <td>22-Jun-2021</td>\n",
       "    </tr>\n",
       "    <tr>\n",
       "      <th>3</th>\n",
       "      <td>Task D</td>\n",
       "      <td>22-Jun-2021</td>\n",
       "      <td>25-Jun-2021</td>\n",
       "    </tr>\n",
       "  </tbody>\n",
       "</table>\n",
       "</div>"
      ],
      "text/plain": [
       "     Task        start          end\n",
       "0  Task A  14-Jun-2021  18-Jun-2021\n",
       "1  Task B  16-Jun-2021  24-Jun-2021\n",
       "2  Task C  18-Jun-2021  22-Jun-2021\n",
       "3  Task D  22-Jun-2021  25-Jun-2021"
      ]
     },
     "execution_count": 2,
     "metadata": {},
     "output_type": "execute_result"
    }
   ],
   "source": [
    "df=pd.read_csv('simple_schedule.csv')\n",
    "df"
   ]
  },
  {
   "cell_type": "code",
   "execution_count": 3,
   "metadata": {
    "ExecuteTime": {
     "end_time": "2021-06-22T10:18:28.620274Z",
     "start_time": "2021-06-22T10:18:28.588265Z"
    }
   },
   "outputs": [
    {
     "data": {
      "text/html": [
       "<div>\n",
       "<style scoped>\n",
       "    .dataframe tbody tr th:only-of-type {\n",
       "        vertical-align: middle;\n",
       "    }\n",
       "\n",
       "    .dataframe tbody tr th {\n",
       "        vertical-align: top;\n",
       "    }\n",
       "\n",
       "    .dataframe thead th {\n",
       "        text-align: right;\n",
       "    }\n",
       "</style>\n",
       "<table border=\"1\" class=\"dataframe\">\n",
       "  <thead>\n",
       "    <tr style=\"text-align: right;\">\n",
       "      <th></th>\n",
       "      <th>Task</th>\n",
       "      <th>start</th>\n",
       "      <th>end</th>\n",
       "    </tr>\n",
       "  </thead>\n",
       "  <tbody>\n",
       "    <tr>\n",
       "      <th>0</th>\n",
       "      <td>Task A</td>\n",
       "      <td>2021-06-14</td>\n",
       "      <td>2021-06-18</td>\n",
       "    </tr>\n",
       "    <tr>\n",
       "      <th>1</th>\n",
       "      <td>Task B</td>\n",
       "      <td>2021-06-16</td>\n",
       "      <td>2021-06-24</td>\n",
       "    </tr>\n",
       "    <tr>\n",
       "      <th>2</th>\n",
       "      <td>Task C</td>\n",
       "      <td>2021-06-18</td>\n",
       "      <td>2021-06-22</td>\n",
       "    </tr>\n",
       "    <tr>\n",
       "      <th>3</th>\n",
       "      <td>Task D</td>\n",
       "      <td>2021-06-22</td>\n",
       "      <td>2021-06-25</td>\n",
       "    </tr>\n",
       "  </tbody>\n",
       "</table>\n",
       "</div>"
      ],
      "text/plain": [
       "     Task      start        end\n",
       "0  Task A 2021-06-14 2021-06-18\n",
       "1  Task B 2021-06-16 2021-06-24\n",
       "2  Task C 2021-06-18 2021-06-22\n",
       "3  Task D 2021-06-22 2021-06-25"
      ]
     },
     "execution_count": 3,
     "metadata": {},
     "output_type": "execute_result"
    }
   ],
   "source": [
    "    df.start=pd.to_datetime(df.start)\n",
    "    df.end=pd.to_datetime(df.end)\n",
    "    df"
   ]
  },
  {
   "cell_type": "code",
   "execution_count": 4,
   "metadata": {
    "ExecuteTime": {
     "end_time": "2021-06-22T10:18:35.618170Z",
     "start_time": "2021-06-22T10:18:35.590176Z"
    }
   },
   "outputs": [
    {
     "data": {
      "text/html": [
       "<div>\n",
       "<style scoped>\n",
       "    .dataframe tbody tr th:only-of-type {\n",
       "        vertical-align: middle;\n",
       "    }\n",
       "\n",
       "    .dataframe tbody tr th {\n",
       "        vertical-align: top;\n",
       "    }\n",
       "\n",
       "    .dataframe thead th {\n",
       "        text-align: right;\n",
       "    }\n",
       "</style>\n",
       "<table border=\"1\" class=\"dataframe\">\n",
       "  <thead>\n",
       "    <tr style=\"text-align: right;\">\n",
       "      <th></th>\n",
       "      <th>Task</th>\n",
       "      <th>start</th>\n",
       "      <th>end</th>\n",
       "      <th>duration</th>\n",
       "    </tr>\n",
       "  </thead>\n",
       "  <tbody>\n",
       "    <tr>\n",
       "      <th>0</th>\n",
       "      <td>Task A</td>\n",
       "      <td>2021-06-14</td>\n",
       "      <td>2021-06-18</td>\n",
       "      <td>4 days</td>\n",
       "    </tr>\n",
       "    <tr>\n",
       "      <th>1</th>\n",
       "      <td>Task B</td>\n",
       "      <td>2021-06-16</td>\n",
       "      <td>2021-06-24</td>\n",
       "      <td>8 days</td>\n",
       "    </tr>\n",
       "    <tr>\n",
       "      <th>2</th>\n",
       "      <td>Task C</td>\n",
       "      <td>2021-06-18</td>\n",
       "      <td>2021-06-22</td>\n",
       "      <td>4 days</td>\n",
       "    </tr>\n",
       "    <tr>\n",
       "      <th>3</th>\n",
       "      <td>Task D</td>\n",
       "      <td>2021-06-22</td>\n",
       "      <td>2021-06-25</td>\n",
       "      <td>3 days</td>\n",
       "    </tr>\n",
       "  </tbody>\n",
       "</table>\n",
       "</div>"
      ],
      "text/plain": [
       "     Task      start        end duration\n",
       "0  Task A 2021-06-14 2021-06-18   4 days\n",
       "1  Task B 2021-06-16 2021-06-24   8 days\n",
       "2  Task C 2021-06-18 2021-06-22   4 days\n",
       "3  Task D 2021-06-22 2021-06-25   3 days"
      ]
     },
     "execution_count": 4,
     "metadata": {},
     "output_type": "execute_result"
    }
   ],
   "source": [
    "df['duration']=df.end-df.start\n",
    "df"
   ]
  },
  {
   "cell_type": "code",
   "execution_count": 5,
   "metadata": {
    "ExecuteTime": {
     "end_time": "2021-06-22T10:23:48.498338Z",
     "start_time": "2021-06-22T10:23:48.482709Z"
    }
   },
   "outputs": [
    {
     "data": {
      "text/html": [
       "<div>\n",
       "<style scoped>\n",
       "    .dataframe tbody tr th:only-of-type {\n",
       "        vertical-align: middle;\n",
       "    }\n",
       "\n",
       "    .dataframe tbody tr th {\n",
       "        vertical-align: top;\n",
       "    }\n",
       "\n",
       "    .dataframe thead th {\n",
       "        text-align: right;\n",
       "    }\n",
       "</style>\n",
       "<table border=\"1\" class=\"dataframe\">\n",
       "  <thead>\n",
       "    <tr style=\"text-align: right;\">\n",
       "      <th></th>\n",
       "      <th>Task</th>\n",
       "      <th>start</th>\n",
       "      <th>end</th>\n",
       "      <th>duration</th>\n",
       "    </tr>\n",
       "  </thead>\n",
       "  <tbody>\n",
       "    <tr>\n",
       "      <th>0</th>\n",
       "      <td>Task A</td>\n",
       "      <td>2021-06-14</td>\n",
       "      <td>2021-06-18</td>\n",
       "      <td>5</td>\n",
       "    </tr>\n",
       "    <tr>\n",
       "      <th>1</th>\n",
       "      <td>Task B</td>\n",
       "      <td>2021-06-16</td>\n",
       "      <td>2021-06-24</td>\n",
       "      <td>9</td>\n",
       "    </tr>\n",
       "    <tr>\n",
       "      <th>2</th>\n",
       "      <td>Task C</td>\n",
       "      <td>2021-06-18</td>\n",
       "      <td>2021-06-22</td>\n",
       "      <td>5</td>\n",
       "    </tr>\n",
       "    <tr>\n",
       "      <th>3</th>\n",
       "      <td>Task D</td>\n",
       "      <td>2021-06-22</td>\n",
       "      <td>2021-06-25</td>\n",
       "      <td>4</td>\n",
       "    </tr>\n",
       "  </tbody>\n",
       "</table>\n",
       "</div>"
      ],
      "text/plain": [
       "     Task      start        end  duration\n",
       "0  Task A 2021-06-14 2021-06-18         5\n",
       "1  Task B 2021-06-16 2021-06-24         9\n",
       "2  Task C 2021-06-18 2021-06-22         5\n",
       "3  Task D 2021-06-22 2021-06-25         4"
      ]
     },
     "execution_count": 5,
     "metadata": {},
     "output_type": "execute_result"
    }
   ],
   "source": [
    "#convert duration to number and add one\n",
    "df.duration=df.duration.apply(lambda x: x.days+1)\n",
    "#sort in ascending order of start date\n",
    "df=df.sort_values(by='start', ascending=True)\n",
    "df"
   ]
  },
  {
   "cell_type": "code",
   "execution_count": 6,
   "metadata": {
    "ExecuteTime": {
     "end_time": "2021-06-22T10:38:27.972906Z",
     "start_time": "2021-06-22T10:38:27.803594Z"
    }
   },
   "outputs": [
    {
     "data": {
      "image/png": "[encoded data removed]",
      "text/plain": [
       "<Figure size 432x288 with 1 Axes>"
      ]
     },
     "metadata": {
      "needs_background": "light"
     },
     "output_type": "display_data"
    }
   ],
   "source": [
    "plt.barh(y=df.Task, left=df.start, width=df.duration)\n",
    "plt.show()"
   ]
  },
  {
   "cell_type": "code",
   "execution_count": 7,
   "metadata": {
    "ExecuteTime": {
     "end_time": "2021-06-22T10:38:32.974416Z",
     "start_time": "2021-06-22T10:38:32.858491Z"
    }
   },
   "outputs": [
    {
     "data": {
      "image/png": "[encoded data removed]",
      "text/plain": [
       "<Figure size 432x288 with 1 Axes>"
      ]
     },
     "metadata": {
      "needs_background": "light"
     },
     "output_type": "display_data"
    }
   ],
   "source": [
    "plt.barh(y=df.Task, left=df.start, width=df.duration)\n",
    "plt.gca().invert_yaxis()\n",
    "plt.show()"
   ]
  },
  {
   "cell_type": "code",
   "execution_count": 9,
   "metadata": {
    "ExecuteTime": {
     "end_time": "2021-06-22T10:51:56.799328Z",
     "start_time": "2021-06-22T10:51:56.783700Z"
    }
   },
   "outputs": [
    {
     "name": "stdout",
     "output_type": "stream",
     "text": [
      "project duration : 12\n",
      "project start date : 2021-06-14 00:00:00\n",
      "project end date : 2021-06-25 00:00:00\n"
     ]
    }
   ],
   "source": [
    "p_start=df.start.min()\n",
    "p_end=df.end.max()\n",
    "p_duration=(p_end-p_start).days+1\n",
    "\n",
    "print('project duration :', p_duration)\n",
    "print('project start date :', p_start)\n",
    "print('project end date :', p_end)"
   ]
  },
  {
   "cell_type": "code",
   "execution_count": 15,
   "metadata": {
    "ExecuteTime": {
     "end_time": "2021-06-22T11:01:38.825255Z",
     "start_time": "2021-06-22T11:01:38.809625Z"
    }
   },
   "outputs": [
    {
     "name": "stdout",
     "output_type": "stream",
     "text": [
      "x-ticks:  [0, 1, 2, 3, 4, 5, 6, 7, 8, 9, 10, 11, 12]\n",
      "x-tick labels : ['14-Jun', '15-Jun', '16-Jun', '17-Jun', '18-Jun', '19-Jun', '20-Jun', '21-Jun', '22-Jun', '23-Jun', '24-Jun', '25-Jun', '26-Jun']\n"
     ]
    }
   ],
   "source": [
    "#xticks\n",
    "x_ticks=[i for i in range(p_duration+1)]\n",
    "#xtick labels starts with project start date |formatted\n",
    "x_labels=[(p_start+dt.timedelta(days=i)).strftime('%d-%b') \n",
    "          for i in x_ticks]\n",
    "print('x-ticks: ', x_ticks)\n",
    "print('x-tick labels :', x_labels)"
   ]
  },
  {
   "cell_type": "code",
   "execution_count": 16,
   "metadata": {
    "ExecuteTime": {
     "end_time": "2021-06-22T11:14:06.653793Z",
     "start_time": "2021-06-22T11:14:06.622167Z"
    }
   },
   "outputs": [
    {
     "data": {
      "text/html": [
       "<div>\n",
       "<style scoped>\n",
       "    .dataframe tbody tr th:only-of-type {\n",
       "        vertical-align: middle;\n",
       "    }\n",
       "\n",
       "    .dataframe tbody tr th {\n",
       "        vertical-align: top;\n",
       "    }\n",
       "\n",
       "    .dataframe thead th {\n",
       "        text-align: right;\n",
       "    }\n",
       "</style>\n",
       "<table border=\"1\" class=\"dataframe\">\n",
       "  <thead>\n",
       "    <tr style=\"text-align: right;\">\n",
       "      <th></th>\n",
       "      <th>Task</th>\n",
       "      <th>start</th>\n",
       "      <th>end</th>\n",
       "      <th>duration</th>\n",
       "      <th>rel_start</th>\n",
       "    </tr>\n",
       "  </thead>\n",
       "  <tbody>\n",
       "    <tr>\n",
       "      <th>0</th>\n",
       "      <td>Task A</td>\n",
       "      <td>2021-06-14</td>\n",
       "      <td>2021-06-18</td>\n",
       "      <td>5</td>\n",
       "      <td>0</td>\n",
       "    </tr>\n",
       "    <tr>\n",
       "      <th>1</th>\n",
       "      <td>Task B</td>\n",
       "      <td>2021-06-16</td>\n",
       "      <td>2021-06-24</td>\n",
       "      <td>9</td>\n",
       "      <td>2</td>\n",
       "    </tr>\n",
       "    <tr>\n",
       "      <th>2</th>\n",
       "      <td>Task C</td>\n",
       "      <td>2021-06-18</td>\n",
       "      <td>2021-06-22</td>\n",
       "      <td>5</td>\n",
       "      <td>4</td>\n",
       "    </tr>\n",
       "    <tr>\n",
       "      <th>3</th>\n",
       "      <td>Task D</td>\n",
       "      <td>2021-06-22</td>\n",
       "      <td>2021-06-25</td>\n",
       "      <td>4</td>\n",
       "      <td>8</td>\n",
       "    </tr>\n",
       "  </tbody>\n",
       "</table>\n",
       "</div>"
      ],
      "text/plain": [
       "     Task      start        end  duration  rel_start\n",
       "0  Task A 2021-06-14 2021-06-18         5          0\n",
       "1  Task B 2021-06-16 2021-06-24         9          2\n",
       "2  Task C 2021-06-18 2021-06-22         5          4\n",
       "3  Task D 2021-06-22 2021-06-25         4          8"
      ]
     },
     "execution_count": 16,
     "metadata": {},
     "output_type": "execute_result"
    }
   ],
   "source": [
    "df['rel_start']=df.start.apply(lambda x: (x-p_start).days)\n",
    "df"
   ]
  },
  {
   "cell_type": "code",
   "execution_count": 23,
   "metadata": {
    "ExecuteTime": {
     "end_time": "2021-06-22T11:25:08.271988Z",
     "start_time": "2021-06-22T11:25:07.955753Z"
    }
   },
   "outputs": [
    {
     "data": {
      "image/png": "[encoded data removed]",
      "text/plain": [
       "<Figure size 576x288 with 1 Axes>"
      ]
     },
     "metadata": {
      "needs_background": "light"
     },
     "output_type": "display_data"
    }
   ],
   "source": [
    "plt.figure(figsize=(8,4))\n",
    "#plot barh chart\n",
    "plt.barh(y=df.Task, left=df.rel_start, width=df.duration)\n",
    "\n",
    "#Invert y axis\n",
    "plt.gca().invert_yaxis()\n",
    "\n",
    "#customize x-ticks\n",
    "plt.xticks(ticks=x_ticks, labels=x_labels)\n",
    "\n",
    "#Title\n",
    "plt.title('A simple Gantt Chart', size=18)\n",
    "#rotate x-ticks\n",
    "plt.xticks(rotation=60)\n",
    "\n",
    "#add grid lines\n",
    "plt.grid(axis='x', alpha=0.5)\n",
    "\n",
    "#save fig\n",
    "plt.savefig('simple_gantt.png')\n",
    "\n",
    "plt.tight_layout()\n",
    "plt.show()"
   ]
  },
  {
   "cell_type": "code",
   "execution_count": 104,
   "metadata": {
    "ExecuteTime": {
     "end_time": "2021-06-21T22:39:15.378261Z",
     "start_time": "2021-06-21T22:39:15.231390Z"
    }
   },
   "outputs": [
    {
     "data": {
      "image/png": "[encoded data removed]",
      "text/plain": [
       "<Figure size 432x288 with 1 Axes>"
      ]
     },
     "metadata": {
      "needs_background": "light"
     },
     "output_type": "display_data"
    }
   ],
   "source": [
    "plt.barh(y=df.Task, left=df.rel_start, width=df.duration)\n",
    "plt.gca().invert_yaxis()\n",
    "plt.xticks(ticks=x_ticks[::3], labels=x_labels[::3])\n",
    "#plt.xticks(rotation=90)\n",
    "plt.grid(axis='x')\n",
    "plt.show()"
   ]
  },
  {
   "cell_type": "markdown",
   "metadata": {
    "ExecuteTime": {
     "end_time": "2021-06-24T20:55:02.789363Z",
     "start_time": "2021-06-24T20:55:02.773739Z"
    }
   },
   "source": [
    "### Complex GANTT Chart"
   ]
  },
  {
   "cell_type": "code",
   "execution_count": 18,
   "metadata": {
    "ExecuteTime": {
     "end_time": "2021-06-24T21:01:38.293644Z",
     "start_time": "2021-06-24T21:01:38.262409Z"
    }
   },
   "outputs": [
    {
     "data": {
      "text/html": [
       "<div>\n",
       "<style scoped>\n",
       "    .dataframe tbody tr th:only-of-type {\n",
       "        vertical-align: middle;\n",
       "    }\n",
       "\n",
       "    .dataframe tbody tr th {\n",
       "        vertical-align: top;\n",
       "    }\n",
       "\n",
       "    .dataframe thead th {\n",
       "        text-align: right;\n",
       "    }\n",
       "</style>\n",
       "<table border=\"1\" class=\"dataframe\">\n",
       "  <thead>\n",
       "    <tr style=\"text-align: right;\">\n",
       "      <th></th>\n",
       "      <th>Task</th>\n",
       "      <th>start</th>\n",
       "      <th>end</th>\n",
       "      <th>Department</th>\n",
       "      <th>Completion</th>\n",
       "    </tr>\n",
       "  </thead>\n",
       "  <tbody>\n",
       "    <tr>\n",
       "      <th>0</th>\n",
       "      <td>Task A</td>\n",
       "      <td>14-Jun-2021</td>\n",
       "      <td>18-Jun-2021</td>\n",
       "      <td>Mkt</td>\n",
       "      <td>100</td>\n",
       "    </tr>\n",
       "    <tr>\n",
       "      <th>1</th>\n",
       "      <td>Task B</td>\n",
       "      <td>16-Jun-2021</td>\n",
       "      <td>24-Jun-2021</td>\n",
       "      <td>Fin</td>\n",
       "      <td>100</td>\n",
       "    </tr>\n",
       "    <tr>\n",
       "      <th>2</th>\n",
       "      <td>Task C</td>\n",
       "      <td>18-Jun-2021</td>\n",
       "      <td>22-Jun-2021</td>\n",
       "      <td>Fin</td>\n",
       "      <td>100</td>\n",
       "    </tr>\n",
       "    <tr>\n",
       "      <th>3</th>\n",
       "      <td>Task D</td>\n",
       "      <td>22-Jun-2021</td>\n",
       "      <td>25-Jun-2021</td>\n",
       "      <td>Mkt</td>\n",
       "      <td>90</td>\n",
       "    </tr>\n",
       "    <tr>\n",
       "      <th>4</th>\n",
       "      <td>Task E</td>\n",
       "      <td>22-Jun-2021</td>\n",
       "      <td>30-Jun-2021</td>\n",
       "      <td>HR</td>\n",
       "      <td>60</td>\n",
       "    </tr>\n",
       "  </tbody>\n",
       "</table>\n",
       "</div>"
      ],
      "text/plain": [
       "     Task        start          end Department  Completion\n",
       "0  Task A  14-Jun-2021  18-Jun-2021        Mkt         100\n",
       "1  Task B  16-Jun-2021  24-Jun-2021        Fin         100\n",
       "2  Task C  18-Jun-2021  22-Jun-2021        Fin         100\n",
       "3  Task D  22-Jun-2021  25-Jun-2021        Mkt          90\n",
       "4  Task E  22-Jun-2021  30-Jun-2021         HR          60"
      ]
     },
     "execution_count": 18,
     "metadata": {},
     "output_type": "execute_result"
    }
   ],
   "source": [
    "df =pd.read_csv('schedule.csv')\n",
    "df.head()"
   ]
  },
  {
   "cell_type": "markdown",
   "metadata": {},
   "source": [
    "### Basic Chart"
   ]
  },
  {
   "cell_type": "code",
   "execution_count": 59,
   "metadata": {
    "ExecuteTime": {
     "end_time": "2021-06-24T22:29:49.220556Z",
     "start_time": "2021-06-24T22:29:48.865031Z"
    }
   },
   "outputs": [
    {
     "data": {
      "image/png": "[encoded data removed]",
      "text/plain": [
       "<Figure size 576x288 with 1 Axes>"
      ]
     },
     "metadata": {},
     "output_type": "display_data"
    }
   ],
   "source": [
    "#Convert dates to datetime format\n",
    "df.start=pd.to_datetime(df.start)\n",
    "df.end=pd.to_datetime(df.end)\n",
    "\n",
    "#Add Duration\n",
    "df['duration']=df.end-df.start\n",
    "df.duration=df.duration.apply(lambda x: x.days+1)\n",
    "\n",
    "#sort in ascending order of start date\n",
    "df=df.sort_values(by='start', ascending=True)\n",
    "\n",
    "#project level variables\n",
    "p_start=df.start.min()\n",
    "p_end=df.end.max()\n",
    "p_duration=(p_end-p_start).days+1\n",
    "\n",
    "#Add relative date\n",
    "df['rel_start']=df.start.apply(lambda x: (x-p_start).days)\n",
    "\n",
    "#Create custom x-ticks and x-tick labels\n",
    "x_ticks=[i for i in range(p_duration+1)]\n",
    "x_labels=[(p_start+dt.timedelta(days=i)).strftime('%d-%b') \n",
    "          for i in x_ticks]\n",
    "\n",
    "#Create horizontal bar-graph with y=task, left=Duration and left=relative start date; invert y-axis\n",
    "plt.figure(figsize=(8,4))\n",
    "plt.title('Basic Gantt Chart', size=18)\n",
    "plt.barh(y=df.Task, left=df.rel_start, width=df.duration)\n",
    "plt.gca().invert_yaxis()\n",
    "plt.xticks(ticks=x_ticks[::3], labels=x_labels[::3])\n",
    "#plt.xticks(rotation=90)\n",
    "plt.grid(axis='x')\n",
    "plt.savefig('fig1.png')\n",
    "plt.show()"
   ]
  },
  {
   "cell_type": "markdown",
   "metadata": {},
   "source": [
    "### Adding Percentage completion"
   ]
  },
  {
   "cell_type": "code",
   "execution_count": 27,
   "metadata": {
    "ExecuteTime": {
     "end_time": "2021-06-24T21:15:16.658010Z",
     "start_time": "2021-06-24T21:15:16.626755Z"
    },
    "scrolled": true
   },
   "outputs": [
    {
     "data": {
      "text/html": [
       "<div>\n",
       "<style scoped>\n",
       "    .dataframe tbody tr th:only-of-type {\n",
       "        vertical-align: middle;\n",
       "    }\n",
       "\n",
       "    .dataframe tbody tr th {\n",
       "        vertical-align: top;\n",
       "    }\n",
       "\n",
       "    .dataframe thead th {\n",
       "        text-align: right;\n",
       "    }\n",
       "</style>\n",
       "<table border=\"1\" class=\"dataframe\">\n",
       "  <thead>\n",
       "    <tr style=\"text-align: right;\">\n",
       "      <th></th>\n",
       "      <th>Task</th>\n",
       "      <th>start</th>\n",
       "      <th>end</th>\n",
       "      <th>Department</th>\n",
       "      <th>Completion</th>\n",
       "      <th>duration</th>\n",
       "      <th>rel_start</th>\n",
       "      <th>w_comp</th>\n",
       "    </tr>\n",
       "  </thead>\n",
       "  <tbody>\n",
       "    <tr>\n",
       "      <th>0</th>\n",
       "      <td>Task A</td>\n",
       "      <td>2021-06-14</td>\n",
       "      <td>2021-06-18</td>\n",
       "      <td>Mkt</td>\n",
       "      <td>100</td>\n",
       "      <td>5</td>\n",
       "      <td>0</td>\n",
       "      <td>5.0</td>\n",
       "    </tr>\n",
       "    <tr>\n",
       "      <th>1</th>\n",
       "      <td>Task B</td>\n",
       "      <td>2021-06-16</td>\n",
       "      <td>2021-06-24</td>\n",
       "      <td>Fin</td>\n",
       "      <td>100</td>\n",
       "      <td>9</td>\n",
       "      <td>2</td>\n",
       "      <td>9.0</td>\n",
       "    </tr>\n",
       "    <tr>\n",
       "      <th>2</th>\n",
       "      <td>Task C</td>\n",
       "      <td>2021-06-18</td>\n",
       "      <td>2021-06-22</td>\n",
       "      <td>Fin</td>\n",
       "      <td>100</td>\n",
       "      <td>5</td>\n",
       "      <td>4</td>\n",
       "      <td>5.0</td>\n",
       "    </tr>\n",
       "    <tr>\n",
       "      <th>3</th>\n",
       "      <td>Task D</td>\n",
       "      <td>2021-06-22</td>\n",
       "      <td>2021-06-25</td>\n",
       "      <td>Mkt</td>\n",
       "      <td>90</td>\n",
       "      <td>4</td>\n",
       "      <td>8</td>\n",
       "      <td>3.6</td>\n",
       "    </tr>\n",
       "    <tr>\n",
       "      <th>4</th>\n",
       "      <td>Task E</td>\n",
       "      <td>2021-06-22</td>\n",
       "      <td>2021-06-30</td>\n",
       "      <td>HR</td>\n",
       "      <td>60</td>\n",
       "      <td>9</td>\n",
       "      <td>8</td>\n",
       "      <td>5.4</td>\n",
       "    </tr>\n",
       "  </tbody>\n",
       "</table>\n",
       "</div>"
      ],
      "text/plain": [
       "     Task      start        end Department  Completion  duration  rel_start  \\\n",
       "0  Task A 2021-06-14 2021-06-18        Mkt         100         5          0   \n",
       "1  Task B 2021-06-16 2021-06-24        Fin         100         9          2   \n",
       "2  Task C 2021-06-18 2021-06-22        Fin         100         5          4   \n",
       "3  Task D 2021-06-22 2021-06-25        Mkt          90         4          8   \n",
       "4  Task E 2021-06-22 2021-06-30         HR          60         9          8   \n",
       "\n",
       "   w_comp  \n",
       "0     5.0  \n",
       "1     9.0  \n",
       "2     5.0  \n",
       "3     3.6  \n",
       "4     5.4  "
      ]
     },
     "execution_count": 27,
     "metadata": {},
     "output_type": "execute_result"
    }
   ],
   "source": [
    "df['w_comp']=round(df.Completion*df.duration/100,2)\n",
    "df.head()"
   ]
  },
  {
   "cell_type": "code",
   "execution_count": 60,
   "metadata": {
    "ExecuteTime": {
     "end_time": "2021-06-24T22:42:40.845670Z",
     "start_time": "2021-06-24T22:42:40.486256Z"
    }
   },
   "outputs": [
    {
     "data": {
      "image/png": "[encoded data removed]",
      "text/plain": [
       "<Figure size 576x288 with 1 Axes>"
      ]
     },
     "metadata": {},
     "output_type": "display_data"
    }
   ],
   "source": [
    "plt.figure(figsize=(8,4))\n",
    "plt.title('Gantt Chart:Completion', size=18)\n",
    "\n",
    "#Light bar for entire task\n",
    "plt.barh(y=df.Task, left=df.rel_start, width=df.duration, \n",
    "         alpha=0.4, color='green')\n",
    "#Darker bar for completed part\n",
    "plt.barh(y=df.Task, left=df.rel_start, width=df.w_comp, \n",
    "         alpha=1, color='green')\n",
    "\n",
    "plt.gca().invert_yaxis()\n",
    "plt.xticks(ticks=x_ticks[::3], labels=x_labels[::3])\n",
    "plt.grid(axis='x')\n",
    "plt.savefig('fig1.png')\n",
    "plt.show()"
   ]
  },
  {
   "cell_type": "markdown",
   "metadata": {},
   "source": [
    "### Coloring based on Department"
   ]
  },
  {
   "cell_type": "code",
   "execution_count": 32,
   "metadata": {
    "ExecuteTime": {
     "end_time": "2021-06-24T21:24:31.879410Z",
     "start_time": "2021-06-24T21:24:31.848171Z"
    }
   },
   "outputs": [],
   "source": [
    "c_dict={'Mkt':'red', 'Fin':'green', 'HR':'blue'}"
   ]
  },
  {
   "cell_type": "code",
   "execution_count": 61,
   "metadata": {
    "ExecuteTime": {
     "end_time": "2021-06-24T22:54:33.768041Z",
     "start_time": "2021-06-24T22:54:33.335167Z"
    }
   },
   "outputs": [
    {
     "data": {
      "image/png": "[encoded data removed]",
      "text/plain": [
       "<Figure size 576x288 with 1 Axes>"
      ]
     },
     "metadata": {},
     "output_type": "display_data"
    }
   ],
   "source": [
    "plt.figure(figsize=(8,4))\n",
    "plt.title('Gantt Chart:Completion | Dept.', size=18)\n",
    "\n",
    "for i in range(df.shape[0]):\n",
    "    color=c_dict[df.Department[i]]\n",
    "    plt.barh(y=df.Task[i], left=df.rel_start[i], \n",
    "             width=df.duration[i], alpha=0.4, \n",
    "             color=color)\n",
    "    plt.barh(y=df.Task[i], left=df.rel_start[i], \n",
    "             width=df.w_comp[i], alpha=1, color=color)\n",
    "    \n",
    "plt.gca().invert_yaxis()\n",
    "plt.xticks(ticks=x_ticks[::3], labels=x_labels[::3])\n",
    "plt.grid(axis='x')\n",
    "plt.savefig('fig1.png')\n",
    "plt.show()"
   ]
  },
  {
   "cell_type": "markdown",
   "metadata": {},
   "source": [
    "### Sorting by Department"
   ]
  },
  {
   "cell_type": "code",
   "execution_count": 64,
   "metadata": {
    "ExecuteTime": {
     "end_time": "2021-06-24T23:04:29.941865Z",
     "start_time": "2021-06-24T23:04:29.475538Z"
    }
   },
   "outputs": [
    {
     "data": {
      "image/png": "[encoded data removed]",
      "text/plain": [
       "<Figure size 576x288 with 1 Axes>"
      ]
     },
     "metadata": {},
     "output_type": "display_data"
    }
   ],
   "source": [
    "#Sort based on Department\n",
    "df=df.sort_values(by='Department', \n",
    "                  ascending=False).reset_index(drop=True)\n",
    "\n",
    "plt.figure(figsize=(8,4))\n",
    "plt.title('Gantt Chart | Completion% | Sorted by Dept', size=18)\n",
    "for i in range(df.shape[0]):\n",
    "    color=c_dict[df.Department[i]]\n",
    "    plt.barh(y=df.Task[i], left=df.rel_start[i], \n",
    "             width=df.duration[i], alpha=0.4, \n",
    "             color=color)\n",
    "    plt.barh(y=df.Task[i], left=df.rel_start[i], \n",
    "             width=df.w_comp[i], alpha=1, color=color)\n",
    "plt.gca().invert_yaxis()\n",
    "plt.xticks(ticks=x_ticks[::3], labels=x_labels[::3])\n",
    "plt.grid(axis='x')\n",
    "plt.savefig('fig1.png')\n",
    "plt.show()"
   ]
  },
  {
   "cell_type": "markdown",
   "metadata": {},
   "source": [
    "### Adding completion and Legend"
   ]
  },
  {
   "cell_type": "code",
   "execution_count": 40,
   "metadata": {
    "ExecuteTime": {
     "end_time": "2021-06-24T21:40:33.302096Z",
     "start_time": "2021-06-24T21:40:33.286471Z"
    }
   },
   "outputs": [],
   "source": [
    "yticks=[i for i in range(len(df.Task))]"
   ]
  },
  {
   "cell_type": "code",
   "execution_count": 66,
   "metadata": {
    "ExecuteTime": {
     "end_time": "2021-06-24T23:24:43.674125Z",
     "start_time": "2021-06-24T23:24:43.200618Z"
    }
   },
   "outputs": [
    {
     "data": {
      "image/png": "[encoded data removed]",
      "text/plain": [
       "<Figure size 576x288 with 1 Axes>"
      ]
     },
     "metadata": {},
     "output_type": "display_data"
    }
   ],
   "source": [
    "plt.figure(figsize=(8,4))\n",
    "plt.title('Gantt Chart | Completion%', size=18)\n",
    "\n",
    "for i in range(df.shape[0]):\n",
    "    color=c_dict[df.Department[i]]\n",
    "    plt.barh(y=df.Task[i], left=df.rel_start[i], \n",
    "             width=df.duration[i], alpha=0.4, \n",
    "             color=color)\n",
    "    plt.barh(y=df.Task[i], left=df.rel_start[i], \n",
    "             width=df.w_comp[i], alpha=1, color=color)\n",
    "    plt.text(x=df.rel_start[i]+df.w_comp[i],\n",
    "             y=yticks[i],\n",
    "             s=f'{df.Completion[i]}%')\n",
    "    \n",
    "plt.gca().invert_yaxis()\n",
    "plt.xticks(ticks=x_ticks[::3], labels=x_labels[::3])\n",
    "plt.grid(axis='x')\n",
    "plt.show()"
   ]
  },
  {
   "cell_type": "code",
   "execution_count": 72,
   "metadata": {
    "ExecuteTime": {
     "end_time": "2021-06-24T23:47:22.674462Z",
     "start_time": "2021-06-24T23:47:22.076026Z"
    }
   },
   "outputs": [
    {
     "data": {
      "image/png": "[encoded data removed]",
      "text/plain": [
       "<Figure size 864x504 with 1 Axes>"
      ]
     },
     "metadata": {},
     "output_type": "display_data"
    }
   ],
   "source": [
    "plt.figure(figsize=(12,7))\n",
    "plt.title('Gantt Chart:Project Mayhem', size=18)\n",
    "\n",
    "for i in range(df.shape[0]):\n",
    "    color=c_dict[df.Department[i]]\n",
    "    plt.barh(y=yticks[i], left=df.rel_start[i], \n",
    "             width=df.duration[i], alpha=0.4, \n",
    "             color=color)\n",
    "    plt.barh(y=yticks[i], left=df.rel_start[i], \n",
    "             width=df.w_comp[i], alpha=1, color=color,\n",
    "            label=df.Department[i])\n",
    "    plt.text(x=df.rel_start[i]+df.w_comp[i],\n",
    "             y=yticks[i],\n",
    "             s=f'{df.Completion[i]}%')\n",
    "    \n",
    "plt.gca().invert_yaxis()\n",
    "plt.xticks(ticks=x_ticks[::3], labels=x_labels[::3])\n",
    "plt.yticks(ticks=yticks, labels=df.Task)\n",
    "plt.grid(axis='x')\n",
    "\n",
    "#fix legends\n",
    "handles, labels = plt.gca().get_legend_handles_labels()\n",
    "handle_list, label_list = [], []\n",
    "for handle, label in zip(handles, labels):\n",
    "    if label not in label_list:\n",
    "        handle_list.append(handle)\n",
    "        label_list.append(label)\n",
    "plt.legend(handle_list, label_list, fontsize='medium', \n",
    "           title='Department', title_fontsize='large')\n",
    "\n",
    "plt.savefig('fig1.png')\n",
    "plt.show()"
   ]
  },
  {
   "cell_type": "code",
   "execution_count": null,
   "metadata": {},
   "outputs": [],
   "source": []
  }
 ],
 "metadata": {
  "kernelspec": {
   "display_name": "Python 3.9.7",
   "language": "python",
   "name": "python3"
  },
  "language_info": {
   "codemirror_mode": {
    "name": "ipython",
    "version": 3
   },
   "file_extension": ".py",
   "mimetype": "text/x-python",
   "name": "python",
   "nbconvert_exporter": "python",
   "pygments_lexer": "ipython3",
   "version": "3.9.7"
  },
  "vscode": {
   "interpreter": {
    "hash": "1e0c97cffbe9bba0715a0699877ad5cb103c183a576ebdf66d2da174470e8a30"
   }
  }
 },
 "nbformat": 4,
 "nbformat_minor": 2
}

{
 "cells": [
  {
   "cell_type": "code",
   "execution_count": 12,
   "metadata": {},
   "outputs": [],
   "source": [
    "from matplotlib.pyplot import cm\n",
    "import numpy as np\n",
    "import matplotlib.pyplot as plt\n",
    "%matplotlib ipympl\n",
    "#plt.style.use('default')\n",
    "plt.style.use('seaborn')\n",
    "from matplotlib import rcParams\n",
    "rcParams['axes.titley'] = 1.1\n",
    "\n",
    "plt.rcParams['figure.constrained_layout.use'] = True\n",
    "plt.rcParams['figure.constrained_layout.h_pad'] = 0.1\n",
    "plt.rcParams['figure.constrained_layout.w_pad'] = 0.1"
   ]
  },
  {
   "cell_type": "code",
   "execution_count": 2,
   "metadata": {},
   "outputs": [
    {
     "name": "stdout",
     "output_type": "stream",
     "text": [
      "Hermiticity check passed!\n",
      "Symmetry checks passed!\n",
      "Particle conservation check passed!\n",
      "[-0.75 -0.25 -0.25  0.25] \n",
      " [[0. 0. 0. 1.]\n",
      " [1. 0. 0. 0.]\n",
      " [0. 1. 0. 0.]\n",
      " [0. 0. 1. 0.]]\n"
     ]
    }
   ],
   "source": [
    "from __future__ import print_function, division\n",
    "import sys,os\n",
    "# line 4 and line 5 below are for development purposes and can be removed\n",
    "qspin_path = os.path.join(os.getcwd(),\"../../\")\n",
    "sys.path.insert(0,qspin_path)\n",
    "#####################################################################\n",
    "#                            example 0                              #\n",
    "#    In this script we demonstrate how to use QuSpin's exact        #\n",
    "#    diagonlization routines to solve for the eigenstates and       #\n",
    "#    energies of the XXZ chain.                                     #\n",
    "#####################################################################\n",
    "from quspin.operators import hamiltonian # Hamiltonians and operators\n",
    "from quspin.basis import spin_basis_1d # Hilbert space spin basis\n",
    "import numpy as np # generic math functions\n",
    "#\n",
    "##### define model parameters #####\n",
    "L=4 # system size\n",
    "Jxy=0; #p.sqrt(2.0) # xy interaction\n",
    "Jzz_0=1.0 # zz interaction\n",
    "hz=0.0/np.sqrt(3.0) # z external field\n",
    "#\n",
    "##### set up Heisenberg Hamiltonian in an external z-field #####\n",
    "# compute spin-1/2 basis\n",
    "#basis = spin_basis_1d(L,pauli=False)\n",
    "#basis = spin_basis_1d(L,pauli=False,Nup=L//2) # zero magnetisation sector\n",
    "basis = spin_basis_1d(L,pauli=False,Nup=L//2,pblock=1) # and positive parity sector\n",
    "# define operators with OBC using site-coupling lists\n",
    "J_zz = [[Jzz_0,i,i+1] for i in range(L-1)] # OBC\n",
    "J_xy = [[Jxy/2.0,i,i+1] for i in range(L-1)] # OBC\n",
    "h_z=[[hz,i] for i in range(L)]\n",
    "# static and dynamic lists\n",
    "static = [[\"+-\",J_xy],[\"-+\",J_xy],[\"zz\",J_zz],[\"z\",h_z]]\n",
    "dynamic=[]\n",
    "# compute the time-dependent Heisenberg Hamiltonian\n",
    "H_XXZ = hamiltonian(static,dynamic,basis=basis,dtype=np.float64)\n",
    "#\n",
    "##### various exact diagonalisation routines #####\n",
    "# calculate entire spectrum only\n",
    "E=H_XXZ.eigvalsh()\n",
    "# calculate full eigensystem\n",
    "E,V=H_XXZ.eigh()\n",
    "print(E,'\\n',V)"
   ]
  },
  {
   "cell_type": "code",
   "execution_count": null,
   "metadata": {},
   "outputs": [],
   "source": [
    "print(basis.get_proj(dtype=np.float64))\n",
    "print(H_XXZ.as_dense_format())"
   ]
  },
  {
   "cell_type": "code",
   "execution_count": 11,
   "metadata": {
    "collapsed": true,
    "jupyter": {
     "outputs_hidden": true
    }
   },
   "outputs": [
    {
     "name": "stdout",
     "output_type": "stream",
     "text": [
      "[-5.14209063e+00 -4.51329095e+00 -4.40782917e+00 -4.00991280e+00\n",
      " -3.91842456e+00 -3.87312493e+00 -3.79175211e+00 -3.70133971e+00\n",
      " -3.58079260e+00 -3.44362021e+00 -3.44349578e+00 -3.40205834e+00\n",
      " -3.38039033e+00 -3.27518885e+00 -3.20191037e+00 -3.17836475e+00\n",
      " -3.12952448e+00 -3.12149082e+00 -3.09912124e+00 -3.07938009e+00\n",
      " -2.94838868e+00 -2.92710829e+00 -2.82555952e+00 -2.81576057e+00\n",
      " -2.81500095e+00 -2.78254749e+00 -2.76989628e+00 -2.72869237e+00\n",
      " -2.71471564e+00 -2.68966130e+00 -2.63524821e+00 -2.60780993e+00\n",
      " -2.58440751e+00 -2.57805890e+00 -2.52871651e+00 -2.50985863e+00\n",
      " -2.50204986e+00 -2.45992850e+00 -2.44487733e+00 -2.38722712e+00\n",
      " -2.37925105e+00 -2.37767390e+00 -2.37537605e+00 -2.33974886e+00\n",
      " -2.33072767e+00 -2.28487788e+00 -2.27892172e+00 -2.22666431e+00\n",
      " -2.21125325e+00 -2.20593693e+00 -2.20260853e+00 -2.17013088e+00\n",
      " -2.15803468e+00 -2.14995359e+00 -2.09953226e+00 -2.07967811e+00\n",
      " -2.07687831e+00 -2.07130575e+00 -2.06705578e+00 -2.00170313e+00\n",
      " -1.99311591e+00 -1.99014744e+00 -1.97420846e+00 -1.96313027e+00\n",
      " -1.95320645e+00 -1.94172453e+00 -1.94141834e+00 -1.91275174e+00\n",
      " -1.90320242e+00 -1.87753991e+00 -1.86950581e+00 -1.84783361e+00\n",
      " -1.84082536e+00 -1.83392129e+00 -1.83005471e+00 -1.78745342e+00\n",
      " -1.77550485e+00 -1.77084988e+00 -1.75182851e+00 -1.69625536e+00\n",
      " -1.67378261e+00 -1.64242492e+00 -1.63915428e+00 -1.62306687e+00\n",
      " -1.62271384e+00 -1.60839666e+00 -1.60613261e+00 -1.58220717e+00\n",
      " -1.58075884e+00 -1.58072614e+00 -1.57702989e+00 -1.55350260e+00\n",
      " -1.54630529e+00 -1.51683137e+00 -1.50685926e+00 -1.49493481e+00\n",
      " -1.49116409e+00 -1.48902316e+00 -1.47068045e+00 -1.46717148e+00\n",
      " -1.46584089e+00 -1.45773115e+00 -1.44587438e+00 -1.43069562e+00\n",
      " -1.42382513e+00 -1.42143844e+00 -1.41703723e+00 -1.40396871e+00\n",
      " -1.37555149e+00 -1.37375204e+00 -1.37119158e+00 -1.33675080e+00\n",
      " -1.32633705e+00 -1.31797408e+00 -1.27864404e+00 -1.26657253e+00\n",
      " -1.25163740e+00 -1.23837285e+00 -1.21875341e+00 -1.21553433e+00\n",
      " -1.21240411e+00 -1.20912069e+00 -1.20017548e+00 -1.17274542e+00\n",
      " -1.16714800e+00 -1.16394229e+00 -1.15250642e+00 -1.13336422e+00\n",
      " -1.13204777e+00 -1.13109701e+00 -1.13012630e+00 -1.11838472e+00\n",
      " -1.10849533e+00 -1.07040811e+00 -1.06720532e+00 -1.06635949e+00\n",
      " -1.05708183e+00 -1.05623451e+00 -1.04778128e+00 -1.04202666e+00\n",
      " -1.03730484e+00 -1.03269104e+00 -1.02600134e+00 -1.00683353e+00\n",
      " -1.00609699e+00 -9.93878533e-01 -9.79297630e-01 -9.70037019e-01\n",
      " -9.64180936e-01 -9.56365773e-01 -9.47143333e-01 -9.31251375e-01\n",
      " -9.17142796e-01 -8.97372819e-01 -8.85141124e-01 -8.72632281e-01\n",
      " -8.64587121e-01 -8.61646596e-01 -8.58372950e-01 -8.53199120e-01\n",
      " -8.52925942e-01 -8.28219548e-01 -8.11614489e-01 -8.09985537e-01\n",
      " -8.09544163e-01 -7.86629589e-01 -7.84201936e-01 -7.83284949e-01\n",
      " -7.55373851e-01 -7.47447555e-01 -7.44921954e-01 -7.22071774e-01\n",
      " -7.16189166e-01 -7.03434541e-01 -6.98185261e-01 -6.80439543e-01\n",
      " -6.69988095e-01 -6.59035322e-01 -6.48377375e-01 -6.30869979e-01\n",
      " -6.30688770e-01 -6.28510731e-01 -6.27724910e-01 -6.23899673e-01\n",
      " -6.19263286e-01 -6.08901838e-01 -6.02220788e-01 -5.92759431e-01\n",
      " -5.79956633e-01 -5.66583916e-01 -5.65815681e-01 -5.60944491e-01\n",
      " -5.56545321e-01 -5.44561498e-01 -5.38816274e-01 -5.26850907e-01\n",
      " -5.01472575e-01 -4.98862864e-01 -4.97864576e-01 -4.73342128e-01\n",
      " -4.62610141e-01 -4.58054635e-01 -4.47841776e-01 -4.34978036e-01\n",
      " -4.17731356e-01 -4.14341109e-01 -4.03765320e-01 -3.96818772e-01\n",
      " -3.92013362e-01 -3.89770483e-01 -3.77283043e-01 -3.72596957e-01\n",
      " -3.62354133e-01 -3.36436472e-01 -3.34753882e-01 -3.02606076e-01\n",
      " -3.00148471e-01 -2.96492370e-01 -2.94094531e-01 -2.80251678e-01\n",
      " -2.80203780e-01 -2.76628775e-01 -2.70457908e-01 -2.66740944e-01\n",
      " -2.58576342e-01 -2.31431516e-01 -2.26930961e-01 -2.22881891e-01\n",
      " -2.20853385e-01 -2.06616031e-01 -1.94174561e-01 -1.87407545e-01\n",
      " -1.83703660e-01 -1.70001673e-01 -1.61710164e-01 -1.53632052e-01\n",
      " -1.42051355e-01 -1.37374817e-01 -1.31038024e-01 -1.26641087e-01\n",
      " -1.19395901e-01 -9.70987142e-02 -9.41523502e-02 -8.48608469e-02\n",
      " -8.03231526e-02 -5.74249247e-02 -5.20877146e-02 -4.52796187e-02\n",
      " -4.38146452e-02 -4.34941934e-02 -3.55321525e-02 -3.03507255e-02\n",
      " -1.01861736e-02 -7.88809120e-03  6.30168177e-04  6.85632430e-03\n",
      "  2.19834153e-02  2.66895442e-02  2.77400195e-02  3.17541588e-02\n",
      "  3.24727764e-02  4.28908609e-02  6.24134243e-02  6.64568198e-02\n",
      "  7.38056147e-02  8.68781616e-02  8.73186327e-02  1.05022578e-01\n",
      "  1.11104245e-01  1.12540065e-01  1.17670671e-01  1.22532851e-01\n",
      "  1.31925401e-01  1.42970675e-01  1.51074960e-01  1.51625710e-01\n",
      "  1.64643820e-01  1.69669633e-01  1.79702021e-01  1.79911245e-01\n",
      "  1.98731223e-01  2.38448220e-01  2.41409118e-01  2.42211516e-01\n",
      "  2.49081627e-01  2.50619995e-01  2.69923775e-01  2.73498930e-01\n",
      "  2.81912527e-01  2.82363752e-01  2.84877057e-01  3.06312231e-01\n",
      "  3.30375116e-01  3.36047209e-01  3.51347768e-01  3.57461941e-01\n",
      "  3.61242098e-01  3.76430594e-01  3.77158111e-01  3.84020991e-01\n",
      "  3.85529646e-01  3.95134453e-01  3.96975732e-01  3.98471599e-01\n",
      "  4.00164231e-01  4.06113309e-01  4.17414659e-01  4.22296537e-01\n",
      "  4.35523097e-01  4.39637083e-01  4.45914873e-01  4.52586285e-01\n",
      "  4.59050202e-01  4.62238530e-01  4.63481522e-01  4.83272610e-01\n",
      "  5.06300984e-01  5.19869992e-01  5.24573714e-01  5.28935932e-01\n",
      "  5.39134800e-01  5.50564035e-01  5.55046511e-01  5.59389592e-01\n",
      "  5.64814407e-01  5.77679218e-01  5.90330912e-01  6.04927112e-01\n",
      "  6.10514727e-01  6.15700061e-01  6.24694019e-01  6.32648570e-01\n",
      "  6.41459570e-01  6.56035671e-01  6.60933187e-01  6.62605591e-01\n",
      "  6.63580900e-01  6.68089829e-01  6.72549621e-01  7.01854339e-01\n",
      "  7.05226353e-01  7.24404678e-01  7.25881758e-01  7.26544617e-01\n",
      "  7.35831711e-01  7.55547453e-01  7.62587865e-01  7.76016906e-01\n",
      "  7.76527977e-01  7.84568674e-01  7.87163051e-01  7.94685944e-01\n",
      "  8.22204339e-01  8.29264078e-01  8.35190166e-01  8.48511493e-01\n",
      "  8.56369258e-01  8.83974596e-01  8.90161494e-01  8.94294566e-01\n",
      "  9.04894439e-01  9.16304146e-01  9.27293704e-01  9.41027717e-01\n",
      "  9.43109565e-01  9.51768100e-01  9.57901470e-01  9.59991014e-01\n",
      "  9.73949192e-01  9.89123518e-01  9.92380918e-01  9.96018726e-01\n",
      "  9.96561496e-01  9.98359382e-01  1.01205959e+00  1.03454350e+00\n",
      "  1.04236518e+00  1.05860033e+00  1.07614327e+00  1.10828659e+00\n",
      "  1.12788577e+00  1.13826249e+00  1.15368275e+00  1.15639605e+00\n",
      "  1.16643882e+00  1.18759754e+00  1.19021886e+00  1.19176780e+00\n",
      "  1.19938111e+00  1.21438551e+00  1.22723881e+00  1.25000000e+00\n",
      "  1.26245834e+00  1.26482924e+00  1.28084340e+00  1.28494920e+00\n",
      "  1.32172797e+00  1.33941890e+00  1.35001492e+00  1.35091861e+00\n",
      "  1.35171736e+00  1.38120766e+00  1.38212111e+00  1.39493325e+00\n",
      "  1.42757135e+00  1.43147592e+00  1.44816470e+00  1.46955612e+00\n",
      "  1.49068915e+00  1.49469181e+00  1.51426217e+00  1.52438526e+00\n",
      "  1.53571644e+00  1.53655100e+00  1.56130026e+00  1.57762791e+00\n",
      "  1.58156830e+00  1.58718451e+00  1.59955163e+00  1.61372278e+00\n",
      "  1.62446354e+00  1.64656230e+00  1.66066513e+00  1.66437131e+00\n",
      "  1.69091886e+00  1.69905944e+00  1.70791073e+00  1.74670280e+00\n",
      "  1.75000000e+00  1.75747155e+00  1.77230287e+00  1.77424695e+00\n",
      "  1.77466127e+00  1.79604293e+00  1.81074618e+00  1.81937291e+00\n",
      "  1.86741588e+00  1.87916789e+00  1.88124395e+00  1.93356565e+00\n",
      "  1.94510967e+00  1.96730918e+00  1.96965856e+00  1.97034500e+00\n",
      "  2.00088297e+00  2.00890129e+00  2.01134677e+00  2.03745875e+00\n",
      "  2.08107115e+00  2.09658785e+00  2.09790716e+00  2.16986265e+00\n",
      "  2.17261536e+00  2.17489154e+00  2.20862557e+00  2.22312641e+00\n",
      "  2.24602868e+00  2.25000000e+00  2.28651415e+00  2.29637965e+00\n",
      "  2.34299025e+00  2.35870120e+00  2.42148294e+00  2.43059894e+00\n",
      "  2.47175292e+00  2.48015254e+00  2.49104825e+00  2.55003794e+00\n",
      "  2.59544242e+00  2.61602540e+00  2.67920778e+00  2.75000000e+00]\n"
     ]
    },
    {
     "data": {
      "application/vnd.jupyter.widget-view+json": {
       "model_id": "f1477e5a55f345939dc4a65289d3a5c8",
       "version_major": 2,
       "version_minor": 0
      },
      "text/plain": [
       "Canvas(toolbar=Toolbar(toolitems=[('Home', 'Reset original view', 'home', 'home'), ('Back', 'Back to previous …"
      ]
     },
     "metadata": {},
     "output_type": "display_data"
    }
   ],
   "source": [
    "plt.figure()\n",
    "plt.plot(E)\n",
    "plt.show()"
   ]
  },
  {
   "cell_type": "code",
   "execution_count": 5,
   "metadata": {},
   "outputs": [],
   "source": [
    "# calculate minimum and maximum energy only\n",
    "Emin,Emax=H_XXZ.eigsh(k=2,which=\"BE\",maxiter=1E4,return_eigenvectors=False)\n",
    "# calculate the eigenstate closest to energy E_star\n",
    "E_star = 0.0\n",
    "E,psi_0=H_XXZ.eigsh(k=1,sigma=E_star,maxiter=1E4)\n",
    "psi_0=psi_0.reshape((-1,))"
   ]
  },
  {
   "cell_type": "markdown",
   "metadata": {},
   "source": [
    "# Code from \n",
    "* [https://ryanlevy.github.io/physics/Heisenberg1D-ED/](https://ryanlevy.github.io/physics/Heisenberg1D-ED/)"
   ]
  },
  {
   "cell_type": "code",
   "execution_count": 4,
   "metadata": {},
   "outputs": [
    {
     "name": "stdout",
     "output_type": "stream",
     "text": [
      "L = 10 basis size: 1024\n",
      "Energies assembled!\n",
      "Lowest energy: -4.515446354492041\n",
      "The ground state occured in Sz= 0\n"
     ]
    },
    {
     "data": {
      "application/vnd.jupyter.widget-view+json": {
       "model_id": "fcbe0a81cbaa4418b8d1c1ec276ac8e1",
       "version_major": 2,
       "version_minor": 0
      },
      "text/plain": [
       "Canvas(toolbar=Toolbar(toolitems=[('Home', 'Reset original view', 'home', 'home'), ('Back', 'Back to previous …"
      ]
     },
     "metadata": {},
     "output_type": "display_data"
    },
    {
     "name": "stdout",
     "output_type": "stream",
     "text": [
      "====\n",
      "L = 10 basis size: 1024\n",
      "The biggest states are:\n",
      "|↓|↑|↓|↑|↓|↑|↓|↑|↓|↑|\n",
      "|↑|↓|↑|↓|↑|↓|↑|↓|↑|↓|\n"
     ]
    }
   ],
   "source": [
    "#Constants of the problem\n",
    "L   = 10\n",
    "Jxy = -1     # when J<0 it is antiferromagnetic \n",
    "Jz  = -1     # J_z = J_xy = J is the normal Heisenberg model instead of XXZ model\n",
    "h   = -0e-5 # small h field to break degeneracy\n",
    "generatePlots(L,Jxy,Jz,h)\n"
   ]
  },
  {
   "cell_type": "code",
   "execution_count": 5,
   "metadata": {},
   "outputs": [
    {
     "name": "stdout",
     "output_type": "stream",
     "text": [
      "L = 2 basis size: 4\n",
      "Energies assembled!\n",
      "Lowest energy: -0.5\n",
      "The ground state occured in Sz= 0\n",
      "[0.5]\n",
      "[-0.5 -0.5]\n",
      "[0.5]\n"
     ]
    }
   ],
   "source": [
    "lowestEnergy,GSSector,GSEigenvector,energies=getSpectrum(2,0,-1,0)\n",
    "for i in energies:\n",
    "    print(i)"
   ]
  },
  {
   "cell_type": "code",
   "execution_count": 14,
   "metadata": {},
   "outputs": [
    {
     "name": "stdout",
     "output_type": "stream",
     "text": [
      "L = 12 basis size: 4096\n",
      "Energies assembled!\n",
      "Lowest energy: -3.0\n",
      "The ground state occured in Sz= -12\n"
     ]
    },
    {
     "data": {
      "application/vnd.jupyter.widget-view+json": {
       "model_id": "4f94ac8858ec4f1e8913171e7c97ac65",
       "version_major": 2,
       "version_minor": 0
      },
      "text/plain": [
       "Canvas(toolbar=Toolbar(toolitems=[('Home', 'Reset original view', 'home', 'home'), ('Back', 'Back to previous …"
      ]
     },
     "metadata": {},
     "output_type": "display_data"
    },
    {
     "name": "stdout",
     "output_type": "stream",
     "text": [
      "====\n",
      "L = 12 basis size: 4096\n",
      "The biggest states are:\n",
      "|↓|↓|↓|↓|↓|↓|↓|↓|↓|↓|↓|↓|\n"
     ]
    }
   ],
   "source": [
    "#Constants of the problem\n",
    "%matplotlib ipympl\n",
    "L   = 12\n",
    "Jxy = 1     # when J<0 it is antiferromagnetic \n",
    "Jz  = 1     # J_z = J_xy = J is the normal Heisenberg model instead of XXZ model\n",
    "h   = -1e-5 # small h field to break degeneracy\n",
    "generatePlots(L,Jxy,Jz,h)\n"
   ]
  },
  {
   "cell_type": "code",
   "execution_count": 3,
   "metadata": {},
   "outputs": [],
   "source": [
    "import numpy as np\n",
    "import matplotlib.pyplot as plt\n",
    "import scipy.stats as spst\n",
    "\n",
    "def basisVisualizer(L,psi):\n",
    "    '''Given psi=(#)_10, outputs the state in arrows'''\n",
    "    #ex: |↓|↑↓|↑|↑|\n",
    "    psi_2 = bin(psi)[2:]\n",
    "    N  = len(psi_2)\n",
    "    up = (L-N)*'0'+psi_2\n",
    "    configStr = \"|\"\n",
    "    uparrow   = '\\u2191'\n",
    "    downarrow = '\\u2193'\n",
    "    for i in range(L):\n",
    "        blank = True\n",
    "        if up[i] == '1':\n",
    "            configStr+=uparrow\n",
    "            blank = False\n",
    "        if up[i] == '0':\n",
    "            configStr+=downarrow\n",
    "            blank = False\n",
    "        if blank:\n",
    "            configStr+=\"_\"\n",
    "        configStr +=\"|\"\n",
    "    print(configStr)\n",
    "def countBits(x):\n",
    "    '''Counts number of 1s in bin(n)'''\n",
    "    #From Hacker's Delight, p. 66\n",
    "    x = x - ((x >> 1) & 0x55555555)\n",
    "    x = (x & 0x33333333) + ((x >> 2) & 0x33333333)\n",
    "    x = (x + (x >> 4)) & 0x0F0F0F0F\n",
    "    x = x + (x >> 8)\n",
    "    x = x + (x >> 16)\n",
    "    return x & 0x0000003F \n",
    "#helper function to print binary numbers\n",
    "def binp(num, length=4):\n",
    "    '''print a binary number without python 0b and appropriate number of zeros'''\n",
    "    return format(num, '#0{}b'.format(length + 2))[2:]\n",
    "\n",
    "def makeSzBasis(L):\n",
    "    basisSzList = [[] for i in range(0,2*L+1,2)] #S_z can range from -L to L, index that way as well\n",
    "    #this is probably a bad way to do it\n",
    "    # count bits is O(log(n)) and loop is O(2**L) :(\n",
    "    for i in range(2**L):\n",
    "        Szi = 2*countBits(i) - L\n",
    "        basisSzList[(Szi+L)//2].append(i)\n",
    "    print(\"L =\",L,\"basis size:\",2**L)\n",
    "    return basisSzList\n",
    "\n",
    "\n",
    "def makeH(SzList,L,Jxy,Jz,h):\n",
    "    '''Make a 1D Heisenberg chain of length L with Jxy,Jz and magnetic field h out of an SzList of states'''\n",
    "    \n",
    "    basisMap = {}\n",
    "    stateID  = 0 \n",
    "    #generate an ordering\n",
    "    for state in SzList:\n",
    "        #print(state) #basisVisualizer(L,state)\n",
    "        basisMap[state] = stateID\n",
    "        stateID+=1\n",
    "    nH = stateID\n",
    "    H = np.zeros([nH,nH])\n",
    "    #now fill H\n",
    "    for state in SzList:\n",
    "        idxA = basisMap[state]\n",
    "        H[idxA,idxA] += -h*countBits(state) # B field\n",
    "        for i in range(L):\n",
    "            j = (i+1)%L #nearest neighbors are hard coded here\n",
    "            if (state>>i & 1) == (state>>j & 1):#matching bit check\n",
    "                H[idxA,idxA] += -Jz/4\n",
    "            else:\n",
    "                H[idxA,idxA] -= -Jz/4\n",
    "                mask = 2**(i)+2**j\n",
    "                stateB= state^mask #this flips the bits at i,j\n",
    "                idxB = basisMap[stateB]\n",
    "                H[idxA,idxB]+= -Jxy/2\n",
    "    #print(np.all(H==H.T)) #check if Hermitian and is coded properly; very slow\n",
    "    return H\n",
    "\n",
    "def getSpectrum(L,Jxy,Jz,h):\n",
    "    '''Returns lowestEnergy, \n",
    "               Sz sector of the GS, \n",
    "               GS eigenvector, \n",
    "               and all energies'''\n",
    "    basisSzList  = makeSzBasis(L)\n",
    "    energies     = []\n",
    "    lowestEnergy = 1e10\n",
    "    \n",
    "    for Szi,SzList in enumerate(basisSzList):\n",
    "        #print('=============')\n",
    "        #print(\"Sz sector:\",-L+2*Szi)\n",
    "        #print('=============')\n",
    "        H     = makeH(SzList,L,Jxy,Jz,h)\n",
    "        lam,v = np.linalg.eigh(H)\n",
    "        energies.append(lam)\n",
    "        #keep track of GS\n",
    "        if min(lam) < lowestEnergy:\n",
    "            lowestEnergy  = min(lam)\n",
    "            GSSector      = -L+2*Szi\n",
    "            GSEigenvector = v[:,lam.argmin()]\n",
    "    \n",
    "    print(\"Energies assembled!\")\n",
    "    print(\"Lowest energy:\",lowestEnergy)\n",
    "    print(\"The ground state occured in Sz=\",GSSector)\n",
    "    return (lowestEnergy,GSSector,GSEigenvector,energies)\n",
    "\n",
    "def generatePlots(L,Jxy,Jz,h):\n",
    "    (lowestEnergy,GSSector,\n",
    "     GSEigenvector,energies) = getSpectrum(L,Jxy,Jz,h)\n",
    "    total_energies = [en for szlist in energies for en in szlist]\n",
    "    maxE           = np.max(total_energies)\n",
    "    offset = 0\n",
    "    for i in range(len(energies)):\n",
    "        plt.plot(range(offset,len(energies[i])+offset),energies[i],'o')\n",
    "        offset+=len(energies[i])\n",
    "        if len(energies)-4>i>2:\n",
    "            if i%2==0:\n",
    "                plt.text(offset-200,maxE+1,\"Sz=\"+str(-L+2*i))\n",
    "            else:\n",
    "                plt.text(offset-200,maxE+0.5,\"Sz=\"+str(-L+2*i))\n",
    "\n",
    "    plt.xlabel(\"Arbitrary Order\",fontsize=15)\n",
    "    plt.ylim([lowestEnergy-0.5,maxE+2])\n",
    "    plt.ylabel(\"Energy\",fontsize=15)\n",
    "    plt.title(r\"XXZ model with $L=\"+str(L)+\",\\,\\,\\, J_z=\"+str(Jz)+\",\\,\\,\\, J_{xy}=\"+str(Jxy)+\"$\",fontsize=15)\n",
    "    plt.plot([0,offset],[lowestEnergy,lowestEnergy],'--',label=\"Ground State\")\n",
    "    plt.legend(loc='lower right')\n",
    "    plt.show()\n",
    "    print('====')\n",
    "    plt.plot(GSEigenvector,'o-')\n",
    "    plt.xlabel(\"state order\",fontsize=15)\n",
    "    plt.ylabel(r\"$|\\psi_0\\rangle$\",fontsize=15)\n",
    "    plt.title(\"Ground State Eigenvector \\nwith $L=\"+str(L)+\",\\,\\,\\, J_z=\"+str(Jz)+\",\\,\\,\\, J_{xy}=\"+str(Jxy)+\"$\",fontsize=15)\n",
    "    plt.show()\n",
    "    \n",
    "    basisSzList   = makeSzBasis(L)\n",
    "    GSEigenvector = np.abs(np.round(GSEigenvector,10)) #rounding errors\n",
    "    bigStatesID   = np.argwhere(np.abs(GSEigenvector) == np.max((GSEigenvector))).reshape((1,-1))\n",
    "    \n",
    "    #Get the states\n",
    "    print(\"The biggest states are:\")\n",
    "    for state in bigStatesID[0]:\n",
    "        bigStates = basisSzList[(GSSector+L)//2][state]\n",
    "        basisVisualizer(L,bigStates)\n",
    "        "
   ]
  },
  {
   "cell_type": "code",
   "execution_count": null,
   "metadata": {},
   "outputs": [],
   "source": []
  }
 ],
 "metadata": {
  "kernelspec": {
   "display_name": "Python 3",
   "language": "python",
   "name": "python3"
  },
  "language_info": {
   "codemirror_mode": {
    "name": "ipython",
    "version": 3
   },
   "file_extension": ".py",
   "mimetype": "text/x-python",
   "name": "python",
   "nbconvert_exporter": "python",
   "pygments_lexer": "ipython3",
   "version": "3.8.5"
  }
 },
 "nbformat": 4,
 "nbformat_minor": 4
}

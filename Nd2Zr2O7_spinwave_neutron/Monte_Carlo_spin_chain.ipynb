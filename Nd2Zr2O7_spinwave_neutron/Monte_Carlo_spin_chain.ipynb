{
 "cells": [
  {
   "cell_type": "code",
   "execution_count": 1,
   "id": "7d3e3e23",
   "metadata": {},
   "outputs": [
    {
     "data": {
      "text/html": [
       "<div id=\"glowscript\" class=\"glowscript\"></div>"
      ],
      "text/plain": [
       "<IPython.core.display.HTML object>"
      ]
     },
     "metadata": {},
     "output_type": "display_data"
    },
    {
     "data": {
      "application/javascript": "if (typeof Jupyter !== \"undefined\") { window.__context = { glowscript_container: $(\"#glowscript\").removeAttr(\"id\")};}else{ element.textContent = ' ';}",
      "text/plain": [
       "<IPython.core.display.Javascript object>"
      ]
     },
     "metadata": {},
     "output_type": "display_data"
    }
   ],
   "source": [
    "import numpy as np\n",
    "from numpy import random\n",
    "import matplotlib.pyplot as plt\n",
    "from matplotlib.pyplot import cm\n",
    "from matplotlib import colors\n",
    "import vpython as vp\n",
    "import time\n",
    "%matplotlib ipympl"
   ]
  },
  {
   "cell_type": "markdown",
   "id": "936334a7",
   "metadata": {},
   "source": [
    "# Simulated annealing"
   ]
  },
  {
   "cell_type": "markdown",
   "id": "fecf007c",
   "metadata": {},
   "source": [
    "## Anneal"
   ]
  },
  {
   "cell_type": "code",
   "execution_count": 2,
   "id": "be7324f0",
   "metadata": {},
   "outputs": [],
   "source": [
    "def MC_t(J, H, T, S=None, n=20, nMC=1000, debug=False):\n",
    "    \"\"\"\n",
    "    J: exchange interaction between nearest neigbor spins\n",
    "    H: magnetic field: 1 by 3\n",
    "    T: temperature in unit of J\n",
    "    S: spin directions, num_of_spins by 3\n",
    "    n: num_of_spins\n",
    "    nMC：num of MC steps per spin\n",
    "    \"\"\"\n",
    "    # Starting from a random spin configurations if not provided\n",
    "    if S is None:\n",
    "        S = random.rand(n,3)-0.5\n",
    "        S = S / np.sqrt(np.sum(S**2, 1))[:,np.newaxis] # normalize to unit length\n",
    "    else:\n",
    "        n = S.shape[0]\n",
    "\n",
    "    acc = 0 # Accumulating the num of acceptance \n",
    "    for i in range(nMC):\n",
    "        for k in range(n): # Iterate over every spins and calculated mean field created by its two nearest neighbours (periodic boundary condition\n",
    "            if k==0:\n",
    "                F = J* (S[n-1,:] + S[1,:]) - H \n",
    "            elif k==n-1:\n",
    "                F = J* (S[n-2,:] + S[0,:]) - H\n",
    "            else:\n",
    "                F = J* (S[k-1,:] + S[k+1,:]) - H\n",
    "            \n",
    "            # Propose a new spin direction\n",
    "            S_new = random.rand(3)-0.5\n",
    "            S_new = S_new / np.sqrt(np.sum(S_new**2))\n",
    "            dE = np.dot(S_new-S[k,:], F) \n",
    "            # Accept/reject: Metropolis–Hastings algorithm\n",
    "            if random.rand(1)[0] < np.exp(-dE/T):\n",
    "                S[k,:] = S_new\n",
    "                acc += 1\n",
    "    if debug:\n",
    "        print('Accept rate is: {:1.2f}'.format(acc/(nMC*n)), 'at T= {:1.5f}'.format(T))\n",
    "    return S    \n",
    "\n",
    "def MC_t_fast(J, H, T, S=None, n=20, nMC=1000, debug=False):\n",
    "    \"\"\"\n",
    "    Non-interacting spins are updated simultaneously， utilizing the advantage of internal parallel computing for matrix manipulation.\n",
    "    Here the non-interacting spins are all the spins wiht even/odd index.\n",
    "    \n",
    "    Inputs:\n",
    "    J: exchange interaction between nearest neigbor spins\n",
    "    H: magnetic field: 1 by 3\n",
    "    T: temperature relative to J\n",
    "    S: num_of_spins by 3\n",
    "    n: num_of_spins\n",
    "    nMC：num of MC steps per spin\n",
    "    Output: a spin configuration\n",
    "    \"\"\"\n",
    "    \n",
    "    if S is None:\n",
    "        S = random.rand(n,3)-0.5\n",
    "        S = S / np.sqrt(np.sum(S**2, 1))[:,np.newaxis]\n",
    "    else:\n",
    "        n = S.shape[0] \n",
    "\n",
    "    acc = 0\n",
    "    for i in range(nMC):\n",
    "        # Preparing nearest neighbours\n",
    "        S_rollU = np.roll(S,-1, axis=0) # next\n",
    "        S_rollD = np.roll(S, 1, axis=0) # last\n",
    "        \n",
    "        # Update spins of even/odd index simutaniusly (parallel computing)\n",
    "        for j in [0,1]:\n",
    "            F = J * (S_rollU[j::2] + S_rollD[j::2]) - H[np.newaxis,:]\n",
    "            n0 = len(F)\n",
    "            S_new = random.rand(n0,3)-0.5\n",
    "            S_new = S_new / np.sqrt(np.sum(S_new**2,axis=1))[:,np.newaxis]\n",
    "            \n",
    "            dE = np.sum((S_new-S[j::2])*F, axis=1) \n",
    "            idx = random.rand(n0) < np.exp(-dE/T)\n",
    "            \n",
    "            S[j::2,:][idx] = S_new[idx]\n",
    "            acc += np.sum(idx)\n",
    "            \n",
    "    if debug:\n",
    "        print('Accept rate is: {:1.2f}'.format(acc/(nMC*n)), 'at T= {:1.5f}'.format(T))\n",
    "    return S  \n",
    "\n",
    "def anneal(J=1, H=np.array([0,0,0]), initT=1, endT=0.1, coolR=0.92, S=None, n=20, nMC=1000,debug=True):\n",
    "    \"\"\"\n",
    "    Simulated annealing from hight temperature Ts[0] to Ts[-1].\n",
    "    J: exchange interaction between nearest neigbor spins\n",
    "    initT: staring high temperature in unit of J\n",
    "    endT:  the lowest temperature in unit of J\n",
    "    coolR: cool rate (<1)\n",
    "    S: num_of_spins by 3\n",
    "    n: num_of_spins\n",
    "    nMC：num of MC steps per spin for every temperature step\n",
    "    \"\"\"\n",
    "    # Estimate the time needed\n",
    "    nSteps = np.int(np.log(endT/initT)/np.log(coolR) +1)\n",
    "    \n",
    "    tic = time.time()\n",
    "    S = MC_t_fast(J, H, initT, S=S, n=n, nMC=nMC,debug=False)\n",
    "    toc = time.time()\n",
    "        \n",
    "    print(nSteps, 'anneal steps;', 'Time per step: {:1.0f} s;'.format(toc-tic), 'Total time needed: {:1.0f} s'.format((toc-tic)*nSteps))\n",
    "    \n",
    "    T = initT*coolR\n",
    "    \n",
    "    # Annealing loop\n",
    "    i = 1\n",
    "    while T>endT:\n",
    "        print('Anneal Step No. ', i)\n",
    "        i += 1\n",
    "        # Note: taking the state of the last T as the start for the current MC\n",
    "        S = MC_t_fast(J, H, T, S=S, n=n, nMC=nMC, debug=debug)\n",
    "        T = T * coolR\n",
    "        \n",
    "    return S, T\n"
   ]
  },
  {
   "cell_type": "code",
   "execution_count": 3,
   "id": "de7b2121",
   "metadata": {},
   "outputs": [
    {
     "data": {
      "text/plain": [
       "22"
      ]
     },
     "execution_count": 3,
     "metadata": {},
     "output_type": "execute_result"
    }
   ],
   "source": [
    "n = 100 # nunber of spins on the chain\n",
    "J = -1. # nearest-neighbour echange interactions\n",
    "H = np.array([0,0.1,0]) # magnetic field\n",
    "initT=0.5*np.abs(J)\n",
    "endT=0.05*np.abs(J)\n",
    "coolR = 0.9\n",
    "\n",
    "np.int(np.log(endT/initT)/np.log(coolR)+1)"
   ]
  },
  {
   "cell_type": "code",
   "execution_count": 4,
   "id": "852e735e",
   "metadata": {},
   "outputs": [
    {
     "name": "stdout",
     "output_type": "stream",
     "text": [
      "22 anneal steps; Time per step: 0 s; Total time needed: 5 s\n",
      "Anneal Step No.  1\n",
      "Accept rate is: 0.38 at T= 0.45000\n",
      "Anneal Step No.  2\n",
      "Accept rate is: 0.34 at T= 0.40500\n",
      "Anneal Step No.  3\n",
      "Accept rate is: 0.29 at T= 0.36450\n",
      "Anneal Step No.  4\n",
      "Accept rate is: 0.25 at T= 0.32805\n",
      "Anneal Step No.  5\n",
      "Accept rate is: 0.22 at T= 0.29525\n",
      "Anneal Step No.  6\n",
      "Accept rate is: 0.18 at T= 0.26572\n",
      "Anneal Step No.  7\n",
      "Accept rate is: 0.16 at T= 0.23915\n",
      "Anneal Step No.  8\n",
      "Accept rate is: 0.14 at T= 0.21523\n",
      "Anneal Step No.  9\n",
      "Accept rate is: 0.12 at T= 0.19371\n",
      "Anneal Step No.  10\n",
      "Accept rate is: 0.10 at T= 0.17434\n",
      "Anneal Step No.  11\n",
      "Accept rate is: 0.09 at T= 0.15691\n",
      "Anneal Step No.  12\n",
      "Accept rate is: 0.08 at T= 0.14121\n",
      "Anneal Step No.  13\n",
      "Accept rate is: 0.07 at T= 0.12709\n",
      "Anneal Step No.  14\n",
      "Accept rate is: 0.07 at T= 0.11438\n",
      "Anneal Step No.  15\n",
      "Accept rate is: 0.06 at T= 0.10295\n",
      "Anneal Step No.  16\n",
      "Accept rate is: 0.06 at T= 0.09265\n",
      "Anneal Step No.  17\n",
      "Accept rate is: 0.05 at T= 0.08339\n",
      "Anneal Step No.  18\n",
      "Accept rate is: 0.04 at T= 0.07505\n",
      "Anneal Step No.  19\n",
      "Accept rate is: 0.04 at T= 0.06754\n",
      "Anneal Step No.  20\n",
      "Accept rate is: 0.04 at T= 0.06079\n",
      "Anneal Step No.  21\n",
      "Accept rate is: 0.03 at T= 0.05471\n",
      "Accept rate is: 0.03 at T= 0.05000\n"
     ]
    }
   ],
   "source": [
    "S, T = anneal(J=J, initT=initT, endT=endT, coolR=coolR, S=None, n=n, nMC=2000)\n",
    "\n",
    "S = MC_t_fast(J, H, endT, S=S, n=n, nMC=5000, debug=True) # more equillibrum steps at the lowest T"
   ]
  },
  {
   "cell_type": "markdown",
   "id": "36e52b9e",
   "metadata": {},
   "source": [
    "## Plot the ground state spin structure"
   ]
  },
  {
   "cell_type": "code",
   "execution_count": 7,
   "id": "fce60398",
   "metadata": {},
   "outputs": [
    {
     "data": {
      "text/html": [
       "<div id=\"glowscript\" class=\"glowscript\"></div>"
      ],
      "text/plain": [
       "<IPython.core.display.HTML object>"
      ]
     },
     "metadata": {},
     "output_type": "display_data"
    },
    {
     "data": {
      "application/javascript": "if (typeof Jupyter !== \"undefined\") { window.__context = { glowscript_container: $(\"#glowscript\").removeAttr(\"id\")};}else{ element.textContent = ' ';}",
      "text/plain": [
       "<IPython.core.display.Javascript object>"
      ]
     },
     "metadata": {},
     "output_type": "display_data"
    }
   ],
   "source": [
    "# Spin positions: chain along the x direction\n",
    "X = np.vstack([np.arange(n)-n/2, np.zeros(n), np.zeros(n)]).T\n",
    "spinL = 1 # plot spin length\n",
    "atomR = 1 # plot atom radius\n",
    "cylR = 0.005 # plot bond thinckness\n",
    "\n",
    "try:\n",
    "    scene.delete()\n",
    "except:\n",
    "    pass\n",
    "    \n",
    "scene = vp.canvas(title='MagStr', width=1200, height=100,x=500,y=500, center=vp.vector(0,0,0), background=vp.color.black,exit=True)\n",
    "\n",
    "for i in range(n):\n",
    "    vp.arrow(pos=vp.vector(*(X[i]-spinL*S[i]/2)), axis=vp.vector(*(spinL*S[i]))) # spins\n",
    "    vp.sphere(pos=vp.vector(*X[i]), color=vp.color.orange, radius=atomR*0.1) # atoms \n",
    "\n",
    "for i in range(n-1):\n",
    "    vp.cylinder(pos=vp.vector(*(X[i])), axis=vp.vector(*(X[i+1]-X[i])), radius=cylR, color=vp.color.gray(0.5))\n",
    " "
   ]
  },
  {
   "cell_type": "markdown",
   "id": "f1ba1457",
   "metadata": {},
   "source": [
    "# Molecular dynamcis"
   ]
  },
  {
   "cell_type": "code",
   "execution_count": 8,
   "id": "70964264",
   "metadata": {},
   "outputs": [],
   "source": [
    "# Deriv calculation \n",
    "def deriv(J, H, S):\n",
    "    \"\"\"\n",
    "    Deriv dS/dt calculation\n",
    "    J: exchange interation constant\n",
    "    H: 1 by 3 array for magnetic field\n",
    "    S: num_of_spins by 3 for a spin configuration\n",
    "    \"\"\"\n",
    "    n = S.shape[0]\n",
    "    Fs = np.zeros_like(S)\n",
    "    for k in range(n):\n",
    "            if k==0:\n",
    "                Fs[k] = J* (S[n-1,:] + S[1,:]) - H\n",
    "            elif k==n-1:\n",
    "                Fs[k] = J* (S[n-2,:] + S[0,:]) - H\n",
    "            else:\n",
    "                Fs[k] = J* (S[k-1,:] + S[k+1,:]) - H\n",
    "    return np.cross(S, Fs)\n",
    "\n",
    "def deriv_fast(J, H, S):\n",
    "    \"\"\"\n",
    "    Deriv dS/dt calculation\n",
    "    J: exchange interation constant\n",
    "    H: 1 by 3 array for magnetic field\n",
    "    S: num_of_spins by 3 for a spin configuration\n",
    "    \"\"\"\n",
    "    n = S.shape[0]   \n",
    "    F = J*(np.roll(S,-1, axis=0) + np.roll(S, 1, axis=0)) -H[np.newaxis, :]\n",
    "    return np.cross(S, F)\n",
    "\n",
    "# Numerical integration \n",
    "def Runge_Kutta(func, x0, Ndt=100, dt=0.01):\n",
    "    \"\"\"\n",
    "    func: function to calculate the deriv\n",
    "    x0: starting point\n",
    "    Ndt: num of time stamps\n",
    "    dt: time step size\n",
    "    \n",
    "    Return: y at different times and an array of time stamps\n",
    "    \"\"\"\n",
    "\n",
    "    ts = np.zeros(Ndt)\n",
    "    x = x0\n",
    "    y = np.zeros(np.hstack([Ndt, x0.shape]))\n",
    "    y[0] = x0\n",
    "    \n",
    "    print(y.shape)\n",
    "    for i in range(1, Ndt):\n",
    "        DD_1= func(x)*dt\n",
    "        DD_2= func(x+DD_1/2)*dt\n",
    "        DD_3= func(x+DD_2/2)*dt\n",
    "        DD_4= func(x+DD_3)*dt\n",
    "\n",
    "        # Spin configuration at t+dt\n",
    "        ts[i] = ts[i-1] + dt\n",
    "        x = x + 1/6*(DD_1 + 2*DD_2 + 2*DD_3 + DD_4)\n",
    "\n",
    "        y[i] = x \n",
    "    return y, ts\n",
    "\n",
    "# Dynamicsal\n",
    "def dynamics_FT1d(St, ts, xs, qs, omega):\n",
    "    \"\"\"\n",
    "    Temporal and spacial Fourier transformation for a one-dimensional spin chain.\n",
    "    Input:\n",
    "    St: n_times by num_of_spins by 3 array for spin configurations (num_of_spins by 3) at differt times \n",
    "    ts: 1d array for the n_times time stamps\n",
    "    xs: 1d array for the n spin positions\n",
    "    omega: 1d array for energies to calculated\n",
    "    \"\"\"\n",
    "    \n",
    "    qphase = np.exp(1j *2*np.pi*np.matmul(qs,xs)) # phase factor due to different locations\n",
    "    ophase = np.exp(-1j*np.matmul(ts.reshape([-1,1]), omega)) # phase factor due to different time\n",
    "       \n",
    "    sxqw = np.matmul(np.matmul(qphase, St[:,:,0].T), ophase) \n",
    "    syqw = np.matmul(np.matmul(qphase, St[:,:,1].T), ophase)\n",
    "    szqw = np.matmul(np.matmul(qphase, St[:,:,2].T), ophase)\n",
    "    \n",
    "    return np.absolute(sxqw**2+syqw**2+szqw**2)"
   ]
  },
  {
   "cell_type": "code",
   "execution_count": 9,
   "id": "8f44931d",
   "metadata": {},
   "outputs": [
    {
     "name": "stdout",
     "output_type": "stream",
     "text": [
      "(3000, 100, 3)\n",
      "(3000, 100, 3)\n"
     ]
    }
   ],
   "source": [
    "xs= np.arange(n).reshape([1,-1])\n",
    "qs = np.linspace(1./n, 1, num=n-1, endpoint=False).reshape([-1,1])\n",
    "omega = np.linspace(0, 5*np.abs(J), num=50, endpoint=False).reshape([1,-1])\n",
    "\n",
    "St, ts = Runge_Kutta(lambda S: deriv_fast(J, H, S), S, Ndt=3000, dt=0.05)\n",
    "print(St.shape)"
   ]
  },
  {
   "cell_type": "markdown",
   "id": "be5a26f1",
   "metadata": {},
   "source": [
    "## Plot the procession of spins"
   ]
  },
  {
   "cell_type": "code",
   "execution_count": 10,
   "id": "f3728493",
   "metadata": {},
   "outputs": [
    {
     "data": {
      "text/html": [
       "<div id=\"glowscript\" class=\"glowscript\"></div>"
      ],
      "text/plain": [
       "<IPython.core.display.HTML object>"
      ]
     },
     "metadata": {},
     "output_type": "display_data"
    },
    {
     "data": {
      "application/javascript": "if (typeof Jupyter !== \"undefined\") { window.__context = { glowscript_container: $(\"#glowscript\").removeAttr(\"id\")};}else{ element.textContent = ' ';}",
      "text/plain": [
       "<IPython.core.display.Javascript object>"
      ]
     },
     "metadata": {},
     "output_type": "display_data"
    }
   ],
   "source": [
    "try:\n",
    "    scene1.delete()\n",
    "except:\n",
    "    pass\n",
    "    \n",
    "scene1 = vp.canvas(title='MagStr', width=1300, height=300,x=500,y=500, center=vp.vector(0,0,0), background=vp.color.white, exit=True)\n",
    "scene1.camera.pos=vp.vector(*([0,0,2]))\n",
    "\n",
    "mid = np.floor_divide(n,2)\n",
    "which_spin = np.arange(mid-2, mid+2+1)\n",
    "\n",
    "for idx, i in enumerate(which_spin):\n",
    "    vp.sphere(pos=vp.vector(*X[i]), color=vp.color.orange, radius=atomR*0.1) # atoms\n",
    "    if idx<len(which_spin)-1:\n",
    "        pointer = vp.cylinder(pos=vp.vector(*X[i]), axis=vp.vector(*(X[i+1]-X[i])), radius=cylR, color=vp.color.black)\n",
    "\n",
    "which_time = range(0,500,1)\n",
    "color = [colors.to_rgba(c)\n",
    "          for c in cm.get_cmap('Reds')(which_time /np.max(which_time ))]\n",
    "\n",
    "# Plot spins at different times in a loop; the time stamp is encoded by the arrow color\n",
    "for idx, i in  enumerate(which_time ):\n",
    "    for j in which_spin:\n",
    "        vp.arrow(pos=vp.vector(*(X[j]-0*spinL*St[i,j,:]/2)), \n",
    "                 axis=vp.vector(*(0.5*spinL*St[i,j,:])), \n",
    "                 color=vp.vector(*color[idx][:3]), round=True, shaftwidth=0.01*spinL, headwidth=0.02*spinL) \n",
    "#scene1.capture('cones.png')"
   ]
  },
  {
   "cell_type": "code",
   "execution_count": 11,
   "id": "2f62eb56",
   "metadata": {},
   "outputs": [
    {
     "data": {
      "text/html": [
       "<div id=\"glowscript\" class=\"glowscript\"></div>"
      ],
      "text/plain": [
       "<IPython.core.display.HTML object>"
      ]
     },
     "metadata": {},
     "output_type": "display_data"
    },
    {
     "data": {
      "application/javascript": "if (typeof Jupyter !== \"undefined\") { window.__context = { glowscript_container: $(\"#glowscript\").removeAttr(\"id\")};}else{ element.textContent = ' ';}",
      "text/plain": [
       "<IPython.core.display.Javascript object>"
      ]
     },
     "metadata": {},
     "output_type": "display_data"
    },
    {
     "ename": "KeyboardInterrupt",
     "evalue": "",
     "output_type": "error",
     "traceback": [
      "\u001b[1;31m---------------------------------------------------------------------------\u001b[0m",
      "\u001b[1;31mKeyboardInterrupt\u001b[0m                         Traceback (most recent call last)",
      "\u001b[1;32m<ipython-input-11-d069b0500237>\u001b[0m in \u001b[0;36m<module>\u001b[1;34m\u001b[0m\n\u001b[0;32m     28\u001b[0m \u001b[0mi\u001b[0m \u001b[1;33m=\u001b[0m \u001b[1;36m1\u001b[0m\u001b[1;33m\u001b[0m\u001b[1;33m\u001b[0m\u001b[0m\n\u001b[0;32m     29\u001b[0m \u001b[1;32mwhile\u001b[0m \u001b[0mi\u001b[0m\u001b[1;33m<\u001b[0m\u001b[0mlen\u001b[0m\u001b[1;33m(\u001b[0m\u001b[0mwhich_time\u001b[0m\u001b[1;33m)\u001b[0m\u001b[1;33m-\u001b[0m\u001b[1;36m5\u001b[0m\u001b[1;33m:\u001b[0m\u001b[1;33m\u001b[0m\u001b[1;33m\u001b[0m\u001b[0m\n\u001b[1;32m---> 30\u001b[1;33m     \u001b[0mvp\u001b[0m\u001b[1;33m.\u001b[0m\u001b[0msleep\u001b[0m\u001b[1;33m(\u001b[0m\u001b[1;36m0.1\u001b[0m\u001b[1;33m)\u001b[0m\u001b[1;33m\u001b[0m\u001b[1;33m\u001b[0m\u001b[0m\n\u001b[0m\u001b[0;32m     31\u001b[0m     \u001b[1;32mfor\u001b[0m \u001b[0midx\u001b[0m\u001b[1;33m,\u001b[0m \u001b[0mj\u001b[0m \u001b[1;32min\u001b[0m \u001b[0menumerate\u001b[0m\u001b[1;33m(\u001b[0m\u001b[0mwhich_spin\u001b[0m\u001b[1;33m)\u001b[0m\u001b[1;33m:\u001b[0m\u001b[1;33m\u001b[0m\u001b[1;33m\u001b[0m\u001b[0m\n\u001b[0;32m     32\u001b[0m         \u001b[0marrows\u001b[0m\u001b[1;33m[\u001b[0m\u001b[0midx\u001b[0m\u001b[1;33m]\u001b[0m\u001b[1;33m.\u001b[0m\u001b[0maxis\u001b[0m \u001b[1;33m=\u001b[0m \u001b[0mvp\u001b[0m\u001b[1;33m.\u001b[0m\u001b[0mvector\u001b[0m\u001b[1;33m(\u001b[0m\u001b[1;33m*\u001b[0m\u001b[1;33m(\u001b[0m\u001b[1;36m0.5\u001b[0m\u001b[1;33m*\u001b[0m\u001b[0mspinL\u001b[0m\u001b[1;33m*\u001b[0m\u001b[0mSt\u001b[0m\u001b[1;33m[\u001b[0m\u001b[0mwhich_time\u001b[0m\u001b[1;33m[\u001b[0m\u001b[0mi\u001b[0m\u001b[1;33m]\u001b[0m\u001b[1;33m,\u001b[0m\u001b[0mj\u001b[0m\u001b[1;33m,\u001b[0m\u001b[1;33m:\u001b[0m\u001b[1;33m]\u001b[0m\u001b[1;33m)\u001b[0m\u001b[1;33m)\u001b[0m\u001b[1;33m\u001b[0m\u001b[1;33m\u001b[0m\u001b[0m\n",
      "\u001b[1;32m~\\anaconda3\\lib\\site-packages\\vpython\\vpython.py\u001b[0m in \u001b[0;36msleep\u001b[1;34m(dt)\u001b[0m\n\u001b[0;32m   4071\u001b[0m     \u001b[0mt\u001b[0m \u001b[1;33m=\u001b[0m \u001b[0mclock\u001b[0m\u001b[1;33m(\u001b[0m\u001b[1;33m)\u001b[0m\u001b[1;33m+\u001b[0m\u001b[0mdt\u001b[0m\u001b[1;33m\u001b[0m\u001b[1;33m\u001b[0m\u001b[0m\n\u001b[0;32m   4072\u001b[0m     \u001b[1;32mwhile\u001b[0m \u001b[0mclock\u001b[0m\u001b[1;33m(\u001b[0m\u001b[1;33m)\u001b[0m \u001b[1;33m<\u001b[0m \u001b[0mt\u001b[0m\u001b[1;33m:\u001b[0m\u001b[1;33m\u001b[0m\u001b[1;33m\u001b[0m\u001b[0m\n\u001b[1;32m-> 4073\u001b[1;33m         \u001b[0mrate\u001b[0m\u001b[1;33m(\u001b[0m\u001b[1;36m60\u001b[0m\u001b[1;33m)\u001b[0m\u001b[1;33m\u001b[0m\u001b[1;33m\u001b[0m\u001b[0m\n\u001b[0m\u001b[0;32m   4074\u001b[0m \u001b[1;33m\u001b[0m\u001b[0m\n\u001b[0;32m   4075\u001b[0m \u001b[1;32mdef\u001b[0m \u001b[0mprint_to_string\u001b[0m\u001b[1;33m(\u001b[0m\u001b[1;33m*\u001b[0m\u001b[0margs\u001b[0m\u001b[1;33m)\u001b[0m\u001b[1;33m:\u001b[0m \u001b[1;31m# treatment of <br> vs. \\n not quite right here\u001b[0m\u001b[1;33m\u001b[0m\u001b[1;33m\u001b[0m\u001b[0m\n",
      "\u001b[1;32m~\\anaconda3\\lib\\site-packages\\vpython\\rate_control.py\u001b[0m in \u001b[0;36m__call__\u001b[1;34m(self, N)\u001b[0m\n\u001b[0;32m    264\u001b[0m         \u001b[0mself\u001b[0m\u001b[1;33m.\u001b[0m\u001b[0mrval\u001b[0m \u001b[1;33m=\u001b[0m \u001b[0mN\u001b[0m\u001b[1;33m\u001b[0m\u001b[1;33m\u001b[0m\u001b[0m\n\u001b[0;32m    265\u001b[0m         \u001b[1;32mif\u001b[0m \u001b[0mself\u001b[0m\u001b[1;33m.\u001b[0m\u001b[0mrval\u001b[0m \u001b[1;33m<\u001b[0m \u001b[1;36m1\u001b[0m\u001b[1;33m:\u001b[0m \u001b[1;32mraise\u001b[0m \u001b[0mValueError\u001b[0m\u001b[1;33m(\u001b[0m\u001b[1;34m\"rate value must be greater than or equal to 1\"\u001b[0m\u001b[1;33m)\u001b[0m\u001b[1;33m\u001b[0m\u001b[1;33m\u001b[0m\u001b[0m\n\u001b[1;32m--> 266\u001b[1;33m         \u001b[0msuper\u001b[0m\u001b[1;33m(\u001b[0m\u001b[0m_RateKeeper2\u001b[0m\u001b[1;33m,\u001b[0m \u001b[0mself\u001b[0m\u001b[1;33m)\u001b[0m\u001b[1;33m.\u001b[0m\u001b[0m__call__\u001b[0m\u001b[1;33m(\u001b[0m\u001b[0mself\u001b[0m\u001b[1;33m.\u001b[0m\u001b[0mrval\u001b[0m\u001b[1;33m)\u001b[0m \u001b[1;31m## calls __call__ in rate_control.py\u001b[0m\u001b[1;33m\u001b[0m\u001b[1;33m\u001b[0m\u001b[0m\n\u001b[0m\u001b[0;32m    267\u001b[0m \u001b[1;33m\u001b[0m\u001b[0m\n\u001b[0;32m    268\u001b[0m \u001b[1;33m\u001b[0m\u001b[0m\n",
      "\u001b[1;32m~\\anaconda3\\lib\\site-packages\\vpython\\rate_control.py\u001b[0m in \u001b[0;36m__call__\u001b[1;34m(self, maxRate)\u001b[0m\n\u001b[0;32m    218\u001b[0m             \u001b[0mdt\u001b[0m \u001b[1;33m=\u001b[0m \u001b[0mself\u001b[0m\u001b[1;33m.\u001b[0m\u001b[0mlastSleep\u001b[0m \u001b[1;33m+\u001b[0m \u001b[0mself\u001b[0m\u001b[1;33m.\u001b[0m\u001b[0mcalls\u001b[0m\u001b[1;33m*\u001b[0m\u001b[1;33m(\u001b[0m\u001b[0mself\u001b[0m\u001b[1;33m.\u001b[0m\u001b[0muserTime\u001b[0m \u001b[1;33m+\u001b[0m \u001b[0mself\u001b[0m\u001b[1;33m.\u001b[0m\u001b[0mcallTime\u001b[0m \u001b[1;33m+\u001b[0m \u001b[0mself\u001b[0m\u001b[1;33m.\u001b[0m\u001b[0mdelay\u001b[0m\u001b[1;33m)\u001b[0m \u001b[1;33m+\u001b[0m\u001b[0;31m \u001b[0m\u001b[0;31m\\\u001b[0m\u001b[1;33m\u001b[0m\u001b[1;33m\u001b[0m\u001b[0m\n\u001b[0;32m    219\u001b[0m                  \u001b[0mrenders\u001b[0m\u001b[1;33m*\u001b[0m\u001b[0mself\u001b[0m\u001b[1;33m.\u001b[0m\u001b[0mrenderTime\u001b[0m \u001b[1;33m+\u001b[0m \u001b[0msleeps\u001b[0m\u001b[1;33m*\u001b[0m\u001b[0mself\u001b[0m\u001b[1;33m.\u001b[0m\u001b[0minteractionPeriod\u001b[0m \u001b[1;33m-\u001b[0m \u001b[0m_clock\u001b[0m\u001b[1;33m(\u001b[0m\u001b[1;33m)\u001b[0m\u001b[1;33m\u001b[0m\u001b[1;33m\u001b[0m\u001b[0m\n\u001b[1;32m--> 220\u001b[1;33m             \u001b[0m_sleep\u001b[0m\u001b[1;33m(\u001b[0m\u001b[0mdt\u001b[0m\u001b[1;33m)\u001b[0m\u001b[1;33m\u001b[0m\u001b[1;33m\u001b[0m\u001b[0m\n\u001b[0m\u001b[0;32m    221\u001b[0m             \u001b[0mself\u001b[0m\u001b[1;33m.\u001b[0m\u001b[0mlastSleep\u001b[0m \u001b[1;33m=\u001b[0m \u001b[0m_clock\u001b[0m\u001b[1;33m(\u001b[0m\u001b[1;33m)\u001b[0m\u001b[1;33m\u001b[0m\u001b[1;33m\u001b[0m\u001b[0m\n\u001b[0;32m    222\u001b[0m             \u001b[0mself\u001b[0m\u001b[1;33m.\u001b[0m\u001b[0mcalls\u001b[0m \u001b[1;33m=\u001b[0m \u001b[1;36m0\u001b[0m\u001b[1;33m\u001b[0m\u001b[1;33m\u001b[0m\u001b[0m\n",
      "\u001b[1;32m~\\anaconda3\\lib\\site-packages\\vpython\\rate_control.py\u001b[0m in \u001b[0;36m_sleep\u001b[1;34m(dt)\u001b[0m\n\u001b[0;32m     60\u001b[0m         \u001b[0mdtsleep\u001b[0m \u001b[1;33m=\u001b[0m \u001b[0mnticks\u001b[0m\u001b[1;33m*\u001b[0m\u001b[0m_tick\u001b[0m\u001b[1;33m\u001b[0m\u001b[1;33m\u001b[0m\u001b[0m\n\u001b[0;32m     61\u001b[0m         \u001b[0mt\u001b[0m \u001b[1;33m=\u001b[0m \u001b[0m_clock\u001b[0m\u001b[1;33m(\u001b[0m\u001b[1;33m)\u001b[0m\u001b[1;33m\u001b[0m\u001b[1;33m\u001b[0m\u001b[0m\n\u001b[1;32m---> 62\u001b[1;33m         \u001b[0mtime\u001b[0m\u001b[1;33m.\u001b[0m\u001b[0msleep\u001b[0m\u001b[1;33m(\u001b[0m\u001b[0mdtsleep\u001b[0m\u001b[1;33m)\u001b[0m\u001b[1;33m\u001b[0m\u001b[1;33m\u001b[0m\u001b[0m\n\u001b[0m\u001b[0;32m     63\u001b[0m         \u001b[0mt\u001b[0m \u001b[1;33m=\u001b[0m \u001b[0m_clock\u001b[0m\u001b[1;33m(\u001b[0m\u001b[1;33m)\u001b[0m\u001b[1;33m-\u001b[0m\u001b[0mt\u001b[0m\u001b[1;33m\u001b[0m\u001b[1;33m\u001b[0m\u001b[0m\n\u001b[0;32m     64\u001b[0m         \u001b[0mdt\u001b[0m \u001b[1;33m-=\u001b[0m \u001b[0mt\u001b[0m\u001b[1;33m\u001b[0m\u001b[1;33m\u001b[0m\u001b[0m\n",
      "\u001b[1;31mKeyboardInterrupt\u001b[0m: "
     ]
    }
   ],
   "source": [
    "try:\n",
    "    scene2.delete()\n",
    "except:\n",
    "    pass\n",
    "    \n",
    "scene2 = vp.canvas(title='MagStr', width=1000, height=300,x=500,y=500, center=vp.vector(0,0,0), background=vp.color.white, exit=True)\n",
    "#scene1.camera.pos=vp.vector(0,0,1)\n",
    "mid = np.floor_divide(n,2)\n",
    "which_spin = np.arange(mid-2, mid+2+1)\n",
    "\n",
    "for idx, i in enumerate(which_spin):\n",
    "    vp.sphere(pos=vp.vector(*X[i]), color=vp.color.orange, radius=atomR*0.1) # atoms\n",
    "    if idx<len(which_spin)-1:\n",
    "        pointer = vp.cylinder(pos=vp.vector(*X[i]), axis=vp.vector(*(X[i+1]-X[i])), radius=cylR, color=vp.color.black)\n",
    "\n",
    "which_time = range(0,400,2)\n",
    "color = [colors.to_rgba(c)\n",
    "          for c in cm.get_cmap('Reds')(which_time /np.max(which_time ))]\n",
    "\n",
    "arrows = []\n",
    "\n",
    "for i in  [0]:\n",
    "    for j in which_spin:\n",
    "        arrows.append(vp.arrow(pos=vp.vector(*(X[j]-0*spinL*St[i,j,:]/2)), axis=vp.vector(*(0.5*spinL*St[i,j,:])), \n",
    "                               round=True, shaftwidth=0.01*spinL, headwidth=0.02*spinL))#, make_trail=True, trail_type=\"points\", interval=10, retain=50) )\n",
    "        vp.sphere(pos=vp.vector(*(X[j]-0*spinL*St[i,j,:]/2))+vp.vector(*(0.5*spinL*St[i,j,:])), radius=0.01*atomR)\n",
    "\n",
    "i = 1\n",
    "while i<len(which_time)-5:\n",
    "    vp.sleep(0.1)\n",
    "    for idx, j in enumerate(which_spin):\n",
    "        arrows[idx].axis = vp.vector(*(0.5*spinL*St[which_time[i],j,:]))\n",
    "        vp.sphere(pos=vp.vector(*(X[j] + spinL*St[which_time[i],j,:]/2)), radius=0.01*atomR, color=vp.vector(*color[i][:3]))\n",
    "    i +=1\n",
    "    #scene2.capture('spins_t.png')\n"
   ]
  },
  {
   "cell_type": "code",
   "execution_count": 17,
   "id": "6e5af36c",
   "metadata": {},
   "outputs": [],
   "source": [
    "import imageio\n",
    "images = []\n",
    "\n",
    "path = r'D:\\Downloads/'\n",
    "pattern = 'spins_t({:1.0f}).png'\n",
    "\n",
    "for i in np.arange(1,194):\n",
    "    fn = path + pattern.format(i)\n",
    "    images.append(imageio.imread(fn))\n",
    "imageio.mimsave(path+'/movie.gif', images, format='GIF', fps=5)"
   ]
  },
  {
   "cell_type": "code",
   "execution_count": 93,
   "id": "be22d94c",
   "metadata": {},
   "outputs": [
    {
     "name": "stdout",
     "output_type": "stream",
     "text": [
      "GIF-PIL - Static and animated gif (Pillow)\n",
      "\n",
      "    A format for reading and writing static and animated GIF, based\n",
      "    on Pillow.\n",
      "\n",
      "    Images read with this format are always RGBA. Currently,\n",
      "    the alpha channel is ignored when saving RGB images with this\n",
      "    format.\n",
      "\n",
      "    Parameters for reading\n",
      "    ----------------------\n",
      "    None\n",
      "\n",
      "    Parameters for saving\n",
      "    ---------------------\n",
      "    loop : int\n",
      "        The number of iterations. Default 0 (meaning loop indefinitely).\n",
      "    duration : {float, list}\n",
      "        The duration (in seconds) of each frame. Either specify one value\n",
      "        that is used for all frames, or one value for each frame.\n",
      "        Note that in the GIF format the duration/delay is expressed in\n",
      "        hundredths of a second, which limits the precision of the duration.\n",
      "    fps : float\n",
      "        The number of frames per second. If duration is not given, the\n",
      "        duration for each frame is set to 1/fps. Default 10.\n",
      "    palettesize : int\n",
      "        The number of colors to quantize the image to. Is rounded to\n",
      "        the nearest power of two. Default 256.\n",
      "    subrectangles : bool\n",
      "        If True, will try and optimize the GIF by storing only the\n",
      "        rectangular parts of each frame that change with respect to the\n",
      "        previous. Default False.\n",
      "\n"
     ]
    }
   ],
   "source": [
    "imageio.help(name='gif')"
   ]
  },
  {
   "cell_type": "markdown",
   "id": "33a3eaf1",
   "metadata": {},
   "source": [
    "## Dynamical correlation functions (scattering spectrom)"
   ]
  },
  {
   "cell_type": "code",
   "execution_count": 20,
   "id": "6b646599",
   "metadata": {},
   "outputs": [],
   "source": [
    "sqw = dynamics_FT1d(St, ts, xs, qs, omega)"
   ]
  },
  {
   "cell_type": "code",
   "execution_count": 21,
   "id": "f556ad75",
   "metadata": {},
   "outputs": [
    {
     "data": {
      "application/vnd.jupyter.widget-view+json": {
       "model_id": "5e94fe94a7c94bea9322db271cc1b505",
       "version_major": 2,
       "version_minor": 0
      },
      "text/plain": [
       "Canvas(toolbar=Toolbar(toolitems=[('Home', 'Reset original view', 'home', 'home'), ('Back', 'Back to previous …"
      ]
     },
     "metadata": {},
     "output_type": "display_data"
    },
    {
     "name": "stderr",
     "output_type": "stream",
     "text": [
      "<ipython-input-21-c17fd13e2d0f>:3: MatplotlibDeprecationWarning: shading='flat' when X and Y have the same dimensions as C is deprecated since 3.3.  Either specify the corners of the quadrilaterals with X and Y, or pass shading='auto', 'nearest' or 'gouraud', or set rcParams['pcolor.shading'].  This will become an error two minor releases later.\n",
      "  plt.pcolor(Xax, Yax, sqw.T,vmin=0.0,vmax=2000000)\n"
     ]
    }
   ],
   "source": [
    "\n",
    "plt.figure(figsize=(5,4))\n",
    "Xax, Yax = np.meshgrid(qs, omega)\n",
    "plt.pcolor(Xax, Yax, sqw.T,vmin=0.0,vmax=2000000)\n",
    "plt.xlabel(r'$Q$')\n",
    "plt.ylabel(r'$\\hbar\\omega$')\n",
    "plt.ylim([0,4])\n",
    "\n",
    "# Quantum linear spin wave theory \n",
    "plt.gca().plot(qs, -2*J*(1 - np.cos(2*np.pi*qs))+np.sqrt(np.sum(H**2)),c='w', label='Quantum theory')\n",
    "plt.legend()\n",
    "#plt.savefig(r'D:\\Downloads/spin_dispersion_fm.png')\n",
    "plt.show()"
   ]
  }
 ],
 "metadata": {
  "kernelspec": {
   "display_name": "Python 3",
   "language": "python",
   "name": "python3"
  },
  "language_info": {
   "codemirror_mode": {
    "name": "ipython",
    "version": 3
   },
   "file_extension": ".py",
   "mimetype": "text/x-python",
   "name": "python",
   "nbconvert_exporter": "python",
   "pygments_lexer": "ipython3",
   "version": "3.8.5"
  }
 },
 "nbformat": 4,
 "nbformat_minor": 5
}
